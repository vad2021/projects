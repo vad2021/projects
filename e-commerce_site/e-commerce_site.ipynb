{
 "cells": [
  {
   "cell_type": "markdown",
   "metadata": {},
   "source": [
    "# Проверка гипотез по увеличению выручки в интернет-магазине —оценить результаты A/B теста"
   ]
  },
  {
   "cell_type": "markdown",
   "metadata": {},
   "source": [
    "# Описание проекта:\n",
    "Приоритизировать гипотезы для увеличения выручки, запустить A/B-тест и проанализировать результаты"
   ]
  },
  {
   "cell_type": "markdown",
   "metadata": {},
   "source": [
    "## Часть 1. Приоритизация гипотез"
   ]
  },
  {
   "cell_type": "markdown",
   "metadata": {},
   "source": [
    "### Загрузка данных и подготовка их к анализу"
   ]
  },
  {
   "cell_type": "code",
   "execution_count": 1,
   "metadata": {},
   "outputs": [
    {
     "data": {
      "text/html": [
       "<div>\n",
       "<style scoped>\n",
       "    .dataframe tbody tr th:only-of-type {\n",
       "        vertical-align: middle;\n",
       "    }\n",
       "\n",
       "    .dataframe tbody tr th {\n",
       "        vertical-align: top;\n",
       "    }\n",
       "\n",
       "    .dataframe thead th {\n",
       "        text-align: right;\n",
       "    }\n",
       "</style>\n",
       "<table border=\"1\" class=\"dataframe\">\n",
       "  <thead>\n",
       "    <tr style=\"text-align: right;\">\n",
       "      <th></th>\n",
       "      <th>Hypothesis</th>\n",
       "      <th>Reach</th>\n",
       "      <th>Impact</th>\n",
       "      <th>Confidence</th>\n",
       "      <th>Efforts</th>\n",
       "    </tr>\n",
       "  </thead>\n",
       "  <tbody>\n",
       "    <tr>\n",
       "      <td>0</td>\n",
       "      <td>Добавить два новых канала привлечения трафика, что позволит привлекать на 30% больше пользователей</td>\n",
       "      <td>3</td>\n",
       "      <td>10</td>\n",
       "      <td>8</td>\n",
       "      <td>6</td>\n",
       "    </tr>\n",
       "    <tr>\n",
       "      <td>1</td>\n",
       "      <td>Запустить собственную службу доставки, что сократит срок доставки заказов</td>\n",
       "      <td>2</td>\n",
       "      <td>5</td>\n",
       "      <td>4</td>\n",
       "      <td>10</td>\n",
       "    </tr>\n",
       "    <tr>\n",
       "      <td>2</td>\n",
       "      <td>Добавить блоки рекомендаций товаров на сайт интернет магазина, чтобы повысить конверсию и средний чек заказа</td>\n",
       "      <td>8</td>\n",
       "      <td>3</td>\n",
       "      <td>7</td>\n",
       "      <td>3</td>\n",
       "    </tr>\n",
       "    <tr>\n",
       "      <td>3</td>\n",
       "      <td>Изменить структура категорий, что увеличит конверсию, т.к. пользователи быстрее найдут нужный товар</td>\n",
       "      <td>8</td>\n",
       "      <td>3</td>\n",
       "      <td>3</td>\n",
       "      <td>8</td>\n",
       "    </tr>\n",
       "    <tr>\n",
       "      <td>4</td>\n",
       "      <td>Изменить цвет фона главной страницы, чтобы увеличить вовлеченность пользователей</td>\n",
       "      <td>3</td>\n",
       "      <td>1</td>\n",
       "      <td>1</td>\n",
       "      <td>1</td>\n",
       "    </tr>\n",
       "    <tr>\n",
       "      <td>5</td>\n",
       "      <td>Добавить страницу отзывов клиентов о магазине, что позволит увеличить количество заказов</td>\n",
       "      <td>3</td>\n",
       "      <td>2</td>\n",
       "      <td>2</td>\n",
       "      <td>3</td>\n",
       "    </tr>\n",
       "    <tr>\n",
       "      <td>6</td>\n",
       "      <td>Показать на главной странице баннеры с актуальными акциями и распродажами, чтобы увеличить конверсию</td>\n",
       "      <td>5</td>\n",
       "      <td>3</td>\n",
       "      <td>8</td>\n",
       "      <td>3</td>\n",
       "    </tr>\n",
       "    <tr>\n",
       "      <td>7</td>\n",
       "      <td>Добавить форму подписки на все основные страницы, чтобы собрать базу клиентов для email-рассылок</td>\n",
       "      <td>10</td>\n",
       "      <td>7</td>\n",
       "      <td>8</td>\n",
       "      <td>5</td>\n",
       "    </tr>\n",
       "    <tr>\n",
       "      <td>8</td>\n",
       "      <td>Запустить акцию, дающую скидку на товар в день рождения</td>\n",
       "      <td>1</td>\n",
       "      <td>9</td>\n",
       "      <td>9</td>\n",
       "      <td>5</td>\n",
       "    </tr>\n",
       "  </tbody>\n",
       "</table>\n",
       "</div>"
      ],
      "text/plain": [
       "                                                                                                     Hypothesis  \\\n",
       "0            Добавить два новых канала привлечения трафика, что позволит привлекать на 30% больше пользователей   \n",
       "1                                     Запустить собственную службу доставки, что сократит срок доставки заказов   \n",
       "2  Добавить блоки рекомендаций товаров на сайт интернет магазина, чтобы повысить конверсию и средний чек заказа   \n",
       "3           Изменить структура категорий, что увеличит конверсию, т.к. пользователи быстрее найдут нужный товар   \n",
       "4                              Изменить цвет фона главной страницы, чтобы увеличить вовлеченность пользователей   \n",
       "5                      Добавить страницу отзывов клиентов о магазине, что позволит увеличить количество заказов   \n",
       "6          Показать на главной странице баннеры с актуальными акциями и распродажами, чтобы увеличить конверсию   \n",
       "7              Добавить форму подписки на все основные страницы, чтобы собрать базу клиентов для email-рассылок   \n",
       "8                                                       Запустить акцию, дающую скидку на товар в день рождения   \n",
       "\n",
       "   Reach  Impact  Confidence  Efforts  \n",
       "0      3      10           8        6  \n",
       "1      2       5           4       10  \n",
       "2      8       3           7        3  \n",
       "3      8       3           3        8  \n",
       "4      3       1           1        1  \n",
       "5      3       2           2        3  \n",
       "6      5       3           8        3  \n",
       "7     10       7           8        5  \n",
       "8      1       9           9        5  "
      ]
     },
     "metadata": {},
     "output_type": "display_data"
    },
    {
     "name": "stdout",
     "output_type": "stream",
     "text": [
      "<class 'pandas.core.frame.DataFrame'>\n",
      "RangeIndex: 9 entries, 0 to 8\n",
      "Data columns (total 5 columns):\n",
      "Hypothesis    9 non-null object\n",
      "Reach         9 non-null int64\n",
      "Impact        9 non-null int64\n",
      "Confidence    9 non-null int64\n",
      "Efforts       9 non-null int64\n",
      "dtypes: int64(4), object(1)\n",
      "memory usage: 488.0+ bytes\n"
     ]
    }
   ],
   "source": [
    "import pandas as pd\n",
    "import numpy as np\n",
    "import seaborn as sns\n",
    "from matplotlib import pyplot as plt\n",
    "import datetime as dt\n",
    "import scipy.stats as stats\n",
    "import pathlib\n",
    "from pathlib import Path\n",
    "\n",
    "\n",
    "hypothesis = pd.read_csv('/datasets/hypothesis.csv')\n",
    "\n",
    "\n",
    "pd.set_option('display.max_columns', None)\n",
    "pd.options.display.max_colwidth = 150\n",
    "\n",
    "display(hypothesis)\n",
    "hypothesis.info()"
   ]
  },
  {
   "cell_type": "markdown",
   "metadata": {},
   "source": [
    "Вывод:  \n",
    "\n",
    "В таблице 5 столбцов, 9 строк.  \n",
    "Типы столбцов соответствуют.    \n",
    "Пропусков нет.  \n",
    "Наименования столбцов и приведем к нижнему регистру"
   ]
  },
  {
   "cell_type": "code",
   "execution_count": 2,
   "metadata": {},
   "outputs": [
    {
     "data": {
      "text/html": [
       "<div>\n",
       "<style scoped>\n",
       "    .dataframe tbody tr th:only-of-type {\n",
       "        vertical-align: middle;\n",
       "    }\n",
       "\n",
       "    .dataframe tbody tr th {\n",
       "        vertical-align: top;\n",
       "    }\n",
       "\n",
       "    .dataframe thead th {\n",
       "        text-align: right;\n",
       "    }\n",
       "</style>\n",
       "<table border=\"1\" class=\"dataframe\">\n",
       "  <thead>\n",
       "    <tr style=\"text-align: right;\">\n",
       "      <th></th>\n",
       "      <th>hypothesis</th>\n",
       "      <th>reach</th>\n",
       "      <th>impact</th>\n",
       "      <th>confidence</th>\n",
       "      <th>efforts</th>\n",
       "    </tr>\n",
       "  </thead>\n",
       "  <tbody>\n",
       "    <tr>\n",
       "      <td>0</td>\n",
       "      <td>Добавить два новых канала привлечения трафика, что позволит привлекать на 30% больше пользователей</td>\n",
       "      <td>3</td>\n",
       "      <td>10</td>\n",
       "      <td>8</td>\n",
       "      <td>6</td>\n",
       "    </tr>\n",
       "    <tr>\n",
       "      <td>1</td>\n",
       "      <td>Запустить собственную службу доставки, что сократит срок доставки заказов</td>\n",
       "      <td>2</td>\n",
       "      <td>5</td>\n",
       "      <td>4</td>\n",
       "      <td>10</td>\n",
       "    </tr>\n",
       "    <tr>\n",
       "      <td>2</td>\n",
       "      <td>Добавить блоки рекомендаций товаров на сайт интернет магазина, чтобы повысить конверсию и средний чек заказа</td>\n",
       "      <td>8</td>\n",
       "      <td>3</td>\n",
       "      <td>7</td>\n",
       "      <td>3</td>\n",
       "    </tr>\n",
       "    <tr>\n",
       "      <td>3</td>\n",
       "      <td>Изменить структура категорий, что увеличит конверсию, т.к. пользователи быстрее найдут нужный товар</td>\n",
       "      <td>8</td>\n",
       "      <td>3</td>\n",
       "      <td>3</td>\n",
       "      <td>8</td>\n",
       "    </tr>\n",
       "    <tr>\n",
       "      <td>4</td>\n",
       "      <td>Изменить цвет фона главной страницы, чтобы увеличить вовлеченность пользователей</td>\n",
       "      <td>3</td>\n",
       "      <td>1</td>\n",
       "      <td>1</td>\n",
       "      <td>1</td>\n",
       "    </tr>\n",
       "    <tr>\n",
       "      <td>5</td>\n",
       "      <td>Добавить страницу отзывов клиентов о магазине, что позволит увеличить количество заказов</td>\n",
       "      <td>3</td>\n",
       "      <td>2</td>\n",
       "      <td>2</td>\n",
       "      <td>3</td>\n",
       "    </tr>\n",
       "    <tr>\n",
       "      <td>6</td>\n",
       "      <td>Показать на главной странице баннеры с актуальными акциями и распродажами, чтобы увеличить конверсию</td>\n",
       "      <td>5</td>\n",
       "      <td>3</td>\n",
       "      <td>8</td>\n",
       "      <td>3</td>\n",
       "    </tr>\n",
       "    <tr>\n",
       "      <td>7</td>\n",
       "      <td>Добавить форму подписки на все основные страницы, чтобы собрать базу клиентов для email-рассылок</td>\n",
       "      <td>10</td>\n",
       "      <td>7</td>\n",
       "      <td>8</td>\n",
       "      <td>5</td>\n",
       "    </tr>\n",
       "    <tr>\n",
       "      <td>8</td>\n",
       "      <td>Запустить акцию, дающую скидку на товар в день рождения</td>\n",
       "      <td>1</td>\n",
       "      <td>9</td>\n",
       "      <td>9</td>\n",
       "      <td>5</td>\n",
       "    </tr>\n",
       "  </tbody>\n",
       "</table>\n",
       "</div>"
      ],
      "text/plain": [
       "                                                                                                     hypothesis  \\\n",
       "0            Добавить два новых канала привлечения трафика, что позволит привлекать на 30% больше пользователей   \n",
       "1                                     Запустить собственную службу доставки, что сократит срок доставки заказов   \n",
       "2  Добавить блоки рекомендаций товаров на сайт интернет магазина, чтобы повысить конверсию и средний чек заказа   \n",
       "3           Изменить структура категорий, что увеличит конверсию, т.к. пользователи быстрее найдут нужный товар   \n",
       "4                              Изменить цвет фона главной страницы, чтобы увеличить вовлеченность пользователей   \n",
       "5                      Добавить страницу отзывов клиентов о магазине, что позволит увеличить количество заказов   \n",
       "6          Показать на главной странице баннеры с актуальными акциями и распродажами, чтобы увеличить конверсию   \n",
       "7              Добавить форму подписки на все основные страницы, чтобы собрать базу клиентов для email-рассылок   \n",
       "8                                                       Запустить акцию, дающую скидку на товар в день рождения   \n",
       "\n",
       "   reach  impact  confidence  efforts  \n",
       "0      3      10           8        6  \n",
       "1      2       5           4       10  \n",
       "2      8       3           7        3  \n",
       "3      8       3           3        8  \n",
       "4      3       1           1        1  \n",
       "5      3       2           2        3  \n",
       "6      5       3           8        3  \n",
       "7     10       7           8        5  \n",
       "8      1       9           9        5  "
      ]
     },
     "metadata": {},
     "output_type": "display_data"
    }
   ],
   "source": [
    "hypothesis = hypothesis.rename(columns={'Hypothesis':'hypothesis', 'Reach':'reach', 'Impact':'impact', 'Confidence':'confidence', 'Efforts':'efforts'})\n",
    "display(hypothesis)"
   ]
  },
  {
   "cell_type": "markdown",
   "metadata": {},
   "source": [
    "Вывод:  \n",
    "Проблем с данными нет, данные готовы к анализу."
   ]
  },
  {
   "cell_type": "markdown",
   "metadata": {},
   "source": [
    "### Применяем фреймворк ICE для приоритизации"
   ]
  },
  {
   "cell_type": "code",
   "execution_count": 3,
   "metadata": {},
   "outputs": [
    {
     "data": {
      "text/html": [
       "<div>\n",
       "<style scoped>\n",
       "    .dataframe tbody tr th:only-of-type {\n",
       "        vertical-align: middle;\n",
       "    }\n",
       "\n",
       "    .dataframe tbody tr th {\n",
       "        vertical-align: top;\n",
       "    }\n",
       "\n",
       "    .dataframe thead th {\n",
       "        text-align: right;\n",
       "    }\n",
       "</style>\n",
       "<table border=\"1\" class=\"dataframe\">\n",
       "  <thead>\n",
       "    <tr style=\"text-align: right;\">\n",
       "      <th></th>\n",
       "      <th>hypothesis</th>\n",
       "      <th>ice</th>\n",
       "    </tr>\n",
       "  </thead>\n",
       "  <tbody>\n",
       "    <tr>\n",
       "      <td>8</td>\n",
       "      <td>Запустить акцию, дающую скидку на товар в день рождения</td>\n",
       "      <td>16</td>\n",
       "    </tr>\n",
       "    <tr>\n",
       "      <td>0</td>\n",
       "      <td>Добавить два новых канала привлечения трафика, что позволит привлекать на 30% больше пользователей</td>\n",
       "      <td>13</td>\n",
       "    </tr>\n",
       "    <tr>\n",
       "      <td>7</td>\n",
       "      <td>Добавить форму подписки на все основные страницы, чтобы собрать базу клиентов для email-рассылок</td>\n",
       "      <td>11</td>\n",
       "    </tr>\n",
       "    <tr>\n",
       "      <td>6</td>\n",
       "      <td>Показать на главной странице баннеры с актуальными акциями и распродажами, чтобы увеличить конверсию</td>\n",
       "      <td>8</td>\n",
       "    </tr>\n",
       "  </tbody>\n",
       "</table>\n",
       "</div>"
      ],
      "text/plain": [
       "                                                                                             hypothesis  \\\n",
       "8                                               Запустить акцию, дающую скидку на товар в день рождения   \n",
       "0    Добавить два новых канала привлечения трафика, что позволит привлекать на 30% больше пользователей   \n",
       "7      Добавить форму подписки на все основные страницы, чтобы собрать базу клиентов для email-рассылок   \n",
       "6  Показать на главной странице баннеры с актуальными акциями и распродажами, чтобы увеличить конверсию   \n",
       "\n",
       "   ice  \n",
       "8   16  \n",
       "0   13  \n",
       "7   11  \n",
       "6    8  "
      ]
     },
     "metadata": {},
     "output_type": "display_data"
    }
   ],
   "source": [
    "hypothesis['ice'] = (hypothesis['impact'] * hypothesis['confidence'] / hypothesis['efforts']).round().astype('int')\n",
    "display(hypothesis[['hypothesis', 'ice']].sort_values(by='ice', ascending=False).head(4))"
   ]
  },
  {
   "cell_type": "markdown",
   "metadata": {},
   "source": [
    "### Применяем фреймворк RICE для приоритизации"
   ]
  },
  {
   "cell_type": "code",
   "execution_count": 4,
   "metadata": {},
   "outputs": [
    {
     "data": {
      "text/html": [
       "<div>\n",
       "<style scoped>\n",
       "    .dataframe tbody tr th:only-of-type {\n",
       "        vertical-align: middle;\n",
       "    }\n",
       "\n",
       "    .dataframe tbody tr th {\n",
       "        vertical-align: top;\n",
       "    }\n",
       "\n",
       "    .dataframe thead th {\n",
       "        text-align: right;\n",
       "    }\n",
       "</style>\n",
       "<table border=\"1\" class=\"dataframe\">\n",
       "  <thead>\n",
       "    <tr style=\"text-align: right;\">\n",
       "      <th></th>\n",
       "      <th>hypothesis</th>\n",
       "      <th>rice</th>\n",
       "      <th>ice</th>\n",
       "    </tr>\n",
       "  </thead>\n",
       "  <tbody>\n",
       "    <tr>\n",
       "      <td>7</td>\n",
       "      <td>Добавить форму подписки на все основные страницы, чтобы собрать базу клиентов для email-рассылок</td>\n",
       "      <td>112</td>\n",
       "      <td>11</td>\n",
       "    </tr>\n",
       "    <tr>\n",
       "      <td>2</td>\n",
       "      <td>Добавить блоки рекомендаций товаров на сайт интернет магазина, чтобы повысить конверсию и средний чек заказа</td>\n",
       "      <td>56</td>\n",
       "      <td>7</td>\n",
       "    </tr>\n",
       "    <tr>\n",
       "      <td>0</td>\n",
       "      <td>Добавить два новых канала привлечения трафика, что позволит привлекать на 30% больше пользователей</td>\n",
       "      <td>40</td>\n",
       "      <td>13</td>\n",
       "    </tr>\n",
       "    <tr>\n",
       "      <td>6</td>\n",
       "      <td>Показать на главной странице баннеры с актуальными акциями и распродажами, чтобы увеличить конверсию</td>\n",
       "      <td>40</td>\n",
       "      <td>8</td>\n",
       "    </tr>\n",
       "  </tbody>\n",
       "</table>\n",
       "</div>"
      ],
      "text/plain": [
       "                                                                                                     hypothesis  \\\n",
       "7              Добавить форму подписки на все основные страницы, чтобы собрать базу клиентов для email-рассылок   \n",
       "2  Добавить блоки рекомендаций товаров на сайт интернет магазина, чтобы повысить конверсию и средний чек заказа   \n",
       "0            Добавить два новых канала привлечения трафика, что позволит привлекать на 30% больше пользователей   \n",
       "6          Показать на главной странице баннеры с актуальными акциями и распродажами, чтобы увеличить конверсию   \n",
       "\n",
       "   rice  ice  \n",
       "7   112   11  \n",
       "2    56    7  \n",
       "0    40   13  \n",
       "6    40    8  "
      ]
     },
     "metadata": {},
     "output_type": "display_data"
    }
   ],
   "source": [
    "hypothesis['rice'] = (hypothesis['reach'] * hypothesis['impact'] * hypothesis['confidence'] / hypothesis['efforts']).round().astype('int')\n",
    "display(hypothesis[['hypothesis', 'rice', 'ice']].sort_values(by=['rice', 'ice'], ascending=False).head(4))"
   ]
  },
  {
   "cell_type": "markdown",
   "metadata": {},
   "source": [
    "Вывод:  \n",
    "применив два фреймворка ICE и RICE для приоритизации гипотез, получили разные четверки.  \n",
    "В этих четверках есть только две повторяющиеся гипотезы, с индексом 7:\n",
    "\n",
    "\"Добавить форму подписки на все основные страницы, чтобы собрать базу клиентов для email-рассылок\"\n",
    "\n",
    "и 6:\n",
    "\n",
    "\"Показать на главной странице баннеры с актуальными акциями и распродажами, чтобы увеличить конверсию\"\n",
    "\n",
    "RICE в дополнение к ICE учитывает еще и охват пользователей.  \n",
    "Поэтому на первое место выходит гипотеза с индексом 7:\n",
    "\n",
    "\"Добавить форму подписки на все основные страницы, чтобы собрать базу клиентов для email-рассылок\"\n",
    ",  \n",
    "так как имеет больше охват пользователей  \n",
    "(10 по сравнению с 5).\n",
    " "
   ]
  },
  {
   "cell_type": "markdown",
   "metadata": {},
   "source": [
    "## Часть 2. Анализ A/B-теста"
   ]
  },
  {
   "cell_type": "markdown",
   "metadata": {},
   "source": [
    "### Загрузка данных и подготовка их к анализу"
   ]
  },
  {
   "cell_type": "code",
   "execution_count": 5,
   "metadata": {},
   "outputs": [
    {
     "data": {
      "text/html": [
       "<div>\n",
       "<style scoped>\n",
       "    .dataframe tbody tr th:only-of-type {\n",
       "        vertical-align: middle;\n",
       "    }\n",
       "\n",
       "    .dataframe tbody tr th {\n",
       "        vertical-align: top;\n",
       "    }\n",
       "\n",
       "    .dataframe thead th {\n",
       "        text-align: right;\n",
       "    }\n",
       "</style>\n",
       "<table border=\"1\" class=\"dataframe\">\n",
       "  <thead>\n",
       "    <tr style=\"text-align: right;\">\n",
       "      <th></th>\n",
       "      <th>transactionId</th>\n",
       "      <th>visitorId</th>\n",
       "      <th>date</th>\n",
       "      <th>revenue</th>\n",
       "      <th>group</th>\n",
       "    </tr>\n",
       "  </thead>\n",
       "  <tbody>\n",
       "    <tr>\n",
       "      <td>0</td>\n",
       "      <td>3667963787</td>\n",
       "      <td>3312258926</td>\n",
       "      <td>2019-08-15</td>\n",
       "      <td>1650</td>\n",
       "      <td>B</td>\n",
       "    </tr>\n",
       "    <tr>\n",
       "      <td>1</td>\n",
       "      <td>2804400009</td>\n",
       "      <td>3642806036</td>\n",
       "      <td>2019-08-15</td>\n",
       "      <td>730</td>\n",
       "      <td>B</td>\n",
       "    </tr>\n",
       "    <tr>\n",
       "      <td>2</td>\n",
       "      <td>2961555356</td>\n",
       "      <td>4069496402</td>\n",
       "      <td>2019-08-15</td>\n",
       "      <td>400</td>\n",
       "      <td>A</td>\n",
       "    </tr>\n",
       "    <tr>\n",
       "      <td>3</td>\n",
       "      <td>3797467345</td>\n",
       "      <td>1196621759</td>\n",
       "      <td>2019-08-15</td>\n",
       "      <td>9759</td>\n",
       "      <td>B</td>\n",
       "    </tr>\n",
       "    <tr>\n",
       "      <td>4</td>\n",
       "      <td>2282983706</td>\n",
       "      <td>2322279887</td>\n",
       "      <td>2019-08-15</td>\n",
       "      <td>2308</td>\n",
       "      <td>B</td>\n",
       "    </tr>\n",
       "  </tbody>\n",
       "</table>\n",
       "</div>"
      ],
      "text/plain": [
       "   transactionId   visitorId        date  revenue group\n",
       "0     3667963787  3312258926  2019-08-15     1650     B\n",
       "1     2804400009  3642806036  2019-08-15      730     B\n",
       "2     2961555356  4069496402  2019-08-15      400     A\n",
       "3     3797467345  1196621759  2019-08-15     9759     B\n",
       "4     2282983706  2322279887  2019-08-15     2308     B"
      ]
     },
     "metadata": {},
     "output_type": "display_data"
    },
    {
     "name": "stdout",
     "output_type": "stream",
     "text": [
      "<class 'pandas.core.frame.DataFrame'>\n",
      "RangeIndex: 1197 entries, 0 to 1196\n",
      "Data columns (total 5 columns):\n",
      "transactionId    1197 non-null int64\n",
      "visitorId        1197 non-null int64\n",
      "date             1197 non-null object\n",
      "revenue          1197 non-null int64\n",
      "group            1197 non-null object\n",
      "dtypes: int64(3), object(2)\n",
      "memory usage: 46.9+ KB\n",
      "\n"
     ]
    },
    {
     "data": {
      "text/html": [
       "<div>\n",
       "<style scoped>\n",
       "    .dataframe tbody tr th:only-of-type {\n",
       "        vertical-align: middle;\n",
       "    }\n",
       "\n",
       "    .dataframe tbody tr th {\n",
       "        vertical-align: top;\n",
       "    }\n",
       "\n",
       "    .dataframe thead th {\n",
       "        text-align: right;\n",
       "    }\n",
       "</style>\n",
       "<table border=\"1\" class=\"dataframe\">\n",
       "  <thead>\n",
       "    <tr style=\"text-align: right;\">\n",
       "      <th></th>\n",
       "      <th>date</th>\n",
       "      <th>group</th>\n",
       "      <th>visitors</th>\n",
       "    </tr>\n",
       "  </thead>\n",
       "  <tbody>\n",
       "    <tr>\n",
       "      <td>0</td>\n",
       "      <td>2019-08-01</td>\n",
       "      <td>A</td>\n",
       "      <td>719</td>\n",
       "    </tr>\n",
       "    <tr>\n",
       "      <td>1</td>\n",
       "      <td>2019-08-02</td>\n",
       "      <td>A</td>\n",
       "      <td>619</td>\n",
       "    </tr>\n",
       "    <tr>\n",
       "      <td>2</td>\n",
       "      <td>2019-08-03</td>\n",
       "      <td>A</td>\n",
       "      <td>507</td>\n",
       "    </tr>\n",
       "    <tr>\n",
       "      <td>3</td>\n",
       "      <td>2019-08-04</td>\n",
       "      <td>A</td>\n",
       "      <td>717</td>\n",
       "    </tr>\n",
       "    <tr>\n",
       "      <td>4</td>\n",
       "      <td>2019-08-05</td>\n",
       "      <td>A</td>\n",
       "      <td>756</td>\n",
       "    </tr>\n",
       "  </tbody>\n",
       "</table>\n",
       "</div>"
      ],
      "text/plain": [
       "         date group  visitors\n",
       "0  2019-08-01     A       719\n",
       "1  2019-08-02     A       619\n",
       "2  2019-08-03     A       507\n",
       "3  2019-08-04     A       717\n",
       "4  2019-08-05     A       756"
      ]
     },
     "metadata": {},
     "output_type": "display_data"
    },
    {
     "name": "stdout",
     "output_type": "stream",
     "text": [
      "<class 'pandas.core.frame.DataFrame'>\n",
      "RangeIndex: 62 entries, 0 to 61\n",
      "Data columns (total 3 columns):\n",
      "date        62 non-null object\n",
      "group       62 non-null object\n",
      "visitors    62 non-null int64\n",
      "dtypes: int64(1), object(2)\n",
      "memory usage: 1.6+ KB\n"
     ]
    }
   ],
   "source": [
    "orders = pd.read_csv('/datasets/orders.csv')\n",
    "display(orders.head())\n",
    "orders.info()\n",
    "print()\n",
    "visitors = pd.read_csv('/datasets/visitors.csv')\n",
    "display(visitors.head())\n",
    "visitors.info()"
   ]
  },
  {
   "cell_type": "markdown",
   "metadata": {},
   "source": [
    "Вывод:  \n",
    "1. orders\n",
    "В таблице 5 столбцов, 1197 строк.  \n",
    "Тип  столбца с датой - object изменим на datetime64.    \n",
    "Пропусков нет.\n",
    "2. visitors\n",
    "В таблице 3 столбца, 62 строки.  \n",
    "Тип  столбца с датой - object изменим на datetime64.    \n",
    "Пропусков нет."
   ]
  },
  {
   "cell_type": "code",
   "execution_count": 6,
   "metadata": {},
   "outputs": [
    {
     "data": {
      "text/html": [
       "<div>\n",
       "<style scoped>\n",
       "    .dataframe tbody tr th:only-of-type {\n",
       "        vertical-align: middle;\n",
       "    }\n",
       "\n",
       "    .dataframe tbody tr th {\n",
       "        vertical-align: top;\n",
       "    }\n",
       "\n",
       "    .dataframe thead th {\n",
       "        text-align: right;\n",
       "    }\n",
       "</style>\n",
       "<table border=\"1\" class=\"dataframe\">\n",
       "  <thead>\n",
       "    <tr style=\"text-align: right;\">\n",
       "      <th></th>\n",
       "      <th>orderId</th>\n",
       "      <th>userId</th>\n",
       "      <th>date</th>\n",
       "      <th>revenue</th>\n",
       "      <th>group</th>\n",
       "    </tr>\n",
       "  </thead>\n",
       "  <tbody>\n",
       "    <tr>\n",
       "      <td>0</td>\n",
       "      <td>3667963787</td>\n",
       "      <td>3312258926</td>\n",
       "      <td>2019-08-15</td>\n",
       "      <td>1650</td>\n",
       "      <td>B</td>\n",
       "    </tr>\n",
       "    <tr>\n",
       "      <td>1</td>\n",
       "      <td>2804400009</td>\n",
       "      <td>3642806036</td>\n",
       "      <td>2019-08-15</td>\n",
       "      <td>730</td>\n",
       "      <td>B</td>\n",
       "    </tr>\n",
       "    <tr>\n",
       "      <td>2</td>\n",
       "      <td>2961555356</td>\n",
       "      <td>4069496402</td>\n",
       "      <td>2019-08-15</td>\n",
       "      <td>400</td>\n",
       "      <td>A</td>\n",
       "    </tr>\n",
       "    <tr>\n",
       "      <td>3</td>\n",
       "      <td>3797467345</td>\n",
       "      <td>1196621759</td>\n",
       "      <td>2019-08-15</td>\n",
       "      <td>9759</td>\n",
       "      <td>B</td>\n",
       "    </tr>\n",
       "    <tr>\n",
       "      <td>4</td>\n",
       "      <td>2282983706</td>\n",
       "      <td>2322279887</td>\n",
       "      <td>2019-08-15</td>\n",
       "      <td>2308</td>\n",
       "      <td>B</td>\n",
       "    </tr>\n",
       "  </tbody>\n",
       "</table>\n",
       "</div>"
      ],
      "text/plain": [
       "      orderId      userId       date  revenue group\n",
       "0  3667963787  3312258926 2019-08-15     1650     B\n",
       "1  2804400009  3642806036 2019-08-15      730     B\n",
       "2  2961555356  4069496402 2019-08-15      400     A\n",
       "3  3797467345  1196621759 2019-08-15     9759     B\n",
       "4  2282983706  2322279887 2019-08-15     2308     B"
      ]
     },
     "metadata": {},
     "output_type": "display_data"
    },
    {
     "name": "stdout",
     "output_type": "stream",
     "text": [
      "<class 'pandas.core.frame.DataFrame'>\n",
      "RangeIndex: 1197 entries, 0 to 1196\n",
      "Data columns (total 5 columns):\n",
      "orderId    1197 non-null int64\n",
      "userId     1197 non-null int64\n",
      "date       1197 non-null datetime64[ns]\n",
      "revenue    1197 non-null int64\n",
      "group      1197 non-null object\n",
      "dtypes: datetime64[ns](1), int64(3), object(1)\n",
      "memory usage: 46.9+ KB\n",
      "\n"
     ]
    },
    {
     "data": {
      "text/html": [
       "<div>\n",
       "<style scoped>\n",
       "    .dataframe tbody tr th:only-of-type {\n",
       "        vertical-align: middle;\n",
       "    }\n",
       "\n",
       "    .dataframe tbody tr th {\n",
       "        vertical-align: top;\n",
       "    }\n",
       "\n",
       "    .dataframe thead th {\n",
       "        text-align: right;\n",
       "    }\n",
       "</style>\n",
       "<table border=\"1\" class=\"dataframe\">\n",
       "  <thead>\n",
       "    <tr style=\"text-align: right;\">\n",
       "      <th></th>\n",
       "      <th>date</th>\n",
       "      <th>group</th>\n",
       "      <th>visitors</th>\n",
       "    </tr>\n",
       "  </thead>\n",
       "  <tbody>\n",
       "    <tr>\n",
       "      <td>0</td>\n",
       "      <td>2019-08-01</td>\n",
       "      <td>A</td>\n",
       "      <td>719</td>\n",
       "    </tr>\n",
       "    <tr>\n",
       "      <td>1</td>\n",
       "      <td>2019-08-02</td>\n",
       "      <td>A</td>\n",
       "      <td>619</td>\n",
       "    </tr>\n",
       "    <tr>\n",
       "      <td>2</td>\n",
       "      <td>2019-08-03</td>\n",
       "      <td>A</td>\n",
       "      <td>507</td>\n",
       "    </tr>\n",
       "    <tr>\n",
       "      <td>3</td>\n",
       "      <td>2019-08-04</td>\n",
       "      <td>A</td>\n",
       "      <td>717</td>\n",
       "    </tr>\n",
       "    <tr>\n",
       "      <td>4</td>\n",
       "      <td>2019-08-05</td>\n",
       "      <td>A</td>\n",
       "      <td>756</td>\n",
       "    </tr>\n",
       "  </tbody>\n",
       "</table>\n",
       "</div>"
      ],
      "text/plain": [
       "        date group  visitors\n",
       "0 2019-08-01     A       719\n",
       "1 2019-08-02     A       619\n",
       "2 2019-08-03     A       507\n",
       "3 2019-08-04     A       717\n",
       "4 2019-08-05     A       756"
      ]
     },
     "metadata": {},
     "output_type": "display_data"
    },
    {
     "name": "stdout",
     "output_type": "stream",
     "text": [
      "<class 'pandas.core.frame.DataFrame'>\n",
      "RangeIndex: 62 entries, 0 to 61\n",
      "Data columns (total 3 columns):\n",
      "date        62 non-null datetime64[ns]\n",
      "group       62 non-null object\n",
      "visitors    62 non-null int64\n",
      "dtypes: datetime64[ns](1), int64(1), object(1)\n",
      "memory usage: 1.6+ KB\n"
     ]
    }
   ],
   "source": [
    "orders = orders.rename(columns={'transactionId':'orderId', 'visitorId':'userId', 'date':'date', 'revenue':'revenue', 'group':'group'})\n",
    "#display(orders.head())\n",
    "orders['date'] = orders['date'].map(lambda x: dt.datetime.strptime(x, '%Y-%m-%d'))\n",
    "visitors['date'] = visitors['date'].map(lambda x: dt.datetime.strptime(x, '%Y-%m-%d'))\n",
    "\n",
    "display(orders.head())\n",
    "orders.info()\n",
    "print()\n",
    "display(visitors.head())\n",
    "visitors.info()"
   ]
  },
  {
   "cell_type": "markdown",
   "metadata": {},
   "source": [
    "Вывод:  \n",
    "Проблем с данными нет, данные готовы к анализу.  \n",
    "Кол-во пользователей, состоящих в двух группах: 58      \n",
    "Всего уникальных пользователей в тесте: 1031      \n",
    "% кол-ва пользователей, состоящих в двух группах к общему кол-ву пользователей: 5.63    "
   ]
  },
  {
   "cell_type": "code",
   "execution_count": 7,
   "metadata": {},
   "outputs": [
    {
     "data": {
      "text/html": [
       "<div>\n",
       "<style scoped>\n",
       "    .dataframe tbody tr th:only-of-type {\n",
       "        vertical-align: middle;\n",
       "    }\n",
       "\n",
       "    .dataframe tbody tr th {\n",
       "        vertical-align: top;\n",
       "    }\n",
       "\n",
       "    .dataframe thead th {\n",
       "        text-align: right;\n",
       "    }\n",
       "</style>\n",
       "<table border=\"1\" class=\"dataframe\">\n",
       "  <thead>\n",
       "    <tr style=\"text-align: right;\">\n",
       "      <th></th>\n",
       "      <th>orderId</th>\n",
       "      <th>userId</th>\n",
       "      <th>date</th>\n",
       "      <th>revenue</th>\n",
       "      <th>group</th>\n",
       "    </tr>\n",
       "    <tr>\n",
       "      <th>userId</th>\n",
       "      <th></th>\n",
       "      <th></th>\n",
       "      <th></th>\n",
       "      <th></th>\n",
       "      <th></th>\n",
       "    </tr>\n",
       "  </thead>\n",
       "  <tbody>\n",
       "    <tr>\n",
       "      <td>5114589</td>\n",
       "      <td>1</td>\n",
       "      <td>1</td>\n",
       "      <td>1</td>\n",
       "      <td>1</td>\n",
       "      <td>1</td>\n",
       "    </tr>\n",
       "    <tr>\n",
       "      <td>6958315</td>\n",
       "      <td>1</td>\n",
       "      <td>1</td>\n",
       "      <td>1</td>\n",
       "      <td>1</td>\n",
       "      <td>1</td>\n",
       "    </tr>\n",
       "    <tr>\n",
       "      <td>8300375</td>\n",
       "      <td>2</td>\n",
       "      <td>1</td>\n",
       "      <td>2</td>\n",
       "      <td>2</td>\n",
       "      <td>2</td>\n",
       "    </tr>\n",
       "    <tr>\n",
       "      <td>11685486</td>\n",
       "      <td>1</td>\n",
       "      <td>1</td>\n",
       "      <td>1</td>\n",
       "      <td>1</td>\n",
       "      <td>1</td>\n",
       "    </tr>\n",
       "    <tr>\n",
       "      <td>39475350</td>\n",
       "      <td>1</td>\n",
       "      <td>1</td>\n",
       "      <td>1</td>\n",
       "      <td>1</td>\n",
       "      <td>1</td>\n",
       "    </tr>\n",
       "    <tr>\n",
       "      <td>...</td>\n",
       "      <td>...</td>\n",
       "      <td>...</td>\n",
       "      <td>...</td>\n",
       "      <td>...</td>\n",
       "      <td>...</td>\n",
       "    </tr>\n",
       "    <tr>\n",
       "      <td>4266935830</td>\n",
       "      <td>2</td>\n",
       "      <td>1</td>\n",
       "      <td>1</td>\n",
       "      <td>1</td>\n",
       "      <td>2</td>\n",
       "    </tr>\n",
       "    <tr>\n",
       "      <td>4278982564</td>\n",
       "      <td>1</td>\n",
       "      <td>1</td>\n",
       "      <td>1</td>\n",
       "      <td>1</td>\n",
       "      <td>1</td>\n",
       "    </tr>\n",
       "    <tr>\n",
       "      <td>4279090005</td>\n",
       "      <td>1</td>\n",
       "      <td>1</td>\n",
       "      <td>1</td>\n",
       "      <td>1</td>\n",
       "      <td>1</td>\n",
       "    </tr>\n",
       "    <tr>\n",
       "      <td>4281247801</td>\n",
       "      <td>1</td>\n",
       "      <td>1</td>\n",
       "      <td>1</td>\n",
       "      <td>1</td>\n",
       "      <td>1</td>\n",
       "    </tr>\n",
       "    <tr>\n",
       "      <td>4283872382</td>\n",
       "      <td>1</td>\n",
       "      <td>1</td>\n",
       "      <td>1</td>\n",
       "      <td>1</td>\n",
       "      <td>1</td>\n",
       "    </tr>\n",
       "  </tbody>\n",
       "</table>\n",
       "<p>1031 rows × 5 columns</p>\n",
       "</div>"
      ],
      "text/plain": [
       "            orderId  userId  date  revenue  group\n",
       "userId                                           \n",
       "5114589           1       1     1        1      1\n",
       "6958315           1       1     1        1      1\n",
       "8300375           2       1     2        2      2\n",
       "11685486          1       1     1        1      1\n",
       "39475350          1       1     1        1      1\n",
       "...             ...     ...   ...      ...    ...\n",
       "4266935830        2       1     1        1      2\n",
       "4278982564        1       1     1        1      1\n",
       "4279090005        1       1     1        1      1\n",
       "4281247801        1       1     1        1      1\n",
       "4283872382        1       1     1        1      1\n",
       "\n",
       "[1031 rows x 5 columns]"
      ]
     },
     "metadata": {},
     "output_type": "display_data"
    },
    {
     "name": "stdout",
     "output_type": "stream",
     "text": [
      "Кол-во пользователей, состоящих в двух группах: 58\n",
      "Всего уникальных пользователей в тесте: 1031\n",
      "% кол-ва пользователей, состоящих в двух группах к общему кол-ву пользователей: 5.63\n"
     ]
    }
   ],
   "source": [
    "users = orders.groupby('userId').nunique()  \n",
    "display(users)\n",
    "users1 = users['group']\n",
    "#display(users1)\n",
    "total = 0\n",
    "for element in users1:\n",
    "    if element > 1:\n",
    "        total += 1\n",
    "print('Кол-во пользователей, состоящих в двух группах: {}'.format(total))\n",
    "print('Всего уникальных пользователей в тесте:', len(users))\n",
    "print('% кол-ва пользователей, состоящих в двух группах к общему кол-ву пользователей: {:.2f}'.format(58/1031*100))\n"
   ]
  },
  {
   "cell_type": "markdown",
   "metadata": {},
   "source": [
    "#### Строим график кумулятивной выручки по группам. Делаем выводы и предположения"
   ]
  },
  {
   "cell_type": "code",
   "execution_count": 8,
   "metadata": {},
   "outputs": [
    {
     "data": {
      "image/png": "[encoded data removed]",
      "text/plain": [
       "<Figure size 432x288 with 1 Axes>"
      ]
     },
     "metadata": {
      "needs_background": "light"
     },
     "output_type": "display_data"
    }
   ],
   "source": [
    "from pandas.plotting import register_matplotlib_converters\n",
    "register_matplotlib_converters()\n",
    "\n",
    "datesGroups = orders[['date', 'group']].drop_duplicates()\n",
    "\n",
    "ordersAggregated = datesGroups.apply(lambda x: orders[np.logical_and(orders['date'] <= x['date'], orders['group'] == x['group'])].agg({'date': 'max',\n",
    "            'group': 'max',\n",
    "            'orderId': pd.Series.nunique,\n",
    "            'userId': pd.Series.nunique,\n",
    "            'revenue': 'sum',\n",
    "        }\n",
    "    ),\n",
    "    axis=1,\n",
    ").sort_values(by=['date', 'group'])\n",
    "\n",
    "visitorsAggregated = datesGroups.apply(\n",
    "    lambda x: visitors[\n",
    "        np.logical_and(\n",
    "            visitors['date'] <= x['date'], visitors['group'] == x['group']\n",
    "        )\n",
    "    ].agg({'date': 'max', 'group': 'max', 'visitors': 'sum'}),\n",
    "    axis=1,\n",
    ").sort_values(by=['date', 'group'])\n",
    "\n",
    "cumulativeData = ordersAggregated.merge(\n",
    "    visitorsAggregated, left_on=['date', 'group'], right_on=['date', 'group']\n",
    ")\n",
    "cumulativeData.columns = [\n",
    "    'date',\n",
    "    'group',\n",
    "    'orders',\n",
    "    'buyers',\n",
    "    'revenue',\n",
    "    'visitors',\n",
    "]\n",
    "\n",
    "cumulativeRevenueA = cumulativeData[cumulativeData['group']=='A'][['date','revenue', 'orders']]\n",
    "\n",
    "cumulativeRevenueB = cumulativeData[cumulativeData['group']=='B'][['date','revenue', 'orders']]\n",
    "\n",
    "plt.plot(cumulativeRevenueA['date'], cumulativeRevenueA['revenue'], label='A')\n",
    "\n",
    "plt.plot(cumulativeRevenueB['date'], cumulativeRevenueB['revenue'], label='B')\n",
    "\n",
    "plt.annotate('скачок', xy=('2019-08-17', 2800000), xytext=('2019-08-10', 3500000),\n",
    "            arrowprops=dict(facecolor='g'))\n",
    "plt.annotate('отрыв', xy=('2019-08-05', 800000), xytext=('2019-08-05', 2000000),\n",
    "            arrowprops=dict(facecolor='g'))\n",
    "\n",
    "plt.xticks(rotation=45)\n",
    "\n",
    "plt.legend()\n",
    "plt.title(\"кумулятивная выручка по группам\")\n",
    "plt.ylabel(\"выручка\")\n",
    "plt.xlabel(\"дата, день\")\n",
    "plt.show()"
   ]
  },
  {
   "cell_type": "markdown",
   "metadata": {},
   "source": [
    "Вывод:  \n",
    "Выручка почти равномерно увеличивается в течение всего теста. Хороший знак.\n",
    "Однако графики выручки обеих групп в нескольких точках резко растут. Это может сигнализировать о всплесках числа заказов,  \n",
    "либо о появлении очень дорогих заказов в выборке."
   ]
  },
  {
   "cell_type": "markdown",
   "metadata": {},
   "source": [
    "#### Строим график кумулятивного среднего чека по группам. Делаем выводы и предположения"
   ]
  },
  {
   "cell_type": "code",
   "execution_count": 9,
   "metadata": {},
   "outputs": [
    {
     "data": {
      "image/png": "[encoded data removed]",
      "text/plain": [
       "<Figure size 432x288 with 1 Axes>"
      ]
     },
     "metadata": {
      "needs_background": "light"
     },
     "output_type": "display_data"
    }
   ],
   "source": [
    "plt.plot(cumulativeRevenueA['date'], cumulativeRevenueA['revenue']/cumulativeRevenueA['orders'], label='A')\n",
    "plt.plot(cumulativeRevenueB['date'], cumulativeRevenueB['revenue']/cumulativeRevenueB['orders'], label='B')\n",
    "plt.legend()\n",
    "plt.title(\"кумулятивный средний чек по группам\")\n",
    "plt.ylabel(\"средний чек\")\n",
    "plt.xlabel(\"дата, день\")\n",
    "plt.xticks(rotation=45)\n",
    "plt.show()"
   ]
  },
  {
   "cell_type": "markdown",
   "metadata": {},
   "source": [
    "Вывод:  \n",
    "кумулятивное значение среднего чека по сегментам продолжает колебаться.  \n",
    "Скорее всего принимать решение по этой метрике рано.  \n",
    "Или требуется дополнительный анализ выбросов, которые так сильно искажают результаты."
   ]
  },
  {
   "cell_type": "markdown",
   "metadata": {},
   "source": [
    "#### Строим график относительного изменения кумулятивного среднего чека группы B к группе A. Делаем выводы и предположения"
   ]
  },
  {
   "cell_type": "code",
   "execution_count": 10,
   "metadata": {},
   "outputs": [
    {
     "data": {
      "image/png": "[encoded data removed]",
      "text/plain": [
       "<Figure size 432x288 with 1 Axes>"
      ]
     },
     "metadata": {
      "needs_background": "light"
     },
     "output_type": "display_data"
    }
   ],
   "source": [
    "# собираем данные в одном датафрейме\n",
    "mergedCumulativeRevenue = cumulativeRevenueA.merge(cumulativeRevenueB, left_on='date', right_on='date', how='left', suffixes=['A', 'B'])\n",
    "\n",
    "# cтроим отношение средних чеков\n",
    "plt.plot(mergedCumulativeRevenue['date'], (mergedCumulativeRevenue['revenueB']/mergedCumulativeRevenue['ordersB'])/(mergedCumulativeRevenue['revenueA']/mergedCumulativeRevenue['ordersA'])-1)\n",
    "\n",
    "# добавляем ось X\n",
    "plt.axhline(y=0, color='black', linestyle='--')\n",
    "plt.title(\"относительное изменение кумулятивного среднего чека группы B к группе A\")\n",
    "plt.xlabel(\"дата, день\")\n",
    "plt.ylabel(\"относительное изменение\")\n",
    "plt.xticks(rotation=45)\n",
    "plt.show()\n",
    "\n",
    "#display(mergedCumulativeRevenue['date'].min())\n",
    "#display(mergedCumulativeRevenue['date'].max())"
   ]
  },
  {
   "cell_type": "markdown",
   "metadata": {},
   "source": [
    "Вывод:  \n",
    "результаты теста значительно и резко менялись в несколько дат.  \n",
    "Видимо, именно тогда были совершены аномальные заказы."
   ]
  },
  {
   "cell_type": "markdown",
   "metadata": {},
   "source": [
    "#### Строим график кумулятивной конверсии по группам. Делаем выводы и предположения"
   ]
  },
  {
   "cell_type": "code",
   "execution_count": 11,
   "metadata": {},
   "outputs": [
    {
     "data": {
      "text/plain": [
       "['2019-08-01', '2019-08-31', 0, 0.041]"
      ]
     },
     "execution_count": 11,
     "metadata": {},
     "output_type": "execute_result"
    },
    {
     "data": {
      "image/png": "[encoded data removed]",
      "text/plain": [
       "<Figure size 432x288 with 1 Axes>"
      ]
     },
     "metadata": {
      "needs_background": "light"
     },
     "output_type": "display_data"
    }
   ],
   "source": [
    "# считаем кумулятивную конверсию\n",
    "cumulativeData['conversion'] = cumulativeData['orders']/cumulativeData['visitors']\n",
    "\n",
    "# отделяем данные по группе A\n",
    "cumulativeDataA = cumulativeData[cumulativeData['group']=='A']\n",
    "\n",
    "# отделяем данные по группе B\n",
    "cumulativeDataB = cumulativeData[cumulativeData['group']=='B']\n",
    "\n",
    "# строим графики\n",
    "plt.plot(cumulativeDataA['date'], cumulativeDataA['conversion'], label='A')\n",
    "plt.plot(cumulativeDataB['date'], cumulativeDataB['conversion'], label='B')\n",
    "plt.legend()\n",
    "plt.title(\"кумулятивная конверсия по группам\")\n",
    "plt.xlabel(\"дата, день\")\n",
    "plt.ylabel(\"конверсия\")\n",
    "plt.xticks(rotation=45)\n",
    "\n",
    "# задаем масштаб осей\n",
    "plt.axis(['2019-08-01', '2019-08-31', 0, 0.041]) "
   ]
  },
  {
   "cell_type": "markdown",
   "metadata": {},
   "source": [
    "Вывод:  \n",
    "Симметричный график получился. Группы колебались около одного значения, но затем конверсия группы В вырвалась вперёд и зафиксировалась, а конверсия группы А просела и также зафиксировалась."
   ]
  },
  {
   "cell_type": "markdown",
   "metadata": {},
   "source": [
    "#### Строим график относительного изменения кумулятивной конверсии группы B к группе A. Делаем выводы и предположения"
   ]
  },
  {
   "cell_type": "code",
   "execution_count": 12,
   "metadata": {},
   "outputs": [
    {
     "data": {
      "image/png": "[encoded data removed]",
      "text/plain": [
       "<Figure size 432x288 with 1 Axes>"
      ]
     },
     "metadata": {
      "needs_background": "light"
     },
     "output_type": "display_data"
    }
   ],
   "source": [
    "mergedCumulativeConversions = cumulativeDataA[['date','conversion']].merge(cumulativeDataB[['date','conversion']], left_on='date', right_on='date', how='left', suffixes=['A', 'B'])\n",
    "\n",
    "plt.plot(mergedCumulativeConversions['date'], mergedCumulativeConversions['conversionB']/mergedCumulativeConversions['conversionA']-1, label=\"Относительный прирост конверсии группы B относительно группы A\")\n",
    "#plt.legend()\n",
    "plt.title(\"относительное изменение кумулятивной конверсии группы B к группе A\")\n",
    "\n",
    "plt.axhline(y=0, color='black', linestyle='--')\n",
    "plt.axhline(y=-0.1, color='grey', linestyle='--')\n",
    "plt.axis(['2019-08-01', '2019-08-31', -0.3, 0.3])\n",
    "plt.xlabel(\"дата, день\")\n",
    "plt.ylabel(\"относительного изменения\")\n",
    "plt.xticks(rotation=45)\n",
    "plt.show()"
   ]
  },
  {
   "cell_type": "markdown",
   "metadata": {},
   "source": [
    "Вывод:  \n",
    "В начале теста группа B проигрывала группе A, затем вырвалась вперёд. Потом её конверсия снова падала, потом росла.\n",
    "В целом отношение конверсии ещё не установилось, и сейчас делать какие-либо выводы по тесту нельзя. Впрочем, сперва стоит проанализировать аномалии, возможно, они изменят картину"
   ]
  },
  {
   "cell_type": "markdown",
   "metadata": {},
   "source": [
    "#### Строим точечный график количества заказов по пользователям. Делаем выводы и предположения"
   ]
  },
  {
   "cell_type": "code",
   "execution_count": 13,
   "metadata": {},
   "outputs": [
    {
     "data": {
      "text/html": [
       "<div>\n",
       "<style scoped>\n",
       "    .dataframe tbody tr th:only-of-type {\n",
       "        vertical-align: middle;\n",
       "    }\n",
       "\n",
       "    .dataframe tbody tr th {\n",
       "        vertical-align: top;\n",
       "    }\n",
       "\n",
       "    .dataframe thead th {\n",
       "        text-align: right;\n",
       "    }\n",
       "</style>\n",
       "<table border=\"1\" class=\"dataframe\">\n",
       "  <thead>\n",
       "    <tr style=\"text-align: right;\">\n",
       "      <th></th>\n",
       "      <th>userId</th>\n",
       "      <th>orders</th>\n",
       "    </tr>\n",
       "  </thead>\n",
       "  <tbody>\n",
       "    <tr>\n",
       "      <td>1023</td>\n",
       "      <td>4256040402</td>\n",
       "      <td>11</td>\n",
       "    </tr>\n",
       "    <tr>\n",
       "      <td>591</td>\n",
       "      <td>2458001652</td>\n",
       "      <td>11</td>\n",
       "    </tr>\n",
       "    <tr>\n",
       "      <td>569</td>\n",
       "      <td>2378935119</td>\n",
       "      <td>9</td>\n",
       "    </tr>\n",
       "    <tr>\n",
       "      <td>487</td>\n",
       "      <td>2038680547</td>\n",
       "      <td>8</td>\n",
       "    </tr>\n",
       "    <tr>\n",
       "      <td>44</td>\n",
       "      <td>199603092</td>\n",
       "      <td>5</td>\n",
       "    </tr>\n",
       "    <tr>\n",
       "      <td>744</td>\n",
       "      <td>3062433592</td>\n",
       "      <td>5</td>\n",
       "    </tr>\n",
       "    <tr>\n",
       "      <td>55</td>\n",
       "      <td>237748145</td>\n",
       "      <td>5</td>\n",
       "    </tr>\n",
       "    <tr>\n",
       "      <td>917</td>\n",
       "      <td>3803269165</td>\n",
       "      <td>5</td>\n",
       "    </tr>\n",
       "    <tr>\n",
       "      <td>299</td>\n",
       "      <td>1230306981</td>\n",
       "      <td>5</td>\n",
       "    </tr>\n",
       "    <tr>\n",
       "      <td>897</td>\n",
       "      <td>3717692402</td>\n",
       "      <td>5</td>\n",
       "    </tr>\n",
       "  </tbody>\n",
       "</table>\n",
       "</div>"
      ],
      "text/plain": [
       "          userId  orders\n",
       "1023  4256040402      11\n",
       "591   2458001652      11\n",
       "569   2378935119       9\n",
       "487   2038680547       8\n",
       "44     199603092       5\n",
       "744   3062433592       5\n",
       "55     237748145       5\n",
       "917   3803269165       5\n",
       "299   1230306981       5\n",
       "897   3717692402       5"
      ]
     },
     "metadata": {},
     "output_type": "display_data"
    },
    {
     "data": {
      "image/png": "[encoded data removed]",
      "text/plain": [
       "<Figure size 432x288 with 1 Axes>"
      ]
     },
     "metadata": {
      "needs_background": "light"
     },
     "output_type": "display_data"
    },
    {
     "data": {
      "text/plain": [
       "Text(0, 0.5, 'кол-во заказов, шт')"
      ]
     },
     "execution_count": 13,
     "metadata": {},
     "output_type": "execute_result"
    },
    {
     "data": {
      "image/png": "[encoded data removed]",
      "text/plain": [
       "<Figure size 432x288 with 1 Axes>"
      ]
     },
     "metadata": {
      "needs_background": "light"
     },
     "output_type": "display_data"
    }
   ],
   "source": [
    "#Подсчитаем количество заказов по пользователям:\n",
    "ordersByUsers = (\n",
    "    orders.drop(['group', 'revenue', 'date'], axis=1)\n",
    "    .groupby('userId', as_index=False)\n",
    "    .agg({'orderId': pd.Series.nunique})\n",
    ")\n",
    "\n",
    "ordersByUsers.columns = ['userId', 'orders']\n",
    "\n",
    "display(ordersByUsers.sort_values(by='orders', ascending=False).head(10))\n",
    "#Есть пользователи, которые совершали 5, 8, 9 и 11 заказов.\n",
    "#Значительно больше, чем обычный пользователь за неделю.\n",
    "\n",
    "#Построим гистрограмму распределения количества заказов на одного пользователя\n",
    "plt.hist(ordersByUsers['orders'])\n",
    "plt.title(\"количества заказов на одного пользователя\")\n",
    "plt.xlabel(\"кол-во заказов, шт\")\n",
    "plt.ylabel(\"частота, раз\")\n",
    "plt.show()\n",
    "#Большинство покупателей заказывали только один раз.\n",
    "#Однако доля пользователей с 2-4 заказами тоже значительна\n",
    "\n",
    "#Построим точечную диаграмму числа заказов на одного пользователя:\n",
    "x_values = pd.Series(range(0,len(ordersByUsers)))\n",
    "\n",
    "plt.scatter(x_values, ordersByUsers['orders'])\n",
    "plt.title(\"число заказов на одного пользователя\")\n",
    "plt.ylabel(\"кол-во заказов, шт\")"
   ]
  },
  {
   "cell_type": "markdown",
   "metadata": {},
   "source": [
    "Выводы подтверждаются: много пользователей с 2-4 заказами.  \n",
    "Их точная доля не ясна — непонятно, считать их аномалиями или нет."
   ]
  },
  {
   "cell_type": "markdown",
   "metadata": {},
   "source": [
    "#### Считаем 95-й и 99-й перцентили количества заказов на пользователя. Выбераем границу для определения аномальных пользователей"
   ]
  },
  {
   "cell_type": "code",
   "execution_count": 14,
   "metadata": {},
   "outputs": [
    {
     "data": {
      "text/plain": [
       "array([2., 4.])"
      ]
     },
     "metadata": {},
     "output_type": "display_data"
    }
   ],
   "source": [
    "display(np.percentile(ordersByUsers['orders'], [95, 99]))"
   ]
  },
  {
   "cell_type": "markdown",
   "metadata": {},
   "source": [
    "Вывод: \n",
    "Не более 5% пользователей оформляли больше чем 2 заказа. И 1% пользователей заказывали более 4 заказов.\n",
    "Выбираем границу (тех аномальных пользователей), кто сделал 4 и более заказов на одного пользователя."
   ]
  },
  {
   "cell_type": "markdown",
   "metadata": {},
   "source": [
    "#### Строим точечный график стоимостей заказов. Делаем выводы и предположения"
   ]
  },
  {
   "cell_type": "code",
   "execution_count": 15,
   "metadata": {},
   "outputs": [
    {
     "data": {
      "text/html": [
       "<div>\n",
       "<style scoped>\n",
       "    .dataframe tbody tr th:only-of-type {\n",
       "        vertical-align: middle;\n",
       "    }\n",
       "\n",
       "    .dataframe tbody tr th {\n",
       "        vertical-align: top;\n",
       "    }\n",
       "\n",
       "    .dataframe thead th {\n",
       "        text-align: right;\n",
       "    }\n",
       "</style>\n",
       "<table border=\"1\" class=\"dataframe\">\n",
       "  <thead>\n",
       "    <tr style=\"text-align: right;\">\n",
       "      <th></th>\n",
       "      <th>orderId</th>\n",
       "      <th>userId</th>\n",
       "      <th>date</th>\n",
       "      <th>revenue</th>\n",
       "      <th>group</th>\n",
       "    </tr>\n",
       "  </thead>\n",
       "  <tbody>\n",
       "    <tr>\n",
       "      <td>0</td>\n",
       "      <td>3667963787</td>\n",
       "      <td>3312258926</td>\n",
       "      <td>2019-08-15</td>\n",
       "      <td>1650</td>\n",
       "      <td>B</td>\n",
       "    </tr>\n",
       "    <tr>\n",
       "      <td>1</td>\n",
       "      <td>2804400009</td>\n",
       "      <td>3642806036</td>\n",
       "      <td>2019-08-15</td>\n",
       "      <td>730</td>\n",
       "      <td>B</td>\n",
       "    </tr>\n",
       "    <tr>\n",
       "      <td>2</td>\n",
       "      <td>2961555356</td>\n",
       "      <td>4069496402</td>\n",
       "      <td>2019-08-15</td>\n",
       "      <td>400</td>\n",
       "      <td>A</td>\n",
       "    </tr>\n",
       "    <tr>\n",
       "      <td>3</td>\n",
       "      <td>3797467345</td>\n",
       "      <td>1196621759</td>\n",
       "      <td>2019-08-15</td>\n",
       "      <td>9759</td>\n",
       "      <td>B</td>\n",
       "    </tr>\n",
       "    <tr>\n",
       "      <td>4</td>\n",
       "      <td>2282983706</td>\n",
       "      <td>2322279887</td>\n",
       "      <td>2019-08-15</td>\n",
       "      <td>2308</td>\n",
       "      <td>B</td>\n",
       "    </tr>\n",
       "    <tr>\n",
       "      <td>5</td>\n",
       "      <td>182168103</td>\n",
       "      <td>935554773</td>\n",
       "      <td>2019-08-15</td>\n",
       "      <td>2210</td>\n",
       "      <td>B</td>\n",
       "    </tr>\n",
       "    <tr>\n",
       "      <td>6</td>\n",
       "      <td>398296753</td>\n",
       "      <td>2900797465</td>\n",
       "      <td>2019-08-15</td>\n",
       "      <td>1860</td>\n",
       "      <td>B</td>\n",
       "    </tr>\n",
       "    <tr>\n",
       "      <td>7</td>\n",
       "      <td>2626614568</td>\n",
       "      <td>78758296</td>\n",
       "      <td>2019-08-15</td>\n",
       "      <td>1044</td>\n",
       "      <td>A</td>\n",
       "    </tr>\n",
       "    <tr>\n",
       "      <td>8</td>\n",
       "      <td>1576988021</td>\n",
       "      <td>295230930</td>\n",
       "      <td>2019-08-15</td>\n",
       "      <td>13710</td>\n",
       "      <td>A</td>\n",
       "    </tr>\n",
       "    <tr>\n",
       "      <td>9</td>\n",
       "      <td>1506739906</td>\n",
       "      <td>1882260405</td>\n",
       "      <td>2019-08-15</td>\n",
       "      <td>1855</td>\n",
       "      <td>B</td>\n",
       "    </tr>\n",
       "  </tbody>\n",
       "</table>\n",
       "</div>"
      ],
      "text/plain": [
       "      orderId      userId       date  revenue group\n",
       "0  3667963787  3312258926 2019-08-15     1650     B\n",
       "1  2804400009  3642806036 2019-08-15      730     B\n",
       "2  2961555356  4069496402 2019-08-15      400     A\n",
       "3  3797467345  1196621759 2019-08-15     9759     B\n",
       "4  2282983706  2322279887 2019-08-15     2308     B\n",
       "5   182168103   935554773 2019-08-15     2210     B\n",
       "6   398296753  2900797465 2019-08-15     1860     B\n",
       "7  2626614568    78758296 2019-08-15     1044     A\n",
       "8  1576988021   295230930 2019-08-15    13710     A\n",
       "9  1506739906  1882260405 2019-08-15     1855     B"
      ]
     },
     "metadata": {},
     "output_type": "display_data"
    },
    {
     "data": {
      "text/plain": [
       "50"
      ]
     },
     "metadata": {},
     "output_type": "display_data"
    },
    {
     "data": {
      "text/plain": [
       "1294500"
      ]
     },
     "metadata": {},
     "output_type": "display_data"
    },
    {
     "data": {
      "text/plain": [
       "8348.005847953216"
      ]
     },
     "metadata": {},
     "output_type": "display_data"
    },
    {
     "data": {
      "image/png": "[encoded data removed]",
      "text/plain": [
       "<Figure size 432x288 with 1 Axes>"
      ]
     },
     "metadata": {
      "needs_background": "light"
     },
     "output_type": "display_data"
    },
    {
     "data": {
      "image/png": "[encoded data removed]",
      "text/plain": [
       "<Figure size 432x288 with 1 Axes>"
      ]
     },
     "metadata": {
      "needs_background": "light"
     },
     "output_type": "display_data"
    }
   ],
   "source": [
    "display(orders.head(10))\n",
    "display(orders['revenue'].min())\n",
    "display(orders['revenue'].max())\n",
    "display(orders['revenue'].mean())\n",
    "\n",
    "#Изучим гистограмму распределения стоимостей заказов:\n",
    "plt.hist(orders['revenue'])\n",
    "plt.title(\"распределение стоимостей заказов\")\n",
    "plt.xlabel(\"стоимость заказа\")\n",
    "plt.ylabel(\"частота, раз\")\n",
    "plt.ylim([0, 20])\n",
    "#plt.xlim([0, 50])\n",
    "plt.show()\n",
    "\n",
    "\n",
    "\n",
    "x_values = pd.Series(range(0,len(orders['revenue'])))\n",
    "plt.scatter(x_values, orders['revenue'])\n",
    "plt.title(\"точечный график количества заказов по пользователям\")\n",
    "plt.ylabel(\"стоимость заказа\")\n",
    "plt.show()"
   ]
  },
  {
   "cell_type": "markdown",
   "metadata": {},
   "source": [
    "Вывод:  \n",
    "минимальная стоимость заказа - 50  \n",
    "максимальная - 1 294 500 \n",
    "По графику видно, что есть немного дорогих заказов (1 294 500 и около 200 000).  \n",
    "Можно выбрать границу аномальных заказов между 70 000 и 80 000 рублей. Однако принято отсеивать от 1% до 5% наблюдений с крайними значениями."
   ]
  },
  {
   "cell_type": "markdown",
   "metadata": {},
   "source": [
    "#### Считаем 95-й и 99-й перцентили стоимости заказов. Выбераем границу для определения аномальных заказов"
   ]
  },
  {
   "cell_type": "code",
   "execution_count": 16,
   "metadata": {},
   "outputs": [
    {
     "data": {
      "text/plain": [
       "array([28000. , 58233.2])"
      ]
     },
     "metadata": {},
     "output_type": "display_data"
    }
   ],
   "source": [
    "display(np.percentile(orders['revenue'], [95, 99]))"
   ]
  },
  {
   "cell_type": "markdown",
   "metadata": {},
   "source": [
    "Вывод: \n",
    "Не более 5% заказов дороже 28000 и не более 1% дороже 58233.2.\n",
    "Выбираем границу - сумма заказа свыше 30000."
   ]
  },
  {
   "cell_type": "markdown",
   "metadata": {},
   "source": [
    "#### Считаем статистическую значимость различий в конверсии между группами по «сырым» данным. Делаем выводы и предположения"
   ]
  },
  {
   "cell_type": "markdown",
   "metadata": {},
   "source": [
    "Нулевая гипотеза: статистические значимые различия отсутствуют    \n",
    "Обратная гипотеза: статистические значимые различия есть  "
   ]
  },
  {
   "cell_type": "code",
   "execution_count": 17,
   "metadata": {},
   "outputs": [
    {
     "data": {
      "text/html": [
       "<div>\n",
       "<style scoped>\n",
       "    .dataframe tbody tr th:only-of-type {\n",
       "        vertical-align: middle;\n",
       "    }\n",
       "\n",
       "    .dataframe tbody tr th {\n",
       "        vertical-align: top;\n",
       "    }\n",
       "\n",
       "    .dataframe thead th {\n",
       "        text-align: right;\n",
       "    }\n",
       "</style>\n",
       "<table border=\"1\" class=\"dataframe\">\n",
       "  <thead>\n",
       "    <tr style=\"text-align: right;\">\n",
       "      <th></th>\n",
       "      <th>date</th>\n",
       "      <th>ordersPerDateA</th>\n",
       "      <th>revenuePerDateA</th>\n",
       "      <th>ordersPerDateB</th>\n",
       "      <th>revenuePerDateB</th>\n",
       "      <th>ordersCummulativeA</th>\n",
       "      <th>revenueCummulativeA</th>\n",
       "      <th>ordersCummulativeB</th>\n",
       "      <th>revenueCummulativeB</th>\n",
       "      <th>visitorsPerDateA</th>\n",
       "      <th>visitorsPerDateB</th>\n",
       "      <th>visitorsCummulativeA</th>\n",
       "      <th>visitorsCummulativeB</th>\n",
       "    </tr>\n",
       "  </thead>\n",
       "  <tbody>\n",
       "    <tr>\n",
       "      <td>0</td>\n",
       "      <td>2019-08-01</td>\n",
       "      <td>24</td>\n",
       "      <td>148579</td>\n",
       "      <td>21</td>\n",
       "      <td>101217</td>\n",
       "      <td>24</td>\n",
       "      <td>148579</td>\n",
       "      <td>21</td>\n",
       "      <td>101217</td>\n",
       "      <td>719</td>\n",
       "      <td>713</td>\n",
       "      <td>719</td>\n",
       "      <td>713</td>\n",
       "    </tr>\n",
       "    <tr>\n",
       "      <td>1</td>\n",
       "      <td>2019-08-02</td>\n",
       "      <td>20</td>\n",
       "      <td>93822</td>\n",
       "      <td>24</td>\n",
       "      <td>165531</td>\n",
       "      <td>44</td>\n",
       "      <td>242401</td>\n",
       "      <td>45</td>\n",
       "      <td>266748</td>\n",
       "      <td>619</td>\n",
       "      <td>581</td>\n",
       "      <td>1338</td>\n",
       "      <td>1294</td>\n",
       "    </tr>\n",
       "    <tr>\n",
       "      <td>2</td>\n",
       "      <td>2019-08-03</td>\n",
       "      <td>24</td>\n",
       "      <td>112473</td>\n",
       "      <td>16</td>\n",
       "      <td>114248</td>\n",
       "      <td>68</td>\n",
       "      <td>354874</td>\n",
       "      <td>61</td>\n",
       "      <td>380996</td>\n",
       "      <td>507</td>\n",
       "      <td>509</td>\n",
       "      <td>1845</td>\n",
       "      <td>1803</td>\n",
       "    </tr>\n",
       "    <tr>\n",
       "      <td>3</td>\n",
       "      <td>2019-08-04</td>\n",
       "      <td>16</td>\n",
       "      <td>70825</td>\n",
       "      <td>17</td>\n",
       "      <td>108571</td>\n",
       "      <td>84</td>\n",
       "      <td>425699</td>\n",
       "      <td>78</td>\n",
       "      <td>489567</td>\n",
       "      <td>717</td>\n",
       "      <td>770</td>\n",
       "      <td>2562</td>\n",
       "      <td>2573</td>\n",
       "    </tr>\n",
       "    <tr>\n",
       "      <td>4</td>\n",
       "      <td>2019-08-05</td>\n",
       "      <td>25</td>\n",
       "      <td>124218</td>\n",
       "      <td>23</td>\n",
       "      <td>92428</td>\n",
       "      <td>109</td>\n",
       "      <td>549917</td>\n",
       "      <td>101</td>\n",
       "      <td>581995</td>\n",
       "      <td>756</td>\n",
       "      <td>707</td>\n",
       "      <td>3318</td>\n",
       "      <td>3280</td>\n",
       "    </tr>\n",
       "  </tbody>\n",
       "</table>\n",
       "</div>"
      ],
      "text/plain": [
       "        date  ordersPerDateA  revenuePerDateA  ordersPerDateB  \\\n",
       "0 2019-08-01              24           148579              21   \n",
       "1 2019-08-02              20            93822              24   \n",
       "2 2019-08-03              24           112473              16   \n",
       "3 2019-08-04              16            70825              17   \n",
       "4 2019-08-05              25           124218              23   \n",
       "\n",
       "   revenuePerDateB  ordersCummulativeA  revenueCummulativeA  \\\n",
       "0           101217                  24               148579   \n",
       "1           165531                  44               242401   \n",
       "2           114248                  68               354874   \n",
       "3           108571                  84               425699   \n",
       "4            92428                 109               549917   \n",
       "\n",
       "   ordersCummulativeB  revenueCummulativeB  visitorsPerDateA  \\\n",
       "0                  21               101217               719   \n",
       "1                  45               266748               619   \n",
       "2                  61               380996               507   \n",
       "3                  78               489567               717   \n",
       "4                 101               581995               756   \n",
       "\n",
       "   visitorsPerDateB  visitorsCummulativeA  visitorsCummulativeB  \n",
       "0               713                   719                   713  \n",
       "1               581                  1338                  1294  \n",
       "2               509                  1845                  1803  \n",
       "3               770                  2562                  2573  \n",
       "4               707                  3318                  3280  "
      ]
     },
     "metadata": {},
     "output_type": "display_data"
    },
    {
     "name": "stdout",
     "output_type": "stream",
     "text": [
      "0.017\n",
      "0.138\n"
     ]
    }
   ],
   "source": [
    "visitorsADaily = visitors[visitors['group'] == 'A'][['date', 'visitors']]\n",
    "visitorsADaily.columns = ['date', 'visitorsPerDateA']\n",
    "\n",
    "visitorsACummulative = visitorsADaily.apply(\n",
    "    lambda x: visitorsADaily[visitorsADaily['date'] <= x['date']].agg(\n",
    "        {'date': 'max', 'visitorsPerDateA': 'sum'}\n",
    "    ),\n",
    "    axis=1,\n",
    ")\n",
    "visitorsACummulative.columns = ['date', 'visitorsCummulativeA']\n",
    "\n",
    "visitorsBDaily = visitors[visitors['group'] == 'B'][['date', 'visitors']]\n",
    "visitorsBDaily.columns = ['date', 'visitorsPerDateB']\n",
    "\n",
    "visitorsBCummulative = visitorsBDaily.apply(\n",
    "    lambda x: visitorsBDaily[visitorsBDaily['date'] <= x['date']].agg(\n",
    "        {'date': 'max', 'visitorsPerDateB': 'sum'}\n",
    "    ),\n",
    "    axis=1,\n",
    ")\n",
    "visitorsBCummulative.columns = ['date', 'visitorsCummulativeB']\n",
    "\n",
    "ordersADaily = (\n",
    "    orders[orders['group'] == 'A'][['date', 'orderId', 'userId', 'revenue']]\n",
    "    .groupby('date', as_index=False)\n",
    "    .agg({'orderId': pd.Series.nunique, 'revenue': 'sum'})\n",
    ")\n",
    "ordersADaily.columns = ['date', 'ordersPerDateA', 'revenuePerDateA']\n",
    "\n",
    "ordersACummulative = ordersADaily.apply(\n",
    "    lambda x: ordersADaily[ordersADaily['date'] <= x['date']].agg(\n",
    "        {'date': 'max', 'ordersPerDateA': 'sum', 'revenuePerDateA': 'sum'}\n",
    "    ),\n",
    "    axis=1,\n",
    ").sort_values(by=['date'])\n",
    "ordersACummulative.columns = [\n",
    "    'date',\n",
    "    'ordersCummulativeA',\n",
    "    'revenueCummulativeA',\n",
    "]\n",
    "\n",
    "ordersBDaily = (\n",
    "    orders[orders['group'] == 'B'][['date', 'orderId', 'userId', 'revenue']]\n",
    "    .groupby('date', as_index=False)\n",
    "    .agg({'orderId': pd.Series.nunique, 'revenue': 'sum'})\n",
    ")\n",
    "ordersBDaily.columns = ['date', 'ordersPerDateB', 'revenuePerDateB']\n",
    "\n",
    "ordersBCummulative = ordersBDaily.apply(\n",
    "    lambda x: ordersBDaily[ordersBDaily['date'] <= x['date']].agg(\n",
    "        {'date': 'max', 'ordersPerDateB': 'sum', 'revenuePerDateB': 'sum'}\n",
    "    ),\n",
    "    axis=1,\n",
    ").sort_values(by=['date'])\n",
    "ordersBCummulative.columns = [\n",
    "    'date',\n",
    "    'ordersCummulativeB',\n",
    "    'revenueCummulativeB',\n",
    "]\n",
    "\n",
    "data = (\n",
    "    ordersADaily.merge(\n",
    "        ordersBDaily, left_on='date', right_on='date', how='left'\n",
    "    )\n",
    "    .merge(ordersACummulative, left_on='date', right_on='date', how='left')\n",
    "    .merge(ordersBCummulative, left_on='date', right_on='date', how='left')\n",
    "    .merge(visitorsADaily, left_on='date', right_on='date', how='left')\n",
    "    .merge(visitorsBDaily, left_on='date', right_on='date', how='left')\n",
    "    .merge(visitorsACummulative, left_on='date', right_on='date', how='left')\n",
    "    .merge(visitorsBCummulative, left_on='date', right_on='date', how='left')\n",
    ")\n",
    "\n",
    "display(data.head(5))\n",
    "\n",
    "ordersByUsersA = (\n",
    "    orders[orders['group'] == 'A']\n",
    "    .groupby('userId', as_index=False)\n",
    "    .agg({'orderId': pd.Series.nunique})\n",
    ")\n",
    "ordersByUsersA.columns = ['userId', 'orders']\n",
    "\n",
    "ordersByUsersB = (\n",
    "    orders[orders['group'] == 'B']\n",
    "    .groupby('userId', as_index=False)\n",
    "    .agg({'orderId': pd.Series.nunique})\n",
    ")\n",
    "ordersByUsersB.columns = ['userId', 'orders']\n",
    "\n",
    "sampleA = pd.concat(\n",
    "    [\n",
    "        ordersByUsersA['orders'],\n",
    "        pd.Series(\n",
    "            0,\n",
    "            index=np.arange(\n",
    "                data['visitorsPerDateA'].sum() - len(ordersByUsersA['orders'])\n",
    "            ),\n",
    "            name='orders',\n",
    "        ),\n",
    "    ],\n",
    "    axis=0,\n",
    ")\n",
    "\n",
    "sampleB = pd.concat(\n",
    "    [\n",
    "        ordersByUsersB['orders'],\n",
    "        pd.Series(\n",
    "            0,\n",
    "            index=np.arange(\n",
    "                data['visitorsPerDateB'].sum() - len(ordersByUsersB['orders'])\n",
    "            ),\n",
    "            name='orders',\n",
    "        ),\n",
    "    ],\n",
    "    axis=0,\n",
    ")\n",
    "\n",
    "print(\"{0:.3f}\".format(stats.mannwhitneyu(sampleA, sampleB, alternative = 'two-sided')[1]))\n",
    "\n",
    "print(\"{0:.3f}\".format(sampleB.mean() / sampleA.mean() - 1))\n"
   ]
  },
  {
   "cell_type": "markdown",
   "metadata": {},
   "source": [
    "Вывод:  \n",
    "P-value меньше 0.05, поэтому нулевую гипотезу отвергаем (есть различия).  \n",
    "Анализ \"сырых данных\" сообщает, что в конверсии между группами есть статистически значимые различия.\n",
    "Относительный прирост конверсии группы В к конверсии группы А равен 13.8%"
   ]
  },
  {
   "cell_type": "markdown",
   "metadata": {},
   "source": [
    "#### Считаем статистическую значимость различий в среднем чеке заказа по «сырым» данным. Делаем выводы и предположения"
   ]
  },
  {
   "cell_type": "code",
   "execution_count": 18,
   "metadata": {},
   "outputs": [
    {
     "name": "stdout",
     "output_type": "stream",
     "text": [
      "0.729\n",
      "0.259\n"
     ]
    }
   ],
   "source": [
    "print('{0:.3f}'.format(stats.mannwhitneyu(orders[orders['group']=='A']['revenue'], orders[orders['group']=='B']['revenue'], alternative = 'two-sided')[1]))\n",
    "print('{0:.3f}'.format(orders[orders['group']=='B']['revenue'].mean()/orders[orders['group']=='A']['revenue'].mean()-1))"
   ]
  },
  {
   "cell_type": "markdown",
   "metadata": {},
   "source": [
    "Вывод:  \n",
    "P-value значительно больше 0.05. Значит, причин отвергать нулевую гипотезу и считать, что в среднем чеке есть различия, нет. Относительное различие среднего чека между сегментами 25.9%"
   ]
  },
  {
   "cell_type": "markdown",
   "metadata": {},
   "source": [
    "#### Считаем статистическую значимость различий в конверсии между группами по «очищенным» данным. Делаем выводы и предположения"
   ]
  },
  {
   "cell_type": "code",
   "execution_count": 19,
   "metadata": {},
   "outputs": [
    {
     "name": "stdout",
     "output_type": "stream",
     "text": [
      "1099    148427295\n",
      "928     204675465\n",
      "684     358944393\n",
      "648     382846391\n",
      "1189    393266494\n",
      "Name: userId, dtype: int64\n",
      "всего аномальных пользователей: (53,)\n",
      "0.019\n",
      "0.144\n"
     ]
    }
   ],
   "source": [
    "#Узнаем, сколько всего аномальных пользователей методом shape():\n",
    "usersWithManyOrders = pd.concat(\n",
    "    [\n",
    "        ordersByUsersA[ordersByUsersA['orders'] > 4]['userId'],\n",
    "        ordersByUsersB[ordersByUsersB['orders'] > 4]['userId'],\n",
    "    ],\n",
    "    axis=0,\n",
    ")\n",
    "usersWithExpensiveOrders = orders[orders['revenue'] > 30000]['userId']\n",
    "abnormalUsers = (\n",
    "    pd.concat([usersWithManyOrders, usersWithExpensiveOrders], axis=0)\n",
    "    .drop_duplicates()\n",
    "    .sort_values()\n",
    ")\n",
    "print(abnormalUsers.head(5))\n",
    "print('всего аномальных пользователей:', abnormalUsers.shape)\n",
    "\n",
    "sampleAFiltered = pd.concat(\n",
    "    [\n",
    "        ordersByUsersA[\n",
    "            np.logical_not(ordersByUsersA['userId'].isin(abnormalUsers))\n",
    "        ]['orders'],\n",
    "        pd.Series(\n",
    "            0,\n",
    "            index=np.arange(\n",
    "                data['visitorsPerDateA'].sum() - len(ordersByUsersA['orders'])\n",
    "            ),\n",
    "            name='orders',\n",
    "        ),\n",
    "    ],\n",
    "    axis=0,\n",
    ")\n",
    "\n",
    "sampleBFiltered = pd.concat(\n",
    "    [\n",
    "        ordersByUsersB[\n",
    "            np.logical_not(ordersByUsersB['userId'].isin(abnormalUsers))\n",
    "        ]['orders'],\n",
    "        pd.Series(\n",
    "            0,\n",
    "            index=np.arange(\n",
    "                data['visitorsPerDateB'].sum() - len(ordersByUsersB['orders'])\n",
    "            ),\n",
    "            name='orders',\n",
    "        ),\n",
    "    ],\n",
    "    axis=0,\n",
    ")\n",
    "\n",
    "\n",
    "print('{0:.3f}'.format(stats.mannwhitneyu(sampleAFiltered, sampleBFiltered, alternative = 'two-sided')[1]))\n",
    "print('{0:.3f}'.format(sampleBFiltered.mean()/sampleAFiltered.mean()-1))"
   ]
  },
  {
   "cell_type": "markdown",
   "metadata": {},
   "source": [
    "Вывод:  \n",
    "Результаты по конверсии практически не изменились.\n",
    "P-value меньше 0.05, поэтому нулевую гипотезу отвергаем (есть различия).  \n",
    "Анализ \"очищенных данных\" сообщает, что в конверсии между группами есть статистически значимые различия.\n",
    "Относительный прирост конверсии группы В к конверсии группы А увеличился до 14.4%\n"
   ]
  },
  {
   "cell_type": "markdown",
   "metadata": {},
   "source": [
    "#### Считаем статистическую значимость различий в среднем чеке заказа между группами по «очищенным» данным. Делаем выводы и предположения"
   ]
  },
  {
   "cell_type": "code",
   "execution_count": 20,
   "metadata": {},
   "outputs": [
    {
     "name": "stdout",
     "output_type": "stream",
     "text": [
      "0.979\n",
      "-0.017\n"
     ]
    }
   ],
   "source": [
    "print(\n",
    "    '{0:.3f}'.format(\n",
    "        stats.mannwhitneyu(\n",
    "            orders[\n",
    "                np.logical_and(\n",
    "                    orders['group'] == 'A',\n",
    "                    np.logical_not(orders['userId'].isin(abnormalUsers)),\n",
    "                )\n",
    "            ]['revenue'],\n",
    "            orders[\n",
    "                np.logical_and(\n",
    "                    orders['group'] == 'B',\n",
    "                    np.logical_not(orders['userId'].isin(abnormalUsers)),\n",
    "                )\n",
    "            ]['revenue'], alternative = 'two-sided')[1]\n",
    "    )\n",
    ")\n",
    "\n",
    "print(\n",
    "    \"{0:.3f}\".format(\n",
    "        orders[\n",
    "            np.logical_and(\n",
    "                orders['group'] == 'B',\n",
    "                np.logical_not(orders['userId'].isin(abnormalUsers)),\n",
    "            )\n",
    "        ]['revenue'].mean()\n",
    "        / orders[\n",
    "            np.logical_and(\n",
    "                orders['group'] == 'A',\n",
    "                np.logical_not(orders['userId'].isin(abnormalUsers)),\n",
    "            )\n",
    "        ]['revenue'].mean()\n",
    "        - 1\n",
    "    )\n",
    ")"
   ]
  },
  {
   "cell_type": "markdown",
   "metadata": {},
   "source": [
    "Вывод: \n",
    "после удаления выбросов P-value увеличился до 0.490, дисперсия снизилась с 25.9% почти до нуля\n",
    "\n"
   ]
  },
  {
   "cell_type": "markdown",
   "metadata": {},
   "source": [
    "#### решение по результатам теста:\n",
    "\n",
    "Есть статистически значимое различие по конверсии между группами как по сырым данным, так и после фильтрации аномалий  \n",
    "\n",
    "Как по сырым данным так и по очищенным нет статистически значимого различия по среднему чеку между группами.  \n",
    "\n",
    "График различия конверсии между группами сообщает, что результаты группы B лучше группы A: имеют тенденцию к росту, либо зафиксировались около среднего значения\n",
    "\n",
    "График различия среднего чека колеблется: он-то и позволил найти аномалии. Сделать из этого графика определённые выводы нельзя\n",
    "\n",
    "Вывод:  \n",
    "остановить тест и признать его успешным, победила группа В"
   ]
  },
  {
   "cell_type": "markdown",
   "metadata": {},
   "source": [
    "## Общий вывод:  \n",
    "\n",
    "Часть 1. Приоритизация гипотез:\n",
    "применив два фреймворка ICE и RICE для приоритизации гипотез, получили разные четверки.  \n",
    "В этих четверках есть только две повторяющиеся гипотезы,\n",
    "\n",
    "\"Добавить форму подписки на все основные страницы, чтобы собрать базу клиентов для email-рассылок\" и  \n",
    "\n",
    "\"Показать на главной странице баннеры с актуальными акциями и распродажами, чтобы увеличить конверсию\"\n",
    "\n",
    "RICE в дополнение к ICE учитывает еще и охват пользователей.  \n",
    "Поэтому на первое место выходит гипотеза\n",
    "\n",
    "\"Добавить форму подписки на все основные страницы, чтобы собрать базу клиентов для email-рассылок\"\n",
    "\n",
    "так как имеет больше охват пользователей (максимальное значение по шкале 10).  \n",
    "\n",
    "Часть 2. Анализ A/B-теста\n",
    "остановить тест и признать его успешным, победила группа В"
   ]
  }
 ],
 "metadata": {
  "ExecuteTimeLog": [
   {
    "duration": 1440,
    "start_time": "2021-06-25T11:43:24.931Z"
   },
   {
    "duration": 26,
    "start_time": "2021-06-25T11:44:09.188Z"
   },
   {
    "duration": 31,
    "start_time": "2021-06-25T11:44:56.924Z"
   },
   {
    "duration": 14,
    "start_time": "2021-06-25T11:51:05.966Z"
   },
   {
    "duration": 22,
    "start_time": "2021-06-25T12:07:39.130Z"
   },
   {
    "duration": 14,
    "start_time": "2021-06-25T12:08:24.039Z"
   },
   {
    "duration": 15,
    "start_time": "2021-06-25T12:11:00.479Z"
   },
   {
    "duration": 33,
    "start_time": "2021-06-25T12:17:54.988Z"
   },
   {
    "duration": 12,
    "start_time": "2021-06-25T12:17:55.024Z"
   },
   {
    "duration": 18,
    "start_time": "2021-06-25T12:17:55.039Z"
   },
   {
    "duration": 36,
    "start_time": "2021-06-25T12:17:55.059Z"
   },
   {
    "duration": 50,
    "start_time": "2021-06-25T12:20:56.120Z"
   },
   {
    "duration": 76,
    "start_time": "2021-06-25T12:39:52.384Z"
   },
   {
    "duration": 13,
    "start_time": "2021-06-25T12:48:22.768Z"
   },
   {
    "duration": 1397,
    "start_time": "2021-06-25T12:51:46.569Z"
   },
   {
    "duration": 30,
    "start_time": "2021-06-25T12:52:40.681Z"
   },
   {
    "duration": 13,
    "start_time": "2021-06-25T12:52:40.713Z"
   },
   {
    "duration": 13,
    "start_time": "2021-06-25T12:52:40.729Z"
   },
   {
    "duration": 41,
    "start_time": "2021-06-25T12:52:40.744Z"
   },
   {
    "duration": 75,
    "start_time": "2021-06-25T12:52:40.787Z"
   },
   {
    "duration": 1308,
    "start_time": "2021-06-25T12:52:40.864Z"
   },
   {
    "duration": 94,
    "start_time": "2021-06-25T12:53:43.719Z"
   },
   {
    "duration": 1537,
    "start_time": "2021-06-25T12:53:53.348Z"
   },
   {
    "duration": 31,
    "start_time": "2021-06-25T12:54:16.353Z"
   },
   {
    "duration": 18,
    "start_time": "2021-06-25T12:54:16.387Z"
   },
   {
    "duration": 25,
    "start_time": "2021-06-25T12:54:16.407Z"
   },
   {
    "duration": 25,
    "start_time": "2021-06-25T12:54:16.435Z"
   },
   {
    "duration": 79,
    "start_time": "2021-06-25T12:54:16.463Z"
   },
   {
    "duration": 47,
    "start_time": "2021-06-25T12:54:16.544Z"
   },
   {
    "duration": 1448,
    "start_time": "2021-06-25T12:54:27.406Z"
   },
   {
    "duration": 15,
    "start_time": "2021-06-25T12:54:28.857Z"
   },
   {
    "duration": 26,
    "start_time": "2021-06-25T12:54:28.875Z"
   },
   {
    "duration": 14,
    "start_time": "2021-06-25T12:54:28.904Z"
   },
   {
    "duration": 77,
    "start_time": "2021-06-25T12:54:28.921Z"
   },
   {
    "duration": 83,
    "start_time": "2021-06-25T12:54:29.000Z"
   },
   {
    "duration": 885,
    "start_time": "2021-06-25T13:01:40.898Z"
   },
   {
    "duration": 910,
    "start_time": "2021-06-25T13:06:57.385Z"
   },
   {
    "duration": 285,
    "start_time": "2021-06-25T13:11:20.601Z"
   },
   {
    "duration": 298,
    "start_time": "2021-06-25T13:12:39.947Z"
   },
   {
    "duration": 457,
    "start_time": "2021-06-25T13:22:45.290Z"
   },
   {
    "duration": 526,
    "start_time": "2021-06-25T13:23:38.055Z"
   },
   {
    "duration": 481,
    "start_time": "2021-06-25T13:30:37.919Z"
   },
   {
    "duration": 291,
    "start_time": "2021-06-25T13:31:23.299Z"
   },
   {
    "duration": 322,
    "start_time": "2021-06-25T13:31:33.748Z"
   },
   {
    "duration": 428,
    "start_time": "2021-06-25T13:31:51.770Z"
   },
   {
    "duration": 323,
    "start_time": "2021-06-25T13:33:04.392Z"
   },
   {
    "duration": 36,
    "start_time": "2021-06-25T13:36:47.136Z"
   },
   {
    "duration": 15,
    "start_time": "2021-06-25T13:36:47.176Z"
   },
   {
    "duration": 17,
    "start_time": "2021-06-25T13:36:47.195Z"
   },
   {
    "duration": 18,
    "start_time": "2021-06-25T13:36:47.216Z"
   },
   {
    "duration": 90,
    "start_time": "2021-06-25T13:36:47.237Z"
   },
   {
    "duration": 70,
    "start_time": "2021-06-25T13:36:47.330Z"
   },
   {
    "duration": 906,
    "start_time": "2021-06-25T13:36:47.403Z"
   },
   {
    "duration": 330,
    "start_time": "2021-06-25T13:36:48.313Z"
   },
   {
    "duration": 453,
    "start_time": "2021-06-25T13:36:48.646Z"
   },
   {
    "duration": 359,
    "start_time": "2021-06-25T13:36:49.101Z"
   },
   {
    "duration": 423,
    "start_time": "2021-06-25T13:40:48.792Z"
   },
   {
    "duration": 788,
    "start_time": "2021-06-25T13:41:40.838Z"
   },
   {
    "duration": 398,
    "start_time": "2021-06-25T13:41:58.519Z"
   },
   {
    "duration": 323,
    "start_time": "2021-06-25T13:42:09.454Z"
   },
   {
    "duration": 269,
    "start_time": "2021-06-25T13:56:16.304Z"
   },
   {
    "duration": 268,
    "start_time": "2021-06-25T13:57:04.351Z"
   },
   {
    "duration": 273,
    "start_time": "2021-06-25T13:59:10.143Z"
   },
   {
    "duration": 288,
    "start_time": "2021-06-25T14:01:24.223Z"
   },
   {
    "duration": 293,
    "start_time": "2021-06-25T14:01:32.783Z"
   },
   {
    "duration": 273,
    "start_time": "2021-06-25T14:01:39.703Z"
   },
   {
    "duration": 282,
    "start_time": "2021-06-25T14:02:00.823Z"
   },
   {
    "duration": 278,
    "start_time": "2021-06-25T14:02:12.236Z"
   },
   {
    "duration": 278,
    "start_time": "2021-06-25T14:02:23.867Z"
   },
   {
    "duration": 265,
    "start_time": "2021-06-25T14:02:33.524Z"
   },
   {
    "duration": 274,
    "start_time": "2021-06-25T14:02:56.995Z"
   },
   {
    "duration": 380,
    "start_time": "2021-06-25T14:03:09.377Z"
   },
   {
    "duration": 309,
    "start_time": "2021-06-25T14:03:18.861Z"
   },
   {
    "duration": 269,
    "start_time": "2021-06-25T14:03:27.036Z"
   },
   {
    "duration": 303,
    "start_time": "2021-06-25T14:03:48.067Z"
   },
   {
    "duration": 283,
    "start_time": "2021-06-25T14:04:07.444Z"
   },
   {
    "duration": 278,
    "start_time": "2021-06-25T14:04:19.432Z"
   },
   {
    "duration": 321,
    "start_time": "2021-06-25T14:04:24.384Z"
   },
   {
    "duration": 530,
    "start_time": "2021-06-25T14:06:04.699Z"
   },
   {
    "duration": 298,
    "start_time": "2021-06-25T14:06:15.012Z"
   },
   {
    "duration": 301,
    "start_time": "2021-06-25T14:07:23.123Z"
   },
   {
    "duration": 638,
    "start_time": "2021-06-25T14:09:12.834Z"
   },
   {
    "duration": 674,
    "start_time": "2021-06-25T14:11:28.016Z"
   },
   {
    "duration": 795,
    "start_time": "2021-06-25T14:12:13.528Z"
   },
   {
    "duration": 678,
    "start_time": "2021-06-25T14:12:34.106Z"
   },
   {
    "duration": 38,
    "start_time": "2021-06-25T14:13:34.060Z"
   },
   {
    "duration": 13,
    "start_time": "2021-06-25T14:13:34.100Z"
   },
   {
    "duration": 15,
    "start_time": "2021-06-25T14:13:34.117Z"
   },
   {
    "duration": 53,
    "start_time": "2021-06-25T14:13:34.135Z"
   },
   {
    "duration": 75,
    "start_time": "2021-06-25T14:13:34.191Z"
   },
   {
    "duration": 54,
    "start_time": "2021-06-25T14:13:34.268Z"
   },
   {
    "duration": 903,
    "start_time": "2021-06-25T14:13:34.324Z"
   },
   {
    "duration": 319,
    "start_time": "2021-06-25T14:13:35.230Z"
   },
   {
    "duration": 431,
    "start_time": "2021-06-25T14:13:35.552Z"
   },
   {
    "duration": 382,
    "start_time": "2021-06-25T14:13:35.986Z"
   },
   {
    "duration": 421,
    "start_time": "2021-06-25T14:13:36.371Z"
   },
   {
    "duration": 683,
    "start_time": "2021-06-25T14:13:36.795Z"
   },
   {
    "duration": 272,
    "start_time": "2021-06-25T14:26:54.636Z"
   },
   {
    "duration": 7,
    "start_time": "2021-06-25T14:27:09.962Z"
   },
   {
    "duration": 4,
    "start_time": "2021-06-25T14:32:41.503Z"
   },
   {
    "duration": 198,
    "start_time": "2021-06-25T14:33:41.006Z"
   },
   {
    "duration": 544,
    "start_time": "2021-06-25T14:35:26.674Z"
   },
   {
    "duration": 465,
    "start_time": "2021-06-25T14:36:30.822Z"
   },
   {
    "duration": 688,
    "start_time": "2021-06-25T14:38:47.610Z"
   },
   {
    "duration": 808,
    "start_time": "2021-06-25T14:39:20.904Z"
   },
   {
    "duration": 815,
    "start_time": "2021-06-25T14:40:37.070Z"
   },
   {
    "duration": 6,
    "start_time": "2021-06-25T14:42:20.550Z"
   },
   {
    "duration": 1577,
    "start_time": "2021-06-25T14:50:44.255Z"
   },
   {
    "duration": 13,
    "start_time": "2021-06-25T14:50:45.835Z"
   },
   {
    "duration": 32,
    "start_time": "2021-06-25T14:50:45.851Z"
   },
   {
    "duration": 15,
    "start_time": "2021-06-25T14:50:45.885Z"
   },
   {
    "duration": 84,
    "start_time": "2021-06-25T14:50:45.903Z"
   },
   {
    "duration": 48,
    "start_time": "2021-06-25T14:50:45.989Z"
   },
   {
    "duration": 932,
    "start_time": "2021-06-25T14:50:46.040Z"
   },
   {
    "duration": 345,
    "start_time": "2021-06-25T14:50:46.984Z"
   },
   {
    "duration": 496,
    "start_time": "2021-06-25T14:50:47.332Z"
   },
   {
    "duration": 441,
    "start_time": "2021-06-25T14:50:47.831Z"
   },
   {
    "duration": 450,
    "start_time": "2021-06-25T14:50:48.275Z"
   },
   {
    "duration": 949,
    "start_time": "2021-06-25T14:50:48.727Z"
   },
   {
    "duration": 8,
    "start_time": "2021-06-25T14:50:49.679Z"
   },
   {
    "duration": 4,
    "start_time": "2021-06-25T14:51:46.489Z"
   },
   {
    "duration": 782,
    "start_time": "2021-06-25T14:53:43.625Z"
   },
   {
    "duration": 669,
    "start_time": "2021-06-25T14:55:23.614Z"
   },
   {
    "duration": 707,
    "start_time": "2021-06-25T14:56:02.489Z"
   },
   {
    "duration": 7,
    "start_time": "2021-06-25T15:02:52.917Z"
   },
   {
    "duration": 32,
    "start_time": "2021-06-25T15:13:32.087Z"
   },
   {
    "duration": 12,
    "start_time": "2021-06-25T15:13:32.122Z"
   },
   {
    "duration": 17,
    "start_time": "2021-06-25T15:13:32.137Z"
   },
   {
    "duration": 40,
    "start_time": "2021-06-25T15:13:32.156Z"
   },
   {
    "duration": 80,
    "start_time": "2021-06-25T15:13:32.198Z"
   },
   {
    "duration": 45,
    "start_time": "2021-06-25T15:13:32.281Z"
   },
   {
    "duration": 849,
    "start_time": "2021-06-25T15:13:32.328Z"
   },
   {
    "duration": 323,
    "start_time": "2021-06-25T15:13:33.180Z"
   },
   {
    "duration": 412,
    "start_time": "2021-06-25T15:13:33.506Z"
   },
   {
    "duration": 335,
    "start_time": "2021-06-25T15:13:33.920Z"
   },
   {
    "duration": 552,
    "start_time": "2021-06-25T15:13:34.258Z"
   },
   {
    "duration": 863,
    "start_time": "2021-06-25T15:13:34.812Z"
   },
   {
    "duration": 12,
    "start_time": "2021-06-25T15:13:35.677Z"
   },
   {
    "duration": 687,
    "start_time": "2021-06-25T15:13:35.692Z"
   },
   {
    "duration": 7,
    "start_time": "2021-06-25T15:13:36.382Z"
   },
   {
    "duration": 445,
    "start_time": "2021-06-25T15:13:36.392Z"
   },
   {
    "duration": 1051,
    "start_time": "2021-06-25T15:16:20.639Z"
   },
   {
    "duration": 32,
    "start_time": "2021-06-25T15:16:31.796Z"
   },
   {
    "duration": 16,
    "start_time": "2021-06-25T15:16:31.831Z"
   },
   {
    "duration": 19,
    "start_time": "2021-06-25T15:16:31.850Z"
   },
   {
    "duration": 16,
    "start_time": "2021-06-25T15:16:31.883Z"
   },
   {
    "duration": 86,
    "start_time": "2021-06-25T15:16:31.901Z"
   },
   {
    "duration": 48,
    "start_time": "2021-06-25T15:16:31.990Z"
   },
   {
    "duration": 1405,
    "start_time": "2021-06-25T15:16:32.041Z"
   },
   {
    "duration": 302,
    "start_time": "2021-06-25T15:16:33.450Z"
   },
   {
    "duration": 455,
    "start_time": "2021-06-25T15:16:33.755Z"
   },
   {
    "duration": 351,
    "start_time": "2021-06-25T15:16:34.213Z"
   },
   {
    "duration": 464,
    "start_time": "2021-06-25T15:16:34.566Z"
   },
   {
    "duration": 951,
    "start_time": "2021-06-25T15:16:35.032Z"
   },
   {
    "duration": 6,
    "start_time": "2021-06-25T15:16:35.985Z"
   },
   {
    "duration": 720,
    "start_time": "2021-06-25T15:16:35.993Z"
   },
   {
    "duration": 6,
    "start_time": "2021-06-25T15:16:36.716Z"
   },
   {
    "duration": 949,
    "start_time": "2021-06-25T15:16:36.724Z"
   },
   {
    "duration": 1446,
    "start_time": "2021-06-25T15:17:30.638Z"
   },
   {
    "duration": 13,
    "start_time": "2021-06-25T15:17:32.086Z"
   },
   {
    "duration": 26,
    "start_time": "2021-06-25T15:17:32.101Z"
   },
   {
    "duration": 19,
    "start_time": "2021-06-25T15:17:32.129Z"
   },
   {
    "duration": 82,
    "start_time": "2021-06-25T15:17:32.151Z"
   },
   {
    "duration": 48,
    "start_time": "2021-06-25T15:17:32.236Z"
   },
   {
    "duration": 865,
    "start_time": "2021-06-25T15:17:32.287Z"
   },
   {
    "duration": 319,
    "start_time": "2021-06-25T15:17:33.155Z"
   },
   {
    "duration": 429,
    "start_time": "2021-06-25T15:17:33.477Z"
   },
   {
    "duration": 342,
    "start_time": "2021-06-25T15:17:33.908Z"
   },
   {
    "duration": 450,
    "start_time": "2021-06-25T15:17:34.253Z"
   },
   {
    "duration": 1016,
    "start_time": "2021-06-25T15:17:34.707Z"
   },
   {
    "duration": 7,
    "start_time": "2021-06-25T15:17:35.725Z"
   },
   {
    "duration": 731,
    "start_time": "2021-06-25T15:17:35.734Z"
   },
   {
    "duration": 7,
    "start_time": "2021-06-25T15:17:36.467Z"
   },
   {
    "duration": 653,
    "start_time": "2021-06-25T15:17:36.484Z"
   },
   {
    "duration": 318,
    "start_time": "2021-06-25T15:19:24.680Z"
   },
   {
    "duration": 297,
    "start_time": "2021-06-25T15:21:18.737Z"
   },
   {
    "duration": 400,
    "start_time": "2021-06-25T15:21:27.825Z"
   },
   {
    "duration": 438,
    "start_time": "2021-06-25T15:24:47.219Z"
   },
   {
    "duration": 434,
    "start_time": "2021-06-25T15:25:04.986Z"
   },
   {
    "duration": 442,
    "start_time": "2021-06-25T15:25:12.279Z"
   },
   {
    "duration": 455,
    "start_time": "2021-06-25T15:25:33.632Z"
   },
   {
    "duration": 441,
    "start_time": "2021-06-25T15:25:56.292Z"
   },
   {
    "duration": 502,
    "start_time": "2021-06-25T15:26:04.024Z"
   },
   {
    "duration": 392,
    "start_time": "2021-06-25T15:26:57.003Z"
   },
   {
    "duration": 671,
    "start_time": "2021-06-25T15:33:13.123Z"
   },
   {
    "duration": 659,
    "start_time": "2021-06-25T15:33:28.471Z"
   },
   {
    "duration": 15,
    "start_time": "2021-06-25T15:35:58.109Z"
   },
   {
    "duration": 1425,
    "start_time": "2021-06-25T15:40:40.208Z"
   },
   {
    "duration": 12,
    "start_time": "2021-06-25T15:40:41.636Z"
   },
   {
    "duration": 22,
    "start_time": "2021-06-25T15:40:41.651Z"
   },
   {
    "duration": 15,
    "start_time": "2021-06-25T15:40:41.683Z"
   },
   {
    "duration": 74,
    "start_time": "2021-06-25T15:40:41.700Z"
   },
   {
    "duration": 47,
    "start_time": "2021-06-25T15:40:41.777Z"
   },
   {
    "duration": 880,
    "start_time": "2021-06-25T15:40:41.826Z"
   },
   {
    "duration": 321,
    "start_time": "2021-06-25T15:40:42.708Z"
   },
   {
    "duration": 472,
    "start_time": "2021-06-25T15:40:43.033Z"
   },
   {
    "duration": 347,
    "start_time": "2021-06-25T15:40:43.508Z"
   },
   {
    "duration": 428,
    "start_time": "2021-06-25T15:40:43.857Z"
   },
   {
    "duration": 883,
    "start_time": "2021-06-25T15:40:44.288Z"
   },
   {
    "duration": 12,
    "start_time": "2021-06-25T15:40:45.174Z"
   },
   {
    "duration": 698,
    "start_time": "2021-06-25T15:40:45.188Z"
   },
   {
    "duration": 6,
    "start_time": "2021-06-25T15:40:45.888Z"
   },
   {
    "duration": 660,
    "start_time": "2021-06-25T15:40:45.897Z"
   },
   {
    "duration": 26,
    "start_time": "2021-06-25T15:40:46.559Z"
   },
   {
    "duration": 490,
    "start_time": "2021-06-26T10:33:13.544Z"
   },
   {
    "duration": 1727,
    "start_time": "2021-06-26T10:33:21.129Z"
   },
   {
    "duration": 14,
    "start_time": "2021-06-26T10:33:22.860Z"
   },
   {
    "duration": 33,
    "start_time": "2021-06-26T10:33:22.883Z"
   },
   {
    "duration": 16,
    "start_time": "2021-06-26T10:33:22.920Z"
   },
   {
    "duration": 109,
    "start_time": "2021-06-26T10:33:22.938Z"
   },
   {
    "duration": 51,
    "start_time": "2021-06-26T10:33:23.049Z"
   },
   {
    "duration": 1439,
    "start_time": "2021-06-26T10:33:23.104Z"
   },
   {
    "duration": 486,
    "start_time": "2021-06-26T10:33:24.548Z"
   },
   {
    "duration": 606,
    "start_time": "2021-06-26T10:33:25.037Z"
   },
   {
    "duration": 494,
    "start_time": "2021-06-26T10:33:25.646Z"
   },
   {
    "duration": 598,
    "start_time": "2021-06-26T10:33:26.143Z"
   },
   {
    "duration": 1344,
    "start_time": "2021-06-26T10:33:26.744Z"
   },
   {
    "duration": 9,
    "start_time": "2021-06-26T10:33:28.091Z"
   },
   {
    "duration": 798,
    "start_time": "2021-06-26T10:33:28.105Z"
   },
   {
    "duration": 7,
    "start_time": "2021-06-26T10:33:28.906Z"
   },
   {
    "duration": 757,
    "start_time": "2021-06-26T10:33:28.917Z"
   },
   {
    "duration": 23,
    "start_time": "2021-06-26T10:33:29.677Z"
   },
   {
    "duration": 19,
    "start_time": "2021-06-26T10:33:29.705Z"
   },
   {
    "duration": 108,
    "start_time": "2021-06-26T10:34:43.614Z"
   },
   {
    "duration": 17,
    "start_time": "2021-06-26T10:34:51.230Z"
   },
   {
    "duration": 260,
    "start_time": "2021-06-26T10:35:11.959Z"
   },
   {
    "duration": 29,
    "start_time": "2021-06-26T10:35:17.775Z"
   },
   {
    "duration": 19,
    "start_time": "2021-06-26T10:36:01.828Z"
   },
   {
    "duration": 41,
    "start_time": "2021-06-26T10:36:54.291Z"
   },
   {
    "duration": 30,
    "start_time": "2021-06-26T10:40:36.878Z"
   },
   {
    "duration": 36,
    "start_time": "2021-06-26T11:56:50.962Z"
   },
   {
    "duration": 14,
    "start_time": "2021-06-26T11:56:51.001Z"
   },
   {
    "duration": 17,
    "start_time": "2021-06-26T11:56:51.018Z"
   },
   {
    "duration": 60,
    "start_time": "2021-06-26T11:56:51.039Z"
   },
   {
    "duration": 116,
    "start_time": "2021-06-26T11:56:51.102Z"
   },
   {
    "duration": 51,
    "start_time": "2021-06-26T11:56:51.221Z"
   },
   {
    "duration": 918,
    "start_time": "2021-06-26T11:56:51.288Z"
   },
   {
    "duration": 334,
    "start_time": "2021-06-26T11:56:52.209Z"
   },
   {
    "duration": 456,
    "start_time": "2021-06-26T11:56:52.547Z"
   },
   {
    "duration": 349,
    "start_time": "2021-06-26T11:56:53.006Z"
   },
   {
    "duration": 449,
    "start_time": "2021-06-26T11:56:53.358Z"
   },
   {
    "duration": 864,
    "start_time": "2021-06-26T11:56:53.810Z"
   },
   {
    "duration": 11,
    "start_time": "2021-06-26T11:56:54.677Z"
   },
   {
    "duration": 862,
    "start_time": "2021-06-26T11:56:54.691Z"
   },
   {
    "duration": 7,
    "start_time": "2021-06-26T11:56:55.556Z"
   },
   {
    "duration": 695,
    "start_time": "2021-06-26T11:56:55.566Z"
   },
   {
    "duration": 29,
    "start_time": "2021-06-26T11:56:56.264Z"
   },
   {
    "duration": 30,
    "start_time": "2021-06-26T11:56:56.296Z"
   },
   {
    "duration": 26,
    "start_time": "2021-06-26T11:56:56.329Z"
   },
   {
    "duration": 1516,
    "start_time": "2021-06-26T12:22:20.074Z"
   },
   {
    "duration": 15,
    "start_time": "2021-06-26T12:22:21.593Z"
   },
   {
    "duration": 19,
    "start_time": "2021-06-26T12:22:21.611Z"
   },
   {
    "duration": 15,
    "start_time": "2021-06-26T12:22:21.633Z"
   },
   {
    "duration": 94,
    "start_time": "2021-06-26T12:22:21.685Z"
   },
   {
    "duration": 54,
    "start_time": "2021-06-26T12:22:21.782Z"
   },
   {
    "duration": 983,
    "start_time": "2021-06-26T12:22:21.838Z"
   },
   {
    "duration": 351,
    "start_time": "2021-06-26T12:22:22.825Z"
   },
   {
    "duration": 451,
    "start_time": "2021-06-26T12:22:23.186Z"
   },
   {
    "duration": 361,
    "start_time": "2021-06-26T12:22:23.639Z"
   },
   {
    "duration": 436,
    "start_time": "2021-06-26T12:22:24.002Z"
   },
   {
    "duration": 949,
    "start_time": "2021-06-26T12:22:24.441Z"
   },
   {
    "duration": 10,
    "start_time": "2021-06-26T12:22:25.392Z"
   },
   {
    "duration": 752,
    "start_time": "2021-06-26T12:22:25.406Z"
   },
   {
    "duration": 6,
    "start_time": "2021-06-26T12:22:26.161Z"
   },
   {
    "duration": 676,
    "start_time": "2021-06-26T12:22:26.170Z"
   },
   {
    "duration": 13,
    "start_time": "2021-06-26T12:22:26.849Z"
   },
   {
    "duration": 55,
    "start_time": "2021-06-26T12:22:26.865Z"
   },
   {
    "duration": 31,
    "start_time": "2021-06-26T12:22:26.923Z"
   },
   {
    "duration": 65,
    "start_time": "2021-06-26T19:39:53.311Z"
   },
   {
    "duration": 399,
    "start_time": "2021-06-27T07:06:54.632Z"
   },
   {
    "duration": 1524,
    "start_time": "2021-06-27T07:07:00.142Z"
   },
   {
    "duration": 15,
    "start_time": "2021-06-27T07:07:01.669Z"
   },
   {
    "duration": 34,
    "start_time": "2021-06-27T07:07:01.687Z"
   },
   {
    "duration": 27,
    "start_time": "2021-06-27T07:07:01.725Z"
   },
   {
    "duration": 102,
    "start_time": "2021-06-27T07:07:01.755Z"
   },
   {
    "duration": 51,
    "start_time": "2021-06-27T07:07:01.859Z"
   },
   {
    "duration": 968,
    "start_time": "2021-06-27T07:07:01.912Z"
   },
   {
    "duration": 332,
    "start_time": "2021-06-27T07:07:02.889Z"
   },
   {
    "duration": 433,
    "start_time": "2021-06-27T07:07:03.225Z"
   },
   {
    "duration": 472,
    "start_time": "2021-06-27T07:07:03.661Z"
   },
   {
    "duration": 487,
    "start_time": "2021-06-27T07:07:04.136Z"
   },
   {
    "duration": 1007,
    "start_time": "2021-06-27T07:07:04.625Z"
   },
   {
    "duration": 7,
    "start_time": "2021-06-27T07:07:05.635Z"
   },
   {
    "duration": 754,
    "start_time": "2021-06-27T07:07:05.645Z"
   },
   {
    "duration": 6,
    "start_time": "2021-06-27T07:07:06.401Z"
   },
   {
    "duration": 707,
    "start_time": "2021-06-27T07:07:06.410Z"
   },
   {
    "duration": 14,
    "start_time": "2021-06-27T07:07:07.120Z"
   },
   {
    "duration": 52,
    "start_time": "2021-06-27T07:07:07.136Z"
   },
   {
    "duration": 20,
    "start_time": "2021-06-27T07:07:07.191Z"
   },
   {
    "duration": 116,
    "start_time": "2021-06-27T07:07:55.329Z"
   },
   {
    "duration": 29,
    "start_time": "2021-06-27T07:09:00.567Z"
   },
   {
    "duration": 16,
    "start_time": "2021-06-27T07:09:26.061Z"
   },
   {
    "duration": 377,
    "start_time": "2021-06-27T07:10:08.806Z"
   },
   {
    "duration": 18,
    "start_time": "2021-06-27T07:10:38.441Z"
   },
   {
    "duration": 32,
    "start_time": "2021-06-27T07:10:46.594Z"
   },
   {
    "duration": 15,
    "start_time": "2021-06-27T07:10:46.632Z"
   },
   {
    "duration": 42,
    "start_time": "2021-06-27T07:10:46.651Z"
   },
   {
    "duration": 18,
    "start_time": "2021-06-27T07:10:46.696Z"
   },
   {
    "duration": 85,
    "start_time": "2021-06-27T07:10:46.718Z"
   },
   {
    "duration": 79,
    "start_time": "2021-06-27T07:10:46.806Z"
   },
   {
    "duration": 889,
    "start_time": "2021-06-27T07:10:46.889Z"
   },
   {
    "duration": 323,
    "start_time": "2021-06-27T07:10:47.785Z"
   },
   {
    "duration": 420,
    "start_time": "2021-06-27T07:10:48.111Z"
   },
   {
    "duration": 336,
    "start_time": "2021-06-27T07:10:48.535Z"
   },
   {
    "duration": 434,
    "start_time": "2021-06-27T07:10:48.874Z"
   },
   {
    "duration": 859,
    "start_time": "2021-06-27T07:10:49.311Z"
   },
   {
    "duration": 15,
    "start_time": "2021-06-27T07:10:50.172Z"
   },
   {
    "duration": 804,
    "start_time": "2021-06-27T07:10:50.189Z"
   },
   {
    "duration": 7,
    "start_time": "2021-06-27T07:10:50.996Z"
   },
   {
    "duration": 667,
    "start_time": "2021-06-27T07:10:51.005Z"
   },
   {
    "duration": 20,
    "start_time": "2021-06-27T07:10:51.675Z"
   },
   {
    "duration": 34,
    "start_time": "2021-06-27T07:10:51.698Z"
   },
   {
    "duration": 19,
    "start_time": "2021-06-27T07:10:51.734Z"
   },
   {
    "duration": 18,
    "start_time": "2021-06-27T07:12:40.271Z"
   },
   {
    "duration": 4,
    "start_time": "2021-06-27T07:16:34.602Z"
   },
   {
    "duration": 4,
    "start_time": "2021-06-27T07:17:20.874Z"
   },
   {
    "duration": 103,
    "start_time": "2021-06-27T07:18:22.133Z"
   },
   {
    "duration": 150,
    "start_time": "2021-06-27T07:18:35.045Z"
   },
   {
    "duration": 895,
    "start_time": "2021-06-27T07:41:15.622Z"
   },
   {
    "duration": 95,
    "start_time": "2021-06-27T07:43:59.313Z"
   },
   {
    "duration": 322,
    "start_time": "2021-06-27T07:45:23.831Z"
   },
   {
    "duration": 540,
    "start_time": "2021-06-27T07:45:49.030Z"
   },
   {
    "duration": 447,
    "start_time": "2021-06-27T07:46:19.670Z"
   },
   {
    "duration": 322,
    "start_time": "2021-06-27T07:46:53.322Z"
   },
   {
    "duration": 436,
    "start_time": "2021-06-27T07:47:55.347Z"
   },
   {
    "duration": 1610,
    "start_time": "2021-06-27T08:14:42.069Z"
   },
   {
    "duration": 13,
    "start_time": "2021-06-27T08:14:43.682Z"
   },
   {
    "duration": 26,
    "start_time": "2021-06-27T08:14:43.698Z"
   },
   {
    "duration": 23,
    "start_time": "2021-06-27T08:14:43.726Z"
   },
   {
    "duration": 114,
    "start_time": "2021-06-27T08:14:43.752Z"
   },
   {
    "duration": 57,
    "start_time": "2021-06-27T08:14:43.812Z"
   },
   {
    "duration": 47,
    "start_time": "2021-06-27T08:14:43.823Z"
   },
   {
    "duration": 39,
    "start_time": "2021-06-27T08:14:43.832Z"
   },
   {
    "duration": 35,
    "start_time": "2021-06-27T08:14:43.838Z"
   },
   {
    "duration": 27,
    "start_time": "2021-06-27T08:14:43.847Z"
   },
   {
    "duration": 25,
    "start_time": "2021-06-27T08:14:43.851Z"
   },
   {
    "duration": 16,
    "start_time": "2021-06-27T08:14:43.861Z"
   },
   {
    "duration": 12,
    "start_time": "2021-06-27T08:14:43.866Z"
   },
   {
    "duration": 9,
    "start_time": "2021-06-27T08:14:43.870Z"
   },
   {
    "duration": 2,
    "start_time": "2021-06-27T08:14:43.879Z"
   },
   {
    "duration": -2,
    "start_time": "2021-06-27T08:14:43.884Z"
   },
   {
    "duration": -3,
    "start_time": "2021-06-27T08:14:43.887Z"
   },
   {
    "duration": -11,
    "start_time": "2021-06-27T08:14:43.896Z"
   },
   {
    "duration": -16,
    "start_time": "2021-06-27T08:14:43.902Z"
   },
   {
    "duration": -25,
    "start_time": "2021-06-27T08:14:43.912Z"
   },
   {
    "duration": 33,
    "start_time": "2021-06-27T08:15:08.604Z"
   },
   {
    "duration": 16,
    "start_time": "2021-06-27T08:15:08.640Z"
   },
   {
    "duration": 18,
    "start_time": "2021-06-27T08:15:08.659Z"
   },
   {
    "duration": 19,
    "start_time": "2021-06-27T08:15:08.685Z"
   },
   {
    "duration": 106,
    "start_time": "2021-06-27T08:15:08.708Z"
   },
   {
    "duration": 52,
    "start_time": "2021-06-27T08:15:08.766Z"
   },
   {
    "duration": 51,
    "start_time": "2021-06-27T08:15:08.769Z"
   },
   {
    "duration": 51,
    "start_time": "2021-06-27T08:15:08.771Z"
   },
   {
    "duration": 37,
    "start_time": "2021-06-27T08:15:08.787Z"
   },
   {
    "duration": 34,
    "start_time": "2021-06-27T08:15:08.792Z"
   },
   {
    "duration": 34,
    "start_time": "2021-06-27T08:15:08.794Z"
   },
   {
    "duration": 30,
    "start_time": "2021-06-27T08:15:08.800Z"
   },
   {
    "duration": 30,
    "start_time": "2021-06-27T08:15:08.802Z"
   },
   {
    "duration": 26,
    "start_time": "2021-06-27T08:15:08.808Z"
   },
   {
    "duration": 27,
    "start_time": "2021-06-27T08:15:08.810Z"
   },
   {
    "duration": 24,
    "start_time": "2021-06-27T08:15:08.814Z"
   },
   {
    "duration": 24,
    "start_time": "2021-06-27T08:15:08.817Z"
   },
   {
    "duration": 23,
    "start_time": "2021-06-27T08:15:08.821Z"
   },
   {
    "duration": 22,
    "start_time": "2021-06-27T08:15:08.824Z"
   },
   {
    "duration": -127,
    "start_time": "2021-06-27T08:15:08.976Z"
   },
   {
    "duration": 469,
    "start_time": "2021-06-27T08:15:35.451Z"
   },
   {
    "duration": 34,
    "start_time": "2021-06-27T08:15:43.640Z"
   },
   {
    "duration": 13,
    "start_time": "2021-06-27T08:15:43.678Z"
   },
   {
    "duration": 18,
    "start_time": "2021-06-27T08:15:43.694Z"
   },
   {
    "duration": 23,
    "start_time": "2021-06-27T08:15:43.715Z"
   },
   {
    "duration": 104,
    "start_time": "2021-06-27T08:15:43.740Z"
   },
   {
    "duration": 89,
    "start_time": "2021-06-27T08:15:43.758Z"
   },
   {
    "duration": 86,
    "start_time": "2021-06-27T08:15:43.762Z"
   },
   {
    "duration": 85,
    "start_time": "2021-06-27T08:15:43.765Z"
   },
   {
    "duration": 82,
    "start_time": "2021-06-27T08:15:43.769Z"
   },
   {
    "duration": 81,
    "start_time": "2021-06-27T08:15:43.772Z"
   },
   {
    "duration": 79,
    "start_time": "2021-06-27T08:15:43.775Z"
   },
   {
    "duration": 75,
    "start_time": "2021-06-27T08:15:43.780Z"
   },
   {
    "duration": 72,
    "start_time": "2021-06-27T08:15:43.784Z"
   },
   {
    "duration": 71,
    "start_time": "2021-06-27T08:15:43.787Z"
   },
   {
    "duration": 58,
    "start_time": "2021-06-27T08:15:43.801Z"
   },
   {
    "duration": 55,
    "start_time": "2021-06-27T08:15:43.806Z"
   },
   {
    "duration": 53,
    "start_time": "2021-06-27T08:15:43.809Z"
   },
   {
    "duration": 51,
    "start_time": "2021-06-27T08:15:43.812Z"
   },
   {
    "duration": 46,
    "start_time": "2021-06-27T08:15:43.819Z"
   },
   {
    "duration": 44,
    "start_time": "2021-06-27T08:15:43.822Z"
   },
   {
    "duration": 3,
    "start_time": "2021-06-27T08:16:20.428Z"
   },
   {
    "duration": 34,
    "start_time": "2021-06-27T08:16:55.640Z"
   },
   {
    "duration": 13,
    "start_time": "2021-06-27T08:16:55.677Z"
   },
   {
    "duration": 17,
    "start_time": "2021-06-27T08:16:55.693Z"
   },
   {
    "duration": 18,
    "start_time": "2021-06-27T08:16:55.713Z"
   },
   {
    "duration": 3,
    "start_time": "2021-06-27T08:16:55.734Z"
   },
   {
    "duration": 91,
    "start_time": "2021-06-27T08:16:55.739Z"
   },
   {
    "duration": 59,
    "start_time": "2021-06-27T08:16:55.833Z"
   },
   {
    "duration": 950,
    "start_time": "2021-06-27T08:16:55.896Z"
   },
   {
    "duration": 340,
    "start_time": "2021-06-27T08:16:56.848Z"
   },
   {
    "duration": 434,
    "start_time": "2021-06-27T08:16:57.190Z"
   },
   {
    "duration": 352,
    "start_time": "2021-06-27T08:16:57.627Z"
   },
   {
    "duration": 419,
    "start_time": "2021-06-27T08:16:57.981Z"
   },
   {
    "duration": 951,
    "start_time": "2021-06-27T08:16:58.403Z"
   },
   {
    "duration": 6,
    "start_time": "2021-06-27T08:16:59.356Z"
   },
   {
    "duration": 733,
    "start_time": "2021-06-27T08:16:59.365Z"
   },
   {
    "duration": 8,
    "start_time": "2021-06-27T08:17:00.100Z"
   },
   {
    "duration": 688,
    "start_time": "2021-06-27T08:17:00.110Z"
   },
   {
    "duration": 16,
    "start_time": "2021-06-27T08:17:00.801Z"
   },
   {
    "duration": 31,
    "start_time": "2021-06-27T08:17:00.819Z"
   },
   {
    "duration": 46,
    "start_time": "2021-06-27T08:17:00.852Z"
   },
   {
    "duration": 14,
    "start_time": "2021-06-27T08:18:50.263Z"
   },
   {
    "duration": 27,
    "start_time": "2021-06-27T08:19:22.671Z"
   },
   {
    "duration": 33,
    "start_time": "2021-06-27T08:19:33.101Z"
   },
   {
    "duration": 14,
    "start_time": "2021-06-27T08:19:33.136Z"
   },
   {
    "duration": 21,
    "start_time": "2021-06-27T08:19:33.153Z"
   },
   {
    "duration": 19,
    "start_time": "2021-06-27T08:19:33.185Z"
   },
   {
    "duration": 3,
    "start_time": "2021-06-27T08:19:33.207Z"
   },
   {
    "duration": 87,
    "start_time": "2021-06-27T08:19:33.212Z"
   },
   {
    "duration": 48,
    "start_time": "2021-06-27T08:19:33.302Z"
   },
   {
    "duration": 950,
    "start_time": "2021-06-27T08:19:33.354Z"
   },
   {
    "duration": 333,
    "start_time": "2021-06-27T08:19:34.306Z"
   },
   {
    "duration": 463,
    "start_time": "2021-06-27T08:19:34.642Z"
   },
   {
    "duration": 361,
    "start_time": "2021-06-27T08:19:35.108Z"
   },
   {
    "duration": 438,
    "start_time": "2021-06-27T08:19:35.471Z"
   },
   {
    "duration": 858,
    "start_time": "2021-06-27T08:19:35.911Z"
   },
   {
    "duration": 13,
    "start_time": "2021-06-27T08:19:36.771Z"
   },
   {
    "duration": 914,
    "start_time": "2021-06-27T08:19:36.787Z"
   },
   {
    "duration": 7,
    "start_time": "2021-06-27T08:19:37.703Z"
   },
   {
    "duration": 668,
    "start_time": "2021-06-27T08:19:37.712Z"
   },
   {
    "duration": 14,
    "start_time": "2021-06-27T08:19:38.385Z"
   },
   {
    "duration": 25,
    "start_time": "2021-06-27T08:19:38.401Z"
   },
   {
    "duration": 21,
    "start_time": "2021-06-27T08:19:38.429Z"
   },
   {
    "duration": 100,
    "start_time": "2021-06-27T08:20:44.910Z"
   },
   {
    "duration": 30,
    "start_time": "2021-06-27T08:21:04.079Z"
   },
   {
    "duration": 1511,
    "start_time": "2021-06-27T08:24:18.164Z"
   },
   {
    "duration": 12,
    "start_time": "2021-06-27T08:24:19.678Z"
   },
   {
    "duration": 17,
    "start_time": "2021-06-27T08:24:19.696Z"
   },
   {
    "duration": 17,
    "start_time": "2021-06-27T08:24:19.715Z"
   },
   {
    "duration": 3,
    "start_time": "2021-06-27T08:24:19.735Z"
   },
   {
    "duration": 84,
    "start_time": "2021-06-27T08:24:19.741Z"
   },
   {
    "duration": 68,
    "start_time": "2021-06-27T08:24:19.828Z"
   },
   {
    "duration": 899,
    "start_time": "2021-06-27T08:24:19.899Z"
   },
   {
    "duration": 322,
    "start_time": "2021-06-27T08:24:20.801Z"
   },
   {
    "duration": 419,
    "start_time": "2021-06-27T08:24:21.126Z"
   },
   {
    "duration": 338,
    "start_time": "2021-06-27T08:24:21.547Z"
   },
   {
    "duration": 413,
    "start_time": "2021-06-27T08:24:21.887Z"
   },
   {
    "duration": 923,
    "start_time": "2021-06-27T08:24:22.303Z"
   },
   {
    "duration": 7,
    "start_time": "2021-06-27T08:24:23.228Z"
   },
   {
    "duration": 742,
    "start_time": "2021-06-27T08:24:23.237Z"
   },
   {
    "duration": 6,
    "start_time": "2021-06-27T08:24:23.986Z"
   },
   {
    "duration": 664,
    "start_time": "2021-06-27T08:24:23.995Z"
   },
   {
    "duration": 24,
    "start_time": "2021-06-27T08:24:24.662Z"
   },
   {
    "duration": 27,
    "start_time": "2021-06-27T08:24:24.689Z"
   },
   {
    "duration": 19,
    "start_time": "2021-06-27T08:24:24.719Z"
   },
   {
    "duration": 638,
    "start_time": "2021-06-27T08:26:18.442Z"
   },
   {
    "duration": 33,
    "start_time": "2021-06-27T09:29:17.287Z"
   },
   {
    "duration": 959,
    "start_time": "2021-06-27T09:35:06.229Z"
   },
   {
    "duration": 1118,
    "start_time": "2021-06-27T09:36:19.599Z"
   },
   {
    "duration": 36,
    "start_time": "2021-06-27T09:36:33.894Z"
   },
   {
    "duration": 14,
    "start_time": "2021-06-27T09:36:33.967Z"
   },
   {
    "duration": 17,
    "start_time": "2021-06-27T09:36:33.985Z"
   },
   {
    "duration": 27,
    "start_time": "2021-06-27T09:36:34.005Z"
   },
   {
    "duration": 85,
    "start_time": "2021-06-27T09:36:34.036Z"
   },
   {
    "duration": 71,
    "start_time": "2021-06-27T09:36:34.124Z"
   },
   {
    "duration": 1034,
    "start_time": "2021-06-27T09:36:34.198Z"
   },
   {
    "duration": 341,
    "start_time": "2021-06-27T09:36:35.235Z"
   },
   {
    "duration": 440,
    "start_time": "2021-06-27T09:36:35.586Z"
   },
   {
    "duration": 417,
    "start_time": "2021-06-27T09:36:36.029Z"
   },
   {
    "duration": 432,
    "start_time": "2021-06-27T09:36:36.449Z"
   },
   {
    "duration": 856,
    "start_time": "2021-06-27T09:36:36.883Z"
   },
   {
    "duration": 6,
    "start_time": "2021-06-27T09:36:37.742Z"
   },
   {
    "duration": 738,
    "start_time": "2021-06-27T09:36:37.751Z"
   },
   {
    "duration": 6,
    "start_time": "2021-06-27T09:36:38.492Z"
   },
   {
    "duration": 671,
    "start_time": "2021-06-27T09:36:38.500Z"
   },
   {
    "duration": 15,
    "start_time": "2021-06-27T09:36:39.174Z"
   },
   {
    "duration": 35,
    "start_time": "2021-06-27T09:36:39.191Z"
   },
   {
    "duration": 19,
    "start_time": "2021-06-27T09:36:39.228Z"
   },
   {
    "duration": 939,
    "start_time": "2021-06-27T09:38:14.463Z"
   },
   {
    "duration": 414,
    "start_time": "2021-06-27T09:43:43.682Z"
   },
   {
    "duration": 1478,
    "start_time": "2021-06-27T09:48:04.934Z"
   },
   {
    "duration": 13,
    "start_time": "2021-06-27T09:48:06.414Z"
   },
   {
    "duration": 16,
    "start_time": "2021-06-27T09:48:06.430Z"
   },
   {
    "duration": 41,
    "start_time": "2021-06-27T09:48:06.449Z"
   },
   {
    "duration": 94,
    "start_time": "2021-06-27T09:48:06.493Z"
   },
   {
    "duration": 48,
    "start_time": "2021-06-27T09:48:06.590Z"
   },
   {
    "duration": 933,
    "start_time": "2021-06-27T09:48:06.641Z"
   },
   {
    "duration": 333,
    "start_time": "2021-06-27T09:48:07.585Z"
   },
   {
    "duration": 432,
    "start_time": "2021-06-27T09:48:07.921Z"
   },
   {
    "duration": 351,
    "start_time": "2021-06-27T09:48:08.356Z"
   },
   {
    "duration": 397,
    "start_time": "2021-06-27T09:48:08.709Z"
   },
   {
    "duration": 985,
    "start_time": "2021-06-27T09:48:09.109Z"
   },
   {
    "duration": 7,
    "start_time": "2021-06-27T09:48:10.097Z"
   },
   {
    "duration": 757,
    "start_time": "2021-06-27T09:48:10.106Z"
   },
   {
    "duration": 6,
    "start_time": "2021-06-27T09:48:10.866Z"
   },
   {
    "duration": 661,
    "start_time": "2021-06-27T09:48:10.885Z"
   },
   {
    "duration": 14,
    "start_time": "2021-06-27T09:48:11.548Z"
   },
   {
    "duration": 46,
    "start_time": "2021-06-27T09:48:11.564Z"
   },
   {
    "duration": 20,
    "start_time": "2021-06-27T09:48:11.613Z"
   },
   {
    "duration": 905,
    "start_time": "2021-06-27T09:50:38.288Z"
   },
   {
    "duration": 895,
    "start_time": "2021-06-27T09:51:32.010Z"
   },
   {
    "duration": 878,
    "start_time": "2021-06-27T09:51:58.999Z"
   },
   {
    "duration": 106,
    "start_time": "2021-06-27T14:07:09.816Z"
   },
   {
    "duration": 325,
    "start_time": "2021-06-27T14:07:19.578Z"
   },
   {
    "duration": 1471,
    "start_time": "2021-06-27T14:07:27.516Z"
   },
   {
    "duration": 13,
    "start_time": "2021-06-27T14:07:28.990Z"
   },
   {
    "duration": 26,
    "start_time": "2021-06-27T14:07:29.006Z"
   },
   {
    "duration": 26,
    "start_time": "2021-06-27T14:07:29.035Z"
   },
   {
    "duration": 136,
    "start_time": "2021-06-27T14:07:29.063Z"
   },
   {
    "duration": 54,
    "start_time": "2021-06-27T14:07:29.201Z"
   },
   {
    "duration": 1016,
    "start_time": "2021-06-27T14:07:29.258Z"
   },
   {
    "duration": 336,
    "start_time": "2021-06-27T14:07:30.277Z"
   },
   {
    "duration": 449,
    "start_time": "2021-06-27T14:07:30.616Z"
   },
   {
    "duration": 349,
    "start_time": "2021-06-27T14:07:31.068Z"
   },
   {
    "duration": 414,
    "start_time": "2021-06-27T14:07:31.419Z"
   },
   {
    "duration": 962,
    "start_time": "2021-06-27T14:07:31.835Z"
   },
   {
    "duration": 8,
    "start_time": "2021-06-27T14:07:32.799Z"
   },
   {
    "duration": 949,
    "start_time": "2021-06-27T14:07:32.810Z"
   },
   {
    "duration": 7,
    "start_time": "2021-06-27T14:07:33.763Z"
   },
   {
    "duration": 706,
    "start_time": "2021-06-27T14:07:33.773Z"
   },
   {
    "duration": 13,
    "start_time": "2021-06-27T14:07:34.482Z"
   },
   {
    "duration": 57,
    "start_time": "2021-06-27T14:07:34.498Z"
   },
   {
    "duration": 20,
    "start_time": "2021-06-27T14:07:34.558Z"
   },
   {
    "duration": 76,
    "start_time": "2021-06-27T14:08:11.424Z"
   },
   {
    "duration": 421,
    "start_time": "2021-06-27T18:17:20.959Z"
   },
   {
    "duration": 1628,
    "start_time": "2021-06-27T18:17:24.289Z"
   },
   {
    "duration": 14,
    "start_time": "2021-06-27T18:17:25.921Z"
   },
   {
    "duration": 23,
    "start_time": "2021-06-27T18:17:25.939Z"
   },
   {
    "duration": 42,
    "start_time": "2021-06-27T18:17:25.966Z"
   },
   {
    "duration": 99,
    "start_time": "2021-06-27T18:17:26.011Z"
   },
   {
    "duration": 75,
    "start_time": "2021-06-27T18:17:26.112Z"
   },
   {
    "duration": 1072,
    "start_time": "2021-06-27T18:17:26.190Z"
   },
   {
    "duration": 337,
    "start_time": "2021-06-27T18:17:27.267Z"
   },
   {
    "duration": 436,
    "start_time": "2021-06-27T18:17:27.607Z"
   },
   {
    "duration": 539,
    "start_time": "2021-06-27T18:17:28.046Z"
   },
   {
    "duration": 438,
    "start_time": "2021-06-27T18:17:28.589Z"
   },
   {
    "duration": 961,
    "start_time": "2021-06-27T18:17:29.029Z"
   },
   {
    "duration": 7,
    "start_time": "2021-06-27T18:17:29.993Z"
   },
   {
    "duration": 800,
    "start_time": "2021-06-27T18:17:30.002Z"
   },
   {
    "duration": 8,
    "start_time": "2021-06-27T18:17:30.805Z"
   },
   {
    "duration": 747,
    "start_time": "2021-06-27T18:17:30.816Z"
   },
   {
    "duration": 26,
    "start_time": "2021-06-27T18:17:31.565Z"
   },
   {
    "duration": 30,
    "start_time": "2021-06-27T18:17:31.593Z"
   },
   {
    "duration": 22,
    "start_time": "2021-06-27T18:17:31.626Z"
   },
   {
    "duration": 99,
    "start_time": "2021-06-27T18:19:13.028Z"
   },
   {
    "duration": 441,
    "start_time": "2021-06-27T18:21:34.808Z"
   },
   {
    "duration": 419,
    "start_time": "2021-06-27T18:22:39.922Z"
   },
   {
    "duration": 941,
    "start_time": "2021-06-27T18:23:59.431Z"
   },
   {
    "duration": 749,
    "start_time": "2021-06-27T18:25:00.369Z"
   },
   {
    "duration": 98,
    "start_time": "2021-06-27T18:27:03.982Z"
   },
   {
    "duration": 40,
    "start_time": "2021-06-27T18:27:32.563Z"
   },
   {
    "duration": 16,
    "start_time": "2021-06-27T18:27:32.606Z"
   },
   {
    "duration": 16,
    "start_time": "2021-06-27T18:27:32.626Z"
   },
   {
    "duration": 58,
    "start_time": "2021-06-27T18:27:32.645Z"
   },
   {
    "duration": 88,
    "start_time": "2021-06-27T18:27:32.706Z"
   },
   {
    "duration": 50,
    "start_time": "2021-06-27T18:27:32.797Z"
   },
   {
    "duration": 1070,
    "start_time": "2021-06-27T18:27:32.849Z"
   },
   {
    "duration": 487,
    "start_time": "2021-06-27T18:27:33.924Z"
   },
   {
    "duration": 429,
    "start_time": "2021-06-27T18:27:34.414Z"
   },
   {
    "duration": 371,
    "start_time": "2021-06-27T18:27:34.845Z"
   },
   {
    "duration": 419,
    "start_time": "2021-06-27T18:27:35.218Z"
   },
   {
    "duration": 849,
    "start_time": "2021-06-27T18:27:35.640Z"
   },
   {
    "duration": 7,
    "start_time": "2021-06-27T18:27:36.491Z"
   },
   {
    "duration": 775,
    "start_time": "2021-06-27T18:27:36.501Z"
   },
   {
    "duration": 14,
    "start_time": "2021-06-27T18:27:37.278Z"
   },
   {
    "duration": 681,
    "start_time": "2021-06-27T18:27:37.297Z"
   },
   {
    "duration": 17,
    "start_time": "2021-06-27T18:27:37.980Z"
   },
   {
    "duration": 29,
    "start_time": "2021-06-27T18:27:38.002Z"
   },
   {
    "duration": 59,
    "start_time": "2021-06-27T18:27:38.033Z"
   },
   {
    "duration": 1453,
    "start_time": "2021-06-27T18:31:46.411Z"
   },
   {
    "duration": 13,
    "start_time": "2021-06-27T18:31:47.867Z"
   },
   {
    "duration": 19,
    "start_time": "2021-06-27T18:31:47.887Z"
   },
   {
    "duration": 19,
    "start_time": "2021-06-27T18:31:47.910Z"
   },
   {
    "duration": 89,
    "start_time": "2021-06-27T18:31:47.932Z"
   },
   {
    "duration": 63,
    "start_time": "2021-06-27T18:31:48.023Z"
   },
   {
    "duration": 1019,
    "start_time": "2021-06-27T18:31:48.089Z"
   },
   {
    "duration": 337,
    "start_time": "2021-06-27T18:31:49.112Z"
   },
   {
    "duration": 445,
    "start_time": "2021-06-27T18:31:49.452Z"
   },
   {
    "duration": 347,
    "start_time": "2021-06-27T18:31:49.899Z"
   },
   {
    "duration": 434,
    "start_time": "2021-06-27T18:31:50.249Z"
   },
   {
    "duration": 913,
    "start_time": "2021-06-27T18:31:50.686Z"
   },
   {
    "duration": 7,
    "start_time": "2021-06-27T18:31:51.602Z"
   },
   {
    "duration": 725,
    "start_time": "2021-06-27T18:31:51.612Z"
   },
   {
    "duration": 6,
    "start_time": "2021-06-27T18:31:52.340Z"
   },
   {
    "duration": 684,
    "start_time": "2021-06-27T18:31:52.348Z"
   },
   {
    "duration": 14,
    "start_time": "2021-06-27T18:31:53.034Z"
   },
   {
    "duration": 47,
    "start_time": "2021-06-27T18:31:53.050Z"
   },
   {
    "duration": 20,
    "start_time": "2021-06-27T18:31:53.100Z"
   },
   {
    "duration": 38,
    "start_time": "2021-06-27T18:33:16.154Z"
   },
   {
    "duration": 14,
    "start_time": "2021-06-27T18:33:16.195Z"
   },
   {
    "duration": 16,
    "start_time": "2021-06-27T18:33:16.213Z"
   },
   {
    "duration": 61,
    "start_time": "2021-06-27T18:33:16.232Z"
   },
   {
    "duration": 81,
    "start_time": "2021-06-27T18:33:16.296Z"
   },
   {
    "duration": 50,
    "start_time": "2021-06-27T18:33:16.379Z"
   },
   {
    "duration": 1027,
    "start_time": "2021-06-27T18:33:16.432Z"
   },
   {
    "duration": 352,
    "start_time": "2021-06-27T18:33:17.462Z"
   },
   {
    "duration": 424,
    "start_time": "2021-06-27T18:33:17.817Z"
   },
   {
    "duration": 361,
    "start_time": "2021-06-27T18:33:18.243Z"
   },
   {
    "duration": 409,
    "start_time": "2021-06-27T18:33:18.606Z"
   },
   {
    "duration": 856,
    "start_time": "2021-06-27T18:33:19.018Z"
   },
   {
    "duration": 11,
    "start_time": "2021-06-27T18:33:19.876Z"
   },
   {
    "duration": 812,
    "start_time": "2021-06-27T18:33:19.889Z"
   },
   {
    "duration": 7,
    "start_time": "2021-06-27T18:33:20.704Z"
   },
   {
    "duration": 694,
    "start_time": "2021-06-27T18:33:20.713Z"
   },
   {
    "duration": 16,
    "start_time": "2021-06-27T18:33:21.409Z"
   },
   {
    "duration": 32,
    "start_time": "2021-06-27T18:33:21.427Z"
   },
   {
    "duration": 21,
    "start_time": "2021-06-27T18:33:21.486Z"
   },
   {
    "duration": 1511,
    "start_time": "2021-06-28T16:31:07.483Z"
   },
   {
    "duration": 13,
    "start_time": "2021-06-28T16:31:08.997Z"
   },
   {
    "duration": 15,
    "start_time": "2021-06-28T16:31:09.014Z"
   },
   {
    "duration": 42,
    "start_time": "2021-06-28T16:31:09.032Z"
   },
   {
    "duration": 103,
    "start_time": "2021-06-28T16:31:09.077Z"
   },
   {
    "duration": 48,
    "start_time": "2021-06-28T16:31:09.182Z"
   },
   {
    "duration": 428,
    "start_time": "2021-06-28T16:31:09.232Z"
   },
   {
    "duration": 1807,
    "start_time": "2021-06-28T16:31:07.858Z"
   },
   {
    "duration": 1804,
    "start_time": "2021-06-28T16:31:07.862Z"
   },
   {
    "duration": 1802,
    "start_time": "2021-06-28T16:31:07.866Z"
   },
   {
    "duration": 1796,
    "start_time": "2021-06-28T16:31:07.874Z"
   },
   {
    "duration": 1794,
    "start_time": "2021-06-28T16:31:07.878Z"
   },
   {
    "duration": 1791,
    "start_time": "2021-06-28T16:31:07.882Z"
   },
   {
    "duration": 1790,
    "start_time": "2021-06-28T16:31:07.885Z"
   },
   {
    "duration": 1786,
    "start_time": "2021-06-28T16:31:07.890Z"
   },
   {
    "duration": 1784,
    "start_time": "2021-06-28T16:31:07.894Z"
   },
   {
    "duration": 1777,
    "start_time": "2021-06-28T16:31:07.902Z"
   },
   {
    "duration": 1773,
    "start_time": "2021-06-28T16:31:07.908Z"
   },
   {
    "duration": 1771,
    "start_time": "2021-06-28T16:31:07.911Z"
   },
   {
    "duration": 1769,
    "start_time": "2021-06-28T16:31:07.914Z"
   },
   {
    "duration": 18,
    "start_time": "2021-06-28T16:34:08.900Z"
   },
   {
    "duration": 272,
    "start_time": "2021-06-28T16:40:15.549Z"
   },
   {
    "duration": 38,
    "start_time": "2021-06-28T16:40:37.581Z"
   },
   {
    "duration": 17,
    "start_time": "2021-06-28T16:40:37.622Z"
   },
   {
    "duration": 29,
    "start_time": "2021-06-28T16:40:37.644Z"
   },
   {
    "duration": 25,
    "start_time": "2021-06-28T16:40:37.676Z"
   },
   {
    "duration": 91,
    "start_time": "2021-06-28T16:40:37.703Z"
   },
   {
    "duration": 64,
    "start_time": "2021-06-28T16:40:37.797Z"
   },
   {
    "duration": 319,
    "start_time": "2021-06-28T16:40:37.864Z"
   },
   {
    "duration": 1819,
    "start_time": "2021-06-28T16:40:36.367Z"
   },
   {
    "duration": 1818,
    "start_time": "2021-06-28T16:40:36.370Z"
   },
   {
    "duration": 1815,
    "start_time": "2021-06-28T16:40:36.374Z"
   },
   {
    "duration": 1813,
    "start_time": "2021-06-28T16:40:36.378Z"
   },
   {
    "duration": 1811,
    "start_time": "2021-06-28T16:40:36.381Z"
   },
   {
    "duration": 1809,
    "start_time": "2021-06-28T16:40:36.385Z"
   },
   {
    "duration": 1807,
    "start_time": "2021-06-28T16:40:36.388Z"
   },
   {
    "duration": 1807,
    "start_time": "2021-06-28T16:40:36.390Z"
   },
   {
    "duration": 1800,
    "start_time": "2021-06-28T16:40:36.398Z"
   },
   {
    "duration": 1797,
    "start_time": "2021-06-28T16:40:36.402Z"
   },
   {
    "duration": 1795,
    "start_time": "2021-06-28T16:40:36.406Z"
   },
   {
    "duration": 1792,
    "start_time": "2021-06-28T16:40:36.410Z"
   },
   {
    "duration": 1789,
    "start_time": "2021-06-28T16:40:36.414Z"
   },
   {
    "duration": 262,
    "start_time": "2021-06-28T16:42:01.321Z"
   },
   {
    "duration": 274,
    "start_time": "2021-06-28T16:42:19.062Z"
   },
   {
    "duration": 35,
    "start_time": "2021-06-28T16:42:33.049Z"
   },
   {
    "duration": 13,
    "start_time": "2021-06-28T16:42:33.095Z"
   },
   {
    "duration": 16,
    "start_time": "2021-06-28T16:42:33.129Z"
   },
   {
    "duration": 18,
    "start_time": "2021-06-28T16:42:33.176Z"
   },
   {
    "duration": 81,
    "start_time": "2021-06-28T16:42:33.249Z"
   },
   {
    "duration": 48,
    "start_time": "2021-06-28T16:42:33.333Z"
   },
   {
    "duration": 263,
    "start_time": "2021-06-28T16:42:33.384Z"
   },
   {
    "duration": 367,
    "start_time": "2021-06-28T16:42:33.282Z"
   },
   {
    "duration": 366,
    "start_time": "2021-06-28T16:42:33.285Z"
   },
   {
    "duration": 364,
    "start_time": "2021-06-28T16:42:33.288Z"
   },
   {
    "duration": 363,
    "start_time": "2021-06-28T16:42:33.290Z"
   },
   {
    "duration": 361,
    "start_time": "2021-06-28T16:42:33.293Z"
   },
   {
    "duration": 921,
    "start_time": "2021-06-28T16:42:33.656Z"
   },
   {
    "duration": 7,
    "start_time": "2021-06-28T16:42:34.580Z"
   },
   {
    "duration": 795,
    "start_time": "2021-06-28T16:42:34.589Z"
   },
   {
    "duration": 6,
    "start_time": "2021-06-28T16:42:35.387Z"
   },
   {
    "duration": 687,
    "start_time": "2021-06-28T16:42:35.396Z"
   },
   {
    "duration": 16,
    "start_time": "2021-06-28T16:42:36.086Z"
   },
   {
    "duration": 54,
    "start_time": "2021-06-28T16:42:36.105Z"
   },
   {
    "duration": 21,
    "start_time": "2021-06-28T16:42:36.162Z"
   },
   {
    "duration": 23,
    "start_time": "2021-06-28T16:44:03.424Z"
   },
   {
    "duration": 267,
    "start_time": "2021-06-28T16:44:25.751Z"
   },
   {
    "duration": 21,
    "start_time": "2021-06-28T16:44:46.566Z"
   },
   {
    "duration": 15,
    "start_time": "2021-06-28T16:45:40.560Z"
   },
   {
    "duration": 22,
    "start_time": "2021-06-28T16:46:01.231Z"
   },
   {
    "duration": 15,
    "start_time": "2021-06-28T16:53:24.081Z"
   },
   {
    "duration": 17,
    "start_time": "2021-06-28T16:55:43.984Z"
   },
   {
    "duration": 14,
    "start_time": "2021-06-28T16:56:17.941Z"
   },
   {
    "duration": 13,
    "start_time": "2021-06-28T16:59:11.234Z"
   },
   {
    "duration": 18,
    "start_time": "2021-06-28T16:59:51.752Z"
   },
   {
    "duration": 12,
    "start_time": "2021-06-28T17:00:00.184Z"
   },
   {
    "duration": 20,
    "start_time": "2021-06-28T17:00:41.266Z"
   },
   {
    "duration": 22,
    "start_time": "2021-06-28T17:02:55.601Z"
   },
   {
    "duration": 24,
    "start_time": "2021-06-28T17:05:06.234Z"
   },
   {
    "duration": 24,
    "start_time": "2021-06-28T17:05:52.178Z"
   },
   {
    "duration": 106,
    "start_time": "2021-06-28T17:06:11.376Z"
   },
   {
    "duration": 23,
    "start_time": "2021-06-28T17:06:23.426Z"
   },
   {
    "duration": 25,
    "start_time": "2021-06-28T17:06:49.259Z"
   },
   {
    "duration": 37,
    "start_time": "2021-06-28T17:10:11.468Z"
   },
   {
    "duration": 18,
    "start_time": "2021-06-28T17:10:11.508Z"
   },
   {
    "duration": 33,
    "start_time": "2021-06-28T17:10:11.529Z"
   },
   {
    "duration": 21,
    "start_time": "2021-06-28T17:10:11.566Z"
   },
   {
    "duration": 129,
    "start_time": "2021-06-28T17:10:11.589Z"
   },
   {
    "duration": 56,
    "start_time": "2021-06-28T17:10:11.720Z"
   },
   {
    "duration": 22,
    "start_time": "2021-06-28T17:10:11.778Z"
   },
   {
    "duration": 1185,
    "start_time": "2021-06-28T17:10:11.803Z"
   },
   {
    "duration": 422,
    "start_time": "2021-06-28T17:10:12.991Z"
   },
   {
    "duration": 478,
    "start_time": "2021-06-28T17:10:13.416Z"
   },
   {
    "duration": 377,
    "start_time": "2021-06-28T17:10:13.897Z"
   },
   {
    "duration": 436,
    "start_time": "2021-06-28T17:10:14.277Z"
   },
   {
    "duration": 903,
    "start_time": "2021-06-28T17:10:14.715Z"
   },
   {
    "duration": 7,
    "start_time": "2021-06-28T17:10:15.621Z"
   },
   {
    "duration": 789,
    "start_time": "2021-06-28T17:10:15.631Z"
   },
   {
    "duration": 7,
    "start_time": "2021-06-28T17:10:16.423Z"
   },
   {
    "duration": 780,
    "start_time": "2021-06-28T17:10:16.432Z"
   },
   {
    "duration": 14,
    "start_time": "2021-06-28T17:10:17.214Z"
   },
   {
    "duration": 57,
    "start_time": "2021-06-28T17:10:17.230Z"
   },
   {
    "duration": 51,
    "start_time": "2021-06-28T17:10:17.289Z"
   },
   {
    "duration": 1054,
    "start_time": "2021-06-28T17:12:30.169Z"
   },
   {
    "duration": 359,
    "start_time": "2021-06-28T17:13:32.863Z"
   },
   {
    "duration": 491,
    "start_time": "2021-06-28T17:13:44.611Z"
   },
   {
    "duration": 462,
    "start_time": "2021-06-28T17:13:57.786Z"
   },
   {
    "duration": 435,
    "start_time": "2021-06-28T17:14:07.093Z"
   },
   {
    "duration": 1483,
    "start_time": "2021-06-28T17:15:37.400Z"
   },
   {
    "duration": 13,
    "start_time": "2021-06-28T17:15:38.886Z"
   },
   {
    "duration": 19,
    "start_time": "2021-06-28T17:15:38.902Z"
   },
   {
    "duration": 43,
    "start_time": "2021-06-28T17:15:38.924Z"
   },
   {
    "duration": 133,
    "start_time": "2021-06-28T17:15:38.970Z"
   },
   {
    "duration": 60,
    "start_time": "2021-06-28T17:15:39.105Z"
   },
   {
    "duration": 21,
    "start_time": "2021-06-28T17:15:39.168Z"
   },
   {
    "duration": 1072,
    "start_time": "2021-06-28T17:15:39.193Z"
   },
   {
    "duration": 351,
    "start_time": "2021-06-28T17:15:40.271Z"
   },
   {
    "duration": 495,
    "start_time": "2021-06-28T17:15:40.625Z"
   },
   {
    "duration": 374,
    "start_time": "2021-06-28T17:15:41.123Z"
   },
   {
    "duration": 484,
    "start_time": "2021-06-28T17:15:41.500Z"
   },
   {
    "duration": 1079,
    "start_time": "2021-06-28T17:15:41.987Z"
   },
   {
    "duration": 13,
    "start_time": "2021-06-28T17:15:43.076Z"
   },
   {
    "duration": 879,
    "start_time": "2021-06-28T17:15:43.092Z"
   },
   {
    "duration": 7,
    "start_time": "2021-06-28T17:15:43.973Z"
   },
   {
    "duration": 711,
    "start_time": "2021-06-28T17:15:43.984Z"
   },
   {
    "duration": 16,
    "start_time": "2021-06-28T17:15:44.698Z"
   },
   {
    "duration": 57,
    "start_time": "2021-06-28T17:15:44.719Z"
   },
   {
    "duration": 20,
    "start_time": "2021-06-28T17:15:44.779Z"
   },
   {
    "duration": 35,
    "start_time": "2021-06-28T17:15:52.863Z"
   },
   {
    "duration": 20,
    "start_time": "2021-06-28T17:15:52.901Z"
   },
   {
    "duration": 48,
    "start_time": "2021-06-28T17:15:52.923Z"
   },
   {
    "duration": 24,
    "start_time": "2021-06-28T17:15:52.973Z"
   },
   {
    "duration": 105,
    "start_time": "2021-06-28T17:15:52.999Z"
   },
   {
    "duration": 51,
    "start_time": "2021-06-28T17:15:53.107Z"
   },
   {
    "duration": 25,
    "start_time": "2021-06-28T17:15:53.162Z"
   },
   {
    "duration": 1071,
    "start_time": "2021-06-28T17:15:53.190Z"
   },
   {
    "duration": 353,
    "start_time": "2021-06-28T17:15:54.264Z"
   },
   {
    "duration": 474,
    "start_time": "2021-06-28T17:15:54.620Z"
   },
   {
    "duration": 385,
    "start_time": "2021-06-28T17:15:55.097Z"
   },
   {
    "duration": 437,
    "start_time": "2021-06-28T17:15:55.485Z"
   },
   {
    "duration": 899,
    "start_time": "2021-06-28T17:15:55.925Z"
   },
   {
    "duration": 6,
    "start_time": "2021-06-28T17:15:56.827Z"
   },
   {
    "duration": 939,
    "start_time": "2021-06-28T17:15:56.836Z"
   },
   {
    "duration": 6,
    "start_time": "2021-06-28T17:15:57.777Z"
   },
   {
    "duration": 688,
    "start_time": "2021-06-28T17:15:57.785Z"
   },
   {
    "duration": 15,
    "start_time": "2021-06-28T17:15:58.476Z"
   },
   {
    "duration": 28,
    "start_time": "2021-06-28T17:15:58.494Z"
   },
   {
    "duration": 56,
    "start_time": "2021-06-28T17:15:58.524Z"
   },
   {
    "duration": 1442,
    "start_time": "2021-08-23T12:23:23.648Z"
   },
   {
    "duration": 13,
    "start_time": "2021-08-23T12:23:25.093Z"
   },
   {
    "duration": 16,
    "start_time": "2021-08-23T12:23:25.109Z"
   },
   {
    "duration": 16,
    "start_time": "2021-08-23T12:23:25.127Z"
   },
   {
    "duration": 86,
    "start_time": "2021-08-23T12:23:25.146Z"
   },
   {
    "duration": 66,
    "start_time": "2021-08-23T12:23:25.235Z"
   },
   {
    "duration": 22,
    "start_time": "2021-08-23T12:23:25.303Z"
   },
   {
    "duration": 1038,
    "start_time": "2021-08-23T12:23:25.329Z"
   },
   {
    "duration": 348,
    "start_time": "2021-08-23T12:23:26.370Z"
   },
   {
    "duration": 441,
    "start_time": "2021-08-23T12:23:26.720Z"
   },
   {
    "duration": 436,
    "start_time": "2021-08-23T12:23:27.164Z"
   },
   {
    "duration": 425,
    "start_time": "2021-08-23T12:23:27.603Z"
   },
   {
    "duration": 941,
    "start_time": "2021-08-23T12:23:28.030Z"
   },
   {
    "duration": 9,
    "start_time": "2021-08-23T12:23:28.974Z"
   },
   {
    "duration": 713,
    "start_time": "2021-08-23T12:23:29.001Z"
   },
   {
    "duration": 6,
    "start_time": "2021-08-23T12:23:29.716Z"
   },
   {
    "duration": 685,
    "start_time": "2021-08-23T12:23:29.725Z"
   },
   {
    "duration": 13,
    "start_time": "2021-08-23T12:23:30.412Z"
   },
   {
    "duration": 32,
    "start_time": "2021-08-23T12:23:30.428Z"
   },
   {
    "duration": 44,
    "start_time": "2021-08-23T12:23:30.462Z"
   },
   {
    "duration": 1691,
    "start_time": "2021-08-29T16:50:15.244Z"
   },
   {
    "duration": 14,
    "start_time": "2021-08-29T16:50:16.938Z"
   },
   {
    "duration": 33,
    "start_time": "2021-08-29T16:50:16.955Z"
   },
   {
    "duration": 17,
    "start_time": "2021-08-29T16:50:16.990Z"
   },
   {
    "duration": 80,
    "start_time": "2021-08-29T16:50:17.010Z"
   },
   {
    "duration": 47,
    "start_time": "2021-08-29T16:50:17.094Z"
   },
   {
    "duration": 55,
    "start_time": "2021-08-29T16:50:17.144Z"
   },
   {
    "duration": 1061,
    "start_time": "2021-08-29T16:50:17.202Z"
   },
   {
    "duration": 339,
    "start_time": "2021-08-29T16:50:18.265Z"
   },
   {
    "duration": 419,
    "start_time": "2021-08-29T16:50:18.607Z"
   },
   {
    "duration": 434,
    "start_time": "2021-08-29T16:50:19.028Z"
   },
   {
    "duration": 469,
    "start_time": "2021-08-29T16:50:19.465Z"
   },
   {
    "duration": 1135,
    "start_time": "2021-08-29T16:50:19.936Z"
   },
   {
    "duration": 12,
    "start_time": "2021-08-29T16:50:21.073Z"
   },
   {
    "duration": 729,
    "start_time": "2021-08-29T16:50:21.088Z"
   },
   {
    "duration": 6,
    "start_time": "2021-08-29T16:50:21.820Z"
   },
   {
    "duration": 710,
    "start_time": "2021-08-29T16:50:21.829Z"
   },
   {
    "duration": 14,
    "start_time": "2021-08-29T16:50:22.541Z"
   },
   {
    "duration": 49,
    "start_time": "2021-08-29T16:50:22.557Z"
   },
   {
    "duration": 20,
    "start_time": "2021-08-29T16:50:22.609Z"
   },
   {
    "duration": 1354,
    "start_time": "2021-08-29T17:02:40.208Z"
   },
   {
    "duration": 12,
    "start_time": "2021-08-29T17:02:41.565Z"
   },
   {
    "duration": 16,
    "start_time": "2021-08-29T17:02:41.582Z"
   },
   {
    "duration": 17,
    "start_time": "2021-08-29T17:02:41.601Z"
   },
   {
    "duration": 75,
    "start_time": "2021-08-29T17:02:41.620Z"
   },
   {
    "duration": 49,
    "start_time": "2021-08-29T17:02:41.698Z"
   },
   {
    "duration": 50,
    "start_time": "2021-08-29T17:02:41.749Z"
   },
   {
    "duration": 1013,
    "start_time": "2021-08-29T17:02:41.803Z"
   },
   {
    "duration": 334,
    "start_time": "2021-08-29T17:02:42.818Z"
   },
   {
    "duration": 442,
    "start_time": "2021-08-29T17:02:43.155Z"
   },
   {
    "duration": 344,
    "start_time": "2021-08-29T17:02:43.599Z"
   },
   {
    "duration": 441,
    "start_time": "2021-08-29T17:02:43.945Z"
   },
   {
    "duration": 1068,
    "start_time": "2021-08-29T17:02:44.388Z"
   },
   {
    "duration": 6,
    "start_time": "2021-08-29T17:02:45.459Z"
   },
   {
    "duration": 712,
    "start_time": "2021-08-29T17:02:45.467Z"
   },
   {
    "duration": 6,
    "start_time": "2021-08-29T17:02:46.183Z"
   },
   {
    "duration": 658,
    "start_time": "2021-08-29T17:02:46.192Z"
   },
   {
    "duration": 13,
    "start_time": "2021-08-29T17:02:46.852Z"
   },
   {
    "duration": 27,
    "start_time": "2021-08-29T17:02:46.882Z"
   },
   {
    "duration": 19,
    "start_time": "2021-08-29T17:02:46.911Z"
   },
   {
    "duration": 1414,
    "start_time": "2021-08-29T17:04:58.441Z"
   },
   {
    "duration": 14,
    "start_time": "2021-08-29T17:04:59.858Z"
   },
   {
    "duration": 18,
    "start_time": "2021-08-29T17:04:59.883Z"
   },
   {
    "duration": 18,
    "start_time": "2021-08-29T17:04:59.903Z"
   },
   {
    "duration": 71,
    "start_time": "2021-08-29T17:04:59.923Z"
   },
   {
    "duration": 49,
    "start_time": "2021-08-29T17:04:59.996Z"
   },
   {
    "duration": 45,
    "start_time": "2021-08-29T17:05:00.048Z"
   },
   {
    "duration": 1004,
    "start_time": "2021-08-29T17:05:00.097Z"
   },
   {
    "duration": 327,
    "start_time": "2021-08-29T17:05:01.104Z"
   },
   {
    "duration": 479,
    "start_time": "2021-08-29T17:05:01.434Z"
   },
   {
    "duration": 351,
    "start_time": "2021-08-29T17:05:01.916Z"
   },
   {
    "duration": 426,
    "start_time": "2021-08-29T17:05:02.270Z"
   },
   {
    "duration": 876,
    "start_time": "2021-08-29T17:05:02.699Z"
   },
   {
    "duration": 6,
    "start_time": "2021-08-29T17:05:03.578Z"
   },
   {
    "duration": 696,
    "start_time": "2021-08-29T17:05:03.587Z"
   },
   {
    "duration": 6,
    "start_time": "2021-08-29T17:05:04.285Z"
   },
   {
    "duration": 652,
    "start_time": "2021-08-29T17:05:04.293Z"
   },
   {
    "duration": 14,
    "start_time": "2021-08-29T17:05:04.947Z"
   },
   {
    "duration": 44,
    "start_time": "2021-08-29T17:05:04.963Z"
   },
   {
    "duration": 19,
    "start_time": "2021-08-29T17:05:05.010Z"
   }
  ],
  "kernelspec": {
   "display_name": "Python 3",
   "language": "python",
   "name": "python3"
  },
  "language_info": {
   "codemirror_mode": {
    "name": "ipython",
    "version": 3
   },
   "file_extension": ".py",
   "mimetype": "text/x-python",
   "name": "python",
   "nbconvert_exporter": "python",
   "pygments_lexer": "ipython3",
   "version": "3.7.8"
  },
  "toc": {
   "base_numbering": 1,
   "nav_menu": {},
   "number_sections": true,
   "sideBar": true,
   "skip_h1_title": true,
   "title_cell": "Table of Contents",
   "title_sidebar": "Contents",
   "toc_cell": false,
   "toc_position": {},
   "toc_section_display": true,
   "toc_window_display": false
  }
 },
 "nbformat": 4,
 "nbformat_minor": 2
}
