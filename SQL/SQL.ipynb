{
 "cells": [
  {
   "cell_type": "markdown",
   "metadata": {},
   "source": [
    "# Проект по SQL"
   ]
  },
  {
   "cell_type": "markdown",
   "metadata": {},
   "source": [
    "Коронавирус застал мир врасплох, изменив привычный порядок вещей. В свободное время жители городов больше не выходят на улицу, не посещают кафе и торговые центры. Зато стало больше времени для книг. Это заметили стартаперы — и бросились создавать приложения для тех, кто любит читать.  \n",
    "Ваша компания решила быть на волне и купила крупный сервис для чтения книг по подписке. Ваша первая задача как аналитика — проанализировать базу данных. В ней — информация о книгах, издательствах, авторах, а также пользовательские обзоры книг. Эти данные помогут сформулировать ценностное предложение для нового продукта.  \n",
    "\n",
    "Описание данных:  \n",
    "  \n",
    "Таблица books  \n",
    "Содержит данные о книгах:  \n",
    "book_id — идентификатор книги;  \n",
    "author_id — идентификатор автора;  \n",
    "title — название книги;  \n",
    "num_pages — количество страниц;  \n",
    "publication_date — дата публикации книги;  \n",
    "publisher_id — идентификатор издателя.  \n",
    "  \n",
    "Таблица authors  \n",
    "Содержит данные об авторах:  \n",
    "author_id — идентификатор автора;  \n",
    "author — имя автора.  \n",
    "  \n",
    "Таблица publishers  \n",
    "Содержит данные об издательствах:  \n",
    "publisher_id — идентификатор издательства;  \n",
    "publisher — название издательства;  \n",
    "  \n",
    "Таблица ratings  \n",
    "Содержит данные о пользовательских оценках книг:  \n",
    "rating_id — идентификатор оценки;  \n",
    "book_id — идентификатор книги;  \n",
    "username — имя пользователя, оставившего оценку;  \n",
    "rating — оценка книги.  \n",
    "  \n",
    "Таблица reviews  \n",
    "Содержит данные о пользовательских обзорах:  \n",
    "review_id — идентификатор обзора;  \n",
    "book_id — идентификатор книги;  \n",
    "username — имя автора обзора;  \n",
    "text — текст обзора.  "
   ]
  },
  {
   "cell_type": "markdown",
   "metadata": {},
   "source": [
    "## Цели исследования:"
   ]
  },
  {
   "cell_type": "markdown",
   "metadata": {},
   "source": [
    "### Посчитайте, сколько книг вышло после 1 января 2000 года"
   ]
  },
  {
   "cell_type": "markdown",
   "metadata": {},
   "source": [
    "### Для каждой книги посчитайте количество обзоров и среднюю оценку"
   ]
  },
  {
   "cell_type": "markdown",
   "metadata": {},
   "source": [
    "### Определите издательство, которое выпустило наибольшее число книг толще 50 страниц — так вы исключите из анализа брошюры"
   ]
  },
  {
   "cell_type": "markdown",
   "metadata": {},
   "source": [
    "### Определите автора с самой высокой средней оценкой книг — учитывайте только книги с 50 и более оценками"
   ]
  },
  {
   "cell_type": "markdown",
   "metadata": {},
   "source": [
    "### Посчитайте среднее количество обзоров от пользователей, которые поставили больше 50 оценок.  "
   ]
  },
  {
   "cell_type": "markdown",
   "metadata": {},
   "source": [
    "## Исследуем таблицы — выведим первые строки"
   ]
  },
  {
   "cell_type": "code",
   "execution_count": 1,
   "metadata": {},
   "outputs": [],
   "source": [
    "# импортируем библиотеки\n",
    "import pandas as pd\n",
    "from sqlalchemy import create_engine"
   ]
  },
  {
   "cell_type": "code",
   "execution_count": 2,
   "metadata": {},
   "outputs": [],
   "source": [
    "# устанавливаем параметры\n",
    "db_config = {'user': 'praktikum_student', # имя пользователя\n",
    " 'pwd': 'Sdf4$2;d-d30pp', # пароль\n",
    " 'host': 'rc1b-wcoijxj3yxfsf3fs.mdb.yandexcloud.net',\n",
    " 'port': 6432, # порт подключения\n",
    " 'db': 'data-analyst-final-project-db'} # название базы данных\n",
    "\n",
    "connection_string = 'postgresql://{}:{}@{}:{}/{}'.format(db_config['user'],\n",
    " db_config['pwd'],\n",
    " db_config['host'],\n",
    " db_config['port'],\n",
    " db_config['db'])\n",
    "# сохраняем коннектор\n",
    "engine = create_engine(connection_string, connect_args={'sslmode':'require'})"
   ]
  },
  {
   "cell_type": "markdown",
   "metadata": {},
   "source": [
    "### Формируем sql-запрос для таблицы books, исследуем ее:"
   ]
  },
  {
   "cell_type": "code",
   "execution_count": 3,
   "metadata": {},
   "outputs": [
    {
     "name": "stdout",
     "output_type": "stream",
     "text": [
      "Количество дубликатов: 0\n"
     ]
    },
    {
     "data": {
      "text/html": [
       "<div>\n",
       "<style scoped>\n",
       "    .dataframe tbody tr th:only-of-type {\n",
       "        vertical-align: middle;\n",
       "    }\n",
       "\n",
       "    .dataframe tbody tr th {\n",
       "        vertical-align: top;\n",
       "    }\n",
       "\n",
       "    .dataframe thead th {\n",
       "        text-align: right;\n",
       "    }\n",
       "</style>\n",
       "<table border=\"1\" class=\"dataframe\">\n",
       "  <thead>\n",
       "    <tr style=\"text-align: right;\">\n",
       "      <th></th>\n",
       "      <th>book_id</th>\n",
       "      <th>author_id</th>\n",
       "      <th>title</th>\n",
       "      <th>num_pages</th>\n",
       "      <th>publication_date</th>\n",
       "      <th>publisher_id</th>\n",
       "    </tr>\n",
       "  </thead>\n",
       "  <tbody>\n",
       "    <tr>\n",
       "      <td>0</td>\n",
       "      <td>1</td>\n",
       "      <td>546</td>\n",
       "      <td>'Salem's Lot</td>\n",
       "      <td>594</td>\n",
       "      <td>2005-11-01</td>\n",
       "      <td>93</td>\n",
       "    </tr>\n",
       "    <tr>\n",
       "      <td>1</td>\n",
       "      <td>2</td>\n",
       "      <td>465</td>\n",
       "      <td>1 000 Places to See Before You Die</td>\n",
       "      <td>992</td>\n",
       "      <td>2003-05-22</td>\n",
       "      <td>336</td>\n",
       "    </tr>\n",
       "    <tr>\n",
       "      <td>2</td>\n",
       "      <td>3</td>\n",
       "      <td>407</td>\n",
       "      <td>13 Little Blue Envelopes (Little Blue Envelope  #1)</td>\n",
       "      <td>322</td>\n",
       "      <td>2010-12-21</td>\n",
       "      <td>135</td>\n",
       "    </tr>\n",
       "    <tr>\n",
       "      <td>3</td>\n",
       "      <td>4</td>\n",
       "      <td>82</td>\n",
       "      <td>1491: New Revelations of the Americas Before Columbus</td>\n",
       "      <td>541</td>\n",
       "      <td>2006-10-10</td>\n",
       "      <td>309</td>\n",
       "    </tr>\n",
       "    <tr>\n",
       "      <td>4</td>\n",
       "      <td>5</td>\n",
       "      <td>125</td>\n",
       "      <td>1776</td>\n",
       "      <td>386</td>\n",
       "      <td>2006-07-04</td>\n",
       "      <td>268</td>\n",
       "    </tr>\n",
       "  </tbody>\n",
       "</table>\n",
       "</div>"
      ],
      "text/plain": [
       "   book_id  author_id                                                  title  \\\n",
       "0        1        546                                           'Salem's Lot   \n",
       "1        2        465                     1 000 Places to See Before You Die   \n",
       "2        3        407    13 Little Blue Envelopes (Little Blue Envelope  #1)   \n",
       "3        4         82  1491: New Revelations of the Americas Before Columbus   \n",
       "4        5        125                                                   1776   \n",
       "\n",
       "   num_pages publication_date  publisher_id  \n",
       "0        594       2005-11-01            93  \n",
       "1        992       2003-05-22           336  \n",
       "2        322       2010-12-21           135  \n",
       "3        541       2006-10-10           309  \n",
       "4        386       2006-07-04           268  "
      ]
     },
     "metadata": {},
     "output_type": "display_data"
    },
    {
     "name": "stdout",
     "output_type": "stream",
     "text": [
      "<class 'pandas.core.frame.DataFrame'>\n",
      "RangeIndex: 1000 entries, 0 to 999\n",
      "Data columns (total 6 columns):\n",
      "book_id             1000 non-null int64\n",
      "author_id           1000 non-null int64\n",
      "title               1000 non-null object\n",
      "num_pages           1000 non-null int64\n",
      "publication_date    1000 non-null object\n",
      "publisher_id        1000 non-null int64\n",
      "dtypes: int64(4), object(2)\n",
      "memory usage: 47.0+ KB\n"
     ]
    },
    {
     "data": {
      "text/plain": [
       "None"
      ]
     },
     "metadata": {},
     "output_type": "display_data"
    }
   ],
   "source": [
    "query = ''' SELECT *\n",
    "            FROM books;\n",
    "        '''\n",
    "books = pd.io.sql.read_sql(query, con = engine)\n",
    "pd.set_option('display.max_columns', None)\n",
    "pd.options.display.max_colwidth = 150\n",
    "#проверим наличие дубликатов:\n",
    "print(f\"Количество дубликатов: {books.duplicated().sum()}\")\n",
    "display(books.head())\n",
    "display(books.info())"
   ]
  },
  {
   "cell_type": "markdown",
   "metadata": {},
   "source": [
    "Вывод:  \n",
    "таблица books содержит 1000 строк и 6 столбцов;    \n",
    "пропусков нет, дубликатов нет;  \n",
    "тип столбца publication_date необходимо будет преобразовать."
   ]
  },
  {
   "cell_type": "markdown",
   "metadata": {},
   "source": [
    "### Формируем sql-запрос для таблицы authors, исследуем ее:"
   ]
  },
  {
   "cell_type": "code",
   "execution_count": 4,
   "metadata": {},
   "outputs": [
    {
     "name": "stdout",
     "output_type": "stream",
     "text": [
      "Количество дубликатов: 0\n"
     ]
    },
    {
     "data": {
      "text/html": [
       "<div>\n",
       "<style scoped>\n",
       "    .dataframe tbody tr th:only-of-type {\n",
       "        vertical-align: middle;\n",
       "    }\n",
       "\n",
       "    .dataframe tbody tr th {\n",
       "        vertical-align: top;\n",
       "    }\n",
       "\n",
       "    .dataframe thead th {\n",
       "        text-align: right;\n",
       "    }\n",
       "</style>\n",
       "<table border=\"1\" class=\"dataframe\">\n",
       "  <thead>\n",
       "    <tr style=\"text-align: right;\">\n",
       "      <th></th>\n",
       "      <th>author_id</th>\n",
       "      <th>author</th>\n",
       "    </tr>\n",
       "  </thead>\n",
       "  <tbody>\n",
       "    <tr>\n",
       "      <td>0</td>\n",
       "      <td>1</td>\n",
       "      <td>A.S. Byatt</td>\n",
       "    </tr>\n",
       "    <tr>\n",
       "      <td>1</td>\n",
       "      <td>2</td>\n",
       "      <td>Aesop/Laura Harris/Laura Gibbs</td>\n",
       "    </tr>\n",
       "    <tr>\n",
       "      <td>2</td>\n",
       "      <td>3</td>\n",
       "      <td>Agatha Christie</td>\n",
       "    </tr>\n",
       "    <tr>\n",
       "      <td>3</td>\n",
       "      <td>4</td>\n",
       "      <td>Alan Brennert</td>\n",
       "    </tr>\n",
       "    <tr>\n",
       "      <td>4</td>\n",
       "      <td>5</td>\n",
       "      <td>Alan Moore/David   Lloyd</td>\n",
       "    </tr>\n",
       "  </tbody>\n",
       "</table>\n",
       "</div>"
      ],
      "text/plain": [
       "   author_id                          author\n",
       "0          1                      A.S. Byatt\n",
       "1          2  Aesop/Laura Harris/Laura Gibbs\n",
       "2          3                 Agatha Christie\n",
       "3          4                   Alan Brennert\n",
       "4          5        Alan Moore/David   Lloyd"
      ]
     },
     "metadata": {},
     "output_type": "display_data"
    },
    {
     "name": "stdout",
     "output_type": "stream",
     "text": [
      "<class 'pandas.core.frame.DataFrame'>\n",
      "RangeIndex: 636 entries, 0 to 635\n",
      "Data columns (total 2 columns):\n",
      "author_id    636 non-null int64\n",
      "author       636 non-null object\n",
      "dtypes: int64(1), object(1)\n",
      "memory usage: 10.1+ KB\n"
     ]
    },
    {
     "data": {
      "text/plain": [
       "None"
      ]
     },
     "metadata": {},
     "output_type": "display_data"
    }
   ],
   "source": [
    "query = ''' SELECT *\n",
    "            FROM authors;\n",
    "        '''\n",
    "authors = pd.io.sql.read_sql(query, con = engine)\n",
    "#проверим наличие дубликатов:\n",
    "print(f\"Количество дубликатов: {authors.duplicated().sum()}\")\n",
    "display(authors.head())\n",
    "display(authors.info())"
   ]
  },
  {
   "cell_type": "markdown",
   "metadata": {},
   "source": [
    "Вывод:  \n",
    "таблица authors содержит 636 строк и 2 столбца;    \n",
    "пропусков нет, дубликатов нет;  \n",
    "тип столбцов соответствуют."
   ]
  },
  {
   "cell_type": "markdown",
   "metadata": {},
   "source": [
    "### Формируем sql-запрос для таблицы publishers, исследуем ее:"
   ]
  },
  {
   "cell_type": "code",
   "execution_count": 5,
   "metadata": {},
   "outputs": [
    {
     "name": "stdout",
     "output_type": "stream",
     "text": [
      "Количество дубликатов: 0\n"
     ]
    },
    {
     "data": {
      "text/html": [
       "<div>\n",
       "<style scoped>\n",
       "    .dataframe tbody tr th:only-of-type {\n",
       "        vertical-align: middle;\n",
       "    }\n",
       "\n",
       "    .dataframe tbody tr th {\n",
       "        vertical-align: top;\n",
       "    }\n",
       "\n",
       "    .dataframe thead th {\n",
       "        text-align: right;\n",
       "    }\n",
       "</style>\n",
       "<table border=\"1\" class=\"dataframe\">\n",
       "  <thead>\n",
       "    <tr style=\"text-align: right;\">\n",
       "      <th></th>\n",
       "      <th>publisher_id</th>\n",
       "      <th>publisher</th>\n",
       "    </tr>\n",
       "  </thead>\n",
       "  <tbody>\n",
       "    <tr>\n",
       "      <td>0</td>\n",
       "      <td>1</td>\n",
       "      <td>Ace</td>\n",
       "    </tr>\n",
       "    <tr>\n",
       "      <td>1</td>\n",
       "      <td>2</td>\n",
       "      <td>Ace Book</td>\n",
       "    </tr>\n",
       "    <tr>\n",
       "      <td>2</td>\n",
       "      <td>3</td>\n",
       "      <td>Ace Books</td>\n",
       "    </tr>\n",
       "    <tr>\n",
       "      <td>3</td>\n",
       "      <td>4</td>\n",
       "      <td>Ace Hardcover</td>\n",
       "    </tr>\n",
       "    <tr>\n",
       "      <td>4</td>\n",
       "      <td>5</td>\n",
       "      <td>Addison Wesley Publishing Company</td>\n",
       "    </tr>\n",
       "  </tbody>\n",
       "</table>\n",
       "</div>"
      ],
      "text/plain": [
       "   publisher_id                          publisher\n",
       "0             1                                Ace\n",
       "1             2                           Ace Book\n",
       "2             3                          Ace Books\n",
       "3             4                      Ace Hardcover\n",
       "4             5  Addison Wesley Publishing Company"
      ]
     },
     "metadata": {},
     "output_type": "display_data"
    },
    {
     "name": "stdout",
     "output_type": "stream",
     "text": [
      "<class 'pandas.core.frame.DataFrame'>\n",
      "RangeIndex: 340 entries, 0 to 339\n",
      "Data columns (total 2 columns):\n",
      "publisher_id    340 non-null int64\n",
      "publisher       340 non-null object\n",
      "dtypes: int64(1), object(1)\n",
      "memory usage: 5.4+ KB\n"
     ]
    },
    {
     "data": {
      "text/plain": [
       "None"
      ]
     },
     "metadata": {},
     "output_type": "display_data"
    }
   ],
   "source": [
    "query = ''' SELECT *\n",
    "            FROM publishers;\n",
    "        '''\n",
    "publishers = pd.io.sql.read_sql(query, con = engine)\n",
    "#проверим наличие дубликатов:\n",
    "print(f\"Количество дубликатов: {publishers.duplicated().sum()}\")\n",
    "display(publishers.head())\n",
    "display(publishers.info())"
   ]
  },
  {
   "cell_type": "markdown",
   "metadata": {},
   "source": [
    "Вывод:  \n",
    "таблица publishers содержит 340 строк и 2 столбца;    \n",
    "пропусков нет, дубликатов нет;  \n",
    "тип столбцов соответствуют."
   ]
  },
  {
   "cell_type": "markdown",
   "metadata": {},
   "source": [
    "### Формируем sql-запрос для таблицы ratings, исследуем ее:"
   ]
  },
  {
   "cell_type": "code",
   "execution_count": 6,
   "metadata": {},
   "outputs": [
    {
     "name": "stdout",
     "output_type": "stream",
     "text": [
      "Количество дубликатов: 0\n"
     ]
    },
    {
     "data": {
      "text/html": [
       "<div>\n",
       "<style scoped>\n",
       "    .dataframe tbody tr th:only-of-type {\n",
       "        vertical-align: middle;\n",
       "    }\n",
       "\n",
       "    .dataframe tbody tr th {\n",
       "        vertical-align: top;\n",
       "    }\n",
       "\n",
       "    .dataframe thead th {\n",
       "        text-align: right;\n",
       "    }\n",
       "</style>\n",
       "<table border=\"1\" class=\"dataframe\">\n",
       "  <thead>\n",
       "    <tr style=\"text-align: right;\">\n",
       "      <th></th>\n",
       "      <th>rating_id</th>\n",
       "      <th>book_id</th>\n",
       "      <th>username</th>\n",
       "      <th>rating</th>\n",
       "    </tr>\n",
       "  </thead>\n",
       "  <tbody>\n",
       "    <tr>\n",
       "      <td>0</td>\n",
       "      <td>1</td>\n",
       "      <td>1</td>\n",
       "      <td>ryanfranco</td>\n",
       "      <td>4</td>\n",
       "    </tr>\n",
       "    <tr>\n",
       "      <td>1</td>\n",
       "      <td>2</td>\n",
       "      <td>1</td>\n",
       "      <td>grantpatricia</td>\n",
       "      <td>2</td>\n",
       "    </tr>\n",
       "    <tr>\n",
       "      <td>2</td>\n",
       "      <td>3</td>\n",
       "      <td>1</td>\n",
       "      <td>brandtandrea</td>\n",
       "      <td>5</td>\n",
       "    </tr>\n",
       "    <tr>\n",
       "      <td>3</td>\n",
       "      <td>4</td>\n",
       "      <td>2</td>\n",
       "      <td>lorichen</td>\n",
       "      <td>3</td>\n",
       "    </tr>\n",
       "    <tr>\n",
       "      <td>4</td>\n",
       "      <td>5</td>\n",
       "      <td>2</td>\n",
       "      <td>mariokeller</td>\n",
       "      <td>2</td>\n",
       "    </tr>\n",
       "  </tbody>\n",
       "</table>\n",
       "</div>"
      ],
      "text/plain": [
       "   rating_id  book_id       username  rating\n",
       "0          1        1     ryanfranco       4\n",
       "1          2        1  grantpatricia       2\n",
       "2          3        1   brandtandrea       5\n",
       "3          4        2       lorichen       3\n",
       "4          5        2    mariokeller       2"
      ]
     },
     "metadata": {},
     "output_type": "display_data"
    },
    {
     "name": "stdout",
     "output_type": "stream",
     "text": [
      "<class 'pandas.core.frame.DataFrame'>\n",
      "RangeIndex: 6456 entries, 0 to 6455\n",
      "Data columns (total 4 columns):\n",
      "rating_id    6456 non-null int64\n",
      "book_id      6456 non-null int64\n",
      "username     6456 non-null object\n",
      "rating       6456 non-null int64\n",
      "dtypes: int64(3), object(1)\n",
      "memory usage: 201.9+ KB\n"
     ]
    },
    {
     "data": {
      "text/plain": [
       "None"
      ]
     },
     "metadata": {},
     "output_type": "display_data"
    }
   ],
   "source": [
    "query = ''' SELECT *\n",
    "            FROM ratings;\n",
    "        '''\n",
    "ratings = pd.io.sql.read_sql(query, con = engine)\n",
    "#проверим наличие дубликатов:\n",
    "print(f\"Количество дубликатов: {ratings.duplicated().sum()}\")\n",
    "display(ratings.head())\n",
    "display(ratings.info())"
   ]
  },
  {
   "cell_type": "markdown",
   "metadata": {},
   "source": [
    "Вывод:  \n",
    "таблица ratings содержит 6456 строк и 4 столбца;    \n",
    "пропусков нет, дубликатов нет;  \n",
    "тип столбцов соответствуют."
   ]
  },
  {
   "cell_type": "markdown",
   "metadata": {},
   "source": [
    "### Формируем sql-запрос для таблицы reviews, исследуем ее:"
   ]
  },
  {
   "cell_type": "code",
   "execution_count": 7,
   "metadata": {},
   "outputs": [
    {
     "name": "stdout",
     "output_type": "stream",
     "text": [
      "Количество дубликатов: 0\n"
     ]
    },
    {
     "data": {
      "text/html": [
       "<div>\n",
       "<style scoped>\n",
       "    .dataframe tbody tr th:only-of-type {\n",
       "        vertical-align: middle;\n",
       "    }\n",
       "\n",
       "    .dataframe tbody tr th {\n",
       "        vertical-align: top;\n",
       "    }\n",
       "\n",
       "    .dataframe thead th {\n",
       "        text-align: right;\n",
       "    }\n",
       "</style>\n",
       "<table border=\"1\" class=\"dataframe\">\n",
       "  <thead>\n",
       "    <tr style=\"text-align: right;\">\n",
       "      <th></th>\n",
       "      <th>review_id</th>\n",
       "      <th>book_id</th>\n",
       "      <th>username</th>\n",
       "      <th>text</th>\n",
       "    </tr>\n",
       "  </thead>\n",
       "  <tbody>\n",
       "    <tr>\n",
       "      <td>0</td>\n",
       "      <td>1</td>\n",
       "      <td>1</td>\n",
       "      <td>brandtandrea</td>\n",
       "      <td>Mention society tell send professor analysis. Over provide race technology continue these.</td>\n",
       "    </tr>\n",
       "    <tr>\n",
       "      <td>1</td>\n",
       "      <td>2</td>\n",
       "      <td>1</td>\n",
       "      <td>ryanfranco</td>\n",
       "      <td>Foot glass pretty audience hit themselves. Among admit investment argue security.</td>\n",
       "    </tr>\n",
       "    <tr>\n",
       "      <td>2</td>\n",
       "      <td>3</td>\n",
       "      <td>2</td>\n",
       "      <td>lorichen</td>\n",
       "      <td>Listen treat keep worry. Miss husband tax but person sport treatment industry. Kitchen decision deep the. Social party body the.</td>\n",
       "    </tr>\n",
       "    <tr>\n",
       "      <td>3</td>\n",
       "      <td>4</td>\n",
       "      <td>3</td>\n",
       "      <td>johnsonamanda</td>\n",
       "      <td>Finally month interesting blue could nature cultural bit. Prepare beat finish grow that smile teach. Dream me play near.</td>\n",
       "    </tr>\n",
       "    <tr>\n",
       "      <td>4</td>\n",
       "      <td>5</td>\n",
       "      <td>3</td>\n",
       "      <td>scotttamara</td>\n",
       "      <td>Nation purpose heavy give wait song will. List dinner another whole positive radio fast. Music staff many green.</td>\n",
       "    </tr>\n",
       "  </tbody>\n",
       "</table>\n",
       "</div>"
      ],
      "text/plain": [
       "   review_id  book_id       username  \\\n",
       "0          1        1   brandtandrea   \n",
       "1          2        1     ryanfranco   \n",
       "2          3        2       lorichen   \n",
       "3          4        3  johnsonamanda   \n",
       "4          5        3    scotttamara   \n",
       "\n",
       "                                                                                                                               text  \n",
       "0                                        Mention society tell send professor analysis. Over provide race technology continue these.  \n",
       "1                                                 Foot glass pretty audience hit themselves. Among admit investment argue security.  \n",
       "2  Listen treat keep worry. Miss husband tax but person sport treatment industry. Kitchen decision deep the. Social party body the.  \n",
       "3          Finally month interesting blue could nature cultural bit. Prepare beat finish grow that smile teach. Dream me play near.  \n",
       "4                  Nation purpose heavy give wait song will. List dinner another whole positive radio fast. Music staff many green.  "
      ]
     },
     "metadata": {},
     "output_type": "display_data"
    },
    {
     "name": "stdout",
     "output_type": "stream",
     "text": [
      "<class 'pandas.core.frame.DataFrame'>\n",
      "RangeIndex: 2793 entries, 0 to 2792\n",
      "Data columns (total 4 columns):\n",
      "review_id    2793 non-null int64\n",
      "book_id      2793 non-null int64\n",
      "username     2793 non-null object\n",
      "text         2793 non-null object\n",
      "dtypes: int64(2), object(2)\n",
      "memory usage: 87.4+ KB\n"
     ]
    },
    {
     "data": {
      "text/plain": [
       "None"
      ]
     },
     "metadata": {},
     "output_type": "display_data"
    }
   ],
   "source": [
    "query = ''' SELECT *\n",
    "            FROM reviews;\n",
    "        '''\n",
    "reviews = pd.io.sql.read_sql(query, con = engine)\n",
    "pd.set_option('display.max_columns', None)\n",
    "pd.options.display.max_colwidth = 150\n",
    "#проверим наличие дубликатов:\n",
    "print(f\"Количество дубликатов: {reviews.duplicated().sum()}\")\n",
    "display(reviews.head())\n",
    "display(reviews.info())"
   ]
  },
  {
   "cell_type": "markdown",
   "metadata": {},
   "source": [
    "Вывод:  \n",
    "таблица reviews содержит 2793 строки и 4 столбца;    \n",
    "пропусков нет, дубликатов нет;  \n",
    "тип столбцов соответствуют."
   ]
  },
  {
   "cell_type": "markdown",
   "metadata": {},
   "source": [
    "## Решение заданий:"
   ]
  },
  {
   "cell_type": "markdown",
   "metadata": {},
   "source": [
    "### Посчитайте, сколько книг вышло после 1 января 2000 года:"
   ]
  },
  {
   "cell_type": "code",
   "execution_count": 8,
   "metadata": {},
   "outputs": [
    {
     "data": {
      "text/html": [
       "<div>\n",
       "<style scoped>\n",
       "    .dataframe tbody tr th:only-of-type {\n",
       "        vertical-align: middle;\n",
       "    }\n",
       "\n",
       "    .dataframe tbody tr th {\n",
       "        vertical-align: top;\n",
       "    }\n",
       "\n",
       "    .dataframe thead th {\n",
       "        text-align: right;\n",
       "    }\n",
       "</style>\n",
       "<table border=\"1\" class=\"dataframe\">\n",
       "  <thead>\n",
       "    <tr style=\"text-align: right;\">\n",
       "      <th></th>\n",
       "      <th>cnt</th>\n",
       "    </tr>\n",
       "  </thead>\n",
       "  <tbody>\n",
       "    <tr>\n",
       "      <td>0</td>\n",
       "      <td>819</td>\n",
       "    </tr>\n",
       "  </tbody>\n",
       "</table>\n",
       "</div>"
      ],
      "text/plain": [
       "   cnt\n",
       "0  819"
      ]
     },
     "execution_count": 8,
     "metadata": {},
     "output_type": "execute_result"
    }
   ],
   "source": [
    "query = ''' SELECT\n",
    "               COUNT(title) AS cnt \n",
    "            FROM\n",
    "                books\n",
    "            WHERE\n",
    "                publication_date :: date > '2000-01-01';\n",
    "        '''\n",
    "\n",
    "books = pd.io.sql.read_sql(query, con = engine)\n",
    "books"
   ]
  },
  {
   "cell_type": "markdown",
   "metadata": {},
   "source": [
    "Вывод:  \n",
    "после 1 января 2000 года вышло 819 книг"
   ]
  },
  {
   "cell_type": "markdown",
   "metadata": {},
   "source": [
    "### Для каждой книги посчитайте количество обзоров и среднюю оценку"
   ]
  },
  {
   "cell_type": "code",
   "execution_count": 9,
   "metadata": {},
   "outputs": [
    {
     "data": {
      "text/html": [
       "<div>\n",
       "<style scoped>\n",
       "    .dataframe tbody tr th:only-of-type {\n",
       "        vertical-align: middle;\n",
       "    }\n",
       "\n",
       "    .dataframe tbody tr th {\n",
       "        vertical-align: top;\n",
       "    }\n",
       "\n",
       "    .dataframe thead th {\n",
       "        text-align: right;\n",
       "    }\n",
       "</style>\n",
       "<table border=\"1\" class=\"dataframe\">\n",
       "  <thead>\n",
       "    <tr style=\"text-align: right;\">\n",
       "      <th></th>\n",
       "      <th>book_id</th>\n",
       "      <th>title</th>\n",
       "      <th>review_cnt</th>\n",
       "      <th>avg_rating</th>\n",
       "    </tr>\n",
       "  </thead>\n",
       "  <tbody>\n",
       "    <tr>\n",
       "      <td>0</td>\n",
       "      <td>948</td>\n",
       "      <td>Twilight (Twilight  #1)</td>\n",
       "      <td>7</td>\n",
       "      <td>3.662500</td>\n",
       "    </tr>\n",
       "    <tr>\n",
       "      <td>1</td>\n",
       "      <td>963</td>\n",
       "      <td>Water for Elephants</td>\n",
       "      <td>6</td>\n",
       "      <td>3.977273</td>\n",
       "    </tr>\n",
       "    <tr>\n",
       "      <td>2</td>\n",
       "      <td>734</td>\n",
       "      <td>The Glass Castle</td>\n",
       "      <td>6</td>\n",
       "      <td>4.206897</td>\n",
       "    </tr>\n",
       "    <tr>\n",
       "      <td>3</td>\n",
       "      <td>302</td>\n",
       "      <td>Harry Potter and the Prisoner of Azkaban (Harry Potter  #3)</td>\n",
       "      <td>6</td>\n",
       "      <td>4.414634</td>\n",
       "    </tr>\n",
       "    <tr>\n",
       "      <td>4</td>\n",
       "      <td>695</td>\n",
       "      <td>The Curious Incident of the Dog in the Night-Time</td>\n",
       "      <td>6</td>\n",
       "      <td>4.081081</td>\n",
       "    </tr>\n",
       "    <tr>\n",
       "      <td>...</td>\n",
       "      <td>...</td>\n",
       "      <td>...</td>\n",
       "      <td>...</td>\n",
       "      <td>...</td>\n",
       "    </tr>\n",
       "    <tr>\n",
       "      <td>995</td>\n",
       "      <td>83</td>\n",
       "      <td>Anne Rice's The Vampire Lestat: A Graphic Novel</td>\n",
       "      <td>0</td>\n",
       "      <td>3.666667</td>\n",
       "    </tr>\n",
       "    <tr>\n",
       "      <td>996</td>\n",
       "      <td>808</td>\n",
       "      <td>The Natural Way to Draw</td>\n",
       "      <td>0</td>\n",
       "      <td>3.000000</td>\n",
       "    </tr>\n",
       "    <tr>\n",
       "      <td>997</td>\n",
       "      <td>672</td>\n",
       "      <td>The Cat in the Hat and Other Dr. Seuss Favorites</td>\n",
       "      <td>0</td>\n",
       "      <td>5.000000</td>\n",
       "    </tr>\n",
       "    <tr>\n",
       "      <td>998</td>\n",
       "      <td>221</td>\n",
       "      <td>Essential Tales and Poems</td>\n",
       "      <td>0</td>\n",
       "      <td>4.000000</td>\n",
       "    </tr>\n",
       "    <tr>\n",
       "      <td>999</td>\n",
       "      <td>191</td>\n",
       "      <td>Disney's Beauty and the Beast (A Little Golden Book)</td>\n",
       "      <td>0</td>\n",
       "      <td>4.000000</td>\n",
       "    </tr>\n",
       "  </tbody>\n",
       "</table>\n",
       "<p>1000 rows × 4 columns</p>\n",
       "</div>"
      ],
      "text/plain": [
       "     book_id                                                        title  \\\n",
       "0        948                                      Twilight (Twilight  #1)   \n",
       "1        963                                          Water for Elephants   \n",
       "2        734                                             The Glass Castle   \n",
       "3        302  Harry Potter and the Prisoner of Azkaban (Harry Potter  #3)   \n",
       "4        695            The Curious Incident of the Dog in the Night-Time   \n",
       "..       ...                                                          ...   \n",
       "995       83              Anne Rice's The Vampire Lestat: A Graphic Novel   \n",
       "996      808                                      The Natural Way to Draw   \n",
       "997      672             The Cat in the Hat and Other Dr. Seuss Favorites   \n",
       "998      221                                    Essential Tales and Poems   \n",
       "999      191         Disney's Beauty and the Beast (A Little Golden Book)   \n",
       "\n",
       "     review_cnt  avg_rating  \n",
       "0             7    3.662500  \n",
       "1             6    3.977273  \n",
       "2             6    4.206897  \n",
       "3             6    4.414634  \n",
       "4             6    4.081081  \n",
       "..          ...         ...  \n",
       "995           0    3.666667  \n",
       "996           0    3.000000  \n",
       "997           0    5.000000  \n",
       "998           0    4.000000  \n",
       "999           0    4.000000  \n",
       "\n",
       "[1000 rows x 4 columns]"
      ]
     },
     "execution_count": 9,
     "metadata": {},
     "output_type": "execute_result"
    }
   ],
   "source": [
    "query = '''\n",
    "SELECT\n",
    "    books.book_id,\n",
    "    books.title,\n",
    "    COUNT(DISTINCT review_id) as review_cnt,\n",
    "    AVG(rating) as avg_rating\n",
    "FROM \n",
    "    books\n",
    "    LEFT JOIN reviews ON  reviews.book_id = books.book_id\n",
    "    INNER JOIN ratings ON  ratings.book_id = books.book_id\n",
    "GROUP BY\n",
    "    books.book_id\n",
    "ORDER BY\n",
    "    review_cnt DESC\n",
    ";\n",
    "        '''\n",
    "books = pd.io.sql.read_sql(query, con = engine)\n",
    "books"
   ]
  },
  {
   "cell_type": "markdown",
   "metadata": {},
   "source": [
    "Вывод:  \n",
    "Больше всего пользовательских обзоров (7) было написано для книги Twilight (Twilight #1)"
   ]
  },
  {
   "cell_type": "markdown",
   "metadata": {},
   "source": [
    "### Определите издательство, которое выпустило наибольшее число книг толще 50 страниц — так вы исключите из анализа брошюры"
   ]
  },
  {
   "cell_type": "code",
   "execution_count": 10,
   "metadata": {},
   "outputs": [
    {
     "data": {
      "text/html": [
       "<div>\n",
       "<style scoped>\n",
       "    .dataframe tbody tr th:only-of-type {\n",
       "        vertical-align: middle;\n",
       "    }\n",
       "\n",
       "    .dataframe tbody tr th {\n",
       "        vertical-align: top;\n",
       "    }\n",
       "\n",
       "    .dataframe thead th {\n",
       "        text-align: right;\n",
       "    }\n",
       "</style>\n",
       "<table border=\"1\" class=\"dataframe\">\n",
       "  <thead>\n",
       "    <tr style=\"text-align: right;\">\n",
       "      <th></th>\n",
       "      <th>publisher</th>\n",
       "      <th>book_cnt</th>\n",
       "    </tr>\n",
       "  </thead>\n",
       "  <tbody>\n",
       "    <tr>\n",
       "      <td>0</td>\n",
       "      <td>Penguin Books</td>\n",
       "      <td>42</td>\n",
       "    </tr>\n",
       "  </tbody>\n",
       "</table>\n",
       "</div>"
      ],
      "text/plain": [
       "       publisher  book_cnt\n",
       "0  Penguin Books        42"
      ]
     },
     "execution_count": 10,
     "metadata": {},
     "output_type": "execute_result"
    }
   ],
   "source": [
    "query = '''\n",
    "SELECT\n",
    "    publisher,\n",
    "    COUNT(book_id) as book_cnt\n",
    "FROM\n",
    "    publishers\n",
    "LEFT JOIN books ON  books.publisher_id = publishers.publisher_id \n",
    "WHERE \n",
    "    num_pages > 50\n",
    "GROUP BY\n",
    "    publisher\n",
    "ORDER BY\n",
    "    book_cnt DESC\n",
    "LIMIT 1;\n",
    "'''\n",
    "books = pd.io.sql.read_sql(query, con = engine)\n",
    "books"
   ]
  },
  {
   "cell_type": "markdown",
   "metadata": {},
   "source": [
    "Вывод:  \n",
    "Penguin Books - издательство, которое выпустило наибольшее число книг (42 книги) толще 50 страниц"
   ]
  },
  {
   "cell_type": "markdown",
   "metadata": {},
   "source": [
    "### Определите автора с самой высокой средней оценкой книг — учитывайте только книги с 50 и более оценками"
   ]
  },
  {
   "cell_type": "code",
   "execution_count": 11,
   "metadata": {},
   "outputs": [
    {
     "data": {
      "text/html": [
       "<div>\n",
       "<style scoped>\n",
       "    .dataframe tbody tr th:only-of-type {\n",
       "        vertical-align: middle;\n",
       "    }\n",
       "\n",
       "    .dataframe tbody tr th {\n",
       "        vertical-align: top;\n",
       "    }\n",
       "\n",
       "    .dataframe thead th {\n",
       "        text-align: right;\n",
       "    }\n",
       "</style>\n",
       "<table border=\"1\" class=\"dataframe\">\n",
       "  <thead>\n",
       "    <tr style=\"text-align: right;\">\n",
       "      <th></th>\n",
       "      <th>author</th>\n",
       "      <th>total_avg_rating</th>\n",
       "    </tr>\n",
       "  </thead>\n",
       "  <tbody>\n",
       "    <tr>\n",
       "      <td>0</td>\n",
       "      <td>J.K. Rowling/Mary GrandPré</td>\n",
       "      <td>4.283844</td>\n",
       "    </tr>\n",
       "  </tbody>\n",
       "</table>\n",
       "</div>"
      ],
      "text/plain": [
       "                       author  total_avg_rating\n",
       "0  J.K. Rowling/Mary GrandPré          4.283844"
      ]
     },
     "execution_count": 11,
     "metadata": {},
     "output_type": "execute_result"
    }
   ],
   "source": [
    "query = '''\n",
    "SELECT\n",
    "    author,\n",
    "    AVG(sub.avg_rating) as total_avg_rating\n",
    "FROM\n",
    "    (SELECT\n",
    "        author,\n",
    "        books.book_id,\n",
    "        AVG(rating) as avg_rating\n",
    "    FROM \n",
    "        authors\n",
    "    LEFT JOIN books ON books.author_id = authors.author_id\n",
    "    LEFT JOIN ratings ON ratings.book_id = books.book_id\n",
    "    GROUP BY\n",
    "        author,\n",
    "        books.book_id\n",
    "    HAVING\n",
    "        COUNT(rating) > 50) as sub\n",
    "GROUP BY\n",
    "    author\n",
    "ORDER BY\n",
    "    total_avg_rating DESC\n",
    "LIMIT 1;\n",
    "'''\n",
    "books = pd.io.sql.read_sql(query, con = engine)\n",
    "books"
   ]
  },
  {
   "cell_type": "markdown",
   "metadata": {},
   "source": [
    "Вывод:  \n",
    "J.K. Rowling/Mary GrandPré\t - автор с самой высокой средней оценкой книг, учитывая только книги с 50 и более оценками"
   ]
  },
  {
   "cell_type": "markdown",
   "metadata": {},
   "source": [
    "### Посчитайте среднее количество обзоров от пользователей, которые поставили больше 50 оценок."
   ]
  },
  {
   "cell_type": "code",
   "execution_count": 12,
   "metadata": {},
   "outputs": [
    {
     "data": {
      "text/html": [
       "<div>\n",
       "<style scoped>\n",
       "    .dataframe tbody tr th:only-of-type {\n",
       "        vertical-align: middle;\n",
       "    }\n",
       "\n",
       "    .dataframe tbody tr th {\n",
       "        vertical-align: top;\n",
       "    }\n",
       "\n",
       "    .dataframe thead th {\n",
       "        text-align: right;\n",
       "    }\n",
       "</style>\n",
       "<table border=\"1\" class=\"dataframe\">\n",
       "  <thead>\n",
       "    <tr style=\"text-align: right;\">\n",
       "      <th></th>\n",
       "      <th>avg_text_cnt</th>\n",
       "    </tr>\n",
       "  </thead>\n",
       "  <tbody>\n",
       "    <tr>\n",
       "      <td>0</td>\n",
       "      <td>24.0</td>\n",
       "    </tr>\n",
       "  </tbody>\n",
       "</table>\n",
       "</div>"
      ],
      "text/plain": [
       "   avg_text_cnt\n",
       "0          24.0"
      ]
     },
     "execution_count": 12,
     "metadata": {},
     "output_type": "execute_result"
    }
   ],
   "source": [
    "query = '''\n",
    "SELECT\n",
    "    ROUND(AVG(sub_text_cnt.text_cnt)) AS avg_text_cnt\n",
    "FROM\n",
    "    (SELECT\n",
    "        COUNT(text) as text_cnt\n",
    "    FROM \n",
    "        reviews\n",
    "    WHERE username IN\n",
    "        (SELECT username\n",
    "        FROM \n",
    "            ratings\n",
    "        GROUP BY\n",
    "            username\n",
    "        HAVING\n",
    "            COUNT(ratings) > 50)\n",
    "    GROUP BY \n",
    "            username\n",
    "    ) AS sub_text_cnt\n",
    ";\n",
    "'''\n",
    "books = pd.io.sql.read_sql(query, con = engine)\n",
    "books"
   ]
  },
  {
   "cell_type": "markdown",
   "metadata": {},
   "source": [
    "Вывод:  \n",
    "среднее количество обзоров от пользователей, которые поставили больше 50 оценок - 24"
   ]
  },
  {
   "cell_type": "markdown",
   "metadata": {},
   "source": [
    "## Общий вывод:"
   ]
  },
  {
   "cell_type": "markdown",
   "metadata": {},
   "source": [
    "После 1 января 2000 года вышло 819 книг    \n",
    "Больше всего пользовательских обзоров (7) было написано для книги Twilight (Twilight #1)  \n",
    "Penguin Books - издательство, которое выпустило наибольшее число книг (42 книги) толще 50 страниц  \n",
    "J.K. Rowling/Mary GrandPré - автор с самой высокой средней оценкой книг, учитывая только книги с 50 и более оценками  \n",
    "Среднее количество обзоров от пользователей, которые поставили больше 50 оценок - 24  \n",
    "\n",
    "Таким образом, интереснее предлагать читателям книги формата аналогичного книги Twilight, книги печатающиеся в издательстве  \n",
    "Penguin Books, а так же книги автора J.K. Rowling/Mary GrandPré."
   ]
  }
 ],
 "metadata": {
  "ExecuteTimeLog": [
   {
    "duration": 133,
    "start_time": "2021-09-16T09:54:47.741Z"
   },
   {
    "duration": 59,
    "start_time": "2021-09-16T09:54:47.817Z"
   },
   {
    "duration": 118,
    "start_time": "2021-09-16T10:06:06.187Z"
   },
   {
    "duration": 81,
    "start_time": "2021-09-16T10:06:06.230Z"
   },
   {
    "duration": 118,
    "start_time": "2021-09-16T10:07:11.038Z"
   },
   {
    "duration": 133,
    "start_time": "2021-09-16T10:07:58.447Z"
   },
   {
    "duration": 438,
    "start_time": "2021-09-16T10:08:05.583Z"
   },
   {
    "duration": 124,
    "start_time": "2021-09-16T10:08:15.674Z"
   },
   {
    "duration": 64,
    "start_time": "2021-09-16T10:08:15.737Z"
   },
   {
    "duration": 411,
    "start_time": "2021-09-16T10:08:19.442Z"
   },
   {
    "duration": 905,
    "start_time": "2021-09-16T10:12:17.730Z"
   },
   {
    "duration": 539,
    "start_time": "2021-09-16T10:12:23.802Z"
   },
   {
    "duration": 902,
    "start_time": "2021-09-16T10:12:46.334Z"
   },
   {
    "duration": 468,
    "start_time": "2021-09-16T10:12:47.238Z"
   },
   {
    "duration": 48,
    "start_time": "2021-09-16T10:21:30.883Z"
   },
   {
    "duration": 33,
    "start_time": "2021-09-16T10:23:28.403Z"
   },
   {
    "duration": 31,
    "start_time": "2021-09-16T10:24:48.585Z"
   },
   {
    "duration": 31,
    "start_time": "2021-09-16T10:27:57.867Z"
   },
   {
    "duration": 150,
    "start_time": "2021-09-16T10:31:20.602Z"
   },
   {
    "duration": 35,
    "start_time": "2021-09-16T10:36:42.210Z"
   },
   {
    "duration": 1947,
    "start_time": "2021-09-16T10:40:34.553Z"
   },
   {
    "duration": 61,
    "start_time": "2021-09-16T10:40:36.503Z"
   },
   {
    "duration": 836,
    "start_time": "2021-09-16T13:13:44.845Z"
   },
   {
    "duration": 38,
    "start_time": "2021-09-16T13:13:45.683Z"
   },
   {
    "duration": 77,
    "start_time": "2021-09-16T13:13:45.724Z"
   },
   {
    "duration": 27,
    "start_time": "2021-09-16T13:13:45.805Z"
   },
   {
    "duration": 26,
    "start_time": "2021-09-16T13:14:00.788Z"
   },
   {
    "duration": 29,
    "start_time": "2021-09-16T13:16:36.564Z"
   },
   {
    "duration": 46,
    "start_time": "2021-09-16T13:18:42.597Z"
   },
   {
    "duration": 39,
    "start_time": "2021-09-16T13:21:02.789Z"
   },
   {
    "duration": 903,
    "start_time": "2021-09-16T13:22:20.309Z"
   },
   {
    "duration": 45,
    "start_time": "2021-09-16T13:22:21.214Z"
   },
   {
    "duration": 71,
    "start_time": "2021-09-16T13:22:21.263Z"
   },
   {
    "duration": 25,
    "start_time": "2021-09-16T13:22:21.337Z"
   },
   {
    "duration": 23,
    "start_time": "2021-09-16T13:22:21.365Z"
   },
   {
    "duration": 74,
    "start_time": "2021-09-16T13:22:21.390Z"
   },
   {
    "duration": 36,
    "start_time": "2021-09-16T13:22:21.466Z"
   },
   {
    "duration": 14,
    "start_time": "2021-09-16T13:38:42.090Z"
   },
   {
    "duration": 9,
    "start_time": "2021-09-16T13:38:56.332Z"
   },
   {
    "duration": 14,
    "start_time": "2021-09-16T13:39:06.508Z"
   },
   {
    "duration": 9027,
    "start_time": "2021-09-16T13:43:43.780Z"
   },
   {
    "duration": 975,
    "start_time": "2021-09-16T13:43:56.077Z"
   },
   {
    "duration": 52,
    "start_time": "2021-09-16T13:43:57.057Z"
   },
   {
    "duration": 69,
    "start_time": "2021-09-16T13:43:57.113Z"
   },
   {
    "duration": 144,
    "start_time": "2021-09-16T13:44:11.850Z"
   },
   {
    "duration": 143,
    "start_time": "2021-09-16T13:44:11.853Z"
   },
   {
    "duration": 137,
    "start_time": "2021-09-16T13:44:11.860Z"
   },
   {
    "duration": 131,
    "start_time": "2021-09-16T13:44:11.868Z"
   },
   {
    "duration": 120,
    "start_time": "2021-09-16T13:44:11.881Z"
   },
   {
    "duration": 116,
    "start_time": "2021-09-16T13:44:11.887Z"
   },
   {
    "duration": 1026,
    "start_time": "2021-09-16T13:44:27.924Z"
   },
   {
    "duration": 41,
    "start_time": "2021-09-16T13:44:28.957Z"
   },
   {
    "duration": 65,
    "start_time": "2021-09-16T13:44:29.001Z"
   },
   {
    "duration": 24,
    "start_time": "2021-09-16T13:44:29.068Z"
   },
   {
    "duration": 60,
    "start_time": "2021-09-16T13:44:29.095Z"
   },
   {
    "duration": 23,
    "start_time": "2021-09-16T13:44:29.158Z"
   },
   {
    "duration": 73,
    "start_time": "2021-09-16T13:44:29.183Z"
   },
   {
    "duration": 38,
    "start_time": "2021-09-16T13:44:29.259Z"
   },
   {
    "duration": 15,
    "start_time": "2021-09-16T13:44:29.300Z"
   },
   {
    "duration": 11440,
    "start_time": "2021-09-16T13:45:20.357Z"
   },
   {
    "duration": 914,
    "start_time": "2021-09-16T13:46:25.256Z"
   },
   {
    "duration": 45,
    "start_time": "2021-09-16T13:46:26.172Z"
   },
   {
    "duration": 81,
    "start_time": "2021-09-16T13:46:26.220Z"
   },
   {
    "duration": 1459,
    "start_time": "2021-09-16T13:46:26.305Z"
   },
   {
    "duration": 24,
    "start_time": "2021-09-16T13:46:27.767Z"
   },
   {
    "duration": 62,
    "start_time": "2021-09-16T13:46:27.794Z"
   },
   {
    "duration": 46,
    "start_time": "2021-09-16T13:46:27.858Z"
   },
   {
    "duration": 60,
    "start_time": "2021-09-16T13:46:27.907Z"
   },
   {
    "duration": 14,
    "start_time": "2021-09-16T13:46:27.970Z"
   },
   {
    "duration": 10053,
    "start_time": "2021-09-16T13:46:52.100Z"
   },
   {
    "duration": 897,
    "start_time": "2021-09-16T13:47:07.356Z"
   },
   {
    "duration": 39,
    "start_time": "2021-09-16T13:47:08.255Z"
   },
   {
    "duration": 65,
    "start_time": "2021-09-16T13:47:08.297Z"
   },
   {
    "duration": 1126,
    "start_time": "2021-09-16T13:47:08.365Z"
   },
   {
    "duration": 41,
    "start_time": "2021-09-16T13:47:09.493Z"
   },
   {
    "duration": 37,
    "start_time": "2021-09-16T13:47:09.537Z"
   },
   {
    "duration": 45,
    "start_time": "2021-09-16T13:47:09.577Z"
   },
   {
    "duration": 65,
    "start_time": "2021-09-16T13:47:09.625Z"
   },
   {
    "duration": 13,
    "start_time": "2021-09-16T13:47:09.693Z"
   },
   {
    "duration": 2070,
    "start_time": "2021-09-16T13:47:45.060Z"
   },
   {
    "duration": 61,
    "start_time": "2021-09-16T13:47:47.133Z"
   },
   {
    "duration": 67,
    "start_time": "2021-09-16T13:47:47.198Z"
   },
   {
    "duration": 42,
    "start_time": "2021-09-16T13:47:47.269Z"
   },
   {
    "duration": 72,
    "start_time": "2021-09-16T13:47:47.314Z"
   },
   {
    "duration": 26,
    "start_time": "2021-09-16T13:47:47.389Z"
   },
   {
    "duration": 95,
    "start_time": "2021-09-16T13:47:47.417Z"
   },
   {
    "duration": 78,
    "start_time": "2021-09-16T13:47:47.516Z"
   },
   {
    "duration": 14,
    "start_time": "2021-09-16T13:47:47.597Z"
   },
   {
    "duration": 11,
    "start_time": "2021-09-16T14:10:29.073Z"
   },
   {
    "duration": 13,
    "start_time": "2021-09-16T14:11:19.689Z"
   },
   {
    "duration": 15,
    "start_time": "2021-09-16T14:14:07.577Z"
   },
   {
    "duration": 415,
    "start_time": "2021-09-16T16:32:01.399Z"
   },
   {
    "duration": 2061,
    "start_time": "2021-09-16T16:32:31.344Z"
   },
   {
    "duration": 40,
    "start_time": "2021-09-16T16:32:33.408Z"
   },
   {
    "duration": 197,
    "start_time": "2021-09-16T16:32:33.451Z"
   },
   {
    "duration": 27,
    "start_time": "2021-09-16T16:32:33.650Z"
   },
   {
    "duration": 76,
    "start_time": "2021-09-16T16:32:33.679Z"
   },
   {
    "duration": 65,
    "start_time": "2021-09-16T16:32:33.758Z"
   },
   {
    "duration": 113,
    "start_time": "2021-09-16T16:32:33.825Z"
   },
   {
    "duration": 19,
    "start_time": "2021-09-16T16:32:33.943Z"
   },
   {
    "duration": 98,
    "start_time": "2021-09-16T16:32:33.965Z"
   },
   {
    "duration": 18,
    "start_time": "2021-09-16T16:32:34.067Z"
   },
   {
    "duration": 56,
    "start_time": "2021-09-16T16:32:34.088Z"
   },
   {
    "duration": 3,
    "start_time": "2021-09-16T16:32:34.147Z"
   },
   {
    "duration": 69,
    "start_time": "2021-09-16T16:33:38.849Z"
   },
   {
    "duration": 2047,
    "start_time": "2021-09-16T16:36:28.771Z"
   },
   {
    "duration": 54,
    "start_time": "2021-09-16T16:36:30.824Z"
   },
   {
    "duration": 244,
    "start_time": "2021-09-16T16:36:30.881Z"
   },
   {
    "duration": 23,
    "start_time": "2021-09-16T16:36:31.128Z"
   },
   {
    "duration": 160,
    "start_time": "2021-09-16T16:36:31.153Z"
   },
   {
    "duration": 69,
    "start_time": "2021-09-16T16:36:31.316Z"
   },
   {
    "duration": 82,
    "start_time": "2021-09-16T16:36:31.389Z"
   },
   {
    "duration": 16,
    "start_time": "2021-09-16T16:36:31.475Z"
   },
   {
    "duration": 84,
    "start_time": "2021-09-16T16:36:31.495Z"
   },
   {
    "duration": 16,
    "start_time": "2021-09-16T16:36:31.582Z"
   },
   {
    "duration": 70,
    "start_time": "2021-09-16T16:36:31.601Z"
   },
   {
    "duration": 4,
    "start_time": "2021-09-16T16:36:31.675Z"
   },
   {
    "duration": 11,
    "start_time": "2021-09-16T16:52:33.001Z"
   },
   {
    "duration": 2383,
    "start_time": "2021-09-16T16:54:22.493Z"
   },
   {
    "duration": 47,
    "start_time": "2021-09-16T16:54:24.879Z"
   },
   {
    "duration": 271,
    "start_time": "2021-09-16T16:54:24.929Z"
   },
   {
    "duration": 33,
    "start_time": "2021-09-16T16:54:25.202Z"
   },
   {
    "duration": 77,
    "start_time": "2021-09-16T16:54:25.263Z"
   },
   {
    "duration": 72,
    "start_time": "2021-09-16T16:54:25.343Z"
   },
   {
    "duration": 113,
    "start_time": "2021-09-16T16:54:25.417Z"
   },
   {
    "duration": 13,
    "start_time": "2021-09-16T16:54:25.534Z"
   },
   {
    "duration": 98,
    "start_time": "2021-09-16T16:54:25.550Z"
   },
   {
    "duration": 15,
    "start_time": "2021-09-16T16:54:25.650Z"
   },
   {
    "duration": 60,
    "start_time": "2021-09-16T16:54:25.667Z"
   },
   {
    "duration": 108,
    "start_time": "2021-09-16T16:54:25.730Z"
   },
   {
    "duration": 498,
    "start_time": "2021-09-16T17:24:29.090Z"
   },
   {
    "duration": 2025,
    "start_time": "2021-09-16T17:25:23.295Z"
   },
   {
    "duration": 54,
    "start_time": "2021-09-16T17:25:25.324Z"
   },
   {
    "duration": 256,
    "start_time": "2021-09-16T17:25:25.381Z"
   },
   {
    "duration": 31,
    "start_time": "2021-09-16T17:25:25.639Z"
   },
   {
    "duration": 99,
    "start_time": "2021-09-16T17:25:25.673Z"
   },
   {
    "duration": 77,
    "start_time": "2021-09-16T17:25:25.774Z"
   },
   {
    "duration": 111,
    "start_time": "2021-09-16T17:25:25.854Z"
   },
   {
    "duration": 15,
    "start_time": "2021-09-16T17:25:25.969Z"
   },
   {
    "duration": 102,
    "start_time": "2021-09-16T17:25:25.987Z"
   },
   {
    "duration": 18,
    "start_time": "2021-09-16T17:25:26.092Z"
   },
   {
    "duration": 66,
    "start_time": "2021-09-16T17:25:26.113Z"
   },
   {
    "duration": 637,
    "start_time": "2021-09-16T17:25:26.181Z"
   },
   {
    "duration": 401,
    "start_time": "2021-09-16T17:26:24.881Z"
   },
   {
    "duration": 722,
    "start_time": "2021-09-16T17:35:57.003Z"
   },
   {
    "duration": 338,
    "start_time": "2021-09-16T17:36:47.659Z"
   },
   {
    "duration": 1954,
    "start_time": "2021-09-16T17:37:02.823Z"
   },
   {
    "duration": 45,
    "start_time": "2021-09-16T17:37:04.781Z"
   },
   {
    "duration": 276,
    "start_time": "2021-09-16T17:37:04.833Z"
   },
   {
    "duration": 29,
    "start_time": "2021-09-16T17:37:05.112Z"
   },
   {
    "duration": 76,
    "start_time": "2021-09-16T17:37:05.162Z"
   },
   {
    "duration": 73,
    "start_time": "2021-09-16T17:37:05.241Z"
   },
   {
    "duration": 114,
    "start_time": "2021-09-16T17:37:05.317Z"
   },
   {
    "duration": 12,
    "start_time": "2021-09-16T17:37:05.435Z"
   },
   {
    "duration": 95,
    "start_time": "2021-09-16T17:37:05.450Z"
   },
   {
    "duration": 14,
    "start_time": "2021-09-16T17:37:05.547Z"
   },
   {
    "duration": 63,
    "start_time": "2021-09-16T17:37:05.563Z"
   },
   {
    "duration": 779,
    "start_time": "2021-09-16T17:37:05.629Z"
   },
   {
    "duration": 336,
    "start_time": "2021-09-16T17:39:07.497Z"
   },
   {
    "duration": 438,
    "start_time": "2021-09-16T17:40:14.486Z"
   },
   {
    "duration": 1963,
    "start_time": "2021-09-16T17:40:38.433Z"
   },
   {
    "duration": 39,
    "start_time": "2021-09-16T17:40:40.399Z"
   },
   {
    "duration": 240,
    "start_time": "2021-09-16T17:40:40.441Z"
   },
   {
    "duration": 31,
    "start_time": "2021-09-16T17:40:40.684Z"
   },
   {
    "duration": 77,
    "start_time": "2021-09-16T17:40:40.717Z"
   },
   {
    "duration": 68,
    "start_time": "2021-09-16T17:40:40.796Z"
   },
   {
    "duration": 106,
    "start_time": "2021-09-16T17:40:40.866Z"
   },
   {
    "duration": 14,
    "start_time": "2021-09-16T17:40:40.976Z"
   },
   {
    "duration": 90,
    "start_time": "2021-09-16T17:40:40.992Z"
   },
   {
    "duration": 15,
    "start_time": "2021-09-16T17:40:41.084Z"
   },
   {
    "duration": 57,
    "start_time": "2021-09-16T17:40:41.101Z"
   },
   {
    "duration": 503,
    "start_time": "2021-09-16T17:40:41.160Z"
   },
   {
    "duration": 71,
    "start_time": "2021-09-16T17:41:48.229Z"
   },
   {
    "duration": 77,
    "start_time": "2021-09-16T17:42:38.454Z"
   },
   {
    "duration": 70,
    "start_time": "2021-09-16T17:43:26.448Z"
   },
   {
    "duration": 566,
    "start_time": "2021-09-16T18:12:24.341Z"
   },
   {
    "duration": 351,
    "start_time": "2021-09-16T18:13:32.056Z"
   },
   {
    "duration": 61,
    "start_time": "2021-09-16T18:15:07.166Z"
   },
   {
    "duration": 340,
    "start_time": "2021-09-16T18:20:04.031Z"
   },
   {
    "duration": 334,
    "start_time": "2021-09-16T18:21:20.213Z"
   },
   {
    "duration": 61,
    "start_time": "2021-09-16T18:22:24.377Z"
   },
   {
    "duration": 58,
    "start_time": "2021-09-16T18:23:44.933Z"
   },
   {
    "duration": 329,
    "start_time": "2021-09-16T18:24:00.671Z"
   },
   {
    "duration": 386,
    "start_time": "2021-09-16T18:27:34.390Z"
   },
   {
    "duration": 63,
    "start_time": "2021-09-16T18:32:11.929Z"
   },
   {
    "duration": 59,
    "start_time": "2021-09-16T18:32:44.612Z"
   },
   {
    "duration": 59,
    "start_time": "2021-09-16T18:33:05.482Z"
   },
   {
    "duration": 2151,
    "start_time": "2021-09-17T06:35:31.650Z"
   },
   {
    "duration": 41,
    "start_time": "2021-09-17T06:35:33.804Z"
   },
   {
    "duration": 229,
    "start_time": "2021-09-17T06:35:33.851Z"
   },
   {
    "duration": 31,
    "start_time": "2021-09-17T06:35:34.082Z"
   },
   {
    "duration": 73,
    "start_time": "2021-09-17T06:35:34.116Z"
   },
   {
    "duration": 69,
    "start_time": "2021-09-17T06:35:34.191Z"
   },
   {
    "duration": 97,
    "start_time": "2021-09-17T06:35:34.263Z"
   },
   {
    "duration": 14,
    "start_time": "2021-09-17T06:35:34.362Z"
   },
   {
    "duration": 83,
    "start_time": "2021-09-17T06:35:34.379Z"
   },
   {
    "duration": 15,
    "start_time": "2021-09-17T06:35:34.465Z"
   },
   {
    "duration": 67,
    "start_time": "2021-09-17T06:35:34.482Z"
   },
   {
    "duration": 70,
    "start_time": "2021-09-17T06:35:34.551Z"
   },
   {
    "duration": 54,
    "start_time": "2021-09-17T06:35:34.624Z"
   },
   {
    "duration": 582,
    "start_time": "2021-09-17T06:35:34.682Z"
   },
   {
    "duration": 96,
    "start_time": "2021-09-17T06:35:35.171Z"
   },
   {
    "duration": 425,
    "start_time": "2021-09-17T06:35:51.897Z"
   },
   {
    "duration": 393,
    "start_time": "2021-09-17T06:35:59.571Z"
   },
   {
    "duration": 386,
    "start_time": "2021-09-17T06:36:08.636Z"
   },
   {
    "duration": 54,
    "start_time": "2021-09-17T06:36:24.084Z"
   },
   {
    "duration": 308,
    "start_time": "2021-09-17T06:51:26.365Z"
   },
   {
    "duration": 58,
    "start_time": "2021-09-17T06:51:42.351Z"
   },
   {
    "duration": 309,
    "start_time": "2021-09-17T06:59:47.834Z"
   },
   {
    "duration": 353,
    "start_time": "2021-09-17T07:00:15.323Z"
   },
   {
    "duration": 58,
    "start_time": "2021-09-17T07:01:26.922Z"
   },
   {
    "duration": 57,
    "start_time": "2021-09-17T07:02:45.730Z"
   },
   {
    "duration": 375,
    "start_time": "2021-09-17T07:05:43.259Z"
   },
   {
    "duration": -915,
    "start_time": "2021-09-17T07:08:20.247Z"
   },
   {
    "duration": 331,
    "start_time": "2021-09-17T07:08:25.856Z"
   },
   {
    "duration": 1172,
    "start_time": "2021-09-17T07:10:39.905Z"
   },
   {
    "duration": 415,
    "start_time": "2021-09-17T07:12:11.771Z"
   },
   {
    "duration": 342,
    "start_time": "2021-09-17T07:13:37.484Z"
   },
   {
    "duration": 748,
    "start_time": "2021-09-17T07:15:54.500Z"
   },
   {
    "duration": 354,
    "start_time": "2021-09-17T07:18:06.804Z"
   },
   {
    "duration": 57,
    "start_time": "2021-09-17T07:18:21.588Z"
   },
   {
    "duration": 58,
    "start_time": "2021-09-17T07:18:42.187Z"
   },
   {
    "duration": 54,
    "start_time": "2021-09-17T07:19:56.827Z"
   },
   {
    "duration": 359,
    "start_time": "2021-09-17T07:20:12.179Z"
   },
   {
    "duration": 59,
    "start_time": "2021-09-17T07:20:19.718Z"
   },
   {
    "duration": 322,
    "start_time": "2021-09-17T07:23:48.924Z"
   },
   {
    "duration": 57,
    "start_time": "2021-09-17T07:24:09.030Z"
   },
   {
    "duration": 322,
    "start_time": "2021-09-17T07:24:49.828Z"
   },
   {
    "duration": 95,
    "start_time": "2021-09-17T07:31:32.336Z"
   },
   {
    "duration": 85,
    "start_time": "2021-09-17T07:31:39.263Z"
   },
   {
    "duration": 89,
    "start_time": "2021-09-17T07:32:13.800Z"
   },
   {
    "duration": 4,
    "start_time": "2021-09-17T07:33:16.295Z"
   },
   {
    "duration": 57,
    "start_time": "2021-09-17T07:33:35.343Z"
   },
   {
    "duration": 914,
    "start_time": "2021-09-17T07:36:05.366Z"
   },
   {
    "duration": 38,
    "start_time": "2021-09-17T07:36:06.282Z"
   },
   {
    "duration": 230,
    "start_time": "2021-09-17T07:36:06.323Z"
   },
   {
    "duration": 66,
    "start_time": "2021-09-17T07:36:06.556Z"
   },
   {
    "duration": 65,
    "start_time": "2021-09-17T07:36:06.624Z"
   },
   {
    "duration": 94,
    "start_time": "2021-09-17T07:36:06.691Z"
   },
   {
    "duration": 84,
    "start_time": "2021-09-17T07:36:06.787Z"
   },
   {
    "duration": 55,
    "start_time": "2021-09-17T07:36:06.874Z"
   },
   {
    "duration": 75,
    "start_time": "2021-09-17T07:36:06.932Z"
   },
   {
    "duration": 4,
    "start_time": "2021-09-17T07:36:07.009Z"
   },
   {
    "duration": 63,
    "start_time": "2021-09-17T07:36:07.015Z"
   },
   {
    "duration": 57,
    "start_time": "2021-09-17T07:47:31.623Z"
   },
   {
    "duration": 56,
    "start_time": "2021-09-17T07:49:21.354Z"
   },
   {
    "duration": 59,
    "start_time": "2021-09-17T07:49:25.611Z"
   },
   {
    "duration": 60,
    "start_time": "2021-09-17T07:53:47.949Z"
   },
   {
    "duration": 88,
    "start_time": "2021-09-17T07:55:50.739Z"
   },
   {
    "duration": 57,
    "start_time": "2021-09-17T08:01:42.412Z"
   },
   {
    "duration": 438,
    "start_time": "2021-09-17T08:09:54.477Z"
   },
   {
    "duration": 63,
    "start_time": "2021-09-17T08:12:43.439Z"
   },
   {
    "duration": 120,
    "start_time": "2021-09-17T08:13:31.118Z"
   },
   {
    "duration": 877,
    "start_time": "2021-09-17T08:20:32.496Z"
   },
   {
    "duration": 40,
    "start_time": "2021-09-17T08:20:33.376Z"
   },
   {
    "duration": 232,
    "start_time": "2021-09-17T08:20:33.420Z"
   },
   {
    "duration": 68,
    "start_time": "2021-09-17T08:20:33.656Z"
   },
   {
    "duration": 64,
    "start_time": "2021-09-17T08:20:33.726Z"
   },
   {
    "duration": 97,
    "start_time": "2021-09-17T08:20:33.793Z"
   },
   {
    "duration": 82,
    "start_time": "2021-09-17T08:20:33.892Z"
   },
   {
    "duration": 55,
    "start_time": "2021-09-17T08:20:33.977Z"
   },
   {
    "duration": 67,
    "start_time": "2021-09-17T08:20:34.035Z"
   },
   {
    "duration": 4,
    "start_time": "2021-09-17T08:20:34.104Z"
   },
   {
    "duration": 70,
    "start_time": "2021-09-17T08:20:34.111Z"
   },
   {
    "duration": 60,
    "start_time": "2021-09-17T08:20:34.183Z"
   },
   {
    "duration": 60,
    "start_time": "2021-09-17T08:20:34.245Z"
   },
   {
    "duration": 840,
    "start_time": "2021-09-18T08:08:38.774Z"
   },
   {
    "duration": 42,
    "start_time": "2021-09-18T08:08:39.617Z"
   },
   {
    "duration": 275,
    "start_time": "2021-09-18T08:08:39.668Z"
   },
   {
    "duration": 79,
    "start_time": "2021-09-18T08:08:39.947Z"
   },
   {
    "duration": 79,
    "start_time": "2021-09-18T08:08:40.029Z"
   },
   {
    "duration": 105,
    "start_time": "2021-09-18T08:08:40.111Z"
   },
   {
    "duration": 94,
    "start_time": "2021-09-18T08:08:40.218Z"
   },
   {
    "duration": 65,
    "start_time": "2021-09-18T08:08:40.315Z"
   },
   {
    "duration": 79,
    "start_time": "2021-09-18T08:08:40.382Z"
   },
   {
    "duration": 4,
    "start_time": "2021-09-18T08:08:40.463Z"
   },
   {
    "duration": 68,
    "start_time": "2021-09-18T08:08:40.469Z"
   },
   {
    "duration": 69,
    "start_time": "2021-09-18T08:08:40.539Z"
   },
   {
    "duration": 68,
    "start_time": "2021-09-18T08:08:40.611Z"
   },
   {
    "duration": 108,
    "start_time": "2021-09-18T08:09:29.418Z"
   },
   {
    "duration": 83,
    "start_time": "2021-09-18T08:09:33.342Z"
   },
   {
    "duration": 448,
    "start_time": "2021-09-18T08:41:27.090Z"
   },
   {
    "duration": 872,
    "start_time": "2021-09-18T08:41:33.525Z"
   },
   {
    "duration": 39,
    "start_time": "2021-09-18T08:41:34.400Z"
   },
   {
    "duration": 75,
    "start_time": "2021-09-18T08:41:34.441Z"
   },
   {
    "duration": 24,
    "start_time": "2021-09-18T08:41:34.519Z"
   },
   {
    "duration": 27,
    "start_time": "2021-09-18T08:41:34.555Z"
   },
   {
    "duration": 75,
    "start_time": "2021-09-18T08:41:34.584Z"
   },
   {
    "duration": 37,
    "start_time": "2021-09-18T08:41:34.661Z"
   },
   {
    "duration": 18,
    "start_time": "2021-09-18T08:41:34.701Z"
   },
   {
    "duration": 52,
    "start_time": "2021-09-18T08:41:34.721Z"
   },
   {
    "duration": 4,
    "start_time": "2021-09-18T08:41:34.775Z"
   },
   {
    "duration": 29,
    "start_time": "2021-09-18T08:41:34.781Z"
   },
   {
    "duration": 20,
    "start_time": "2021-09-18T08:41:34.813Z"
   },
   {
    "duration": 27,
    "start_time": "2021-09-18T08:41:34.836Z"
   },
   {
    "duration": 36,
    "start_time": "2021-09-18T08:44:54.263Z"
   },
   {
    "duration": 126,
    "start_time": "2021-09-18T08:46:17.401Z"
   },
   {
    "duration": 21,
    "start_time": "2021-09-18T08:50:37.775Z"
   },
   {
    "duration": 19,
    "start_time": "2021-09-18T08:51:20.861Z"
   },
   {
    "duration": 881,
    "start_time": "2021-09-18T08:52:36.248Z"
   },
   {
    "duration": 53,
    "start_time": "2021-09-18T08:52:37.132Z"
   },
   {
    "duration": 76,
    "start_time": "2021-09-18T08:52:37.188Z"
   },
   {
    "duration": 26,
    "start_time": "2021-09-18T08:52:37.267Z"
   },
   {
    "duration": 61,
    "start_time": "2021-09-18T08:52:37.296Z"
   },
   {
    "duration": 47,
    "start_time": "2021-09-18T08:52:37.359Z"
   },
   {
    "duration": 57,
    "start_time": "2021-09-18T08:52:37.408Z"
   },
   {
    "duration": 14,
    "start_time": "2021-09-18T08:52:37.469Z"
   },
   {
    "duration": 37,
    "start_time": "2021-09-18T08:52:37.485Z"
   },
   {
    "duration": 3,
    "start_time": "2021-09-18T08:52:37.524Z"
   },
   {
    "duration": 31,
    "start_time": "2021-09-18T08:52:37.530Z"
   },
   {
    "duration": 17,
    "start_time": "2021-09-18T08:52:37.564Z"
   },
   {
    "duration": 19,
    "start_time": "2021-09-18T08:52:37.583Z"
   },
   {
    "duration": 16,
    "start_time": "2021-09-18T08:52:37.604Z"
   },
   {
    "duration": 616,
    "start_time": "2021-09-20T09:54:33.081Z"
   },
   {
    "duration": 26,
    "start_time": "2021-09-20T09:54:33.699Z"
   },
   {
    "duration": 282,
    "start_time": "2021-09-20T09:54:33.726Z"
   },
   {
    "duration": 74,
    "start_time": "2021-09-20T09:54:34.010Z"
   },
   {
    "duration": 74,
    "start_time": "2021-09-20T09:54:34.085Z"
   },
   {
    "duration": 104,
    "start_time": "2021-09-20T09:54:34.161Z"
   },
   {
    "duration": 91,
    "start_time": "2021-09-20T09:54:34.266Z"
   },
   {
    "duration": 67,
    "start_time": "2021-09-20T09:54:34.359Z"
   },
   {
    "duration": 84,
    "start_time": "2021-09-20T09:54:34.428Z"
   },
   {
    "duration": 3,
    "start_time": "2021-09-20T09:54:34.513Z"
   },
   {
    "duration": 79,
    "start_time": "2021-09-20T09:54:34.517Z"
   },
   {
    "duration": 70,
    "start_time": "2021-09-20T09:54:34.598Z"
   },
   {
    "duration": 75,
    "start_time": "2021-09-20T09:54:34.670Z"
   },
   {
    "duration": 71,
    "start_time": "2021-09-20T09:54:34.747Z"
   },
   {
    "duration": 593,
    "start_time": "2021-09-20T09:57:15.872Z"
   },
   {
    "duration": 32,
    "start_time": "2021-09-20T09:57:16.467Z"
   },
   {
    "duration": 297,
    "start_time": "2021-09-20T09:57:16.501Z"
   },
   {
    "duration": 77,
    "start_time": "2021-09-20T09:57:16.800Z"
   },
   {
    "duration": 78,
    "start_time": "2021-09-20T09:57:16.878Z"
   },
   {
    "duration": 107,
    "start_time": "2021-09-20T09:57:16.957Z"
   },
   {
    "duration": 94,
    "start_time": "2021-09-20T09:57:17.066Z"
   },
   {
    "duration": 72,
    "start_time": "2021-09-20T09:57:17.162Z"
   },
   {
    "duration": 88,
    "start_time": "2021-09-20T09:57:17.236Z"
   },
   {
    "duration": 72,
    "start_time": "2021-09-20T09:57:17.326Z"
   },
   {
    "duration": 75,
    "start_time": "2021-09-20T09:57:17.400Z"
   },
   {
    "duration": 76,
    "start_time": "2021-09-20T09:57:17.477Z"
   }
  ],
  "kernelspec": {
   "display_name": "Python 3",
   "language": "python",
   "name": "python3"
  },
  "language_info": {
   "codemirror_mode": {
    "name": "ipython",
    "version": 3
   },
   "file_extension": ".py",
   "mimetype": "text/x-python",
   "name": "python",
   "nbconvert_exporter": "python",
   "pygments_lexer": "ipython3",
   "version": "3.7.8"
  },
  "toc": {
   "base_numbering": 1,
   "nav_menu": {},
   "number_sections": true,
   "sideBar": true,
   "skip_h1_title": true,
   "title_cell": "Table of Contents",
   "title_sidebar": "Contents",
   "toc_cell": false,
   "toc_position": {},
   "toc_section_display": true,
   "toc_window_display": false
  }
 },
 "nbformat": 4,
 "nbformat_minor": 2
}
