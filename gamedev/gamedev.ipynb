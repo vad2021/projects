{
 "cells": [
  {
   "cell_type": "markdown",
   "metadata": {},
   "source": [
    "# Изучение закономерностей, определяющих успешность игр\n",
    "Для интернет-магазина компьютерных игр:\n",
    "отработать принцип работы с данными для планирования бюджета рекламной компании на следующий год, выявить определяющие успешность игры закономерности"
   ]
  },
  {
   "cell_type": "markdown",
   "metadata": {},
   "source": [
    "## Изучение данных из файла"
   ]
  },
  {
   "cell_type": "code",
   "execution_count": 1,
   "metadata": {},
   "outputs": [
    {
     "data": {
      "text/plain": [
       "Name                  2\n",
       "Platform              0\n",
       "Year_of_Release     269\n",
       "Genre                 2\n",
       "NA_sales              0\n",
       "EU_sales              0\n",
       "JP_sales              0\n",
       "Other_sales           0\n",
       "Critic_Score       8578\n",
       "User_Score         6701\n",
       "Rating             6766\n",
       "dtype: int64"
      ]
     },
     "metadata": {},
     "output_type": "display_data"
    }
   ],
   "source": [
    "import pandas as pd\n",
    "df = pd.read_csv('/datasets/games.csv')\n",
    "#df\n",
    "#df.info()\n",
    "#display(df['Year_of_Release'].value_counts())\n",
    "display(df.isnull().sum())\n",
    "#display(df.duplicated().sum())"
   ]
  },
  {
   "cell_type": "markdown",
   "metadata": {},
   "source": [
    "В представленной таблице всего 16715 строк(наблюдений) и 11 столбцов. В следующих столбцах есть пропуски:'Name' - заполнены всего 16713 строк, 'Year_of_Release' - 16446, 'Genre' - 16713, 'Critic_Score' - 8137 (самый незаполненный столбец), 'User_Score' - 10014, 'Rating' - 9949.\n",
    "В столбцах 'Name' и 'Genre' по всей видимости закономерные два пропуска.\n",
    "В наименованиях столбцов пробелов не наблюдается, слова указаны через нижнее подчеркивание.\n",
    "Необходимо наименования столбцов привести к нижнему регистру.\n",
    "Тип столбца 'Year_of_Release' заменим на datetime.\n",
    "Тип столбца 'Critic_Score' менять на int не будем.\n",
    "Тип столбца 'User_Score' object заменим на float64, так как это оценка пользователей до 10 (т.е. число)\n",
    "\"Полных\"/явных дубликатов не обнаружено. \n",
    "\n",
    " "
   ]
  },
  {
   "cell_type": "markdown",
   "metadata": {},
   "source": [
    "## Подготовка данных"
   ]
  },
  {
   "cell_type": "code",
   "execution_count": 2,
   "metadata": {},
   "outputs": [
    {
     "data": {
      "text/html": [
       "<div>\n",
       "<style scoped>\n",
       "    .dataframe tbody tr th:only-of-type {\n",
       "        vertical-align: middle;\n",
       "    }\n",
       "\n",
       "    .dataframe tbody tr th {\n",
       "        vertical-align: top;\n",
       "    }\n",
       "\n",
       "    .dataframe thead th {\n",
       "        text-align: right;\n",
       "    }\n",
       "</style>\n",
       "<table border=\"1\" class=\"dataframe\">\n",
       "  <thead>\n",
       "    <tr style=\"text-align: right;\">\n",
       "      <th></th>\n",
       "      <th>name</th>\n",
       "      <th>platform</th>\n",
       "      <th>year_of_release</th>\n",
       "      <th>genre</th>\n",
       "      <th>na_sales</th>\n",
       "      <th>eu_sales</th>\n",
       "      <th>jp_sales</th>\n",
       "      <th>other_sales</th>\n",
       "      <th>critic_score</th>\n",
       "      <th>user_score</th>\n",
       "      <th>rating</th>\n",
       "      <th>total_sales</th>\n",
       "    </tr>\n",
       "  </thead>\n",
       "  <tbody>\n",
       "    <tr>\n",
       "      <td>0</td>\n",
       "      <td>Wii Sports</td>\n",
       "      <td>Wii</td>\n",
       "      <td>2006</td>\n",
       "      <td>Sports</td>\n",
       "      <td>41.36</td>\n",
       "      <td>28.96</td>\n",
       "      <td>3.77</td>\n",
       "      <td>8.45</td>\n",
       "      <td>76.0</td>\n",
       "      <td>8</td>\n",
       "      <td>E</td>\n",
       "      <td>82.54</td>\n",
       "    </tr>\n",
       "    <tr>\n",
       "      <td>1</td>\n",
       "      <td>Super Mario Bros.</td>\n",
       "      <td>NES</td>\n",
       "      <td>1985</td>\n",
       "      <td>Platform</td>\n",
       "      <td>29.08</td>\n",
       "      <td>3.58</td>\n",
       "      <td>6.81</td>\n",
       "      <td>0.77</td>\n",
       "      <td>NaN</td>\n",
       "      <td>NaN</td>\n",
       "      <td>NaN</td>\n",
       "      <td>40.24</td>\n",
       "    </tr>\n",
       "    <tr>\n",
       "      <td>2</td>\n",
       "      <td>Mario Kart Wii</td>\n",
       "      <td>Wii</td>\n",
       "      <td>2008</td>\n",
       "      <td>Racing</td>\n",
       "      <td>15.68</td>\n",
       "      <td>12.76</td>\n",
       "      <td>3.79</td>\n",
       "      <td>3.29</td>\n",
       "      <td>82.0</td>\n",
       "      <td>8.3</td>\n",
       "      <td>E</td>\n",
       "      <td>35.52</td>\n",
       "    </tr>\n",
       "    <tr>\n",
       "      <td>3</td>\n",
       "      <td>Wii Sports Resort</td>\n",
       "      <td>Wii</td>\n",
       "      <td>2009</td>\n",
       "      <td>Sports</td>\n",
       "      <td>15.61</td>\n",
       "      <td>10.93</td>\n",
       "      <td>3.28</td>\n",
       "      <td>2.95</td>\n",
       "      <td>80.0</td>\n",
       "      <td>8</td>\n",
       "      <td>E</td>\n",
       "      <td>32.77</td>\n",
       "    </tr>\n",
       "    <tr>\n",
       "      <td>4</td>\n",
       "      <td>Pokemon Red/Pokemon Blue</td>\n",
       "      <td>GB</td>\n",
       "      <td>1996</td>\n",
       "      <td>Role-Playing</td>\n",
       "      <td>11.27</td>\n",
       "      <td>8.89</td>\n",
       "      <td>10.22</td>\n",
       "      <td>1.00</td>\n",
       "      <td>NaN</td>\n",
       "      <td>NaN</td>\n",
       "      <td>NaN</td>\n",
       "      <td>31.38</td>\n",
       "    </tr>\n",
       "  </tbody>\n",
       "</table>\n",
       "</div>"
      ],
      "text/plain": [
       "                       name platform  year_of_release         genre  na_sales  \\\n",
       "0                Wii Sports      Wii             2006        Sports     41.36   \n",
       "1         Super Mario Bros.      NES             1985      Platform     29.08   \n",
       "2            Mario Kart Wii      Wii             2008        Racing     15.68   \n",
       "3         Wii Sports Resort      Wii             2009        Sports     15.61   \n",
       "4  Pokemon Red/Pokemon Blue       GB             1996  Role-Playing     11.27   \n",
       "\n",
       "   eu_sales  jp_sales  other_sales  critic_score user_score rating  \\\n",
       "0     28.96      3.77         8.45          76.0          8      E   \n",
       "1      3.58      6.81         0.77           NaN        NaN    NaN   \n",
       "2     12.76      3.79         3.29          82.0        8.3      E   \n",
       "3     10.93      3.28         2.95          80.0          8      E   \n",
       "4      8.89     10.22         1.00           NaN        NaN    NaN   \n",
       "\n",
       "   total_sales  \n",
       "0        82.54  \n",
       "1        40.24  \n",
       "2        35.52  \n",
       "3        32.77  \n",
       "4        31.38  "
      ]
     },
     "metadata": {},
     "output_type": "display_data"
    }
   ],
   "source": [
    "#меняем названия столбцов\n",
    "df.columns = ['name', 'platform', 'year_of_release', 'genre', 'na_sales', 'eu_sales', 'jp_sales', 'other_sales', 'critic_score', 'user_score', 'rating']\n",
    "\n",
    "df.dropna(subset = ['year_of_release', 'name', 'genre' ], inplace = True)\n",
    "#df['year_of_release'] = df['year_of_release'].fillna(0)\n",
    "df['year_of_release'] = df['year_of_release'].astype('int')\n",
    "#df.info()\n",
    "\n",
    "df['total_sales'] = df['na_sales'] + df['eu_sales'] + df['jp_sales'] + df['other_sales']\n",
    "display(df.head())"
   ]
  },
  {
   "cell_type": "markdown",
   "metadata": {},
   "source": [
    "В столбце 'user_score'обнаружили аббревиатуру 'tbd'. Значения столбца - оценка пользователей. Наименования игр-разные, платформы тоже разные, жанры-разные, годы разные, пропуски заменю на Nan."
   ]
  },
  {
   "cell_type": "code",
   "execution_count": 3,
   "metadata": {},
   "outputs": [],
   "source": [
    "df['user_score'] = pd.to_numeric(df['user_score'], errors = 'coerce')"
   ]
  },
  {
   "cell_type": "code",
   "execution_count": 4,
   "metadata": {},
   "outputs": [],
   "source": [
    "import itertools # библиотека, для того чтобы сгенерить всевозможные комбинации platform и genre\n",
    "\n",
    "import warnings\n",
    "warnings.simplefilter(\"ignore\", category=RuntimeWarning)  \n",
    "\n",
    "df_2 = df.copy()\n",
    "\n",
    "# генерю всевозможные комбинации\n",
    "for platform_genre in itertools.product(df_2['platform'].unique(), df_2['genre'].unique()):\n",
    "    \n",
    "    platform = platform_genre[0]\n",
    "    genre = platform_genre[1]\n",
    "    \n",
    "    # считаем две медианы\n",
    "    u_median = df_2.loc[((df_2['platform'] == platform) & (df_2['genre'] == genre)), 'user_score'].median()\n",
    "    c_median = df_2.loc[((df_2['platform'] == platform) & (df_2['genre'] == genre)), 'critic_score'].median()\n",
    "    \n",
    "    # и заменяем пропуски на найденные медианы\n",
    "    df_2.loc[((df_2['platform'] == platform) & \n",
    "              (df_2['genre'] == genre) & \n",
    "              (df_2['user_score'].isna())), 'user_score'] = u_median\n",
    "    \n",
    "    df_2.loc[((df_2['platform'] == platform) & \n",
    "              (df_2['genre'] == genre) & \n",
    "              (df_2['critic_score'].isna())), 'critic_score'] = c_median"
   ]
  },
  {
   "cell_type": "code",
   "execution_count": 5,
   "metadata": {},
   "outputs": [
    {
     "name": "stdout",
     "output_type": "stream",
     "text": [
      "<class 'pandas.core.frame.DataFrame'>\n",
      "Int64Index: 16444 entries, 0 to 16714\n",
      "Data columns (total 12 columns):\n",
      "name               16444 non-null object\n",
      "platform           16444 non-null object\n",
      "year_of_release    16444 non-null int64\n",
      "genre              16444 non-null object\n",
      "na_sales           16444 non-null float64\n",
      "eu_sales           16444 non-null float64\n",
      "jp_sales           16444 non-null float64\n",
      "other_sales        16444 non-null float64\n",
      "critic_score       15333 non-null float64\n",
      "user_score         15340 non-null float64\n",
      "rating             9768 non-null object\n",
      "total_sales        16444 non-null float64\n",
      "dtypes: float64(7), int64(1), object(4)\n",
      "memory usage: 1.6+ MB\n"
     ]
    }
   ],
   "source": [
    "df_2.info()"
   ]
  },
  {
   "cell_type": "markdown",
   "metadata": {},
   "source": [
    "## Исследовательский анализ данных"
   ]
  },
  {
   "cell_type": "code",
   "execution_count": 6,
   "metadata": {},
   "outputs": [
    {
     "data": {
      "text/plain": [
       "year_of_release\n",
       "1980     9\n",
       "1981    46\n",
       "1982    36\n",
       "1983    17\n",
       "1984    14\n",
       "Name: name, dtype: int64"
      ]
     },
     "metadata": {},
     "output_type": "display_data"
    },
    {
     "data": {
      "text/plain": [
       "DS      2120\n",
       "PS2     2045\n",
       "PS3     1306\n",
       "Wii     1286\n",
       "X360    1232\n",
       "Name: platform, dtype: int64"
      ]
     },
     "metadata": {},
     "output_type": "display_data"
    }
   ],
   "source": [
    "#display(df['name'].value_counts().head())\n",
    "display(df.groupby('year_of_release')['name'].count().head())\n",
    "df_2000 = df[df['year_of_release'] > 2000]\n",
    "df_2000.head()\n",
    "display(df_2000['platform'].value_counts().head())"
   ]
  },
  {
   "cell_type": "code",
   "execution_count": 7,
   "metadata": {},
   "outputs": [
    {
     "data": {
      "text/html": [
       "<div>\n",
       "<style scoped>\n",
       "    .dataframe tbody tr th:only-of-type {\n",
       "        vertical-align: middle;\n",
       "    }\n",
       "\n",
       "    .dataframe tbody tr th {\n",
       "        vertical-align: top;\n",
       "    }\n",
       "\n",
       "    .dataframe thead th {\n",
       "        text-align: right;\n",
       "    }\n",
       "</style>\n",
       "<table border=\"1\" class=\"dataframe\">\n",
       "  <thead>\n",
       "    <tr style=\"text-align: right;\">\n",
       "      <th></th>\n",
       "      <th>name</th>\n",
       "      <th>platform</th>\n",
       "      <th>year_of_release</th>\n",
       "      <th>genre</th>\n",
       "      <th>na_sales</th>\n",
       "      <th>eu_sales</th>\n",
       "      <th>jp_sales</th>\n",
       "      <th>other_sales</th>\n",
       "      <th>critic_score</th>\n",
       "      <th>user_score</th>\n",
       "      <th>rating</th>\n",
       "      <th>total_sales</th>\n",
       "    </tr>\n",
       "  </thead>\n",
       "  <tbody>\n",
       "    <tr>\n",
       "      <td>1966</td>\n",
       "      <td>Resident Evil: The Darkside Chronicles</td>\n",
       "      <td>Wii</td>\n",
       "      <td>2009</td>\n",
       "      <td>Action</td>\n",
       "      <td>0.46</td>\n",
       "      <td>0.31</td>\n",
       "      <td>0.2</td>\n",
       "      <td>0.09</td>\n",
       "      <td>75.0</td>\n",
       "      <td>8.00</td>\n",
       "      <td>M</td>\n",
       "      <td>1.06</td>\n",
       "    </tr>\n",
       "    <tr>\n",
       "      <td>15727</td>\n",
       "      <td>Robopon 2: Cross Version</td>\n",
       "      <td>GBA</td>\n",
       "      <td>2001</td>\n",
       "      <td>Role-Playing</td>\n",
       "      <td>0.01</td>\n",
       "      <td>0.00</td>\n",
       "      <td>0.0</td>\n",
       "      <td>0.00</td>\n",
       "      <td>76.0</td>\n",
       "      <td>8.45</td>\n",
       "      <td>NaN</td>\n",
       "      <td>0.01</td>\n",
       "    </tr>\n",
       "    <tr>\n",
       "      <td>3398</td>\n",
       "      <td>Smurf: Rescue In Gargamel's Castle</td>\n",
       "      <td>2600</td>\n",
       "      <td>1981</td>\n",
       "      <td>Action</td>\n",
       "      <td>0.55</td>\n",
       "      <td>0.03</td>\n",
       "      <td>0.0</td>\n",
       "      <td>0.01</td>\n",
       "      <td>NaN</td>\n",
       "      <td>NaN</td>\n",
       "      <td>NaN</td>\n",
       "      <td>0.59</td>\n",
       "    </tr>\n",
       "  </tbody>\n",
       "</table>\n",
       "</div>"
      ],
      "text/plain": [
       "                                         name platform  year_of_release  \\\n",
       "1966   Resident Evil: The Darkside Chronicles      Wii             2009   \n",
       "15727                Robopon 2: Cross Version      GBA             2001   \n",
       "3398       Smurf: Rescue In Gargamel's Castle     2600             1981   \n",
       "\n",
       "              genre  na_sales  eu_sales  jp_sales  other_sales  critic_score  \\\n",
       "1966         Action      0.46      0.31       0.2         0.09          75.0   \n",
       "15727  Role-Playing      0.01      0.00       0.0         0.00          76.0   \n",
       "3398         Action      0.55      0.03       0.0         0.01           NaN   \n",
       "\n",
       "       user_score rating  total_sales  \n",
       "1966         8.00      M         1.06  \n",
       "15727        8.45    NaN         0.01  \n",
       "3398          NaN    NaN         0.59  "
      ]
     },
     "metadata": {},
     "output_type": "display_data"
    },
    {
     "data": {
      "text/html": [
       "<div>\n",
       "<style scoped>\n",
       "    .dataframe tbody tr th:only-of-type {\n",
       "        vertical-align: middle;\n",
       "    }\n",
       "\n",
       "    .dataframe tbody tr th {\n",
       "        vertical-align: top;\n",
       "    }\n",
       "\n",
       "    .dataframe thead th {\n",
       "        text-align: right;\n",
       "    }\n",
       "</style>\n",
       "<table border=\"1\" class=\"dataframe\">\n",
       "  <thead>\n",
       "    <tr style=\"text-align: right;\">\n",
       "      <th></th>\n",
       "      <th>name</th>\n",
       "      <th>platform</th>\n",
       "      <th>year_of_release</th>\n",
       "      <th>genre</th>\n",
       "      <th>na_sales</th>\n",
       "      <th>eu_sales</th>\n",
       "      <th>jp_sales</th>\n",
       "      <th>other_sales</th>\n",
       "      <th>critic_score</th>\n",
       "      <th>user_score</th>\n",
       "      <th>rating</th>\n",
       "      <th>total_sales</th>\n",
       "    </tr>\n",
       "  </thead>\n",
       "  <tbody>\n",
       "    <tr>\n",
       "      <td>13681</td>\n",
       "      <td>Lise no Atelier: Ordre no Renkinjutsushi</td>\n",
       "      <td>DS</td>\n",
       "      <td>2007</td>\n",
       "      <td>Role-Playing</td>\n",
       "      <td>0.00</td>\n",
       "      <td>0.00</td>\n",
       "      <td>0.04</td>\n",
       "      <td>0.00</td>\n",
       "      <td>70.0</td>\n",
       "      <td>7.7</td>\n",
       "      <td>NaN</td>\n",
       "      <td>0.04</td>\n",
       "    </tr>\n",
       "    <tr>\n",
       "      <td>2859</td>\n",
       "      <td>Battlefield: Bad Company 2</td>\n",
       "      <td>PC</td>\n",
       "      <td>2010</td>\n",
       "      <td>Shooter</td>\n",
       "      <td>0.19</td>\n",
       "      <td>0.53</td>\n",
       "      <td>0.00</td>\n",
       "      <td>0.00</td>\n",
       "      <td>87.0</td>\n",
       "      <td>8.3</td>\n",
       "      <td>M</td>\n",
       "      <td>0.72</td>\n",
       "    </tr>\n",
       "    <tr>\n",
       "      <td>12782</td>\n",
       "      <td>Harry Potter and the Sorcerer's Stone</td>\n",
       "      <td>PC</td>\n",
       "      <td>2001</td>\n",
       "      <td>Action</td>\n",
       "      <td>0.01</td>\n",
       "      <td>0.04</td>\n",
       "      <td>0.00</td>\n",
       "      <td>0.01</td>\n",
       "      <td>65.0</td>\n",
       "      <td>7.8</td>\n",
       "      <td>E</td>\n",
       "      <td>0.06</td>\n",
       "    </tr>\n",
       "  </tbody>\n",
       "</table>\n",
       "</div>"
      ],
      "text/plain": [
       "                                           name platform  year_of_release  \\\n",
       "13681  Lise no Atelier: Ordre no Renkinjutsushi       DS             2007   \n",
       "2859                 Battlefield: Bad Company 2       PC             2010   \n",
       "12782     Harry Potter and the Sorcerer's Stone       PC             2001   \n",
       "\n",
       "              genre  na_sales  eu_sales  jp_sales  other_sales  critic_score  \\\n",
       "13681  Role-Playing      0.00      0.00      0.04         0.00          70.0   \n",
       "2859        Shooter      0.19      0.53      0.00         0.00          87.0   \n",
       "12782        Action      0.01      0.04      0.00         0.01          65.0   \n",
       "\n",
       "       user_score rating  total_sales  \n",
       "13681         7.7    NaN         0.04  \n",
       "2859          8.3      M         0.72  \n",
       "12782         7.8      E         0.06  "
      ]
     },
     "metadata": {},
     "output_type": "display_data"
    }
   ],
   "source": [
    "display(df_2.sample(3))\n",
    "display(df_2.sample(3))"
   ]
  },
  {
   "cell_type": "code",
   "execution_count": 8,
   "metadata": {},
   "outputs": [
    {
     "data": {
      "text/html": [
       "<div>\n",
       "<style scoped>\n",
       "    .dataframe tbody tr th:only-of-type {\n",
       "        vertical-align: middle;\n",
       "    }\n",
       "\n",
       "    .dataframe tbody tr th {\n",
       "        vertical-align: top;\n",
       "    }\n",
       "\n",
       "    .dataframe thead th {\n",
       "        text-align: right;\n",
       "    }\n",
       "</style>\n",
       "<table border=\"1\" class=\"dataframe\">\n",
       "  <thead>\n",
       "    <tr style=\"text-align: right;\">\n",
       "      <th></th>\n",
       "      <th>name</th>\n",
       "      <th>platform</th>\n",
       "      <th>year_of_release</th>\n",
       "      <th>genre</th>\n",
       "      <th>na_sales</th>\n",
       "      <th>eu_sales</th>\n",
       "      <th>jp_sales</th>\n",
       "      <th>other_sales</th>\n",
       "      <th>critic_score</th>\n",
       "      <th>user_score</th>\n",
       "      <th>rating</th>\n",
       "      <th>total_sales</th>\n",
       "    </tr>\n",
       "  </thead>\n",
       "  <tbody>\n",
       "    <tr>\n",
       "      <td>11539</td>\n",
       "      <td>Shonen Jump's One Piece: Pirates Carnival</td>\n",
       "      <td>GC</td>\n",
       "      <td>2005</td>\n",
       "      <td>Misc</td>\n",
       "      <td>0.06</td>\n",
       "      <td>0.02</td>\n",
       "      <td>0.0</td>\n",
       "      <td>0.00</td>\n",
       "      <td>69.0</td>\n",
       "      <td>7.9</td>\n",
       "      <td>NaN</td>\n",
       "      <td>0.08</td>\n",
       "    </tr>\n",
       "    <tr>\n",
       "      <td>9751</td>\n",
       "      <td>Tom Clancy's Ghost Recon</td>\n",
       "      <td>Wii</td>\n",
       "      <td>2010</td>\n",
       "      <td>Shooter</td>\n",
       "      <td>0.10</td>\n",
       "      <td>0.01</td>\n",
       "      <td>0.0</td>\n",
       "      <td>0.01</td>\n",
       "      <td>46.0</td>\n",
       "      <td>6.8</td>\n",
       "      <td>T</td>\n",
       "      <td>0.12</td>\n",
       "    </tr>\n",
       "    <tr>\n",
       "      <td>10654</td>\n",
       "      <td>Pinball Hall of Fame: The Williams Collection</td>\n",
       "      <td>3DS</td>\n",
       "      <td>2011</td>\n",
       "      <td>Misc</td>\n",
       "      <td>0.09</td>\n",
       "      <td>0.00</td>\n",
       "      <td>0.0</td>\n",
       "      <td>0.01</td>\n",
       "      <td>67.0</td>\n",
       "      <td>7.3</td>\n",
       "      <td>E10+</td>\n",
       "      <td>0.10</td>\n",
       "    </tr>\n",
       "  </tbody>\n",
       "</table>\n",
       "</div>"
      ],
      "text/plain": [
       "                                                name platform  \\\n",
       "11539      Shonen Jump's One Piece: Pirates Carnival       GC   \n",
       "9751                        Tom Clancy's Ghost Recon      Wii   \n",
       "10654  Pinball Hall of Fame: The Williams Collection      3DS   \n",
       "\n",
       "       year_of_release    genre  na_sales  eu_sales  jp_sales  other_sales  \\\n",
       "11539             2005     Misc      0.06      0.02       0.0         0.00   \n",
       "9751              2010  Shooter      0.10      0.01       0.0         0.01   \n",
       "10654             2011     Misc      0.09      0.00       0.0         0.01   \n",
       "\n",
       "       critic_score  user_score rating  total_sales  \n",
       "11539          69.0         7.9    NaN         0.08  \n",
       "9751           46.0         6.8      T         0.12  \n",
       "10654          67.0         7.3   E10+         0.10  "
      ]
     },
     "metadata": {},
     "output_type": "display_data"
    },
    {
     "data": {
      "text/html": [
       "<div>\n",
       "<style scoped>\n",
       "    .dataframe tbody tr th:only-of-type {\n",
       "        vertical-align: middle;\n",
       "    }\n",
       "\n",
       "    .dataframe tbody tr th {\n",
       "        vertical-align: top;\n",
       "    }\n",
       "\n",
       "    .dataframe thead th {\n",
       "        text-align: right;\n",
       "    }\n",
       "</style>\n",
       "<table border=\"1\" class=\"dataframe\">\n",
       "  <thead>\n",
       "    <tr style=\"text-align: right;\">\n",
       "      <th></th>\n",
       "      <th>name</th>\n",
       "      <th>platform</th>\n",
       "      <th>year_of_release</th>\n",
       "      <th>genre</th>\n",
       "      <th>na_sales</th>\n",
       "      <th>eu_sales</th>\n",
       "      <th>jp_sales</th>\n",
       "      <th>other_sales</th>\n",
       "      <th>critic_score</th>\n",
       "      <th>user_score</th>\n",
       "      <th>rating</th>\n",
       "      <th>total_sales</th>\n",
       "    </tr>\n",
       "  </thead>\n",
       "  <tbody>\n",
       "    <tr>\n",
       "      <td>11539</td>\n",
       "      <td>Shonen Jump's One Piece: Pirates Carnival</td>\n",
       "      <td>GC</td>\n",
       "      <td>2005</td>\n",
       "      <td>Misc</td>\n",
       "      <td>0.06</td>\n",
       "      <td>0.02</td>\n",
       "      <td>0.0</td>\n",
       "      <td>0.00</td>\n",
       "      <td>69.0</td>\n",
       "      <td>7.9</td>\n",
       "      <td>NaN</td>\n",
       "      <td>0.08</td>\n",
       "    </tr>\n",
       "    <tr>\n",
       "      <td>9751</td>\n",
       "      <td>Tom Clancy's Ghost Recon</td>\n",
       "      <td>Wii</td>\n",
       "      <td>2010</td>\n",
       "      <td>Shooter</td>\n",
       "      <td>0.10</td>\n",
       "      <td>0.01</td>\n",
       "      <td>0.0</td>\n",
       "      <td>0.01</td>\n",
       "      <td>46.0</td>\n",
       "      <td>6.8</td>\n",
       "      <td>T</td>\n",
       "      <td>0.12</td>\n",
       "    </tr>\n",
       "    <tr>\n",
       "      <td>10654</td>\n",
       "      <td>Pinball Hall of Fame: The Williams Collection</td>\n",
       "      <td>3DS</td>\n",
       "      <td>2011</td>\n",
       "      <td>Misc</td>\n",
       "      <td>0.09</td>\n",
       "      <td>0.00</td>\n",
       "      <td>0.0</td>\n",
       "      <td>0.01</td>\n",
       "      <td>67.0</td>\n",
       "      <td>7.3</td>\n",
       "      <td>E10+</td>\n",
       "      <td>0.10</td>\n",
       "    </tr>\n",
       "  </tbody>\n",
       "</table>\n",
       "</div>"
      ],
      "text/plain": [
       "                                                name platform  \\\n",
       "11539      Shonen Jump's One Piece: Pirates Carnival       GC   \n",
       "9751                        Tom Clancy's Ghost Recon      Wii   \n",
       "10654  Pinball Hall of Fame: The Williams Collection      3DS   \n",
       "\n",
       "       year_of_release    genre  na_sales  eu_sales  jp_sales  other_sales  \\\n",
       "11539             2005     Misc      0.06      0.02       0.0         0.00   \n",
       "9751              2010  Shooter      0.10      0.01       0.0         0.01   \n",
       "10654             2011     Misc      0.09      0.00       0.0         0.01   \n",
       "\n",
       "       critic_score  user_score rating  total_sales  \n",
       "11539          69.0         7.9    NaN         0.08  \n",
       "9751           46.0         6.8      T         0.12  \n",
       "10654          67.0         7.3   E10+         0.10  "
      ]
     },
     "metadata": {},
     "output_type": "display_data"
    }
   ],
   "source": [
    "display(df_2.sample(3, random_state = 8))\n",
    "display(df_2.sample(3, random_state = 8))"
   ]
  },
  {
   "cell_type": "markdown",
   "metadata": {},
   "source": [
    "Всего за весь период выпущено 11559 игр.\n",
    "\n",
    "Думаю, что можно взять данные с 2000 года по 2016"
   ]
  },
  {
   "cell_type": "code",
   "execution_count": 9,
   "metadata": {},
   "outputs": [
    {
     "data": {
      "text/plain": [
       "platform\n",
       "PS2     1194.39\n",
       "X360     961.24\n",
       "PS3      931.34\n",
       "Wii      891.18\n",
       "DS       802.76\n",
       "PS4      314.14\n",
       "GBA      312.81\n",
       "PSP      289.53\n",
       "3DS      257.81\n",
       "XB       250.58\n",
       "PC       201.06\n",
       "GC       196.73\n",
       "XOne     159.32\n",
       "WiiU      82.19\n",
       "PSV       53.81\n",
       "PS        44.33\n",
       "GB         9.24\n",
       "N64        3.33\n",
       "DC         1.42\n",
       "WS         0.28\n",
       "Name: total_sales, dtype: float64"
      ]
     },
     "metadata": {},
     "output_type": "display_data"
    },
    {
     "data": {
      "image/png": "[encoded data removed]",
      "text/plain": [
       "<Figure size 432x288 with 1 Axes>"
      ]
     },
     "metadata": {
      "needs_background": "light"
     },
     "output_type": "display_data"
    },
    {
     "data": {
      "image/png": "[encoded data removed]",
      "text/plain": [
       "<Figure size 432x288 with 1 Axes>"
      ]
     },
     "metadata": {
      "needs_background": "light"
     },
     "output_type": "display_data"
    },
    {
     "data": {
      "image/png": "[encoded data removed]",
      "text/plain": [
       "<Figure size 432x288 with 1 Axes>"
      ]
     },
     "metadata": {
      "needs_background": "light"
     },
     "output_type": "display_data"
    },
    {
     "data": {
      "image/png": "[encoded data removed]",
      "text/plain": [
       "<Figure size 432x288 with 1 Axes>"
      ]
     },
     "metadata": {
      "needs_background": "light"
     },
     "output_type": "display_data"
    },
    {
     "data": {
      "image/png": "[encoded data removed]",
      "text/plain": [
       "<Figure size 432x288 with 1 Axes>"
      ]
     },
     "metadata": {
      "needs_background": "light"
     },
     "output_type": "display_data"
    }
   ],
   "source": [
    "import matplotlib.pyplot as plt\n",
    "display(df_2000.groupby('platform')['total_sales'].sum().sort_values(ascending = False))\n",
    "\n",
    "PS2 = df_2000[df_2000['platform'] == 'PS2']    \n",
    "PS2['year_of_release'].hist()\n",
    "plt.title(\"PS2\")\n",
    "plt.xlabel(\"год\")\n",
    "plt.show()\n",
    "\n",
    "X360 = df_2000[df_2000['platform'] == 'X360']    \n",
    "X360['year_of_release'].hist()\n",
    "plt.title(\"X360\")\n",
    "plt.xlabel(\"год\")\n",
    "plt.show()\n",
    "\n",
    "\n",
    "PS3 = df_2000[df_2000['platform'] == 'PS3']    \n",
    "PS3['year_of_release'].hist()\n",
    "plt.title(\"PS3\")\n",
    "plt.xlabel(\"год\")\n",
    "plt.show()\n",
    "\n",
    "Wii = df_2000[df_2000['platform'] == 'Wii']    \n",
    "Wii['year_of_release'].hist()\n",
    "plt.title(\"Wii\")\n",
    "plt.xlabel(\"год\")\n",
    "plt.show()\n",
    "\n",
    "DS = df_2000[df_2000['platform'] == 'DS']    \n",
    "DS['year_of_release'].hist()\n",
    "plt.title(\"DS\")\n",
    "plt.xlabel(\"год\")\n",
    "plt.show()         "
   ]
  },
  {
   "cell_type": "code",
   "execution_count": 10,
   "metadata": {
    "scrolled": true
   },
   "outputs": [
    {
     "data": {
      "image/png": "[encoded data removed]",
      "text/plain": [
       "<Figure size 1152x504 with 1 Axes>"
      ]
     },
     "metadata": {
      "needs_background": "light"
     },
     "output_type": "display_data"
    },
    {
     "data": {
      "image/png": "[encoded data removed]",
      "text/plain": [
       "<Figure size 1152x504 with 1 Axes>"
      ]
     },
     "metadata": {
      "needs_background": "light"
     },
     "output_type": "display_data"
    },
    {
     "data": {
      "image/png": "[encoded data removed]",
      "text/plain": [
       "<Figure size 1152x504 with 1 Axes>"
      ]
     },
     "metadata": {
      "needs_background": "light"
     },
     "output_type": "display_data"
    },
    {
     "data": {
      "image/png": "[encoded data removed]",
      "text/plain": [
       "<Figure size 1152x504 with 1 Axes>"
      ]
     },
     "metadata": {
      "needs_background": "light"
     },
     "output_type": "display_data"
    },
    {
     "data": {
      "image/png": "[encoded data removed]",
      "text/plain": [
       "<Figure size 1152x504 with 1 Axes>"
      ]
     },
     "metadata": {
      "needs_background": "light"
     },
     "output_type": "display_data"
    },
    {
     "data": {
      "image/png": "[encoded data removed]",
      "text/plain": [
       "<Figure size 1152x504 with 1 Axes>"
      ]
     },
     "metadata": {
      "needs_background": "light"
     },
     "output_type": "display_data"
    },
    {
     "data": {
      "image/png": "[encoded data removed]",
      "text/plain": [
       "<Figure size 1152x504 with 1 Axes>"
      ]
     },
     "metadata": {
      "needs_background": "light"
     },
     "output_type": "display_data"
    },
    {
     "data": {
      "image/png": "[encoded data removed]",
      "text/plain": [
       "<Figure size 1152x504 with 1 Axes>"
      ]
     },
     "metadata": {
      "needs_background": "light"
     },
     "output_type": "display_data"
    },
    {
     "data": {
      "image/png": "[encoded data removed]",
      "text/plain": [
       "<Figure size 1152x504 with 1 Axes>"
      ]
     },
     "metadata": {
      "needs_background": "light"
     },
     "output_type": "display_data"
    },
    {
     "data": {
      "image/png": "[encoded data removed]",
      "text/plain": [
       "<Figure size 1152x504 with 1 Axes>"
      ]
     },
     "metadata": {
      "needs_background": "light"
     },
     "output_type": "display_data"
    },
    {
     "data": {
      "image/png": "[encoded data removed]",
      "text/plain": [
       "<Figure size 1152x504 with 1 Axes>"
      ]
     },
     "metadata": {
      "needs_background": "light"
     },
     "output_type": "display_data"
    }
   ],
   "source": [
    "df_3 = df[df['year_of_release'] >= 2013]\n",
    "\n",
    "for platform in df_3['platform'].unique():\n",
    "    \n",
    "    _ = df_3[df_3['platform'] == platform]\n",
    "    _ = _.groupby('year_of_release')[['total_sales']].sum().reset_index()\n",
    "\n",
    "    plot = _.plot(kind='bar', x='year_of_release', y='total_sales', legend=False, figsize=(16,7), grid=True, title=platform)\n",
    "    \n",
    "    for rect in plot.patches:\n",
    "        height = rect.get_height()\n",
    "        plot.text(rect.get_x() + rect.get_width()/2, 1.01*height, round(height, 2), ha='center', va='bottom')\n",
    "\n",
    "    plt.show()"
   ]
  },
  {
   "cell_type": "markdown",
   "metadata": {},
   "source": [
    "Делаем срез начиная с платформы DS по PS2:  \n",
    "\n",
    "РS2: с 2001 по 2011, 10 лет  \n",
    "ХЗ360: с 2005 по 2016, 11 лет  \n",
    "PS3: с 2006 по 2016, 10 лет  \n",
    "Wii: с 2006 по 2016, 10 лет  \n",
    "DS: с 2004 по 2013, 9 лет  \n",
    "\n",
    "Вывод: примерно за 10 лет, появляются новые и исчезают старые платформы  \n",
    "\n",
    "Примем за актуальный период - срок 3 года, с 2013 по 2016 год."
   ]
  },
  {
   "cell_type": "code",
   "execution_count": 11,
   "metadata": {},
   "outputs": [
    {
     "data": {
      "text/plain": [
       "platform\n",
       "PS4     314.14\n",
       "PS3     181.43\n",
       "XOne    159.32\n",
       "3DS     143.25\n",
       "X360    136.80\n",
       "WiiU     64.63\n",
       "PC       39.43\n",
       "PSV      32.99\n",
       "Wii      13.66\n",
       "PSP       3.50\n",
       "DS        1.54\n",
       "Name: total_sales, dtype: float64"
      ]
     },
     "metadata": {},
     "output_type": "display_data"
    }
   ],
   "source": [
    "df_3 = df[df['year_of_release'] >= 2013]\n",
    "#df_3\n",
    "display(df_3.groupby('platform')['total_sales'].sum().sort_values(ascending = False))"
   ]
  },
  {
   "cell_type": "markdown",
   "metadata": {},
   "source": [
    "   \n",
    "Лидируют по продажам следующие платформы:  \n",
    "\n",
    "PS4, XOne   ( PS3 - не буду брать, тот же производитель, что и PS4)\n",
    "\n",
    "Минимальные продажи у следующих платформ: DC, PSP\n",
    "\n",
    "Выбираем две прибыльные платформы: PS4, XOne"
   ]
  },
  {
   "cell_type": "code",
   "execution_count": 12,
   "metadata": {},
   "outputs": [
    {
     "data": {
      "image/png": "[encoded data removed]",
      "text/plain": [
       "<Figure size 432x288 with 1 Axes>"
      ]
     },
     "metadata": {
      "needs_background": "light"
     },
     "output_type": "display_data"
    }
   ],
   "source": [
    "import numpy as np\n",
    "np.warnings.filterwarnings('ignore', category=np.VisibleDeprecationWarning)\n",
    "\n",
    "df_3.boxplot('total_sales', by='platform', showfliers=False);"
   ]
  },
  {
   "cell_type": "code",
   "execution_count": 13,
   "metadata": {},
   "outputs": [
    {
     "data": {
      "text/plain": [
       "count    392.000000\n",
       "mean       0.801378\n",
       "std        1.609456\n",
       "min        0.010000\n",
       "25%        0.060000\n",
       "50%        0.200000\n",
       "75%        0.730000\n",
       "max       14.630000\n",
       "Name: total_sales, dtype: float64"
      ]
     },
     "metadata": {},
     "output_type": "display_data"
    },
    {
     "data": {
      "image/png": "[encoded data removed]",
      "text/plain": [
       "<Figure size 432x288 with 1 Axes>"
      ]
     },
     "metadata": {
      "needs_background": "light"
     },
     "output_type": "display_data"
    }
   ],
   "source": [
    "import matplotlib.pyplot as plt\n",
    "\n",
    "df_3_PS4 = df_3[df_3['platform'] == 'PS4']     \n",
    "df_3_PS4.boxplot(column='total_sales', showfliers=False)\n",
    "plt.title(\"продажи PS4\")\n",
    "plt.ylabel(\"млн проданных копий\")\n",
    "plt.ylim(0, 2)\n",
    "\n",
    "display(df_3_PS4.total_sales.describe())"
   ]
  },
  {
   "cell_type": "markdown",
   "metadata": {},
   "source": [
    "PS4:  \n",
    "нижний ус упирается в 0, верхний в 1.73   \n",
    "Медиана - 0,20  \n",
    "Среднее - 0,80  \n",
    "Первый квартиль - 0,06  \n",
    "Третий квартиль - 0,73  "
   ]
  },
  {
   "cell_type": "code",
   "execution_count": 14,
   "metadata": {},
   "outputs": [
    {
     "data": {
      "text/plain": [
       "count    247.000000\n",
       "mean       0.645020\n",
       "std        1.036139\n",
       "min        0.010000\n",
       "25%        0.060000\n",
       "50%        0.220000\n",
       "75%        0.685000\n",
       "max        7.390000\n",
       "Name: total_sales, dtype: float64"
      ]
     },
     "metadata": {},
     "output_type": "display_data"
    },
    {
     "data": {
      "image/png": "[encoded data removed]",
      "text/plain": [
       "<Figure size 432x288 with 1 Axes>"
      ]
     },
     "metadata": {
      "needs_background": "light"
     },
     "output_type": "display_data"
    }
   ],
   "source": [
    "import matplotlib.pyplot as plt\n",
    "\n",
    "df_3_XOne = df_3[df_3['platform'] == 'XOne']     \n",
    "df_3_XOne.boxplot(column='total_sales', showfliers=False)\n",
    "plt.title(\"продажи XOne\")\n",
    "plt.ylabel(\"млн проданных копий\")\n",
    "plt.ylim(0, 2)\n",
    "\n",
    "display(df_3_XOne.total_sales.describe())"
   ]
  },
  {
   "cell_type": "markdown",
   "metadata": {},
   "source": [
    "XOne:  \n",
    "нижний ус упирается в 0, верхний в 1.58   \n",
    "Медиана - 0,22  \n",
    "Среднее - 0,64  \n",
    "Первый квартиль - 0,06  \n",
    "Третий квартиль - 0,74 "
   ]
  },
  {
   "cell_type": "markdown",
   "metadata": {},
   "source": [
    "PS3:\n",
    "нижний ус упирается в 0, верхний в 1.7. Все что выше считается выбросом.\n",
    "Медиана - 0,28\n",
    "Среднее - 0,71\n",
    "Первый квартиль - 0,11\n",
    "Третий квартиль - 0,76"
   ]
  },
  {
   "cell_type": "markdown",
   "metadata": {},
   "source": [
    "Wii:\n",
    "нижний ус упирается в 0, верхний в 1.1. Все что выше считается выбросом.\n",
    "Медиана - 0,19\n",
    "Среднее - 0,69\n",
    "Первый квартиль - 0,09\n",
    "Третий квартиль - 0,49"
   ]
  },
  {
   "cell_type": "markdown",
   "metadata": {},
   "source": [
    "Для каждой платформы строим диаграмму рассеивания и расчитываем корелляцию между отзывами и продажами"
   ]
  },
  {
   "cell_type": "code",
   "execution_count": 15,
   "metadata": {},
   "outputs": [
    {
     "data": {
      "image/png": "[encoded data removed]",
      "text/plain": [
       "<Figure size 432x288 with 1 Axes>"
      ]
     },
     "metadata": {
      "needs_background": "light"
     },
     "output_type": "display_data"
    },
    {
     "data": {
      "text/plain": [
       "0.406567902061781"
      ]
     },
     "metadata": {},
     "output_type": "display_data"
    },
    {
     "data": {
      "text/plain": [
       "-0.031957110204556424"
      ]
     },
     "metadata": {},
     "output_type": "display_data"
    },
    {
     "data": {
      "image/png": "[encoded data removed]",
      "text/plain": [
       "<Figure size 432x288 with 1 Axes>"
      ]
     },
     "metadata": {
      "needs_background": "light"
     },
     "output_type": "display_data"
    }
   ],
   "source": [
    "df_3_PS4.plot(x='total_sales', y='critic_score', kind='scatter', grid=True)\n",
    "plt.title(\"PS4\")\n",
    "plt.show()\n",
    "df_3_PS4.plot(x='total_sales', y='user_score', kind='scatter', grid=True)\n",
    "plt.title(\"PS4\")\n",
    "\n",
    "display((df_3_PS4['total_sales']).corr(df_3_PS4['critic_score']))\n",
    "display((df_3_PS4['total_sales']).corr(df_3_PS4['user_score']))"
   ]
  },
  {
   "cell_type": "markdown",
   "metadata": {},
   "source": [
    "X360: \n",
    "видно, что когда плохо идут продажи - количество оценок критиков много, чем больше продажи, тем меньше оценок критиков.\n",
    "Аналогичная ситуация с оценками пользователей.\n",
    "Однако рассчет корреляций, говорит о наличии взаимосвязей, но не сильных между продажами и оцеками критиков и \n",
    "слабых между продажами и оцеками пользователей"
   ]
  },
  {
   "cell_type": "code",
   "execution_count": 16,
   "metadata": {},
   "outputs": [
    {
     "data": {
      "image/png": "[encoded data removed]",
      "text/plain": [
       "<Figure size 432x288 with 1 Axes>"
      ]
     },
     "metadata": {
      "needs_background": "light"
     },
     "output_type": "display_data"
    },
    {
     "data": {
      "text/plain": [
       "0.41699832800840175"
      ]
     },
     "metadata": {},
     "output_type": "display_data"
    },
    {
     "data": {
      "text/plain": [
       "-0.06892505328279412"
      ]
     },
     "metadata": {},
     "output_type": "display_data"
    },
    {
     "data": {
      "image/png": "[encoded data removed]",
      "text/plain": [
       "<Figure size 432x288 with 1 Axes>"
      ]
     },
     "metadata": {
      "needs_background": "light"
     },
     "output_type": "display_data"
    }
   ],
   "source": [
    "df_3_XOne.plot(x='total_sales', y='critic_score', kind='scatter', grid=True)\n",
    "plt.title(\"XOne\")\n",
    "plt.show()\n",
    "df_3_XOne.plot(x='total_sales', y='user_score', kind='scatter', grid=True)\n",
    "plt.title(\"XOne\")\n",
    "\n",
    "display((df_3_XOne['total_sales']).corr(df_3_XOne['critic_score']))\n",
    "display((df_3_XOne['total_sales']).corr(df_3_XOne['user_score']))"
   ]
  },
  {
   "cell_type": "markdown",
   "metadata": {},
   "source": [
    "PS3(примерно аналогичнеая ситуация по отношению к X360): \n",
    "видно, что когда плохо идут продажи - количество оценок критиков много, чем больше продажи, тем меньше оценок критиков.\n",
    "Аналогичная ситуация с оценками пользователей.\n",
    "Однако рассчет корреляций, говорит о наличии взаимосвязей, но не сильных между продажами и оцеками критиков и \n",
    "слабых между продажами и оцеками пользователей"
   ]
  },
  {
   "cell_type": "markdown",
   "metadata": {},
   "source": [
    "Wii - плотность графиков значительно меньше чем плотность графиков X360 и PS3.\n",
    "Характер разброса точек примерно аналогичен по отношению к X360 и PS): \n",
    "видно, что когда плохо идут продажи - количество оценок критиков много, чем больше продажи, тем меньше оценок критиков.\n",
    "Аналогичная ситуация с оценками пользователей.\n",
    "Однако рассчет корреляций, говорит о наличии слабых взаимосвязей между продажами и оцеками критиков и \n",
    "между продажами и оцеками пользователей, соответственно."
   ]
  },
  {
   "cell_type": "code",
   "execution_count": 17,
   "metadata": {},
   "outputs": [
    {
     "data": {
      "image/png": "[encoded data removed]",
      "text/plain": [
       "<Figure size 432x288 with 1 Axes>"
      ]
     },
     "metadata": {
      "needs_background": "light"
     },
     "output_type": "display_data"
    },
    {
     "data": {
      "text/plain": [
       "0.253188810821927"
      ]
     },
     "metadata": {},
     "output_type": "display_data"
    },
    {
     "data": {
      "text/plain": [
       "0.009361886469724199"
      ]
     },
     "metadata": {},
     "output_type": "display_data"
    },
    {
     "data": {
      "image/png": "[encoded data removed]",
      "text/plain": [
       "<Figure size 432x288 with 1 Axes>"
      ]
     },
     "metadata": {
      "needs_background": "light"
     },
     "output_type": "display_data"
    }
   ],
   "source": [
    "df_3_other = df_3[(df_3['platform'] != 'XOne') & (df_3['platform'] != 'PS4')]\n",
    "#df_3_other\n",
    "df_3_other.plot(x='total_sales', y='critic_score', kind='scatter', grid=True)\n",
    "plt.title(\"другие платформы\")\n",
    "plt.show()\n",
    "df_3_other.plot(x='total_sales', y='user_score', kind='scatter', grid=True)\n",
    "plt.title(\"другие платформы\")\n",
    "\n",
    "display((df_3_other['total_sales']).corr(df_3_other['critic_score']))\n",
    "display((df_3_other['total_sales']).corr(df_3_other['user_score']))"
   ]
  },
  {
   "cell_type": "markdown",
   "metadata": {},
   "source": [
    "Другие платформы - плотность графиков значительно выше чем плотность графиков рассматриваемых выше платформ  \n",
    "Характер разброса точек примерно аналогичен:   \n",
    "видно, что когда плохо идут продажи - количество оценок критиков много, чем больше продажи, тем меньше оценок критиков.  \n",
    "Аналогичная ситуация с оценками пользователей.  \n",
    "Рассчет корреляций, говорит о наличии слабых взаимосвязей между продажами и оцеками критиков и   \n",
    "между продажами и оцеками пользователей, соответственно.  "
   ]
  },
  {
   "cell_type": "code",
   "execution_count": 18,
   "metadata": {},
   "outputs": [
    {
     "data": {
      "text/plain": [
       "genre\n",
       "Action          321.87\n",
       "Shooter         232.98\n",
       "Sports          150.65\n",
       "Role-Playing    145.89\n",
       "Misc             62.82\n",
       "Platform         42.63\n",
       "Racing           39.89\n",
       "Fighting         35.31\n",
       "Adventure        23.64\n",
       "Simulation       21.76\n",
       "Strategy         10.08\n",
       "Puzzle            3.17\n",
       "Name: total_sales, dtype: float64"
      ]
     },
     "metadata": {},
     "output_type": "display_data"
    }
   ],
   "source": [
    "display(df_3.groupby('genre')['total_sales'].sum().sort_values(ascending = False))"
   ]
  },
  {
   "cell_type": "markdown",
   "metadata": {},
   "source": [
    "   \n",
    "    Самые прибыльные жанры: Action и Shooter.  \n",
    "        Наименее прибыльные: Strategy и Puzzle"
   ]
  },
  {
   "cell_type": "markdown",
   "metadata": {},
   "source": [
    "## Портрет пользователя каждого региона"
   ]
  },
  {
   "cell_type": "code",
   "execution_count": 19,
   "metadata": {},
   "outputs": [
    {
     "data": {
      "text/plain": [
       "'продажи в Северной Америке по платформам'"
      ]
     },
     "metadata": {},
     "output_type": "display_data"
    },
    {
     "data": {
      "text/plain": [
       "platform\n",
       "PS4     108.74\n",
       "XOne     93.12\n",
       "X360     81.66\n",
       "PS3      63.50\n",
       "3DS      38.20\n",
       "Name: na_sales, dtype: float64"
      ]
     },
     "metadata": {},
     "output_type": "display_data"
    },
    {
     "data": {
      "text/plain": [
       "'продажи в Европе по платформам'"
      ]
     },
     "metadata": {},
     "output_type": "display_data"
    },
    {
     "data": {
      "text/plain": [
       "platform\n",
       "PS4     141.09\n",
       "PS3      67.81\n",
       "XOne     51.59\n",
       "X360     42.52\n",
       "3DS      30.96\n",
       "Name: eu_sales, dtype: float64"
      ]
     },
     "metadata": {},
     "output_type": "display_data"
    },
    {
     "data": {
      "text/plain": [
       "'продажи в Японии по платформам'"
      ]
     },
     "metadata": {},
     "output_type": "display_data"
    },
    {
     "data": {
      "text/plain": [
       "platform\n",
       "3DS     67.81\n",
       "PS3     23.35\n",
       "PSV     18.59\n",
       "PS4     15.96\n",
       "WiiU    10.88\n",
       "Name: jp_sales, dtype: float64"
      ]
     },
     "metadata": {},
     "output_type": "display_data"
    }
   ],
   "source": [
    "display('продажи в Северной Америке по платформам')\n",
    "display(df_3.groupby('platform')['na_sales'].sum().sort_values(ascending = False).head())\n",
    "display()\n",
    "display('продажи в Европе по платформам')\n",
    "display(df_3.groupby('platform')['eu_sales'].sum().sort_values(ascending = False).head())\n",
    "display()\n",
    "display('продажи в Японии по платформам')\n",
    "display(df_3.groupby('platform')['jp_sales'].sum().sort_values(ascending = False).head())"
   ]
  },
  {
   "cell_type": "markdown",
   "metadata": {},
   "source": [
    "В Северной Америке лидирует по продажам платформа PS4, не намного отстает XOne, тройку лидеров замыкает X360    \n",
    "В Европе первое место - PS4, второе - PS3, тройку лидеров замыкает XOne   \n",
    "В Японии лидируют платформы отечественного производителя, конечно же, возглавляет список 3DS  "
   ]
  },
  {
   "cell_type": "code",
   "execution_count": 20,
   "metadata": {},
   "outputs": [
    {
     "data": {
      "text/plain": [
       "'продажи в Северной Америке по жанрам'"
      ]
     },
     "metadata": {},
     "output_type": "display_data"
    },
    {
     "data": {
      "text/plain": [
       "genre\n",
       "Action          126.05\n",
       "Shooter         109.74\n",
       "Sports           65.27\n",
       "Role-Playing     46.40\n",
       "Misc             27.49\n",
       "Name: na_sales, dtype: float64"
      ]
     },
     "metadata": {},
     "output_type": "display_data"
    },
    {
     "data": {
      "text/plain": [
       "'продажи в Европе по жанрам'"
      ]
     },
     "metadata": {},
     "output_type": "display_data"
    },
    {
     "data": {
      "text/plain": [
       "genre\n",
       "Action          118.13\n",
       "Shooter          87.86\n",
       "Sports           60.52\n",
       "Role-Playing     36.97\n",
       "Racing           20.19\n",
       "Name: eu_sales, dtype: float64"
      ]
     },
     "metadata": {},
     "output_type": "display_data"
    },
    {
     "data": {
      "text/plain": [
       "'продажи в Японии по жанрам'"
      ]
     },
     "metadata": {},
     "output_type": "display_data"
    },
    {
     "data": {
      "text/plain": [
       "genre\n",
       "Role-Playing    51.04\n",
       "Action          40.49\n",
       "Misc             9.20\n",
       "Fighting         7.65\n",
       "Shooter          6.61\n",
       "Name: jp_sales, dtype: float64"
      ]
     },
     "metadata": {},
     "output_type": "display_data"
    }
   ],
   "source": [
    "display('продажи в Северной Америке по жанрам')\n",
    "display(df_3.groupby('genre')['na_sales'].sum().sort_values(ascending = False).head())\n",
    "display()\n",
    "display('продажи в Европе по жанрам')\n",
    "display(df_3.groupby('genre')['eu_sales'].sum().sort_values(ascending = False).head())\n",
    "display()\n",
    "display('продажи в Японии по жанрам')\n",
    "display(df_3.groupby('genre')['jp_sales'].sum().sort_values(ascending = False).head())"
   ]
  },
  {
   "cell_type": "markdown",
   "metadata": {},
   "source": [
    "если одни платформы могут быть не популярны в Японии, например XOne или X360, то что касается жанров, ситуация иная. Например жанр Action, популярен как в Северной Америке, так и в Европе, так и в Японии.  \n",
    "Жанр Shooter на втором месте в Северной Америке и в Европе, а вот в Японии на первом месте Role-Playing"
   ]
  },
  {
   "cell_type": "code",
   "execution_count": 21,
   "metadata": {},
   "outputs": [
    {
     "name": "stderr",
     "output_type": "stream",
     "text": [
      "/opt/conda/lib/python3.7/site-packages/ipykernel_launcher.py:1: SettingWithCopyWarning: \n",
      "A value is trying to be set on a copy of a slice from a DataFrame.\n",
      "Try using .loc[row_indexer,col_indexer] = value instead\n",
      "\n",
      "See the caveats in the documentation: http://pandas.pydata.org/pandas-docs/stable/user_guide/indexing.html#returning-a-view-versus-a-copy\n",
      "  \"\"\"Entry point for launching an IPython kernel.\n"
     ]
    },
    {
     "data": {
      "text/plain": [
       "Action          347\n",
       "Adventure       185\n",
       "Role-Playing    154\n",
       "Misc             91\n",
       "Sports           46\n",
       "Fighting         32\n",
       "Simulation       31\n",
       "Strategy         31\n",
       "Shooter          26\n",
       "Racing           18\n",
       "Platform          9\n",
       "Puzzle            7\n",
       "Name: genre, dtype: int64"
      ]
     },
     "metadata": {},
     "output_type": "display_data"
    }
   ],
   "source": [
    "df_3['rating'] = df_3['rating'].fillna('rat')\n",
    "#display(df_2000[df_2000['rating'] == 'rat'])\n",
    "rat = df_3[df_3['rating'] == 'rat']\n",
    "display(rat['genre'].value_counts())"
   ]
  },
  {
   "cell_type": "code",
   "execution_count": 22,
   "metadata": {},
   "outputs": [
    {
     "data": {
      "text/plain": [
       "'продажи в Северной Америке по рейтингу ESRB'"
      ]
     },
     "metadata": {},
     "output_type": "display_data"
    },
    {
     "data": {
      "text/plain": [
       "rating\n",
       "M       165.21\n",
       "rat      89.42\n",
       "E        79.05\n",
       "E10+     54.24\n",
       "T        49.79\n",
       "Name: na_sales, dtype: float64"
      ]
     },
     "metadata": {},
     "output_type": "display_data"
    },
    {
     "data": {
      "text/plain": [
       "'продажи в Европе по рейтингу ESRB'"
      ]
     },
     "metadata": {},
     "output_type": "display_data"
    },
    {
     "data": {
      "text/plain": [
       "rating\n",
       "M       145.32\n",
       "E        83.36\n",
       "rat      78.91\n",
       "E10+     42.69\n",
       "T        41.95\n",
       "Name: eu_sales, dtype: float64"
      ]
     },
     "metadata": {},
     "output_type": "display_data"
    },
    {
     "data": {
      "text/plain": [
       "'продажи в Японии по рейтингу ESRB'"
      ]
     },
     "metadata": {},
     "output_type": "display_data"
    },
    {
     "data": {
      "text/plain": [
       "rating\n",
       "rat     85.05\n",
       "T       20.59\n",
       "E       15.14\n",
       "M       14.11\n",
       "E10+     5.89\n",
       "Name: jp_sales, dtype: float64"
      ]
     },
     "metadata": {},
     "output_type": "display_data"
    }
   ],
   "source": [
    "display('продажи в Северной Америке по рейтингу ESRB')\n",
    "display(df_3.groupby('rating')['na_sales'].sum().sort_values(ascending = False).head())\n",
    "display()\n",
    "display('продажи в Европе по рейтингу ESRB')\n",
    "display(df_3.groupby('rating')['eu_sales'].sum().sort_values(ascending = False).head())\n",
    "display()\n",
    "display('продажи в Японии по рейтингу ESRB')\n",
    "display(df_3.groupby('rating')['jp_sales'].sum().sort_values(ascending = False).head())"
   ]
  },
  {
   "cell_type": "markdown",
   "metadata": {},
   "source": [
    "По рейтингу ESRB в Северной Америке и Европе лидирует - M, т.е. «Для взрослых»: Материалы игры не подходят для подростков младше 17 лет. Проекты с данным рейтингом могут содержать достаточно жестокое насилие, большое количество крови с расчленением, непристойные сексуальные сцены или грубую ненормативную лексику, нежелательную для младшей аудитории"
   ]
  },
  {
   "cell_type": "markdown",
   "metadata": {},
   "source": [
    "## Проверка гипотез"
   ]
  },
  {
   "cell_type": "markdown",
   "metadata": {},
   "source": [
    "нулевая гипотеза H₀: \"Средние пользовательские рейтинги платформ Xbox One и PC одинаковые\"\n",
    "\n",
    "альтернативная гипотеза H₁: \"Средние пользовательские рейтинги платформ Xbox One и PC не одинаковые\""
   ]
  },
  {
   "cell_type": "code",
   "execution_count": 23,
   "metadata": {},
   "outputs": [
    {
     "name": "stdout",
     "output_type": "stream",
     "text": [
      "p-значение: 0.14012658403611647\n",
      "Не получилось отвергнуть нулевую гипотезу\n"
     ]
    },
    {
     "name": "stderr",
     "output_type": "stream",
     "text": [
      "/opt/conda/lib/python3.7/site-packages/ipykernel_launcher.py:4: SettingWithCopyWarning: \n",
      "A value is trying to be set on a copy of a slice from a DataFrame\n",
      "\n",
      "See the caveats in the documentation: http://pandas.pydata.org/pandas-docs/stable/user_guide/indexing.html#returning-a-view-versus-a-copy\n",
      "  after removing the cwd from sys.path.\n",
      "/opt/conda/lib/python3.7/site-packages/pandas/core/ops/__init__.py:1115: FutureWarning: elementwise comparison failed; returning scalar instead, but in the future will perform elementwise comparison\n",
      "  result = method(y)\n",
      "/opt/conda/lib/python3.7/site-packages/pandas/core/indexing.py:494: SettingWithCopyWarning: \n",
      "A value is trying to be set on a copy of a slice from a DataFrame.\n",
      "Try using .loc[row_indexer,col_indexer] = value instead\n",
      "\n",
      "See the caveats in the documentation: http://pandas.pydata.org/pandas-docs/stable/user_guide/indexing.html#returning-a-view-versus-a-copy\n",
      "  self.obj[item] = s\n",
      "/opt/conda/lib/python3.7/site-packages/ipykernel_launcher.py:6: SettingWithCopyWarning: \n",
      "A value is trying to be set on a copy of a slice from a DataFrame.\n",
      "Try using .loc[row_indexer,col_indexer] = value instead\n",
      "\n",
      "See the caveats in the documentation: http://pandas.pydata.org/pandas-docs/stable/user_guide/indexing.html#returning-a-view-versus-a-copy\n",
      "  \n"
     ]
    }
   ],
   "source": [
    "from scipy import stats as st\n",
    "import pandas as pd\n",
    "\n",
    "df_3.dropna(subset = ['platform', 'user_score'], inplace = True)  #удаляем пропуски\n",
    "df_3.loc[df_3['user_score'] == 'tbd', 'user_score'] = 0  #заменяем tbd на 0\n",
    "df_3['user_score'] = df_3['user_score'].astype('float')     #меняем тип на float иначе код не сработает\n",
    "#display(df['platform'].value_counts())\n",
    "xone = df_3[df_3['platform'] == 'XOne']\n",
    "#xone\n",
    "pc = df_3[df_3['platform'] == 'PC']\n",
    "#pc\n",
    "\n",
    "alpha = 0.05\n",
    "results = st.ttest_ind(xone['user_score'], pc['user_score'])\n",
    "\n",
    "print('p-значение:', results.pvalue)\n",
    "\n",
    "if results.pvalue < alpha:\n",
    "    print('Отвергаем нулевую гипотезу')\n",
    "else:\n",
    "    print('Не получилось отвергнуть нулевую гипотезу')"
   ]
  },
  {
   "cell_type": "markdown",
   "metadata": {},
   "source": [
    "Средние пользовательские рейтинги платформ Xbox One и PC одинаковые"
   ]
  },
  {
   "cell_type": "markdown",
   "metadata": {},
   "source": [
    "Рассчитываем дисперсию для пользовательских рейтингов платформы Xbox"
   ]
  },
  {
   "cell_type": "code",
   "execution_count": 24,
   "metadata": {},
   "outputs": [
    {
     "data": {
      "text/plain": [
       "year_of_release      0.979054\n",
       "na_sales             0.385215\n",
       "eu_sales             0.142408\n",
       "jp_sales             0.000032\n",
       "other_sales          0.008560\n",
       "critic_score       165.993570\n",
       "user_score           1.906997\n",
       "total_sales          1.036450\n",
       "dtype: float64"
      ]
     },
     "execution_count": 24,
     "metadata": {},
     "output_type": "execute_result"
    }
   ],
   "source": [
    "import numpy as np\n",
    "\n",
    "variance_xone = np.var(xone, ddof=1)\n",
    "variance_xone"
   ]
  },
  {
   "cell_type": "markdown",
   "metadata": {},
   "source": [
    "Рассчитываем дисперсию для пользовательских рейтингов платформы PC"
   ]
  },
  {
   "cell_type": "code",
   "execution_count": 25,
   "metadata": {},
   "outputs": [
    {
     "data": {
      "text/plain": [
       "year_of_release      1.250272\n",
       "na_sales             0.018443\n",
       "eu_sales             0.046247\n",
       "jp_sales             0.000000\n",
       "other_sales          0.001025\n",
       "critic_score       110.799182\n",
       "user_score           3.035893\n",
       "total_sales          0.135352\n",
       "dtype: float64"
      ]
     },
     "execution_count": 25,
     "metadata": {},
     "output_type": "execute_result"
    }
   ],
   "source": [
    "variance_pc = np.var(pc, ddof=1)\n",
    "variance_pc"
   ]
  },
  {
   "cell_type": "markdown",
   "metadata": {},
   "source": [
    "Рассчитываем стандартное отклонение для пользовательских рейтингов платформы Xbox"
   ]
  },
  {
   "cell_type": "code",
   "execution_count": 26,
   "metadata": {},
   "outputs": [
    {
     "data": {
      "text/plain": [
       "year_of_release     0.989472\n",
       "na_sales            0.620657\n",
       "eu_sales            0.377369\n",
       "jp_sales            0.005679\n",
       "other_sales         0.092520\n",
       "critic_score       12.883849\n",
       "user_score          1.380941\n",
       "total_sales         1.018062\n",
       "dtype: float64"
      ]
     },
     "execution_count": 26,
     "metadata": {},
     "output_type": "execute_result"
    }
   ],
   "source": [
    "standard_xone = np.std(xone, ddof=1)\n",
    "standard_xone"
   ]
  },
  {
   "cell_type": "markdown",
   "metadata": {},
   "source": [
    "Рассчитываем стандартное отклонение для пользовательских рейтингов платформы PC"
   ]
  },
  {
   "cell_type": "code",
   "execution_count": 27,
   "metadata": {},
   "outputs": [
    {
     "data": {
      "text/plain": [
       "year_of_release     1.118156\n",
       "na_sales            0.135803\n",
       "eu_sales            0.215051\n",
       "jp_sales            0.000000\n",
       "other_sales         0.032012\n",
       "critic_score       10.526119\n",
       "user_score          1.742381\n",
       "total_sales         0.367903\n",
       "dtype: float64"
      ]
     },
     "execution_count": 27,
     "metadata": {},
     "output_type": "execute_result"
    }
   ],
   "source": [
    "standard_pc = np.std(pc, ddof=1)\n",
    "standard_pc"
   ]
  },
  {
   "cell_type": "markdown",
   "metadata": {},
   "source": [
    "нулевая гипотеза H₀: \"Средние пользовательские рейтинги жанров Action и Sports одинаковые\"\n",
    "\n",
    "альтернативная гипотеза H₁: \"Средние пользовательские рейтинги жанров Action и Sports разные\""
   ]
  },
  {
   "cell_type": "code",
   "execution_count": 28,
   "metadata": {},
   "outputs": [
    {
     "name": "stdout",
     "output_type": "stream",
     "text": [
      "p-значение: 1.0517832389140023e-27\n",
      "Отвергаем нулевую гипотезу\n"
     ]
    }
   ],
   "source": [
    "#df.dropna(subset = ['genre', 'user_score'], inplace = True)  #удаляем пропуски\n",
    "\n",
    "action = df_3[df_3['genre'] == 'Action']\n",
    "#action\n",
    "sports = df_3[df_3['genre'] == 'Sports']\n",
    "#sports\n",
    "alpha = 0.05\n",
    "results_2 = st.ttest_ind(action['user_score'], sports['user_score'])\n",
    "\n",
    "print('p-значение:', results_2.pvalue)\n",
    "\n",
    "if results_2.pvalue < alpha:\n",
    "    print('Отвергаем нулевую гипотезу')\n",
    "else:\n",
    "    print('Не получилось отвергнуть нулевую гипотезу')"
   ]
  },
  {
   "cell_type": "markdown",
   "metadata": {},
   "source": [
    "Средние пользовательские рейтинги жанров Action и Sports разные"
   ]
  },
  {
   "cell_type": "markdown",
   "metadata": {},
   "source": [
    "## Общий вывод"
   ]
  },
  {
   "cell_type": "markdown",
   "metadata": {},
   "source": [
    "Актуальность той или иной платформы сохраняется в течении 10 лет    \n",
    "      \n",
    "В Северной Америке лидирует по продажам платформа PS4, не намного отстает XOne, тройку лидеров замыкает X360      \n",
    "В Европе первое место - PS4, второе - PS3, тройку лидеров замыкает XOne     \n",
    "В Японии лидируют платформы отечественного производителя, конечно же, возглавляет список 3DS    \n",
    "  \n",
    "Самые прибыльные жанры: Action и Shooter     \n",
    "Наименее прибыльные: Strategy и Puzzle    \n",
    "      \n",
    "По рейтингу ESRB в Северной Америке и Европе лидирует - M, т.е. «Для взрослых»    \n",
    "  \n",
    "Резюме:     \n",
    "стоит делать ставку на рекламу игр таких платформ как PS4, XOne с жанром Action и Shooters,    \n",
    "по рейтингу ESRB - M, в таких регионах как Северная Америка и Европа.    \n",
    "В японии - стоит делать ставку на рекламу игр платформ отечественного производителя с жанром Role-Playing и Action  "
   ]
  }
 ],
 "metadata": {
  "ExecuteTimeLog": [
   {
    "duration": 816,
    "start_time": "2021-08-29T14:18:15.295Z"
   },
   {
    "duration": 44,
    "start_time": "2021-08-29T14:18:16.114Z"
   },
   {
    "duration": 12,
    "start_time": "2021-08-29T14:18:16.182Z"
   },
   {
    "duration": 6915,
    "start_time": "2021-08-29T14:18:16.197Z"
   },
   {
    "duration": 13,
    "start_time": "2021-08-29T14:18:23.115Z"
   },
   {
    "duration": 20,
    "start_time": "2021-08-29T14:18:23.131Z"
   },
   {
    "duration": 34,
    "start_time": "2021-08-29T14:18:23.182Z"
   },
   {
    "duration": 64,
    "start_time": "2021-08-29T14:18:23.220Z"
   },
   {
    "duration": 1469,
    "start_time": "2021-08-29T14:18:23.287Z"
   },
   {
    "duration": 4147,
    "start_time": "2021-08-29T14:18:24.758Z"
   },
   {
    "duration": 3,
    "start_time": "2021-08-29T14:18:28.907Z"
   },
   {
    "duration": 14,
    "start_time": "2021-08-29T14:18:28.912Z"
   },
   {
    "duration": 3,
    "start_time": "2021-08-29T14:18:28.929Z"
   },
   {
    "duration": 467,
    "start_time": "2021-08-29T14:18:28.935Z"
   },
   {
    "duration": 3,
    "start_time": "2021-08-29T14:18:29.404Z"
   },
   {
    "duration": 249,
    "start_time": "2021-08-29T14:18:29.409Z"
   },
   {
    "duration": 266,
    "start_time": "2021-08-29T14:18:29.661Z"
   },
   {
    "duration": 3,
    "start_time": "2021-08-29T14:18:29.929Z"
   },
   {
    "duration": 5,
    "start_time": "2021-08-29T14:18:29.935Z"
   },
   {
    "duration": 7,
    "start_time": "2021-08-29T14:18:29.943Z"
   },
   {
    "duration": 855,
    "start_time": "2021-08-29T14:18:29.953Z"
   },
   {
    "duration": 3,
    "start_time": "2021-08-29T14:18:30.811Z"
   },
   {
    "duration": 803,
    "start_time": "2021-08-29T14:18:30.819Z"
   },
   {
    "duration": 3,
    "start_time": "2021-08-29T14:18:31.624Z"
   },
   {
    "duration": 7,
    "start_time": "2021-08-29T14:18:31.630Z"
   },
   {
    "duration": 969,
    "start_time": "2021-08-29T14:18:31.640Z"
   },
   {
    "duration": 9,
    "start_time": "2021-08-29T14:18:32.612Z"
   },
   {
    "duration": 16,
    "start_time": "2021-08-29T14:18:32.624Z"
   },
   {
    "duration": 54,
    "start_time": "2021-08-29T14:18:32.642Z"
   },
   {
    "duration": 4,
    "start_time": "2021-08-29T14:18:32.698Z"
   },
   {
    "duration": 32,
    "start_time": "2021-08-29T14:18:32.704Z"
   },
   {
    "duration": 3,
    "start_time": "2021-08-29T14:18:32.738Z"
   },
   {
    "duration": 50,
    "start_time": "2021-08-29T14:18:32.743Z"
   },
   {
    "duration": 4,
    "start_time": "2021-08-29T14:18:32.796Z"
   },
   {
    "duration": 32,
    "start_time": "2021-08-29T14:18:32.802Z"
   },
   {
    "duration": 467,
    "start_time": "2021-08-29T14:18:32.836Z"
   },
   {
    "duration": 15,
    "start_time": "2021-08-29T14:18:33.305Z"
   },
   {
    "duration": 16,
    "start_time": "2021-08-29T14:18:33.322Z"
   },
   {
    "duration": 46,
    "start_time": "2021-08-29T14:18:33.341Z"
   },
   {
    "duration": 17,
    "start_time": "2021-08-29T14:18:33.389Z"
   },
   {
    "duration": 17,
    "start_time": "2021-08-29T14:18:33.408Z"
   },
   {
    "duration": 326,
    "start_time": "2021-08-29T14:28:28.883Z"
   },
   {
    "duration": 770,
    "start_time": "2021-08-29T14:28:43.178Z"
   },
   {
    "duration": 38,
    "start_time": "2021-08-29T14:28:43.950Z"
   },
   {
    "duration": 11,
    "start_time": "2021-08-29T14:28:43.991Z"
   },
   {
    "duration": 375,
    "start_time": "2021-08-29T14:28:44.005Z"
   },
   {
    "duration": 405,
    "start_time": "2021-08-29T14:28:43.979Z"
   },
   {
    "duration": 399,
    "start_time": "2021-08-29T14:28:43.987Z"
   },
   {
    "duration": 392,
    "start_time": "2021-08-29T14:28:43.995Z"
   },
   {
    "duration": 386,
    "start_time": "2021-08-29T14:28:44.003Z"
   },
   {
    "duration": 376,
    "start_time": "2021-08-29T14:28:44.015Z"
   },
   {
    "duration": 370,
    "start_time": "2021-08-29T14:28:44.022Z"
   },
   {
    "duration": 363,
    "start_time": "2021-08-29T14:28:44.030Z"
   },
   {
    "duration": 357,
    "start_time": "2021-08-29T14:28:44.037Z"
   },
   {
    "duration": 352,
    "start_time": "2021-08-29T14:28:44.044Z"
   },
   {
    "duration": 347,
    "start_time": "2021-08-29T14:28:44.050Z"
   },
   {
    "duration": 341,
    "start_time": "2021-08-29T14:28:44.057Z"
   },
   {
    "duration": 336,
    "start_time": "2021-08-29T14:28:44.063Z"
   },
   {
    "duration": 330,
    "start_time": "2021-08-29T14:28:44.071Z"
   },
   {
    "duration": 312,
    "start_time": "2021-08-29T14:28:44.090Z"
   },
   {
    "duration": 306,
    "start_time": "2021-08-29T14:28:44.098Z"
   },
   {
    "duration": 300,
    "start_time": "2021-08-29T14:28:44.105Z"
   },
   {
    "duration": 294,
    "start_time": "2021-08-29T14:28:44.113Z"
   },
   {
    "duration": 287,
    "start_time": "2021-08-29T14:28:44.121Z"
   },
   {
    "duration": 279,
    "start_time": "2021-08-29T14:28:44.130Z"
   },
   {
    "duration": 273,
    "start_time": "2021-08-29T14:28:44.137Z"
   },
   {
    "duration": 268,
    "start_time": "2021-08-29T14:28:44.144Z"
   },
   {
    "duration": 263,
    "start_time": "2021-08-29T14:28:44.150Z"
   },
   {
    "duration": 257,
    "start_time": "2021-08-29T14:28:44.157Z"
   },
   {
    "duration": 252,
    "start_time": "2021-08-29T14:28:44.163Z"
   },
   {
    "duration": 248,
    "start_time": "2021-08-29T14:28:44.169Z"
   },
   {
    "duration": 242,
    "start_time": "2021-08-29T14:28:44.176Z"
   },
   {
    "duration": 237,
    "start_time": "2021-08-29T14:28:44.183Z"
   },
   {
    "duration": 222,
    "start_time": "2021-08-29T14:28:44.199Z"
   },
   {
    "duration": 216,
    "start_time": "2021-08-29T14:28:44.206Z"
   },
   {
    "duration": 272,
    "start_time": "2021-08-29T14:28:44.212Z"
   },
   {
    "duration": 266,
    "start_time": "2021-08-29T14:28:44.219Z"
   },
   {
    "duration": 263,
    "start_time": "2021-08-29T14:28:44.224Z"
   },
   {
    "duration": 257,
    "start_time": "2021-08-29T14:28:44.231Z"
   },
   {
    "duration": 251,
    "start_time": "2021-08-29T14:28:44.238Z"
   },
   {
    "duration": 247,
    "start_time": "2021-08-29T14:28:44.244Z"
   },
   {
    "duration": 242,
    "start_time": "2021-08-29T14:28:44.250Z"
   },
   {
    "duration": 236,
    "start_time": "2021-08-29T14:28:44.257Z"
   },
   {
    "duration": 6841,
    "start_time": "2021-08-29T14:29:51.605Z"
   },
   {
    "duration": 12,
    "start_time": "2021-08-29T14:29:58.449Z"
   },
   {
    "duration": 11,
    "start_time": "2021-08-29T14:30:16.260Z"
   },
   {
    "duration": 799,
    "start_time": "2021-08-29T14:52:45.269Z"
   },
   {
    "duration": 36,
    "start_time": "2021-08-29T14:52:46.073Z"
   },
   {
    "duration": 13,
    "start_time": "2021-08-29T14:52:46.112Z"
   },
   {
    "duration": 6491,
    "start_time": "2021-08-29T14:52:46.128Z"
   },
   {
    "duration": 13,
    "start_time": "2021-08-29T14:52:52.621Z"
   },
   {
    "duration": 24,
    "start_time": "2021-08-29T14:52:52.636Z"
   },
   {
    "duration": 35,
    "start_time": "2021-08-29T14:52:52.683Z"
   },
   {
    "duration": 62,
    "start_time": "2021-08-29T14:52:52.722Z"
   },
   {
    "duration": 1473,
    "start_time": "2021-08-29T14:52:52.788Z"
   },
   {
    "duration": 4261,
    "start_time": "2021-08-29T14:52:54.263Z"
   },
   {
    "duration": 14,
    "start_time": "2021-08-29T14:52:58.527Z"
   },
   {
    "duration": 450,
    "start_time": "2021-08-29T14:52:58.544Z"
   },
   {
    "duration": 255,
    "start_time": "2021-08-29T14:52:58.997Z"
   },
   {
    "duration": 251,
    "start_time": "2021-08-29T14:52:59.255Z"
   },
   {
    "duration": 980,
    "start_time": "2021-08-29T14:52:59.509Z"
   },
   {
    "duration": 807,
    "start_time": "2021-08-29T14:53:00.492Z"
   },
   {
    "duration": 871,
    "start_time": "2021-08-29T14:53:01.302Z"
   },
   {
    "duration": 15,
    "start_time": "2021-08-29T14:53:02.175Z"
   },
   {
    "duration": 31,
    "start_time": "2021-08-29T14:53:02.193Z"
   },
   {
    "duration": 65,
    "start_time": "2021-08-29T14:53:02.227Z"
   },
   {
    "duration": 12,
    "start_time": "2021-08-29T14:53:02.294Z"
   },
   {
    "duration": 27,
    "start_time": "2021-08-29T14:53:02.308Z"
   },
   {
    "duration": 418,
    "start_time": "2021-08-29T14:53:02.387Z"
   },
   {
    "duration": 14,
    "start_time": "2021-08-29T14:53:02.807Z"
   },
   {
    "duration": 23,
    "start_time": "2021-08-29T14:53:02.823Z"
   },
   {
    "duration": 25,
    "start_time": "2021-08-29T14:53:02.849Z"
   },
   {
    "duration": 14,
    "start_time": "2021-08-29T14:53:02.883Z"
   },
   {
    "duration": 27,
    "start_time": "2021-08-29T14:53:02.900Z"
   }
  ],
  "kernelspec": {
   "display_name": "Python 3",
   "language": "python",
   "name": "python3"
  },
  "language_info": {
   "codemirror_mode": {
    "name": "ipython",
    "version": 3
   },
   "file_extension": ".py",
   "mimetype": "text/x-python",
   "name": "python",
   "nbconvert_exporter": "python",
   "pygments_lexer": "ipython3",
   "version": "3.7.8"
  },
  "toc": {
   "base_numbering": 1,
   "nav_menu": {},
   "number_sections": true,
   "sideBar": true,
   "skip_h1_title": true,
   "title_cell": "Table of Contents",
   "title_sidebar": "Contents",
   "toc_cell": false,
   "toc_position": {},
   "toc_section_display": true,
   "toc_window_display": false
  }
 },
 "nbformat": 4,
 "nbformat_minor": 2
}
