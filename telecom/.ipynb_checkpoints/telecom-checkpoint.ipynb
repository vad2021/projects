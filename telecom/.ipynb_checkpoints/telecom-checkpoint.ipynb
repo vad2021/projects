{
 "cells": [
  {
   "cell_type": "markdown",
   "metadata": {},
   "source": [
    "<h1>Содержание<span class=\"tocSkip\"></span></h1>\n",
    "<div class=\"toc\"><ul class=\"toc-item\"><li><span><a href=\"#Изучение-данных-из-файла\" data-toc-modified-id=\"Изучение-данных-из-файла-1\"><span class=\"toc-item-num\">1&nbsp;&nbsp;</span>Изучение данных из файла</a></span><ul class=\"toc-item\"><li><span><a href=\"#Вывод\" data-toc-modified-id=\"Вывод-1.1\"><span class=\"toc-item-num\">1.1&nbsp;&nbsp;</span>Вывод</a></span></li></ul></li><li><span><a href=\"#Предобработка-данных\" data-toc-modified-id=\"Предобработка-данных-2\"><span class=\"toc-item-num\">2&nbsp;&nbsp;</span>Предобработка данных</a></span></li><li><span><a href=\"#Анализ-данных\" data-toc-modified-id=\"Анализ-данных\"><span class=\"toc-item-num\">3&nbsp;&nbsp;</span>Анализ-данных</a></span></li><li><span><a href=\"#Проверка-гипотез\" data-toc-modified-id=\"Проверка-гипотез\"><span class=\"toc-item-num\">4&nbsp;&nbsp;</span>Проверка-гипотез</a></span></li><li><span><a href=\"#Общий-вывод\" data-toc-modified-id=\"Общий-вывод-5\"><span class=\"toc-item-num\">5&nbsp;&nbsp;</span>Общий вывод</a></span></li><li><span><a href=\"#Чек-лист-готовности-проекта\" data-toc-modified-id=\"Чек-лист-готовности-проекта-6\"><span class=\"toc-item-num\">6&nbsp;&nbsp;</span>Чек-лист готовности проекта</a></span></li></ul></div>"
   ]
  },
  {
   "cell_type": "markdown",
   "metadata": {},
   "source": [
    "# Анализ тарифов федерального оператора сотовой связи\n",
    "\n",
    "Клиентам федерального оператора сотовой связи компании «Мегалайн» предлагают два тарифных плана: «Смарт» и «Ультра». Чтобы скорректировать рекламный бюджет, коммерческий департамент хочет понять, какой тариф приносит больше денег.\n",
    "Предстоит сделать предварительный анализ тарифов на небольшой выборке клиентов. В распоряжении данные 500 пользователей «Мегалайна»: кто они, откуда, каким тарифом пользуются, сколько звонков и сообщений каждый отправил за 2018 год. Необходимо проанализировать поведение клиентов и сделать вывод — какой тариф лучше.\n"
   ]
  },
  {
   "cell_type": "markdown",
   "metadata": {},
   "source": [
    "## Изучение данных из файла"
   ]
  },
  {
   "cell_type": "code",
   "execution_count": 1,
   "metadata": {},
   "outputs": [
    {
     "name": "stdout",
     "output_type": "stream",
     "text": [
      "<class 'pandas.core.frame.DataFrame'>\n",
      "RangeIndex: 2 entries, 0 to 1\n",
      "Data columns (total 8 columns):\n",
      "messages_included        2 non-null int64\n",
      "mb_per_month_included    2 non-null int64\n",
      "minutes_included         2 non-null int64\n",
      "rub_monthly_fee          2 non-null int64\n",
      "rub_per_gb               2 non-null int64\n",
      "rub_per_message          2 non-null int64\n",
      "rub_per_minute           2 non-null int64\n",
      "tariff_name              2 non-null object\n",
      "dtypes: int64(7), object(1)\n",
      "memory usage: 256.0+ bytes\n"
     ]
    },
    {
     "data": {
      "text/plain": [
       "None"
      ]
     },
     "metadata": {},
     "output_type": "display_data"
    }
   ],
   "source": [
    "import pandas as pd\n",
    "\n",
    "df_users = pd.read_csv('/datasets/users.csv')\n",
    "#display(df_users.info())\n",
    "#display(df_users.head())\n",
    "#display(df_users.isnull().sum())\n",
    "#display(df_users.duplicated().sum())\n",
    "#display(df_users['tariff'].value_counts())\n",
    "\n",
    "df_calls = pd.read_csv('/datasets/calls.csv')\n",
    "#display(df_calls.info())\n",
    "#display(df_calls.head())\n",
    "#display(df_calls.isnull().sum())\n",
    "#display(df_calls.duplicated().sum())\n",
    "\n",
    "df_messages = pd.read_csv('/datasets/messages.csv')\n",
    "#display(df_messages.info())\n",
    "#display(df_messages.head())\n",
    "#display(df_messages.isnull().sum())\n",
    "#display(df_messages.duplicated().sum())\n",
    "\n",
    "df_internet = pd.read_csv('/datasets/internet.csv')\n",
    "#display(df_internet.info())\n",
    "#display(df_internet.tail())\n",
    "#display(df_internet.isnull().sum())\n",
    "#display(df_internet.duplicated().sum())\n",
    "\n",
    "df_tariffs = pd.read_csv('/datasets/tariffs.csv')\n",
    "display(df_tariffs.info())\n",
    "#display(df_tariffs.tail())\n",
    "#display(df_tariffs.isnull().sum())\n",
    "#display(df_tariffs.duplicated().sum())\n",
    "#display(df_tariffs['tariff_name'].value_counts())\n",
    "\n",
    "\n"
   ]
  },
  {
   "cell_type": "markdown",
   "metadata": {},
   "source": [
    "### Вывод"
   ]
  },
  {
   "cell_type": "markdown",
   "metadata": {},
   "source": [
    "1. Таблица df_users:\n",
    "всего 500 строк/наблюдений, 8 столбцов. К наименованиям столбцов вопросов нет: все столбцы указаны в нижнем регистре, без пробелов, с нижним подчеркиванием. Есть пропуски в столбце churn_date - 462. Согласно заданию к проекту, пропуски означают, что тариф действовал на момент выгрузки, учитывая, что рассматриваемый период 2018 год, пропуски заменим на последнюю дату в году - 31.12.2018. Дубликатов не обнаружено. Тип столбца churn_date - object, необходимо заменить на datetime. Аналогично со столбцом reg_date.\n",
    "\n",
    "2. Таблица df_calls:\n",
    "всего 202607 строк/наблюдений, 4 столбца. К наименованиям столбцов вопросов нет: все столбцы указаны в нижнем регистре, без пробелов, с нижним подчеркиванием. Пропусков не обнаружено. Дубликатов не обнаружено. Тип столбца call_date - object, необходимо заменить на datetime. Значения в столбце duration округлим до целых значений в большую сторону (так как по заданию к проекту, оператор округляет до целого в большую сторону)\n",
    "\n",
    "3. Таблица df_messages:\n",
    "всего 123036 строк/наблюдений, 3 столбца. К наименованиям столбцов вопросов нет: все столбцы указаны в нижнем регистре, без пробелов, с нижним подчеркиванием. Пропусков не обнаружено. Дубликатов не обнаружено. Тип столбца message_date - object, необходимо заменить на datetime.\n",
    "\n",
    "4. Таблица df_internet:\n",
    "всего 149396 строк/наблюдений, 5 столбцов. К наименованиям столбцов вопросов нет: все столбцы указаны в нижнем регистре, без пробелов, с нижним подчеркиванием. Пропусков не обнаружено. Дубликатов не обнаружено. Значения в столбце mb_used переведем из мб в гб, а так же округлим до целых значений в большую сторону (так как по заданию к проекту, оператор округляет до целого в большую сторону). Заменим наименование столбца с mb_used на gb_used. Тип столбца session_date - object, необходимо заменить на datetime.\n",
    "\n",
    "5. Таблица df_tariffs:\n",
    "всего 2 строки/наблюдения, 8 столбцов. К наименованиям столбцов вопросов нет: все столбцы указаны в нижнем регистре, без пробелов, с нижним подчеркиванием. Пропусков не обнаружено. Дубликатов не обнаружено. Значения столбца mb_per_month_included переведем из мб в гб, скорректируем название столбца на gb_per_month_included.\n",
    "\n",
    "\n"
   ]
  },
  {
   "cell_type": "markdown",
   "metadata": {},
   "source": [
    "## Предобработка данных"
   ]
  },
  {
   "cell_type": "markdown",
   "metadata": {},
   "source": [
    "### таблица df_users"
   ]
  },
  {
   "cell_type": "code",
   "execution_count": 2,
   "metadata": {},
   "outputs": [
    {
     "data": {
      "text/html": [
       "<div>\n",
       "<style scoped>\n",
       "    .dataframe tbody tr th:only-of-type {\n",
       "        vertical-align: middle;\n",
       "    }\n",
       "\n",
       "    .dataframe tbody tr th {\n",
       "        vertical-align: top;\n",
       "    }\n",
       "\n",
       "    .dataframe thead th {\n",
       "        text-align: right;\n",
       "    }\n",
       "</style>\n",
       "<table border=\"1\" class=\"dataframe\">\n",
       "  <thead>\n",
       "    <tr style=\"text-align: right;\">\n",
       "      <th></th>\n",
       "      <th>user_id</th>\n",
       "      <th>age</th>\n",
       "      <th>churn_date</th>\n",
       "      <th>city</th>\n",
       "      <th>first_name</th>\n",
       "      <th>last_name</th>\n",
       "      <th>reg_date</th>\n",
       "      <th>tariff</th>\n",
       "    </tr>\n",
       "  </thead>\n",
       "  <tbody>\n",
       "    <tr>\n",
       "      <td>495</td>\n",
       "      <td>1495</td>\n",
       "      <td>65</td>\n",
       "      <td>NaT</td>\n",
       "      <td>Иркутск</td>\n",
       "      <td>Авксентий</td>\n",
       "      <td>Фокин</td>\n",
       "      <td>2018-08-28</td>\n",
       "      <td>ultra</td>\n",
       "    </tr>\n",
       "    <tr>\n",
       "      <td>496</td>\n",
       "      <td>1496</td>\n",
       "      <td>36</td>\n",
       "      <td>NaT</td>\n",
       "      <td>Вологда</td>\n",
       "      <td>Трифон</td>\n",
       "      <td>Блохин</td>\n",
       "      <td>2018-01-27</td>\n",
       "      <td>smart</td>\n",
       "    </tr>\n",
       "    <tr>\n",
       "      <td>497</td>\n",
       "      <td>1497</td>\n",
       "      <td>32</td>\n",
       "      <td>NaT</td>\n",
       "      <td>Челябинск</td>\n",
       "      <td>Каролина</td>\n",
       "      <td>Агеева</td>\n",
       "      <td>2018-10-09</td>\n",
       "      <td>smart</td>\n",
       "    </tr>\n",
       "    <tr>\n",
       "      <td>498</td>\n",
       "      <td>1498</td>\n",
       "      <td>68</td>\n",
       "      <td>2018-10-25</td>\n",
       "      <td>Владикавказ</td>\n",
       "      <td>Всеволод</td>\n",
       "      <td>Акимчин</td>\n",
       "      <td>2018-07-19</td>\n",
       "      <td>smart</td>\n",
       "    </tr>\n",
       "    <tr>\n",
       "      <td>499</td>\n",
       "      <td>1499</td>\n",
       "      <td>35</td>\n",
       "      <td>NaT</td>\n",
       "      <td>Пермь</td>\n",
       "      <td>Гектор</td>\n",
       "      <td>Корнилов</td>\n",
       "      <td>2018-09-27</td>\n",
       "      <td>smart</td>\n",
       "    </tr>\n",
       "  </tbody>\n",
       "</table>\n",
       "</div>"
      ],
      "text/plain": [
       "     user_id  age churn_date         city first_name last_name   reg_date  \\\n",
       "495     1495   65        NaT      Иркутск  Авксентий     Фокин 2018-08-28   \n",
       "496     1496   36        NaT      Вологда     Трифон    Блохин 2018-01-27   \n",
       "497     1497   32        NaT    Челябинск   Каролина    Агеева 2018-10-09   \n",
       "498     1498   68 2018-10-25  Владикавказ   Всеволод   Акимчин 2018-07-19   \n",
       "499     1499   35        NaT        Пермь     Гектор  Корнилов 2018-09-27   \n",
       "\n",
       "    tariff  \n",
       "495  ultra  \n",
       "496  smart  \n",
       "497  smart  \n",
       "498  smart  \n",
       "499  smart  "
      ]
     },
     "metadata": {},
     "output_type": "display_data"
    },
    {
     "name": "stdout",
     "output_type": "stream",
     "text": [
      "<class 'pandas.core.frame.DataFrame'>\n",
      "RangeIndex: 500 entries, 0 to 499\n",
      "Data columns (total 8 columns):\n",
      "user_id       500 non-null int64\n",
      "age           500 non-null int64\n",
      "churn_date    38 non-null datetime64[ns]\n",
      "city          500 non-null object\n",
      "first_name    500 non-null object\n",
      "last_name     500 non-null object\n",
      "reg_date      500 non-null datetime64[ns]\n",
      "tariff        500 non-null object\n",
      "dtypes: datetime64[ns](2), int64(2), object(4)\n",
      "memory usage: 31.4+ KB\n"
     ]
    },
    {
     "data": {
      "text/plain": [
       "None"
      ]
     },
     "metadata": {},
     "output_type": "display_data"
    }
   ],
   "source": [
    "#display(df_users.head())\n",
    "#df_users['churn_date'] = df_users['churn_date'].fillna('2018-12-31')   #вначале пропуски меняем на 2018-12-31\n",
    "df_users['churn_date'] = pd.to_datetime(df_users['churn_date'], format='%Y.%m.%dT%H:%M:%S')   #далее меняем тип\n",
    "#display(df_users.head())\n",
    "#display(df_users.info())\n",
    "\n",
    "df_users['reg_date'] = pd.to_datetime(df_users['reg_date'], format='%Y.%m.%dT%H:%M:%S')\n",
    "display(df_users.tail())\n",
    "display(df_users.info())\n"
   ]
  },
  {
   "cell_type": "markdown",
   "metadata": {},
   "source": [
    "### таблица df_calls"
   ]
  },
  {
   "cell_type": "code",
   "execution_count": 3,
   "metadata": {},
   "outputs": [
    {
     "data": {
      "text/html": [
       "<div>\n",
       "<style scoped>\n",
       "    .dataframe tbody tr th:only-of-type {\n",
       "        vertical-align: middle;\n",
       "    }\n",
       "\n",
       "    .dataframe tbody tr th {\n",
       "        vertical-align: top;\n",
       "    }\n",
       "\n",
       "    .dataframe thead th {\n",
       "        text-align: right;\n",
       "    }\n",
       "</style>\n",
       "<table border=\"1\" class=\"dataframe\">\n",
       "  <thead>\n",
       "    <tr style=\"text-align: right;\">\n",
       "      <th></th>\n",
       "      <th>id</th>\n",
       "      <th>call_date</th>\n",
       "      <th>duration</th>\n",
       "      <th>user_id</th>\n",
       "    </tr>\n",
       "  </thead>\n",
       "  <tbody>\n",
       "    <tr>\n",
       "      <td>0</td>\n",
       "      <td>1000_0</td>\n",
       "      <td>2018-07-25</td>\n",
       "      <td>0</td>\n",
       "      <td>1000</td>\n",
       "    </tr>\n",
       "    <tr>\n",
       "      <td>1</td>\n",
       "      <td>1000_1</td>\n",
       "      <td>2018-08-17</td>\n",
       "      <td>0</td>\n",
       "      <td>1000</td>\n",
       "    </tr>\n",
       "    <tr>\n",
       "      <td>2</td>\n",
       "      <td>1000_2</td>\n",
       "      <td>2018-06-11</td>\n",
       "      <td>3</td>\n",
       "      <td>1000</td>\n",
       "    </tr>\n",
       "    <tr>\n",
       "      <td>3</td>\n",
       "      <td>1000_3</td>\n",
       "      <td>2018-09-21</td>\n",
       "      <td>14</td>\n",
       "      <td>1000</td>\n",
       "    </tr>\n",
       "    <tr>\n",
       "      <td>4</td>\n",
       "      <td>1000_4</td>\n",
       "      <td>2018-12-15</td>\n",
       "      <td>6</td>\n",
       "      <td>1000</td>\n",
       "    </tr>\n",
       "  </tbody>\n",
       "</table>\n",
       "</div>"
      ],
      "text/plain": [
       "       id  call_date  duration  user_id\n",
       "0  1000_0 2018-07-25         0     1000\n",
       "1  1000_1 2018-08-17         0     1000\n",
       "2  1000_2 2018-06-11         3     1000\n",
       "3  1000_3 2018-09-21        14     1000\n",
       "4  1000_4 2018-12-15         6     1000"
      ]
     },
     "metadata": {},
     "output_type": "display_data"
    }
   ],
   "source": [
    "#display(df_calls.head())\n",
    "df_calls['call_date'] = pd.to_datetime(df_calls['call_date'], format='%Y.%m.%dT%H:%M:%S')  #меняем тип столбца\n",
    "\n",
    "def int_r(num):                   #решил написать функцию, чтобы использовать int и округлить в большую сторону\n",
    "    num = int(num + 0.9)\n",
    "    return num\n",
    "df_calls['duration'] = df_calls['duration'].apply(int_r)\n",
    "display(df_calls.head())\n",
    "#display(df_calls.info())\n",
    "#display(df_calls['duration'].value_counts())\n",
    "\n",
    "#df_calls.dropna(subset = ['duration'], inplace = True)\n",
    "#display(df_calls['duration'].value_counts())\n"
   ]
  },
  {
   "cell_type": "markdown",
   "metadata": {},
   "source": [
    "Промежуточный вывод:\n",
    "\n",
    "обнаружено большое количество звонков со значением 0. Всего таких значений - 40355.Думаю, что отсутсвие/удаление этих звонков не скажется отрицательно на исследовании. Считаю, что удаление поможет очистить данные от потенциальных выбросов"
   ]
  },
  {
   "cell_type": "markdown",
   "metadata": {},
   "source": [
    "### таблица df_messages"
   ]
  },
  {
   "cell_type": "code",
   "execution_count": 4,
   "metadata": {},
   "outputs": [
    {
     "name": "stdout",
     "output_type": "stream",
     "text": [
      "<class 'pandas.core.frame.DataFrame'>\n",
      "RangeIndex: 123036 entries, 0 to 123035\n",
      "Data columns (total 3 columns):\n",
      "id              123036 non-null object\n",
      "message_date    123036 non-null datetime64[ns]\n",
      "user_id         123036 non-null int64\n",
      "dtypes: datetime64[ns](1), int64(1), object(1)\n",
      "memory usage: 2.8+ MB\n"
     ]
    },
    {
     "data": {
      "text/plain": [
       "None"
      ]
     },
     "metadata": {},
     "output_type": "display_data"
    }
   ],
   "source": [
    "#display(df_messages.head())\n",
    "df_messages['message_date'] = pd.to_datetime(df_messages['message_date'], format='%Y.%m.%dT%H:%M:%S')  #меняем тип столбца\n",
    "display(df_messages.info())"
   ]
  },
  {
   "cell_type": "markdown",
   "metadata": {},
   "source": [
    "### таблица df_tariffs"
   ]
  },
  {
   "cell_type": "code",
   "execution_count": 6,
   "metadata": {},
   "outputs": [
    {
     "name": "stdout",
     "output_type": "stream",
     "text": [
      "<class 'pandas.core.frame.DataFrame'>\n",
      "RangeIndex: 2 entries, 0 to 1\n",
      "Data columns (total 8 columns):\n",
      "messages_included        2 non-null int64\n",
      "gb_per_month_included    2 non-null int64\n",
      "minutes_included         2 non-null int64\n",
      "rub_monthly_fee          2 non-null int64\n",
      "rub_per_gb               2 non-null int64\n",
      "rub_per_message          2 non-null int64\n",
      "rub_per_minute           2 non-null int64\n",
      "tariff                   2 non-null object\n",
      "dtypes: int64(7), object(1)\n",
      "memory usage: 256.0+ bytes\n"
     ]
    },
    {
     "data": {
      "text/plain": [
       "None"
      ]
     },
     "metadata": {},
     "output_type": "display_data"
    },
    {
     "data": {
      "text/html": [
       "<div>\n",
       "<style scoped>\n",
       "    .dataframe tbody tr th:only-of-type {\n",
       "        vertical-align: middle;\n",
       "    }\n",
       "\n",
       "    .dataframe tbody tr th {\n",
       "        vertical-align: top;\n",
       "    }\n",
       "\n",
       "    .dataframe thead th {\n",
       "        text-align: right;\n",
       "    }\n",
       "</style>\n",
       "<table border=\"1\" class=\"dataframe\">\n",
       "  <thead>\n",
       "    <tr style=\"text-align: right;\">\n",
       "      <th></th>\n",
       "      <th>messages_included</th>\n",
       "      <th>gb_per_month_included</th>\n",
       "      <th>minutes_included</th>\n",
       "      <th>rub_monthly_fee</th>\n",
       "      <th>rub_per_gb</th>\n",
       "      <th>rub_per_message</th>\n",
       "      <th>rub_per_minute</th>\n",
       "      <th>tariff</th>\n",
       "    </tr>\n",
       "  </thead>\n",
       "  <tbody>\n",
       "    <tr>\n",
       "      <td>0</td>\n",
       "      <td>50</td>\n",
       "      <td>15</td>\n",
       "      <td>500</td>\n",
       "      <td>550</td>\n",
       "      <td>200</td>\n",
       "      <td>3</td>\n",
       "      <td>3</td>\n",
       "      <td>smart</td>\n",
       "    </tr>\n",
       "    <tr>\n",
       "      <td>1</td>\n",
       "      <td>1000</td>\n",
       "      <td>30</td>\n",
       "      <td>3000</td>\n",
       "      <td>1950</td>\n",
       "      <td>150</td>\n",
       "      <td>1</td>\n",
       "      <td>1</td>\n",
       "      <td>ultra</td>\n",
       "    </tr>\n",
       "  </tbody>\n",
       "</table>\n",
       "</div>"
      ],
      "text/plain": [
       "   messages_included  gb_per_month_included  minutes_included  \\\n",
       "0                 50                     15               500   \n",
       "1               1000                     30              3000   \n",
       "\n",
       "   rub_monthly_fee  rub_per_gb  rub_per_message  rub_per_minute tariff  \n",
       "0              550         200                3               3  smart  \n",
       "1             1950         150                1               1  ultra  "
      ]
     },
     "metadata": {},
     "output_type": "display_data"
    }
   ],
   "source": [
    "#display(df_tariffs.head())\n",
    "def int_gb(num):                              #округляем в большую сторону для использования int\n",
    "    num = int(num + 0.999)\n",
    "    return num\n",
    "\n",
    "def gb (mb):              #с помощью функции меняем мб на гб\n",
    "    resolt = mb / 1024\n",
    "    return resolt\n",
    "\n",
    "df_tariffs['mb_per_month_included'] = df_tariffs['mb_per_month_included'].apply(gb)\n",
    "df_tariffs['mb_per_month_included'] = df_tariffs['mb_per_month_included'].apply(int_gb)\n",
    "df_tariffs = df_tariffs.rename(columns = {'messages_included': 'messages_included', 'mb_per_month_included': 'gb_per_month_included', 'minutes_included': 'minutes_included', 'rub_monthly_fee':'rub_monthly_fee',\n",
    "       'rub_per_gb': 'rub_per_gb', 'rub_per_message': 'rub_per_message', 'rub_per_minute': 'rub_per_minute', 'tariff_name': 'tariff'})\n",
    "display(df_tariffs.info())\n",
    "display(df_tariffs.head())\n",
    "\n",
    "\n",
    "\n",
    "\n",
    "\n",
    "\n"
   ]
  },
  {
   "cell_type": "markdown",
   "metadata": {},
   "source": [
    "### расчеты для каждого пользователя помесячно"
   ]
  },
  {
   "cell_type": "code",
   "execution_count": 7,
   "metadata": {},
   "outputs": [
    {
     "data": {
      "text/html": [
       "<div>\n",
       "<style scoped>\n",
       "    .dataframe tbody tr th:only-of-type {\n",
       "        vertical-align: middle;\n",
       "    }\n",
       "\n",
       "    .dataframe tbody tr th {\n",
       "        vertical-align: top;\n",
       "    }\n",
       "\n",
       "    .dataframe thead tr th {\n",
       "        text-align: left;\n",
       "    }\n",
       "</style>\n",
       "<table border=\"1\" class=\"dataframe\">\n",
       "  <thead>\n",
       "    <tr>\n",
       "      <th></th>\n",
       "      <th>user_id</th>\n",
       "      <th>month</th>\n",
       "      <th colspan=\"2\" halign=\"left\">duration</th>\n",
       "    </tr>\n",
       "    <tr>\n",
       "      <th></th>\n",
       "      <th></th>\n",
       "      <th></th>\n",
       "      <th>count</th>\n",
       "      <th>sum</th>\n",
       "    </tr>\n",
       "  </thead>\n",
       "  <tbody>\n",
       "    <tr>\n",
       "      <td>0</td>\n",
       "      <td>1000</td>\n",
       "      <td>5</td>\n",
       "      <td>22</td>\n",
       "      <td>158</td>\n",
       "    </tr>\n",
       "    <tr>\n",
       "      <td>1</td>\n",
       "      <td>1000</td>\n",
       "      <td>6</td>\n",
       "      <td>43</td>\n",
       "      <td>169</td>\n",
       "    </tr>\n",
       "    <tr>\n",
       "      <td>2</td>\n",
       "      <td>1000</td>\n",
       "      <td>7</td>\n",
       "      <td>47</td>\n",
       "      <td>337</td>\n",
       "    </tr>\n",
       "    <tr>\n",
       "      <td>3</td>\n",
       "      <td>1000</td>\n",
       "      <td>8</td>\n",
       "      <td>52</td>\n",
       "      <td>404</td>\n",
       "    </tr>\n",
       "    <tr>\n",
       "      <td>4</td>\n",
       "      <td>1000</td>\n",
       "      <td>9</td>\n",
       "      <td>58</td>\n",
       "      <td>461</td>\n",
       "    </tr>\n",
       "    <tr>\n",
       "      <td>...</td>\n",
       "      <td>...</td>\n",
       "      <td>...</td>\n",
       "      <td>...</td>\n",
       "      <td>...</td>\n",
       "    </tr>\n",
       "    <tr>\n",
       "      <td>3169</td>\n",
       "      <td>1498</td>\n",
       "      <td>10</td>\n",
       "      <td>41</td>\n",
       "      <td>245</td>\n",
       "    </tr>\n",
       "    <tr>\n",
       "      <td>3170</td>\n",
       "      <td>1499</td>\n",
       "      <td>9</td>\n",
       "      <td>9</td>\n",
       "      <td>69</td>\n",
       "    </tr>\n",
       "    <tr>\n",
       "      <td>3171</td>\n",
       "      <td>1499</td>\n",
       "      <td>10</td>\n",
       "      <td>68</td>\n",
       "      <td>446</td>\n",
       "    </tr>\n",
       "    <tr>\n",
       "      <td>3172</td>\n",
       "      <td>1499</td>\n",
       "      <td>11</td>\n",
       "      <td>74</td>\n",
       "      <td>606</td>\n",
       "    </tr>\n",
       "    <tr>\n",
       "      <td>3173</td>\n",
       "      <td>1499</td>\n",
       "      <td>12</td>\n",
       "      <td>69</td>\n",
       "      <td>484</td>\n",
       "    </tr>\n",
       "  </tbody>\n",
       "</table>\n",
       "<p>3174 rows × 4 columns</p>\n",
       "</div>"
      ],
      "text/plain": [
       "     user_id month duration     \n",
       "                      count  sum\n",
       "0       1000     5       22  158\n",
       "1       1000     6       43  169\n",
       "2       1000     7       47  337\n",
       "3       1000     8       52  404\n",
       "4       1000     9       58  461\n",
       "...      ...   ...      ...  ...\n",
       "3169    1498    10       41  245\n",
       "3170    1499     9        9   69\n",
       "3171    1499    10       68  446\n",
       "3172    1499    11       74  606\n",
       "3173    1499    12       69  484\n",
       "\n",
       "[3174 rows x 4 columns]"
      ]
     },
     "execution_count": 7,
     "metadata": {},
     "output_type": "execute_result"
    }
   ],
   "source": [
    "df_calls['month'] = df_calls['call_date'].dt.month\n",
    "df_calls_pivot = df_calls.pivot_table(index=['user_id', 'month'], aggfunc={'duration': ['count', 'sum']})\n",
    "df_calls_pivot = df_calls_pivot.reset_index()\n",
    "df_calls_pivot"
   ]
  },
  {
   "cell_type": "code",
   "execution_count": 8,
   "metadata": {},
   "outputs": [
    {
     "data": {
      "text/html": [
       "<div>\n",
       "<style scoped>\n",
       "    .dataframe tbody tr th:only-of-type {\n",
       "        vertical-align: middle;\n",
       "    }\n",
       "\n",
       "    .dataframe tbody tr th {\n",
       "        vertical-align: top;\n",
       "    }\n",
       "\n",
       "    .dataframe thead th {\n",
       "        text-align: right;\n",
       "    }\n",
       "</style>\n",
       "<table border=\"1\" class=\"dataframe\">\n",
       "  <thead>\n",
       "    <tr style=\"text-align: right;\">\n",
       "      <th></th>\n",
       "      <th>user_id</th>\n",
       "      <th>month</th>\n",
       "      <th>id</th>\n",
       "    </tr>\n",
       "  </thead>\n",
       "  <tbody>\n",
       "    <tr>\n",
       "      <td>0</td>\n",
       "      <td>1000</td>\n",
       "      <td>5</td>\n",
       "      <td>22</td>\n",
       "    </tr>\n",
       "    <tr>\n",
       "      <td>1</td>\n",
       "      <td>1000</td>\n",
       "      <td>6</td>\n",
       "      <td>60</td>\n",
       "    </tr>\n",
       "    <tr>\n",
       "      <td>2</td>\n",
       "      <td>1000</td>\n",
       "      <td>7</td>\n",
       "      <td>75</td>\n",
       "    </tr>\n",
       "    <tr>\n",
       "      <td>3</td>\n",
       "      <td>1000</td>\n",
       "      <td>8</td>\n",
       "      <td>81</td>\n",
       "    </tr>\n",
       "    <tr>\n",
       "      <td>4</td>\n",
       "      <td>1000</td>\n",
       "      <td>9</td>\n",
       "      <td>57</td>\n",
       "    </tr>\n",
       "    <tr>\n",
       "      <td>...</td>\n",
       "      <td>...</td>\n",
       "      <td>...</td>\n",
       "      <td>...</td>\n",
       "    </tr>\n",
       "    <tr>\n",
       "      <td>2712</td>\n",
       "      <td>1498</td>\n",
       "      <td>10</td>\n",
       "      <td>42</td>\n",
       "    </tr>\n",
       "    <tr>\n",
       "      <td>2713</td>\n",
       "      <td>1499</td>\n",
       "      <td>9</td>\n",
       "      <td>11</td>\n",
       "    </tr>\n",
       "    <tr>\n",
       "      <td>2714</td>\n",
       "      <td>1499</td>\n",
       "      <td>10</td>\n",
       "      <td>48</td>\n",
       "    </tr>\n",
       "    <tr>\n",
       "      <td>2715</td>\n",
       "      <td>1499</td>\n",
       "      <td>11</td>\n",
       "      <td>59</td>\n",
       "    </tr>\n",
       "    <tr>\n",
       "      <td>2716</td>\n",
       "      <td>1499</td>\n",
       "      <td>12</td>\n",
       "      <td>66</td>\n",
       "    </tr>\n",
       "  </tbody>\n",
       "</table>\n",
       "<p>2717 rows × 3 columns</p>\n",
       "</div>"
      ],
      "text/plain": [
       "      user_id  month  id\n",
       "0        1000      5  22\n",
       "1        1000      6  60\n",
       "2        1000      7  75\n",
       "3        1000      8  81\n",
       "4        1000      9  57\n",
       "...       ...    ...  ..\n",
       "2712     1498     10  42\n",
       "2713     1499      9  11\n",
       "2714     1499     10  48\n",
       "2715     1499     11  59\n",
       "2716     1499     12  66\n",
       "\n",
       "[2717 rows x 3 columns]"
      ]
     },
     "execution_count": 8,
     "metadata": {},
     "output_type": "execute_result"
    }
   ],
   "source": [
    "df_messages['month'] = df_messages['message_date'].dt.month\n",
    "df_messages_pivot = df_messages.pivot_table(index=['user_id', 'month'], values='id', aggfunc='count')\n",
    "df_messages_pivot = df_messages_pivot.reset_index()\n",
    "df_messages_pivot"
   ]
  },
  {
   "cell_type": "markdown",
   "metadata": {},
   "source": [
    "### таблица df_internet"
   ]
  },
  {
   "cell_type": "code",
   "execution_count": 12,
   "metadata": {},
   "outputs": [
    {
     "data": {
      "text/html": [
       "<div>\n",
       "<style scoped>\n",
       "    .dataframe tbody tr th:only-of-type {\n",
       "        vertical-align: middle;\n",
       "    }\n",
       "\n",
       "    .dataframe tbody tr th {\n",
       "        vertical-align: top;\n",
       "    }\n",
       "\n",
       "    .dataframe thead tr th {\n",
       "        text-align: left;\n",
       "    }\n",
       "</style>\n",
       "<table border=\"1\" class=\"dataframe\">\n",
       "  <thead>\n",
       "    <tr>\n",
       "      <th></th>\n",
       "      <th>user_id</th>\n",
       "      <th>month</th>\n",
       "      <th colspan=\"2\" halign=\"left\">mb_used</th>\n",
       "    </tr>\n",
       "    <tr>\n",
       "      <th></th>\n",
       "      <th></th>\n",
       "      <th></th>\n",
       "      <th>count</th>\n",
       "      <th>sum</th>\n",
       "    </tr>\n",
       "  </thead>\n",
       "  <tbody>\n",
       "    <tr>\n",
       "      <td>0</td>\n",
       "      <td>1000</td>\n",
       "      <td>5</td>\n",
       "      <td>5</td>\n",
       "      <td>2253.49</td>\n",
       "    </tr>\n",
       "    <tr>\n",
       "      <td>1</td>\n",
       "      <td>1000</td>\n",
       "      <td>6</td>\n",
       "      <td>49</td>\n",
       "      <td>23233.77</td>\n",
       "    </tr>\n",
       "    <tr>\n",
       "      <td>2</td>\n",
       "      <td>1000</td>\n",
       "      <td>7</td>\n",
       "      <td>29</td>\n",
       "      <td>14003.64</td>\n",
       "    </tr>\n",
       "    <tr>\n",
       "      <td>3</td>\n",
       "      <td>1000</td>\n",
       "      <td>8</td>\n",
       "      <td>29</td>\n",
       "      <td>14055.93</td>\n",
       "    </tr>\n",
       "    <tr>\n",
       "      <td>4</td>\n",
       "      <td>1000</td>\n",
       "      <td>9</td>\n",
       "      <td>27</td>\n",
       "      <td>14568.91</td>\n",
       "    </tr>\n",
       "    <tr>\n",
       "      <td>...</td>\n",
       "      <td>...</td>\n",
       "      <td>...</td>\n",
       "      <td>...</td>\n",
       "      <td>...</td>\n",
       "    </tr>\n",
       "    <tr>\n",
       "      <td>3198</td>\n",
       "      <td>1498</td>\n",
       "      <td>10</td>\n",
       "      <td>59</td>\n",
       "      <td>20579.36</td>\n",
       "    </tr>\n",
       "    <tr>\n",
       "      <td>3199</td>\n",
       "      <td>1499</td>\n",
       "      <td>9</td>\n",
       "      <td>5</td>\n",
       "      <td>1845.75</td>\n",
       "    </tr>\n",
       "    <tr>\n",
       "      <td>3200</td>\n",
       "      <td>1499</td>\n",
       "      <td>10</td>\n",
       "      <td>58</td>\n",
       "      <td>17788.51</td>\n",
       "    </tr>\n",
       "    <tr>\n",
       "      <td>3201</td>\n",
       "      <td>1499</td>\n",
       "      <td>11</td>\n",
       "      <td>49</td>\n",
       "      <td>17963.31</td>\n",
       "    </tr>\n",
       "    <tr>\n",
       "      <td>3202</td>\n",
       "      <td>1499</td>\n",
       "      <td>12</td>\n",
       "      <td>45</td>\n",
       "      <td>13055.58</td>\n",
       "    </tr>\n",
       "  </tbody>\n",
       "</table>\n",
       "<p>3203 rows × 4 columns</p>\n",
       "</div>"
      ],
      "text/plain": [
       "     user_id month mb_used          \n",
       "                     count       sum\n",
       "0       1000     5       5   2253.49\n",
       "1       1000     6      49  23233.77\n",
       "2       1000     7      29  14003.64\n",
       "3       1000     8      29  14055.93\n",
       "4       1000     9      27  14568.91\n",
       "...      ...   ...     ...       ...\n",
       "3198    1498    10      59  20579.36\n",
       "3199    1499     9       5   1845.75\n",
       "3200    1499    10      58  17788.51\n",
       "3201    1499    11      49  17963.31\n",
       "3202    1499    12      45  13055.58\n",
       "\n",
       "[3203 rows x 4 columns]"
      ]
     },
     "execution_count": 12,
     "metadata": {},
     "output_type": "execute_result"
    }
   ],
   "source": [
    "import numpy as np\n",
    "internet = pd.read_csv('/datasets/internet.csv')\n",
    "#internet['mb_used'] = np.ceil(internet['mb_used']/1024).astype('int')\n",
    "#internet['mb_used'] = np.ceil(internet['mb_used']).astype('int')\n",
    "internet['session_date'] = pd.to_datetime(internet['session_date'], format='%Y-%m-%d')\n",
    "internet['month'] = internet['session_date'].dt.month\n",
    "internet_pivot = internet.pivot_table(index=['user_id', 'month'], aggfunc={'mb_used': ['count', 'sum']})\n",
    "internet_pivot = internet_pivot.reset_index()\n",
    "\n",
    "internet_pivot"
   ]
  },
  {
   "cell_type": "code",
   "execution_count": 13,
   "metadata": {},
   "outputs": [],
   "source": [
    "internet['mb_used'] = np.ceil(internet['mb_used']).astype('int')"
   ]
  },
  {
   "cell_type": "markdown",
   "metadata": {},
   "source": [
    "# объединение таблиц - \"склеивание\""
   ]
  },
  {
   "cell_type": "code",
   "execution_count": 16,
   "metadata": {},
   "outputs": [
    {
     "data": {
      "text/html": [
       "<div>\n",
       "<style scoped>\n",
       "    .dataframe tbody tr th:only-of-type {\n",
       "        vertical-align: middle;\n",
       "    }\n",
       "\n",
       "    .dataframe tbody tr th {\n",
       "        vertical-align: top;\n",
       "    }\n",
       "\n",
       "    .dataframe thead th {\n",
       "        text-align: right;\n",
       "    }\n",
       "</style>\n",
       "<table border=\"1\" class=\"dataframe\">\n",
       "  <thead>\n",
       "    <tr style=\"text-align: right;\">\n",
       "      <th></th>\n",
       "      <th>user_id</th>\n",
       "      <th>month</th>\n",
       "      <th>sessions</th>\n",
       "      <th>mb_used</th>\n",
       "    </tr>\n",
       "  </thead>\n",
       "  <tbody>\n",
       "    <tr>\n",
       "      <td>0</td>\n",
       "      <td>1000</td>\n",
       "      <td>5</td>\n",
       "      <td>5</td>\n",
       "      <td>2256</td>\n",
       "    </tr>\n",
       "    <tr>\n",
       "      <td>1</td>\n",
       "      <td>1000</td>\n",
       "      <td>6</td>\n",
       "      <td>49</td>\n",
       "      <td>23257</td>\n",
       "    </tr>\n",
       "    <tr>\n",
       "      <td>2</td>\n",
       "      <td>1000</td>\n",
       "      <td>7</td>\n",
       "      <td>29</td>\n",
       "      <td>14016</td>\n",
       "    </tr>\n",
       "    <tr>\n",
       "      <td>3</td>\n",
       "      <td>1000</td>\n",
       "      <td>8</td>\n",
       "      <td>29</td>\n",
       "      <td>14070</td>\n",
       "    </tr>\n",
       "    <tr>\n",
       "      <td>4</td>\n",
       "      <td>1000</td>\n",
       "      <td>9</td>\n",
       "      <td>27</td>\n",
       "      <td>14581</td>\n",
       "    </tr>\n",
       "    <tr>\n",
       "      <td>...</td>\n",
       "      <td>...</td>\n",
       "      <td>...</td>\n",
       "      <td>...</td>\n",
       "      <td>...</td>\n",
       "    </tr>\n",
       "    <tr>\n",
       "      <td>3198</td>\n",
       "      <td>1498</td>\n",
       "      <td>10</td>\n",
       "      <td>59</td>\n",
       "      <td>20604</td>\n",
       "    </tr>\n",
       "    <tr>\n",
       "      <td>3199</td>\n",
       "      <td>1499</td>\n",
       "      <td>9</td>\n",
       "      <td>5</td>\n",
       "      <td>1848</td>\n",
       "    </tr>\n",
       "    <tr>\n",
       "      <td>3200</td>\n",
       "      <td>1499</td>\n",
       "      <td>10</td>\n",
       "      <td>58</td>\n",
       "      <td>17809</td>\n",
       "    </tr>\n",
       "    <tr>\n",
       "      <td>3201</td>\n",
       "      <td>1499</td>\n",
       "      <td>11</td>\n",
       "      <td>49</td>\n",
       "      <td>17984</td>\n",
       "    </tr>\n",
       "    <tr>\n",
       "      <td>3202</td>\n",
       "      <td>1499</td>\n",
       "      <td>12</td>\n",
       "      <td>45</td>\n",
       "      <td>13077</td>\n",
       "    </tr>\n",
       "  </tbody>\n",
       "</table>\n",
       "<p>3203 rows × 4 columns</p>\n",
       "</div>"
      ],
      "text/plain": [
       "      user_id  month  sessions  mb_used\n",
       "0        1000      5         5     2256\n",
       "1        1000      6        49    23257\n",
       "2        1000      7        29    14016\n",
       "3        1000      8        29    14070\n",
       "4        1000      9        27    14581\n",
       "...       ...    ...       ...      ...\n",
       "3198     1498     10        59    20604\n",
       "3199     1499      9         5     1848\n",
       "3200     1499     10        58    17809\n",
       "3201     1499     11        49    17984\n",
       "3202     1499     12        45    13077\n",
       "\n",
       "[3203 rows x 4 columns]"
      ]
     },
     "execution_count": 16,
     "metadata": {},
     "output_type": "execute_result"
    }
   ],
   "source": [
    "# округление Мб. Без перевода в Гб.\n",
    "internet2 = pd.read_csv('https://code.s3.yandex.net/datasets/internet.csv')\n",
    "\n",
    "import numpy as np\n",
    "internet2['mb_used'] = np.ceil(internet2['mb_used']).astype('int')\n",
    "\n",
    "\n",
    "internet2['session_date'] = pd.to_datetime(internet2['session_date'], format='%Y-%m-%d')\n",
    "internet2['month'] = internet2['session_date'].dt.month\n",
    "\n",
    "internet2 = internet2.pivot_table(index=['user_id', 'month'], aggfunc={'mb_used': ['count', 'sum']}).reset_index()\n",
    "internet2.columns = ['user_id', 'month','sessions', 'mb_used']\n",
    "internet2"
   ]
  },
  {
   "cell_type": "code",
   "execution_count": 21,
   "metadata": {},
   "outputs": [
    {
     "name": "stderr",
     "output_type": "stream",
     "text": [
      "/opt/conda/lib/python3.7/site-packages/pandas/core/reshape/merge.py:617: UserWarning: merging between different levels can give an unintended result (2 levels on the left, 1 on the right)\n",
      "  warnings.warn(msg, UserWarning)\n",
      "/opt/conda/lib/python3.7/site-packages/pandas/core/reshape/merge.py:617: UserWarning: merging between different levels can give an unintended result (1 levels on the left, 2 on the right)\n",
      "  warnings.warn(msg, UserWarning)\n",
      "/opt/conda/lib/python3.7/site-packages/pandas/core/generic.py:3946: PerformanceWarning: dropping on a non-lexsorted multi-index without a level parameter may impact performance.\n",
      "  new_axis = axis.drop(labels, errors=errors)\n"
     ]
    },
    {
     "data": {
      "text/html": [
       "<div>\n",
       "<style scoped>\n",
       "    .dataframe tbody tr th:only-of-type {\n",
       "        vertical-align: middle;\n",
       "    }\n",
       "\n",
       "    .dataframe tbody tr th {\n",
       "        vertical-align: top;\n",
       "    }\n",
       "\n",
       "    .dataframe thead th {\n",
       "        text-align: right;\n",
       "    }\n",
       "</style>\n",
       "<table border=\"1\" class=\"dataframe\">\n",
       "  <thead>\n",
       "    <tr style=\"text-align: right;\">\n",
       "      <th></th>\n",
       "      <th>user_id</th>\n",
       "      <th>month</th>\n",
       "      <th>user_id_N</th>\n",
       "      <th>month_N</th>\n",
       "      <th>duration_count</th>\n",
       "      <th>duration_sum</th>\n",
       "      <th>id</th>\n",
       "      <th>gb_used_count</th>\n",
       "      <th>gb_used_sum</th>\n",
       "      <th>tariff</th>\n",
       "      <th>city</th>\n",
       "      <th>messages_included</th>\n",
       "      <th>gb_per_month_included</th>\n",
       "      <th>minutes_included</th>\n",
       "      <th>rub_monthly_fee</th>\n",
       "      <th>rub_per_gb</th>\n",
       "      <th>rub_per_message</th>\n",
       "      <th>rub_per_minute</th>\n",
       "      <th>many</th>\n",
       "    </tr>\n",
       "  </thead>\n",
       "  <tbody>\n",
       "    <tr>\n",
       "      <td>0</td>\n",
       "      <td>1000</td>\n",
       "      <td>5</td>\n",
       "      <td>1000.0</td>\n",
       "      <td>5.0</td>\n",
       "      <td>22.0</td>\n",
       "      <td>158.0</td>\n",
       "      <td>22.0</td>\n",
       "      <td>5.0</td>\n",
       "      <td>3</td>\n",
       "      <td>ultra</td>\n",
       "      <td>Краснодар</td>\n",
       "      <td>1000</td>\n",
       "      <td>30</td>\n",
       "      <td>3000</td>\n",
       "      <td>1950</td>\n",
       "      <td>150</td>\n",
       "      <td>1</td>\n",
       "      <td>1</td>\n",
       "      <td>1950.0</td>\n",
       "    </tr>\n",
       "    <tr>\n",
       "      <td>1</td>\n",
       "      <td>1000</td>\n",
       "      <td>6</td>\n",
       "      <td>1000.0</td>\n",
       "      <td>6.0</td>\n",
       "      <td>43.0</td>\n",
       "      <td>169.0</td>\n",
       "      <td>60.0</td>\n",
       "      <td>49.0</td>\n",
       "      <td>23</td>\n",
       "      <td>ultra</td>\n",
       "      <td>Краснодар</td>\n",
       "      <td>1000</td>\n",
       "      <td>30</td>\n",
       "      <td>3000</td>\n",
       "      <td>1950</td>\n",
       "      <td>150</td>\n",
       "      <td>1</td>\n",
       "      <td>1</td>\n",
       "      <td>1950.0</td>\n",
       "    </tr>\n",
       "    <tr>\n",
       "      <td>2</td>\n",
       "      <td>1000</td>\n",
       "      <td>7</td>\n",
       "      <td>1000.0</td>\n",
       "      <td>7.0</td>\n",
       "      <td>47.0</td>\n",
       "      <td>337.0</td>\n",
       "      <td>75.0</td>\n",
       "      <td>29.0</td>\n",
       "      <td>14</td>\n",
       "      <td>ultra</td>\n",
       "      <td>Краснодар</td>\n",
       "      <td>1000</td>\n",
       "      <td>30</td>\n",
       "      <td>3000</td>\n",
       "      <td>1950</td>\n",
       "      <td>150</td>\n",
       "      <td>1</td>\n",
       "      <td>1</td>\n",
       "      <td>1950.0</td>\n",
       "    </tr>\n",
       "    <tr>\n",
       "      <td>3</td>\n",
       "      <td>1000</td>\n",
       "      <td>8</td>\n",
       "      <td>1000.0</td>\n",
       "      <td>8.0</td>\n",
       "      <td>52.0</td>\n",
       "      <td>404.0</td>\n",
       "      <td>81.0</td>\n",
       "      <td>29.0</td>\n",
       "      <td>14</td>\n",
       "      <td>ultra</td>\n",
       "      <td>Краснодар</td>\n",
       "      <td>1000</td>\n",
       "      <td>30</td>\n",
       "      <td>3000</td>\n",
       "      <td>1950</td>\n",
       "      <td>150</td>\n",
       "      <td>1</td>\n",
       "      <td>1</td>\n",
       "      <td>1950.0</td>\n",
       "    </tr>\n",
       "    <tr>\n",
       "      <td>4</td>\n",
       "      <td>1000</td>\n",
       "      <td>9</td>\n",
       "      <td>1000.0</td>\n",
       "      <td>9.0</td>\n",
       "      <td>58.0</td>\n",
       "      <td>461.0</td>\n",
       "      <td>57.0</td>\n",
       "      <td>27.0</td>\n",
       "      <td>15</td>\n",
       "      <td>ultra</td>\n",
       "      <td>Краснодар</td>\n",
       "      <td>1000</td>\n",
       "      <td>30</td>\n",
       "      <td>3000</td>\n",
       "      <td>1950</td>\n",
       "      <td>150</td>\n",
       "      <td>1</td>\n",
       "      <td>1</td>\n",
       "      <td>1950.0</td>\n",
       "    </tr>\n",
       "    <tr>\n",
       "      <td>...</td>\n",
       "      <td>...</td>\n",
       "      <td>...</td>\n",
       "      <td>...</td>\n",
       "      <td>...</td>\n",
       "      <td>...</td>\n",
       "      <td>...</td>\n",
       "      <td>...</td>\n",
       "      <td>...</td>\n",
       "      <td>...</td>\n",
       "      <td>...</td>\n",
       "      <td>...</td>\n",
       "      <td>...</td>\n",
       "      <td>...</td>\n",
       "      <td>...</td>\n",
       "      <td>...</td>\n",
       "      <td>...</td>\n",
       "      <td>...</td>\n",
       "      <td>...</td>\n",
       "      <td>...</td>\n",
       "    </tr>\n",
       "    <tr>\n",
       "      <td>3209</td>\n",
       "      <td>1489</td>\n",
       "      <td>9</td>\n",
       "      <td>NaN</td>\n",
       "      <td>NaN</td>\n",
       "      <td>NaN</td>\n",
       "      <td>NaN</td>\n",
       "      <td>32.0</td>\n",
       "      <td>63.0</td>\n",
       "      <td>17</td>\n",
       "      <td>smart</td>\n",
       "      <td>Санкт-Петербург</td>\n",
       "      <td>50</td>\n",
       "      <td>15</td>\n",
       "      <td>500</td>\n",
       "      <td>550</td>\n",
       "      <td>200</td>\n",
       "      <td>3</td>\n",
       "      <td>3</td>\n",
       "      <td>950.0</td>\n",
       "    </tr>\n",
       "    <tr>\n",
       "      <td>3210</td>\n",
       "      <td>1489</td>\n",
       "      <td>10</td>\n",
       "      <td>NaN</td>\n",
       "      <td>NaN</td>\n",
       "      <td>NaN</td>\n",
       "      <td>NaN</td>\n",
       "      <td>21.0</td>\n",
       "      <td>63.0</td>\n",
       "      <td>20</td>\n",
       "      <td>smart</td>\n",
       "      <td>Санкт-Петербург</td>\n",
       "      <td>50</td>\n",
       "      <td>15</td>\n",
       "      <td>500</td>\n",
       "      <td>550</td>\n",
       "      <td>200</td>\n",
       "      <td>3</td>\n",
       "      <td>3</td>\n",
       "      <td>1550.0</td>\n",
       "    </tr>\n",
       "    <tr>\n",
       "      <td>3211</td>\n",
       "      <td>1489</td>\n",
       "      <td>11</td>\n",
       "      <td>NaN</td>\n",
       "      <td>NaN</td>\n",
       "      <td>NaN</td>\n",
       "      <td>NaN</td>\n",
       "      <td>20.0</td>\n",
       "      <td>55.0</td>\n",
       "      <td>18</td>\n",
       "      <td>smart</td>\n",
       "      <td>Санкт-Петербург</td>\n",
       "      <td>50</td>\n",
       "      <td>15</td>\n",
       "      <td>500</td>\n",
       "      <td>550</td>\n",
       "      <td>200</td>\n",
       "      <td>3</td>\n",
       "      <td>3</td>\n",
       "      <td>1150.0</td>\n",
       "    </tr>\n",
       "    <tr>\n",
       "      <td>3212</td>\n",
       "      <td>1489</td>\n",
       "      <td>12</td>\n",
       "      <td>NaN</td>\n",
       "      <td>NaN</td>\n",
       "      <td>NaN</td>\n",
       "      <td>NaN</td>\n",
       "      <td>35.0</td>\n",
       "      <td>51.0</td>\n",
       "      <td>17</td>\n",
       "      <td>smart</td>\n",
       "      <td>Санкт-Петербург</td>\n",
       "      <td>50</td>\n",
       "      <td>15</td>\n",
       "      <td>500</td>\n",
       "      <td>550</td>\n",
       "      <td>200</td>\n",
       "      <td>3</td>\n",
       "      <td>3</td>\n",
       "      <td>950.0</td>\n",
       "    </tr>\n",
       "    <tr>\n",
       "      <td>3213</td>\n",
       "      <td>1476</td>\n",
       "      <td>4</td>\n",
       "      <td>NaN</td>\n",
       "      <td>NaN</td>\n",
       "      <td>NaN</td>\n",
       "      <td>NaN</td>\n",
       "      <td>NaN</td>\n",
       "      <td>1.0</td>\n",
       "      <td>1</td>\n",
       "      <td>ultra</td>\n",
       "      <td>Москва</td>\n",
       "      <td>1000</td>\n",
       "      <td>30</td>\n",
       "      <td>3000</td>\n",
       "      <td>1950</td>\n",
       "      <td>150</td>\n",
       "      <td>1</td>\n",
       "      <td>1</td>\n",
       "      <td>1950.0</td>\n",
       "    </tr>\n",
       "  </tbody>\n",
       "</table>\n",
       "<p>3214 rows × 19 columns</p>\n",
       "</div>"
      ],
      "text/plain": [
       "      user_id  month  user_id_N  month_N  duration_count  duration_sum    id  \\\n",
       "0        1000      5     1000.0      5.0            22.0         158.0  22.0   \n",
       "1        1000      6     1000.0      6.0            43.0         169.0  60.0   \n",
       "2        1000      7     1000.0      7.0            47.0         337.0  75.0   \n",
       "3        1000      8     1000.0      8.0            52.0         404.0  81.0   \n",
       "4        1000      9     1000.0      9.0            58.0         461.0  57.0   \n",
       "...       ...    ...        ...      ...             ...           ...   ...   \n",
       "3209     1489      9        NaN      NaN             NaN           NaN  32.0   \n",
       "3210     1489     10        NaN      NaN             NaN           NaN  21.0   \n",
       "3211     1489     11        NaN      NaN             NaN           NaN  20.0   \n",
       "3212     1489     12        NaN      NaN             NaN           NaN  35.0   \n",
       "3213     1476      4        NaN      NaN             NaN           NaN   NaN   \n",
       "\n",
       "      gb_used_count  gb_used_sum tariff             city  messages_included  \\\n",
       "0               5.0            3  ultra        Краснодар               1000   \n",
       "1              49.0           23  ultra        Краснодар               1000   \n",
       "2              29.0           14  ultra        Краснодар               1000   \n",
       "3              29.0           14  ultra        Краснодар               1000   \n",
       "4              27.0           15  ultra        Краснодар               1000   \n",
       "...             ...          ...    ...              ...                ...   \n",
       "3209           63.0           17  smart  Санкт-Петербург                 50   \n",
       "3210           63.0           20  smart  Санкт-Петербург                 50   \n",
       "3211           55.0           18  smart  Санкт-Петербург                 50   \n",
       "3212           51.0           17  smart  Санкт-Петербург                 50   \n",
       "3213            1.0            1  ultra           Москва               1000   \n",
       "\n",
       "      gb_per_month_included  minutes_included  rub_monthly_fee  rub_per_gb  \\\n",
       "0                        30              3000             1950         150   \n",
       "1                        30              3000             1950         150   \n",
       "2                        30              3000             1950         150   \n",
       "3                        30              3000             1950         150   \n",
       "4                        30              3000             1950         150   \n",
       "...                     ...               ...              ...         ...   \n",
       "3209                     15               500              550         200   \n",
       "3210                     15               500              550         200   \n",
       "3211                     15               500              550         200   \n",
       "3212                     15               500              550         200   \n",
       "3213                     30              3000             1950         150   \n",
       "\n",
       "      rub_per_message  rub_per_minute    many  \n",
       "0                   1               1  1950.0  \n",
       "1                   1               1  1950.0  \n",
       "2                   1               1  1950.0  \n",
       "3                   1               1  1950.0  \n",
       "4                   1               1  1950.0  \n",
       "...               ...             ...     ...  \n",
       "3209                3               3   950.0  \n",
       "3210                3               3  1550.0  \n",
       "3211                3               3  1150.0  \n",
       "3212                3               3   950.0  \n",
       "3213                1               1  1950.0  \n",
       "\n",
       "[3214 rows x 19 columns]"
      ]
     },
     "execution_count": 21,
     "metadata": {},
     "output_type": "execute_result"
    }
   ],
   "source": [
    "import numpy as np\n",
    "df_1 = df_calls_pivot.merge(df_messages_pivot, on=['user_id', 'month'], how='outer')\n",
    "#df_1\n",
    "df_2 = df_1.merge(internet_pivot, on=['user_id', 'month'], how='outer')\n",
    "#df_2\n",
    "df_3 = df_2.join(df_users.set_index('user_id')[['tariff', 'city']], on='user_id')\n",
    "#df_3\n",
    "df_total = df_3.join(df_tariffs.set_index('tariff')[['messages_included', 'gb_per_month_included', 'minutes_included', 'rub_monthly_fee', 'rub_per_gb', 'rub_per_message', 'rub_per_minute']], on='tariff')\n",
    "\n",
    "df_total.columns = ['user_id', 'month', 'user_id_N', 'month_N', 'duration_count', 'duration_sum', 'id', 'gb_used_count', 'gb_used_sum', 'tariff', 'city', 'messages_included', 'gb_per_month_included', 'minutes_included', \n",
    "'rub_monthly_fee', 'rub_per_gb', 'rub_per_message', 'rub_per_minute'] \n",
    "#df_total\n",
    "\n",
    "#________________________________________________________________________________________________________\n",
    "df_total['gb_used_sum'] = df_total['gb_used_sum'].fillna(0)\n",
    "df_total['gb_used_sum'] = np.ceil(df_total['gb_used_sum']/1024).astype('int')\n",
    "#________________________________________________________________________________________________________ \n",
    "def many (row):\n",
    "    tariff = row['rub_monthly_fee']\n",
    "    if (row['duration_sum'] - row['minutes_included']) <= 0:\n",
    "        tariff += 0\n",
    "    if (row['duration_sum'] - row['minutes_included']) > 0:\n",
    "        tariff += (row['duration_sum'] - row['minutes_included'])*row['rub_per_minute']\n",
    "    if (row['id'] - row['messages_included']) <= 0:\n",
    "        tariff += 0\n",
    "    if (row['id'] - row['messages_included']) > 0:\n",
    "        tariff += (row['id'] - row['messages_included'])*row['rub_per_message']\n",
    "    if (row['gb_used_sum'] - row['gb_per_month_included']) <= 0:\n",
    "        tariff += 0\n",
    "    if (row['gb_used_sum'] - row['gb_per_month_included']) > 0:\n",
    "        tariff += (row['gb_used_sum'] - row['gb_per_month_included'])*row['rub_per_gb']\n",
    "    return tariff\n",
    "\n",
    "df_total['many'] = df_total.apply(many, axis=1)      \n",
    "df_total"
   ]
  },
  {
   "cell_type": "code",
   "execution_count": 22,
   "metadata": {},
   "outputs": [],
   "source": [
    "df_total = df_total.fillna(0)"
   ]
  },
  {
   "cell_type": "markdown",
   "metadata": {},
   "source": [
    "## Анализ данных"
   ]
  },
  {
   "cell_type": "code",
   "execution_count": 24,
   "metadata": {},
   "outputs": [
    {
     "name": "stdout",
     "output_type": "stream",
     "text": [
      "среднее время разговора для тарифа ultra: 521 мин\n",
      "среднее время разговора для тарифа smart: 414 мин\n",
      "среднее кол-во сообщений для тарифа ultra: 49 сообщение\n",
      "среднее кол-во сообщений для тарифа smart: 33 сообщений\n",
      "средний объем интернет трафика для тарифа ultra: 19 гб\n",
      "средний объем интернет трафика для тарифа smart: 16 гб\n",
      "средняя прибыль для тарифа ultra: 2070 руб\n",
      "средняя прибыль для тарифа smart: 1284 руб\n"
     ]
    }
   ],
   "source": [
    "#для удобства создаем два среза для каждого тарифного плана\n",
    "ultra = df_total[df_total['tariff'] == 'ultra']\n",
    "#ultra\n",
    "smart = df_total[df_total['tariff'] == 'smart']\n",
    "#smart\n",
    "\n",
    "#рассчитываем среднее время разговора:\n",
    "duration_ultra_mean = ultra['duration_sum'].mean()\n",
    "print('среднее время разговора для тарифа ultra: {:.0f} мин'. format(duration_ultra_mean))\n",
    "duration_smart_mean = smart['duration_sum'].mean()\n",
    "print('среднее время разговора для тарифа smart: {:.0f} мин'. format(duration_smart_mean))\n",
    "\n",
    "#рассчитываем среднее кол-во сообщений:\n",
    "messages_ultra_mean = ultra['id'].mean()\n",
    "print('среднее кол-во сообщений для тарифа ultra: {:.0f} сообщение'. format(messages_ultra_mean))\n",
    "messages_smart_mean = smart['id'].mean()\n",
    "print('среднее кол-во сообщений для тарифа smart: {:.0f} сообщений'. format(messages_smart_mean))\n",
    "\n",
    "#рассчитываем средний объем интернет трафика:\n",
    "gb_ultra_mean = ultra['gb_used_sum'].mean()\n",
    "print('средний объем интернет трафика для тарифа ultra: {:.0f} гб'. format(gb_ultra_mean))\n",
    "gb_smart_mean = smart['gb_used_sum'].mean()\n",
    "print('средний объем интернет трафика для тарифа smart: {:.0f} гб'. format(gb_smart_mean))\n",
    "\n",
    "#рассчитываем среднюю прибыль:\n",
    "many_ultra_mean = ultra['many'].mean()\n",
    "print('средняя прибыль для тарифа ultra: {:.0f} руб'. format(many_ultra_mean))\n",
    "many_smart_mean = smart['many'].mean()\n",
    "print('средняя прибыль для тарифа smart: {:.0f} руб'. format(many_smart_mean))\n"
   ]
  },
  {
   "cell_type": "markdown",
   "metadata": {},
   "source": [
    "### Вывод\n",
    "\n",
    "все средние значения(время разговора, кол-во смс, трафика) у тарифа ultra выше чем у smart"
   ]
  },
  {
   "cell_type": "code",
   "execution_count": 25,
   "metadata": {},
   "outputs": [
    {
     "data": {
      "text/plain": [
       "user_id                   19795.057133\n",
       "month                         8.247014\n",
       "user_id_N                 72398.742031\n",
       "month_N                      10.292338\n",
       "duration_count             1928.689990\n",
       "duration_sum              98883.264203\n",
       "id                         2285.266143\n",
       "gb_used_count               385.071031\n",
       "gb_used_sum                  97.091686\n",
       "messages_included             0.000000\n",
       "gb_per_month_included         0.000000\n",
       "minutes_included              0.000000\n",
       "rub_monthly_fee               0.000000\n",
       "rub_per_gb                    0.000000\n",
       "rub_per_message               0.000000\n",
       "rub_per_minute                0.000000\n",
       "many                     141516.745079\n",
       "dtype: float64"
      ]
     },
     "execution_count": 25,
     "metadata": {},
     "output_type": "execute_result"
    }
   ],
   "source": [
    "# рассчитываем дисперсию для тарифа ultra\n",
    "import numpy as np\n",
    "variance_ultra = np.var(ultra, ddof=1)\n",
    "variance_ultra"
   ]
  },
  {
   "cell_type": "code",
   "execution_count": 26,
   "metadata": {},
   "outputs": [
    {
     "data": {
      "text/plain": [
       "user_id                   21350.907161\n",
       "month                         8.528245\n",
       "user_id_N                 25380.427097\n",
       "month_N                       8.702138\n",
       "duration_count              672.876243\n",
       "duration_sum              35507.580706\n",
       "id                          796.812958\n",
       "gb_used_count               301.685568\n",
       "gb_used_sum                  33.028705\n",
       "messages_included             0.000000\n",
       "gb_per_month_included         0.000000\n",
       "minutes_included              0.000000\n",
       "rub_monthly_fee               0.000000\n",
       "rub_per_gb                    0.000000\n",
       "rub_per_message               0.000000\n",
       "rub_per_minute                0.000000\n",
       "many                     664356.709546\n",
       "dtype: float64"
      ]
     },
     "execution_count": 26,
     "metadata": {},
     "output_type": "execute_result"
    }
   ],
   "source": [
    "# рассчитываем дисперсию для smart\n",
    "import numpy as np\n",
    "variance_smart = np.var(smart, ddof=1)\n",
    "variance_smart"
   ]
  },
  {
   "cell_type": "code",
   "execution_count": 27,
   "metadata": {},
   "outputs": [
    {
     "data": {
      "text/plain": [
       "user_id                  140.694908\n",
       "month                      2.871762\n",
       "user_id_N                269.070143\n",
       "month_N                    3.208167\n",
       "duration_count            43.916853\n",
       "duration_sum             314.457094\n",
       "id                        47.804457\n",
       "gb_used_count             19.623227\n",
       "gb_used_sum                9.853511\n",
       "messages_included          0.000000\n",
       "gb_per_month_included      0.000000\n",
       "minutes_included           0.000000\n",
       "rub_monthly_fee            0.000000\n",
       "rub_per_gb                 0.000000\n",
       "rub_per_message            0.000000\n",
       "rub_per_minute             0.000000\n",
       "many                     376.187114\n",
       "dtype: float64"
      ]
     },
     "execution_count": 27,
     "metadata": {},
     "output_type": "execute_result"
    }
   ],
   "source": [
    "# рассчитываем стандартное отклонение для тарифа ultra\n",
    "standard_ultra = np.std(ultra, ddof=1)\n",
    "standard_ultra"
   ]
  },
  {
   "cell_type": "code",
   "execution_count": 28,
   "metadata": {},
   "outputs": [
    {
     "data": {
      "text/plain": [
       "user_id                  146.119496\n",
       "month                      2.920316\n",
       "user_id_N                159.312357\n",
       "month_N                    2.949939\n",
       "duration_count            25.939858\n",
       "duration_sum             188.434553\n",
       "id                        28.227876\n",
       "gb_used_count             17.369098\n",
       "gb_used_sum                5.747061\n",
       "messages_included          0.000000\n",
       "gb_per_month_included      0.000000\n",
       "minutes_included           0.000000\n",
       "rub_monthly_fee            0.000000\n",
       "rub_per_gb                 0.000000\n",
       "rub_per_message            0.000000\n",
       "rub_per_minute             0.000000\n",
       "many                     815.080799\n",
       "dtype: float64"
      ]
     },
     "execution_count": 28,
     "metadata": {},
     "output_type": "execute_result"
    }
   ],
   "source": [
    "# рассчитываем стандартное отклонение для тарифа smart\n",
    "standard_smart = np.std(smart, ddof=1)\n",
    "standard_smart"
   ]
  },
  {
   "cell_type": "code",
   "execution_count": 29,
   "metadata": {
    "scrolled": false
   },
   "outputs": [
    {
     "data": {
      "image/png": "[encoded data removed]",
      "text/plain": [
       "<Figure size 432x288 with 1 Axes>"
      ]
     },
     "metadata": {
      "needs_background": "light"
     },
     "output_type": "display_data"
    },
    {
     "data": {
      "image/png": "[encoded data removed]",
      "text/plain": [
       "<Figure size 432x288 with 1 Axes>"
      ]
     },
     "metadata": {
      "needs_background": "light"
     },
     "output_type": "display_data"
    },
    {
     "data": {
      "image/png": "[encoded data removed]",
      "text/plain": [
       "<Figure size 432x288 with 1 Axes>"
      ]
     },
     "metadata": {
      "needs_background": "light"
     },
     "output_type": "display_data"
    },
    {
     "data": {
      "image/png": "[encoded data removed]",
      "text/plain": [
       "<Figure size 432x288 with 1 Axes>"
      ]
     },
     "metadata": {
      "needs_background": "light"
     },
     "output_type": "display_data"
    },
    {
     "data": {
      "image/png": "[encoded data removed]",
      "text/plain": [
       "<Figure size 432x288 with 1 Axes>"
      ]
     },
     "metadata": {
      "needs_background": "light"
     },
     "output_type": "display_data"
    },
    {
     "data": {
      "image/png": "[encoded data removed]",
      "text/plain": [
       "<Figure size 432x288 with 1 Axes>"
      ]
     },
     "metadata": {
      "needs_background": "light"
     },
     "output_type": "display_data"
    },
    {
     "data": {
      "image/png": "[encoded data removed]",
      "text/plain": [
       "<Figure size 432x288 with 1 Axes>"
      ]
     },
     "metadata": {
      "needs_background": "light"
     },
     "output_type": "display_data"
    },
    {
     "data": {
      "image/png": "[encoded data removed]",
      "text/plain": [
       "<Figure size 432x288 with 1 Axes>"
      ]
     },
     "metadata": {
      "needs_background": "light"
     },
     "output_type": "display_data"
    }
   ],
   "source": [
    "#строим гистограммы\n",
    "import matplotlib.pyplot as plt\n",
    "\n",
    "ultra['duration_sum'].hist(bins=200, range = (0, 600))\n",
    "plt.xlim([0, 200])\n",
    "plt.title(\"время разговоров тарифа ultra\")\n",
    "plt.xlabel(\"время\")\n",
    "plt.ylabel(\"плотность частоты\")\n",
    "plt.show()\n",
    "\n",
    "smart['duration_sum'].hist(bins=200, range = (0, 600))\n",
    "plt.xlim([0, 200])\n",
    "plt.title(\"время разговоров тарифа smart\")\n",
    "plt.xlabel(\"время\")\n",
    "plt.ylabel(\"плотность частоты\")\n",
    "plt.show()\n",
    "\n",
    "ultra['duration_count'].hist(bins=200, range = (0, 600))\n",
    "plt.xlim([0, 200])\n",
    "plt.title(\"кол-во сделанных звонков тарифа ultra\")\n",
    "plt.xlabel(\"кол-во звонков\")\n",
    "plt.show()\n",
    "\n",
    "smart['duration_count'].hist(bins=200, range = (0, 600))\n",
    "plt.xlim([0, 200])\n",
    "plt.title(\"кол-во сделанных звонков тарифа smart\")\n",
    "plt.xlabel(\"кол-во звонков\")\n",
    "plt.show()\n",
    "\n",
    "ultra['id'].hist(bins=200, range = (0, 600))\n",
    "plt.xlim([0, 200])\n",
    "plt.title(\"кол-во смс тарифа ultra\")\n",
    "plt.xlabel(\"кол-во смс\")\n",
    "plt.show()\n",
    "\n",
    "smart['id'].hist(bins=200, range = (0, 600))\n",
    "plt.xlim([0, 200])\n",
    "plt.title(\"кол-во смс тарифа smart\")\n",
    "plt.xlabel(\"кол-во смс\")\n",
    "plt.show()\n",
    "\n",
    "ultra['gb_used_sum'].hist(bins=200, range = (0, 600))\n",
    "plt.xlim([0, 200])\n",
    "plt.title(\"кол-во гб трафика тарифа ultra\")\n",
    "plt.xlabel(\"гб\")\n",
    "plt.show()\n",
    "\n",
    "smart['gb_used_sum'].hist(bins=200, range = (0, 600))\n",
    "plt.xlim([0, 200])\n",
    "plt.title(\"кол-во гб трафика smart\")\n",
    "plt.xlabel(\"гб\")\n",
    "plt.show()"
   ]
  },
  {
   "cell_type": "markdown",
   "metadata": {},
   "source": [
    "### Описание гистограмм:\n",
    "Время разговоров - является количественной непрерывной переменной, \n",
    "при перемножении времени (ось х) на плотность частоты (ось у) получим количество клиентов,\n",
    "примерно равное 500 (что соответствует количеству клиентов по выборке)\n",
    "\n",
    "Количество сделанных звонков - является количественной дискретной переменной.\n",
    "В тарифе ultra клиенты осуществляют от 30 до 100 звонков в месяц\n",
    "В тарифе smart клиенты осуществляют от 30 до 110 звонков в месяц\n",
    "\n",
    "Количество смс - является количественной дискретной переменной.\n",
    "В тарифе ultra клиенты пишут смс около 60 в месяц\n",
    "В тарифе smart клиенты пишут смс около 30 в месяц\n",
    "\n",
    "Количество интернета- является количественной непрерывной переменной,\n",
    "В тарифе ultra клиенты используют примерно от 10 до 30 гб в месяц\n",
    "В тарифе smart клиенты используют примерно от 10 до 15 гб в месяц\n"
   ]
  },
  {
   "cell_type": "markdown",
   "metadata": {},
   "source": [
    "## Проверка гипотез"
   ]
  },
  {
   "cell_type": "markdown",
   "metadata": {},
   "source": [
    "нулевая гипотеза H₀: \"средняя выручка пользователей тарифов «Ультра» и «Смарт» не различается (т.е. равны\")\n",
    "\n",
    "альтернативная гипотеза H₁: \"средняя выручка пользователей тарифов «Ультра» и «Смарт» различается\""
   ]
  },
  {
   "cell_type": "code",
   "execution_count": 31,
   "metadata": {},
   "outputs": [
    {
     "name": "stdout",
     "output_type": "stream",
     "text": [
      "p-значение: 5.7720336543938376e-164\n",
      "Отвергаем нулевую гипотезу\n"
     ]
    }
   ],
   "source": [
    "from scipy import stats as st\n",
    "import pandas as pd\n",
    "\n",
    "\n",
    "alpha = 0.05\n",
    "results = st.ttest_ind(ultra['many'], smart['many'])\n",
    "\n",
    "print('p-значение:', results.pvalue)\n",
    "\n",
    "if results.pvalue < alpha:\n",
    "    print('Отвергаем нулевую гипотезу')\n",
    "else:\n",
    "    print('Не получилось отвергнуть нулевую гипотезу')\n"
   ]
  },
  {
   "cell_type": "markdown",
   "metadata": {},
   "source": [
    "### Вывод: \n",
    "средняя выручка пользователей тарифов «Ультра» и «Смарт» различается"
   ]
  },
  {
   "cell_type": "markdown",
   "metadata": {},
   "source": [
    "нулевая гипотеза H₀: \"средняя выручка пользователей из Москвы не отличается от выручки пользователей из других регионов (т.е. равны\")\n",
    "\n",
    "\n",
    "альтернативная гипотеза H₁: \"средняя выручка пользователей из Москвы отличается от выручки пользователей из других регионов\""
   ]
  },
  {
   "cell_type": "code",
   "execution_count": 34,
   "metadata": {},
   "outputs": [
    {
     "name": "stdout",
     "output_type": "stream",
     "text": [
      "p-значение: 0.529336402810223\n",
      "Не получилось отвергнуть нулевую гипотезу\n"
     ]
    }
   ],
   "source": [
    "from scipy import stats as st\n",
    "import pandas as pd\n",
    "\n",
    "#делаем соответсвующие срезы для Москвы и регионов\n",
    "\n",
    "moscow = df_total[df_total['city']=='Москва']\n",
    "#display(moscow)\n",
    "regions = df_total[df_total['city'] != 'Москва']\n",
    "#display(regions)\n",
    "\n",
    "alpha_2 = 0.05\n",
    "results_2 = st.ttest_ind(moscow['many'], regions['many'])\n",
    "\n",
    "print('p-значение:', results_2.pvalue)\n",
    "\n",
    "if results_2.pvalue < alpha_2:\n",
    "    print('Отвергаем нулевую гипотезу')\n",
    "else:\n",
    "    print('Не получилось отвергнуть нулевую гипотезу')"
   ]
  },
  {
   "cell_type": "markdown",
   "metadata": {},
   "source": [
    "### Вывод: \n",
    "средняя выручка из Москвы отличается (выше) от выручки пользователей из других регионов"
   ]
  },
  {
   "cell_type": "markdown",
   "metadata": {},
   "source": [
    "# Общий вывод"
   ]
  },
  {
   "cell_type": "markdown",
   "metadata": {},
   "source": [
    "В результате исследования получили следующие данные:\n",
    "\n",
    "среднее время разговора для тарифа ultra: 521 мин\n",
    "среднее время разговора для тарифа smart: 414 мин\n",
    "среднее кол-во сообщений для тарифа ultra: 49 сообщение\n",
    "среднее кол-во сообщений для тарифа smart: 33 сообщений\n",
    "средний объем интернет трафика для тарифа ultra: 19 гб\n",
    "средний объем интернет трафика для тарифа smart: 16 гб\n",
    "средняя прибыль для тарифа ultra: 2070 руб\n",
    "средняя прибыль для тарифа smart: 1284 руб\n",
    "\n",
    "клиенты говорят, пишут сообщения и пользуются интернетом больше по тарифу ultra, чем по smart\n",
    "\n",
    "средняя прибыль для тарифа ultra: 2070 руб\n",
    "средняя прибыль для тарифа smart: 1284 руб\n",
    "\n",
    "Соответственно тариф ultra лучше, более прибыльный"
   ]
  },
  {
   "cell_type": "markdown",
   "metadata": {},
   "source": [
    "## Чек-лист готовности проекта\n",
    "\n",
    "Поставьте 'x' в выполненных пунктах. Далее нажмите Shift+Enter."
   ]
  },
  {
   "cell_type": "markdown",
   "metadata": {},
   "source": [
    "- [x]  открыт файл\n",
    "- [x]  файлы изучены (выведены первые строки, метод info())\n",
    "- [x]  определены пропущенные значения\n",
    "- [x]  заполнены пропущенные значения\n",
    "- [x]  есть пояснение, какие пропущенные значения обнаружены\n",
    "- [x]  изменены типы данных\n",
    "- [x]  есть пояснение, в каких столбцах изменены типы и почему\n",
    "       Посчитайте для каждого пользователя:\n",
    "- [x]  количество сделанных звонков и израсходованных минут разговора по месяцам;\n",
    "- [x]  количество отправленных сообщений по месяцам;\n",
    "- [x]  объем израсходованного интернет-трафика по месяцам;\n",
    "- [x]  помесячную выручку с каждого пользователя (вычтите бесплатный лимит из суммарного количества звонков, сообщений и интернет-трафика; остаток умножьте на значение из тарифного плана; прибавьте абонентскую плату, соответствующую тарифному плану).\n",
    "- [x]  Описано поведение клиентов оператора, исходя из выборки. Сколько минут разговора, сколько сообщений и какой объём интернет-трафика требуется пользователям каждого тарифа в месяц? Посчитайте среднее количество, дисперсию и стандартное отклонение. Постройте гистограммы. Опишите распределения.\n",
    "- [x]  Проверены гипотезы:\n",
    "- [x]  средняя выручка пользователей тарифов «Ультра» и «Смарт» различается;\n",
    "- [x]  средняя выручка пользователей из Москвы отличается от выручки пользователей из других регионов;\n",
    "- [x]  Пороговое значение alpha задайте самостоятельно.\n",
    "- [x]  Поясните:\n",
    "- [x]  как вы формулировали нулевую и альтернативную гипотезы;\n",
    "- [x]  какой критерий использовали для проверки гипотез и почему\n",
    "- [x]  в каждом этапе есть выводы\n",
    "- [x]  есть общий вывод"
   ]
  }
 ],
 "metadata": {
  "ExecuteTimeLog": [
   {
    "duration": 1340,
    "start_time": "2021-08-12T17:18:41.494Z"
   },
   {
    "duration": 30,
    "start_time": "2021-08-12T17:18:42.837Z"
   },
   {
    "duration": 194,
    "start_time": "2021-08-12T17:18:42.870Z"
   },
   {
    "duration": 45,
    "start_time": "2021-08-12T17:18:43.067Z"
   },
   {
    "duration": 4,
    "start_time": "2021-08-12T17:18:43.114Z"
   },
   {
    "duration": 32,
    "start_time": "2021-08-12T17:18:43.120Z"
   },
   {
    "duration": 82,
    "start_time": "2021-08-12T17:18:43.186Z"
   },
   {
    "duration": 67,
    "start_time": "2021-08-12T17:18:43.272Z"
   },
   {
    "duration": 3,
    "start_time": "2021-08-12T17:18:43.342Z"
   },
   {
    "duration": 7,
    "start_time": "2021-08-12T17:18:43.347Z"
   },
   {
    "duration": 29,
    "start_time": "2021-08-12T17:18:43.356Z"
   },
   {
    "duration": 263,
    "start_time": "2021-08-12T17:18:43.388Z"
   },
   {
    "duration": 5,
    "start_time": "2021-08-12T17:18:43.653Z"
   },
   {
    "duration": 7,
    "start_time": "2021-08-12T17:18:43.660Z"
   },
   {
    "duration": 2,
    "start_time": "2021-08-12T17:18:43.686Z"
   },
   {
    "duration": 515,
    "start_time": "2021-08-12T17:18:43.690Z"
   },
   {
    "duration": 432,
    "start_time": "2021-08-12T17:18:44.207Z"
   },
   {
    "duration": 3,
    "start_time": "2021-08-12T17:18:44.642Z"
   },
   {
    "duration": 6,
    "start_time": "2021-08-12T17:18:44.647Z"
   },
   {
    "duration": 5,
    "start_time": "2021-08-12T17:18:44.656Z"
   },
   {
    "duration": 624,
    "start_time": "2021-08-12T17:18:44.663Z"
   },
   {
    "duration": 6,
    "start_time": "2021-08-12T17:18:45.289Z"
   },
   {
    "duration": 6,
    "start_time": "2021-08-12T17:18:45.299Z"
   },
   {
    "duration": 23,
    "start_time": "2021-08-12T17:18:45.307Z"
   },
   {
    "duration": 17,
    "start_time": "2021-08-12T17:18:45.333Z"
   },
   {
    "duration": 52,
    "start_time": "2021-08-12T17:18:45.352Z"
   },
   {
    "duration": 21,
    "start_time": "2021-08-12T17:18:45.406Z"
   },
   {
    "duration": 60,
    "start_time": "2021-08-12T17:18:45.429Z"
   },
   {
    "duration": 7097,
    "start_time": "2021-08-12T17:18:45.491Z"
   },
   {
    "duration": 3,
    "start_time": "2021-08-12T17:18:52.591Z"
   },
   {
    "duration": 529,
    "start_time": "2021-08-12T17:18:52.597Z"
   },
   {
    "duration": 4,
    "start_time": "2021-08-12T17:18:53.128Z"
   },
   {
    "duration": 10,
    "start_time": "2021-08-12T17:18:53.134Z"
   },
   {
    "duration": 14,
    "start_time": "2021-08-12T17:18:53.146Z"
   }
  ],
  "kernelspec": {
   "display_name": "Python 3",
   "language": "python",
   "name": "python3"
  },
  "language_info": {
   "codemirror_mode": {
    "name": "ipython",
    "version": 3
   },
   "file_extension": ".py",
   "mimetype": "text/x-python",
   "name": "python",
   "nbconvert_exporter": "python",
   "pygments_lexer": "ipython3",
   "version": "3.8.8"
  },
  "toc": {
   "base_numbering": 1,
   "nav_menu": {},
   "number_sections": true,
   "sideBar": true,
   "skip_h1_title": true,
   "title_cell": "Table of Contents",
   "title_sidebar": "Contents",
   "toc_cell": false,
   "toc_position": {
    "height": "calc(100% - 180px)",
    "left": "10px",
    "top": "150px",
    "width": "165px"
   },
   "toc_section_display": true,
   "toc_window_display": true
  }
 },
 "nbformat": 4,
 "nbformat_minor": 2
}
