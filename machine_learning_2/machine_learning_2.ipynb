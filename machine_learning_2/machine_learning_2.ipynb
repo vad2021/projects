{
 "cells": [
  {
   "cell_type": "markdown",
   "metadata": {},
   "source": [
    "# Анализ оттока клиентов банка"
   ]
  },
  {
   "cell_type": "markdown",
   "metadata": {},
   "source": [
    "# Материалы:\n",
    "ссылка на презентацию:  \n",
    "https://disk.yandex.ru/d/caJYb3G2B8vclQ  \n",
    "ссылка на дашборд:  \n",
    "https://public.tableau.com/app/profile/vadim1870/viz/Bank_16309514250910/Dashboard1"
   ]
  },
  {
   "cell_type": "markdown",
   "metadata": {},
   "source": [
    "# Описание проекта:"
   ]
  },
  {
   "cell_type": "markdown",
   "metadata": {},
   "source": [
    "Необходимо проанализировать клиентов регионального банка и выделить портрет клиентов, которые склонны уходить из банка."
   ]
  },
  {
   "cell_type": "markdown",
   "metadata": {},
   "source": [
    "## Загрузка данных"
   ]
  },
  {
   "cell_type": "code",
   "execution_count": 1,
   "metadata": {},
   "outputs": [],
   "source": [
    "#импорты выношу в отдельную ячейку:\n",
    "import pandas as pd\n",
    "import numpy as np\n",
    "import seaborn as sns\n",
    "import matplotlib.pyplot as plt\n",
    "from sklearn.model_selection import train_test_split\n",
    "from sklearn.linear_model import LogisticRegression\n",
    "from sklearn.ensemble import RandomForestClassifier\n",
    "from sklearn.metrics import accuracy_score, precision_score, recall_score\n",
    "from sklearn.preprocessing import StandardScaler\n",
    "from sklearn.cluster import KMeans\n",
    "from scipy.cluster.hierarchy import dendrogram, linkage\n",
    "from scipy import stats as st\n",
    "import math as mth\n",
    "from plotly import graph_objects as go"
   ]
  },
  {
   "cell_type": "code",
   "execution_count": 2,
   "metadata": {},
   "outputs": [
    {
     "data": {
      "text/html": [
       "<div>\n",
       "<style scoped>\n",
       "    .dataframe tbody tr th:only-of-type {\n",
       "        vertical-align: middle;\n",
       "    }\n",
       "\n",
       "    .dataframe tbody tr th {\n",
       "        vertical-align: top;\n",
       "    }\n",
       "\n",
       "    .dataframe thead th {\n",
       "        text-align: right;\n",
       "    }\n",
       "</style>\n",
       "<table border=\"1\" class=\"dataframe\">\n",
       "  <thead>\n",
       "    <tr style=\"text-align: right;\">\n",
       "      <th></th>\n",
       "      <th>userid</th>\n",
       "      <th>score</th>\n",
       "      <th>City</th>\n",
       "      <th>Gender</th>\n",
       "      <th>Age</th>\n",
       "      <th>Objects</th>\n",
       "      <th>Balance</th>\n",
       "      <th>Products</th>\n",
       "      <th>CreditCard</th>\n",
       "      <th>Loyalty</th>\n",
       "      <th>estimated_salary</th>\n",
       "      <th>Churn</th>\n",
       "    </tr>\n",
       "  </thead>\n",
       "  <tbody>\n",
       "    <tr>\n",
       "      <td>0</td>\n",
       "      <td>15677338</td>\n",
       "      <td>619</td>\n",
       "      <td>Ярославль</td>\n",
       "      <td>Ж</td>\n",
       "      <td>42</td>\n",
       "      <td>2</td>\n",
       "      <td>NaN</td>\n",
       "      <td>1</td>\n",
       "      <td>1</td>\n",
       "      <td>1</td>\n",
       "      <td>101348.88</td>\n",
       "      <td>1</td>\n",
       "    </tr>\n",
       "    <tr>\n",
       "      <td>1</td>\n",
       "      <td>15690047</td>\n",
       "      <td>608</td>\n",
       "      <td>Рыбинск</td>\n",
       "      <td>Ж</td>\n",
       "      <td>41</td>\n",
       "      <td>1</td>\n",
       "      <td>83807.86</td>\n",
       "      <td>1</td>\n",
       "      <td>0</td>\n",
       "      <td>1</td>\n",
       "      <td>112542.58</td>\n",
       "      <td>0</td>\n",
       "    </tr>\n",
       "    <tr>\n",
       "      <td>2</td>\n",
       "      <td>15662040</td>\n",
       "      <td>502</td>\n",
       "      <td>Ярославль</td>\n",
       "      <td>Ж</td>\n",
       "      <td>42</td>\n",
       "      <td>8</td>\n",
       "      <td>159660.80</td>\n",
       "      <td>3</td>\n",
       "      <td>1</td>\n",
       "      <td>0</td>\n",
       "      <td>113931.57</td>\n",
       "      <td>1</td>\n",
       "    </tr>\n",
       "    <tr>\n",
       "      <td>3</td>\n",
       "      <td>15744090</td>\n",
       "      <td>699</td>\n",
       "      <td>Ярославль</td>\n",
       "      <td>Ж</td>\n",
       "      <td>39</td>\n",
       "      <td>1</td>\n",
       "      <td>NaN</td>\n",
       "      <td>2</td>\n",
       "      <td>0</td>\n",
       "      <td>0</td>\n",
       "      <td>93826.63</td>\n",
       "      <td>0</td>\n",
       "    </tr>\n",
       "    <tr>\n",
       "      <td>4</td>\n",
       "      <td>15780624</td>\n",
       "      <td>850</td>\n",
       "      <td>Рыбинск</td>\n",
       "      <td>Ж</td>\n",
       "      <td>43</td>\n",
       "      <td>2</td>\n",
       "      <td>125510.82</td>\n",
       "      <td>1</td>\n",
       "      <td>1</td>\n",
       "      <td>1</td>\n",
       "      <td>79084.10</td>\n",
       "      <td>0</td>\n",
       "    </tr>\n",
       "  </tbody>\n",
       "</table>\n",
       "</div>"
      ],
      "text/plain": [
       "     userid  score       City Gender  Age  Objects    Balance  Products  \\\n",
       "0  15677338    619  Ярославль      Ж   42        2        NaN         1   \n",
       "1  15690047    608    Рыбинск      Ж   41        1   83807.86         1   \n",
       "2  15662040    502  Ярославль      Ж   42        8  159660.80         3   \n",
       "3  15744090    699  Ярославль      Ж   39        1        NaN         2   \n",
       "4  15780624    850    Рыбинск      Ж   43        2  125510.82         1   \n",
       "\n",
       "   CreditCard  Loyalty  estimated_salary  Churn  \n",
       "0           1        1         101348.88      1  \n",
       "1           0        1         112542.58      0  \n",
       "2           1        0         113931.57      1  \n",
       "3           0        0          93826.63      0  \n",
       "4           1        1          79084.10      0  "
      ]
     },
     "metadata": {},
     "output_type": "display_data"
    },
    {
     "name": "stdout",
     "output_type": "stream",
     "text": [
      "<class 'pandas.core.frame.DataFrame'>\n",
      "RangeIndex: 10000 entries, 0 to 9999\n",
      "Data columns (total 12 columns):\n",
      "userid              10000 non-null int64\n",
      "score               10000 non-null int64\n",
      "City                10000 non-null object\n",
      "Gender              10000 non-null object\n",
      "Age                 10000 non-null int64\n",
      "Objects             10000 non-null int64\n",
      "Balance             6383 non-null float64\n",
      "Products            10000 non-null int64\n",
      "CreditCard          10000 non-null int64\n",
      "Loyalty             10000 non-null int64\n",
      "estimated_salary    10000 non-null float64\n",
      "Churn               10000 non-null int64\n",
      "dtypes: float64(2), int64(8), object(2)\n",
      "memory usage: 937.6+ KB\n"
     ]
    },
    {
     "data": {
      "text/plain": [
       "None"
      ]
     },
     "metadata": {},
     "output_type": "display_data"
    },
    {
     "name": "stdout",
     "output_type": "stream",
     "text": [
      "Пропущено 36.17% значений в столбце Balance\n"
     ]
    }
   ],
   "source": [
    "#загружаем данные:\n",
    "df = pd.read_csv('/datasets/bank_dataset.csv')\n",
    "display(df.head())\n",
    "display(df.info())\n",
    "print('Пропущено {}% значений в столбце Balance'.format((df.isna().sum().sort_values(ascending=False)[0])*100/len(df)))"
   ]
  },
  {
   "cell_type": "markdown",
   "metadata": {},
   "source": [
    "Вывод:  \n",
    "данные загружены:  \n",
    "Всего 10000 строк, 12 столбцов.  \n",
    "Есть пропуски в стобце Balance (36.17%).  \n",
    "Предполагаю, что пропуски в столбце balance вызваны техническим сбоем при выгрузке данных.  \n",
    "Типы столбцов соответствуют.  \n",
    "Скорректируем наименования столбцов и исследуем датафрейм."
   ]
  },
  {
   "cell_type": "markdown",
   "metadata": {},
   "source": [
    "## Предобработка данных:"
   ]
  },
  {
   "cell_type": "code",
   "execution_count": 24,
   "metadata": {},
   "outputs": [
    {
     "name": "stdout",
     "output_type": "stream",
     "text": [
      "    user_id  score  age  objects    balance  products  credit_card  loyalty  \\\n",
      "0  15677338    619   42        2       0.00         1            1        1   \n",
      "1  15690047    608   41        1   83807.86         1            0        1   \n",
      "2  15662040    502   42        8  159660.80         3            1        0   \n",
      "3  15744090    699   39        1       0.00         2            0        0   \n",
      "4  15780624    850   43        2  125510.82         1            1        1   \n",
      "\n",
      "   estimated_salary  churn  city_ростов великий  city_рыбинск  city_ярославль  \\\n",
      "0         101348.88      1                    0             0               1   \n",
      "1         112542.58      0                    0             1               0   \n",
      "2         113931.57      1                    0             0               1   \n",
      "3          93826.63      0                    0             0               1   \n",
      "4          79084.10      0                    0             1               0   \n",
      "\n",
      "   gender_ж  gender_м  cluster_km  \n",
      "0         1         0           3  \n",
      "1         1         0           2  \n",
      "2         1         0           3  \n",
      "3         1         0           3  \n",
      "4         1         0           2  \n"
     ]
    }
   ],
   "source": [
    "#приведем названия столбцов к нижнему регистру:\n",
    "df.columns = df.columns.str.lower()\n",
    "print(df.head())"
   ]
  },
  {
   "cell_type": "code",
   "execution_count": 25,
   "metadata": {},
   "outputs": [
    {
     "name": "stdout",
     "output_type": "stream",
     "text": [
      "<class 'pandas.core.frame.DataFrame'>\n",
      "RangeIndex: 10000 entries, 0 to 9999\n",
      "Data columns (total 16 columns):\n",
      "user_id                10000 non-null int64\n",
      "score                  10000 non-null int64\n",
      "age                    10000 non-null int64\n",
      "objects                10000 non-null int64\n",
      "balance                10000 non-null float64\n",
      "products               10000 non-null int64\n",
      "credit_card            10000 non-null int64\n",
      "loyalty                10000 non-null int64\n",
      "estimated_salary       10000 non-null float64\n",
      "churn                  10000 non-null int64\n",
      "city_ростов_великий    10000 non-null uint8\n",
      "city_рыбинск           10000 non-null uint8\n",
      "city_ярославль         10000 non-null uint8\n",
      "gender_ж               10000 non-null uint8\n",
      "gender_м               10000 non-null uint8\n",
      "cluster_km             10000 non-null int32\n",
      "dtypes: float64(2), int32(1), int64(8), uint8(5)\n",
      "memory usage: 869.3 KB\n"
     ]
    },
    {
     "data": {
      "text/plain": [
       "None"
      ]
     },
     "metadata": {},
     "output_type": "display_data"
    },
    {
     "name": "stdout",
     "output_type": "stream",
     "text": [
      "Количество дубликатов: 0\n",
      "общее кол-во пропущенных значений:\n"
     ]
    },
    {
     "data": {
      "text/plain": [
       "user_id                0\n",
       "score                  0\n",
       "age                    0\n",
       "objects                0\n",
       "balance                0\n",
       "products               0\n",
       "credit_card            0\n",
       "loyalty                0\n",
       "estimated_salary       0\n",
       "churn                  0\n",
       "city_ростов_великий    0\n",
       "city_рыбинск           0\n",
       "city_ярославль         0\n",
       "gender_ж               0\n",
       "gender_м               0\n",
       "cluster_km             0\n",
       "dtype: int64"
      ]
     },
     "metadata": {},
     "output_type": "display_data"
    },
    {
     "name": "stdout",
     "output_type": "stream",
     "text": [
      "кол-во пропущенных значений в срезе для оставшихся:\n"
     ]
    },
    {
     "data": {
      "text/plain": [
       "user_id                0\n",
       "score                  0\n",
       "age                    0\n",
       "objects                0\n",
       "balance                0\n",
       "products               0\n",
       "credit_card            0\n",
       "loyalty                0\n",
       "estimated_salary       0\n",
       "churn                  0\n",
       "city_ростов_великий    0\n",
       "city_рыбинск           0\n",
       "city_ярославль         0\n",
       "gender_ж               0\n",
       "gender_м               0\n",
       "cluster_km             0\n",
       "dtype: int64"
      ]
     },
     "metadata": {},
     "output_type": "display_data"
    },
    {
     "name": "stdout",
     "output_type": "stream",
     "text": [
      "Минимальное значение зарплаты в срезе для оставшихся: 90.07\n",
      "Максимальное значение зарплаты в срезе для оставшихся: 199992.48\n",
      "\n",
      "кол-во пропущенных значений в срезе для ушедших:\n"
     ]
    },
    {
     "data": {
      "text/plain": [
       "user_id                0\n",
       "score                  0\n",
       "age                    0\n",
       "objects                0\n",
       "balance                0\n",
       "products               0\n",
       "credit_card            0\n",
       "loyalty                0\n",
       "estimated_salary       0\n",
       "churn                  0\n",
       "city_ростов_великий    0\n",
       "city_рыбинск           0\n",
       "city_ярославль         0\n",
       "gender_ж               0\n",
       "gender_м               0\n",
       "cluster_km             0\n",
       "dtype: int64"
      ]
     },
     "metadata": {},
     "output_type": "display_data"
    },
    {
     "name": "stdout",
     "output_type": "stream",
     "text": [
      "Минимальное значение зарплаты в срезе для ушедших: 11.58\n",
      "Максимальное значение зарплаты в срезе для ушедших: 199808.1\n"
     ]
    }
   ],
   "source": [
    "#предварительно преобразуем категориальные переменные:\n",
    "df = pd.get_dummies(df)\n",
    "\n",
    "#скорректируем названия столбцов:\n",
    "df = df.rename(columns={'userid':'user_id', 'score':'score', 'age':'age', 'objects':'objects', 'balance':'balance', 'products':'products', 'creditcard':'credit_card', 'loyalty':'loyalty', 'estimated_salary':'estimated_salary', 'churn':'churn', 'city_ростов великий':'city_ростов_великий', 'city_рыбинск':'city_рыбинск', 'city_ярославль':'city_ярославль', 'gender_ж':'gender_ж', 'gender_м':'gender_м'})\n",
    "#display(df.head())\n",
    "display(df.info())\n",
    "\n",
    "#проверим наличие дубликатов:\n",
    "print(f\"Количество дубликатов: {df.duplicated().sum()}\")\n",
    "\n",
    "#проверим наличие пропусков:\n",
    "print('общее кол-во пропущенных значений:')\n",
    "display(df.isnull().sum())\n",
    "\n",
    "#сделаем два среза по оставшимся и ушедшим клиентам и изучим эти срезы:\n",
    "df_stay = df[(df['churn'] == 0)]     #срез для оставшихся\n",
    "#display(df_stay.head())\n",
    "#display(df_stay.info())\n",
    "\n",
    "#проверим наличие пропусков в срезе для оставшихся:\n",
    "print('кол-во пропущенных значений в срезе для оставшихся:')\n",
    "display(df_stay.isnull().sum())\n",
    "#print(df_stay['credit_card'].value_counts())\n",
    "#print(df_stay['estimated_salary'].value_counts())\n",
    "print(f\"Минимальное значение зарплаты в срезе для оставшихся: {df_stay['estimated_salary'].min()}\")\n",
    "print(f\"Максимальное значение зарплаты в срезе для оставшихся: {df_stay['estimated_salary'].max()}\")\n",
    "print()\n",
    "\n",
    "#срез для ушедших\n",
    "df_depart = df[(df['churn'] == 1)]     #срез для ушедших\n",
    "#display(df_depart.info())\n",
    "\n",
    "#проверим наличие пропусков в срезе для ушедших:\n",
    "print('кол-во пропущенных значений в срезе для ушедших:')\n",
    "display(df_depart.isnull().sum())\n",
    "#print(df_depart['credit_card'].value_counts())\n",
    "#print(df_depart['products'].value_counts())\n",
    "print(f\"Минимальное значение зарплаты в срезе для ушедших: {df_depart['estimated_salary'].min()}\")\n",
    "print(f\"Максимальное значение зарплаты в срезе для ушедших: {df_depart['estimated_salary'].max()}\")"
   ]
  },
  {
   "cell_type": "markdown",
   "metadata": {},
   "source": [
    "Вывод:  \n",
    "преобразованы категориальные переменные;  \n",
    "наименования столбцов скорректированы;  \n",
    "дубликаты отсутствуют;  \n",
    "обнаружены пропуски в столбце balance, общее кол-во пропусков - 3617,  \n",
    "из них 3117 у оставшихся клиентов, 500 у ушедших.  \n",
    "На данном этапе пропуски оставлю как есть, учитывая, что это NAN, который      \n",
    "принадлежит к типу float, поэтому с ним можно проводить математические операции.  \n",
    "Данные готовы к анализу.  "
   ]
  },
  {
   "cell_type": "markdown",
   "metadata": {},
   "source": [
    "## Исследовательский анализ данных:"
   ]
  },
  {
   "cell_type": "markdown",
   "metadata": {},
   "source": [
    "### Изучаем средние значения и стандартные отклонения"
   ]
  },
  {
   "cell_type": "code",
   "execution_count": 26,
   "metadata": {},
   "outputs": [
    {
     "data": {
      "text/html": [
       "<div>\n",
       "<style scoped>\n",
       "    .dataframe tbody tr th:only-of-type {\n",
       "        vertical-align: middle;\n",
       "    }\n",
       "\n",
       "    .dataframe tbody tr th {\n",
       "        vertical-align: top;\n",
       "    }\n",
       "\n",
       "    .dataframe thead th {\n",
       "        text-align: right;\n",
       "    }\n",
       "</style>\n",
       "<table border=\"1\" class=\"dataframe\">\n",
       "  <thead>\n",
       "    <tr style=\"text-align: right;\">\n",
       "      <th></th>\n",
       "      <th>user_id</th>\n",
       "      <th>score</th>\n",
       "      <th>age</th>\n",
       "      <th>objects</th>\n",
       "      <th>balance</th>\n",
       "      <th>products</th>\n",
       "      <th>credit_card</th>\n",
       "      <th>loyalty</th>\n",
       "      <th>estimated_salary</th>\n",
       "      <th>churn</th>\n",
       "      <th>city_ростов_великий</th>\n",
       "      <th>city_рыбинск</th>\n",
       "      <th>city_ярославль</th>\n",
       "      <th>gender_ж</th>\n",
       "      <th>gender_м</th>\n",
       "      <th>cluster_km</th>\n",
       "    </tr>\n",
       "  </thead>\n",
       "  <tbody>\n",
       "    <tr>\n",
       "      <td>count</td>\n",
       "      <td>1.000000e+04</td>\n",
       "      <td>10000.000000</td>\n",
       "      <td>10000.000000</td>\n",
       "      <td>10000.000000</td>\n",
       "      <td>10000.000000</td>\n",
       "      <td>10000.000000</td>\n",
       "      <td>10000.00000</td>\n",
       "      <td>10000.000000</td>\n",
       "      <td>10000.000000</td>\n",
       "      <td>10000.000000</td>\n",
       "      <td>10000.000000</td>\n",
       "      <td>10000.000000</td>\n",
       "      <td>10000.000000</td>\n",
       "      <td>10000.000000</td>\n",
       "      <td>10000.000000</td>\n",
       "      <td>10000.000000</td>\n",
       "    </tr>\n",
       "    <tr>\n",
       "      <td>mean</td>\n",
       "      <td>1.573368e+07</td>\n",
       "      <td>650.528800</td>\n",
       "      <td>38.921800</td>\n",
       "      <td>5.012800</td>\n",
       "      <td>76485.889288</td>\n",
       "      <td>1.530200</td>\n",
       "      <td>0.70550</td>\n",
       "      <td>0.515100</td>\n",
       "      <td>100090.239881</td>\n",
       "      <td>0.203700</td>\n",
       "      <td>0.250900</td>\n",
       "      <td>0.247700</td>\n",
       "      <td>0.501400</td>\n",
       "      <td>0.454300</td>\n",
       "      <td>0.545700</td>\n",
       "      <td>1.449000</td>\n",
       "    </tr>\n",
       "    <tr>\n",
       "      <td>std</td>\n",
       "      <td>7.193619e+04</td>\n",
       "      <td>96.653299</td>\n",
       "      <td>10.487806</td>\n",
       "      <td>2.892174</td>\n",
       "      <td>62397.405202</td>\n",
       "      <td>0.581654</td>\n",
       "      <td>0.45584</td>\n",
       "      <td>0.499797</td>\n",
       "      <td>57510.492818</td>\n",
       "      <td>0.402769</td>\n",
       "      <td>0.433553</td>\n",
       "      <td>0.431698</td>\n",
       "      <td>0.500023</td>\n",
       "      <td>0.497932</td>\n",
       "      <td>0.497932</td>\n",
       "      <td>1.096138</td>\n",
       "    </tr>\n",
       "    <tr>\n",
       "      <td>min</td>\n",
       "      <td>1.560844e+07</td>\n",
       "      <td>350.000000</td>\n",
       "      <td>18.000000</td>\n",
       "      <td>0.000000</td>\n",
       "      <td>0.000000</td>\n",
       "      <td>1.000000</td>\n",
       "      <td>0.00000</td>\n",
       "      <td>0.000000</td>\n",
       "      <td>11.580000</td>\n",
       "      <td>0.000000</td>\n",
       "      <td>0.000000</td>\n",
       "      <td>0.000000</td>\n",
       "      <td>0.000000</td>\n",
       "      <td>0.000000</td>\n",
       "      <td>0.000000</td>\n",
       "      <td>0.000000</td>\n",
       "    </tr>\n",
       "    <tr>\n",
       "      <td>25%</td>\n",
       "      <td>1.567126e+07</td>\n",
       "      <td>584.000000</td>\n",
       "      <td>32.000000</td>\n",
       "      <td>3.000000</td>\n",
       "      <td>0.000000</td>\n",
       "      <td>1.000000</td>\n",
       "      <td>0.00000</td>\n",
       "      <td>0.000000</td>\n",
       "      <td>51002.110000</td>\n",
       "      <td>0.000000</td>\n",
       "      <td>0.000000</td>\n",
       "      <td>0.000000</td>\n",
       "      <td>0.000000</td>\n",
       "      <td>0.000000</td>\n",
       "      <td>0.000000</td>\n",
       "      <td>0.000000</td>\n",
       "    </tr>\n",
       "    <tr>\n",
       "      <td>50%</td>\n",
       "      <td>1.573347e+07</td>\n",
       "      <td>652.000000</td>\n",
       "      <td>37.000000</td>\n",
       "      <td>5.000000</td>\n",
       "      <td>97198.540000</td>\n",
       "      <td>1.000000</td>\n",
       "      <td>1.00000</td>\n",
       "      <td>1.000000</td>\n",
       "      <td>100193.915000</td>\n",
       "      <td>0.000000</td>\n",
       "      <td>0.000000</td>\n",
       "      <td>0.000000</td>\n",
       "      <td>1.000000</td>\n",
       "      <td>0.000000</td>\n",
       "      <td>1.000000</td>\n",
       "      <td>1.000000</td>\n",
       "    </tr>\n",
       "    <tr>\n",
       "      <td>75%</td>\n",
       "      <td>1.579597e+07</td>\n",
       "      <td>718.000000</td>\n",
       "      <td>44.000000</td>\n",
       "      <td>7.000000</td>\n",
       "      <td>127644.240000</td>\n",
       "      <td>2.000000</td>\n",
       "      <td>1.00000</td>\n",
       "      <td>1.000000</td>\n",
       "      <td>149388.247500</td>\n",
       "      <td>0.000000</td>\n",
       "      <td>1.000000</td>\n",
       "      <td>0.000000</td>\n",
       "      <td>1.000000</td>\n",
       "      <td>1.000000</td>\n",
       "      <td>1.000000</td>\n",
       "      <td>2.000000</td>\n",
       "    </tr>\n",
       "    <tr>\n",
       "      <td>max</td>\n",
       "      <td>1.585843e+07</td>\n",
       "      <td>850.000000</td>\n",
       "      <td>92.000000</td>\n",
       "      <td>10.000000</td>\n",
       "      <td>250898.090000</td>\n",
       "      <td>4.000000</td>\n",
       "      <td>1.00000</td>\n",
       "      <td>1.000000</td>\n",
       "      <td>199992.480000</td>\n",
       "      <td>1.000000</td>\n",
       "      <td>1.000000</td>\n",
       "      <td>1.000000</td>\n",
       "      <td>1.000000</td>\n",
       "      <td>1.000000</td>\n",
       "      <td>1.000000</td>\n",
       "      <td>3.000000</td>\n",
       "    </tr>\n",
       "  </tbody>\n",
       "</table>\n",
       "</div>"
      ],
      "text/plain": [
       "            user_id         score           age       objects        balance  \\\n",
       "count  1.000000e+04  10000.000000  10000.000000  10000.000000   10000.000000   \n",
       "mean   1.573368e+07    650.528800     38.921800      5.012800   76485.889288   \n",
       "std    7.193619e+04     96.653299     10.487806      2.892174   62397.405202   \n",
       "min    1.560844e+07    350.000000     18.000000      0.000000       0.000000   \n",
       "25%    1.567126e+07    584.000000     32.000000      3.000000       0.000000   \n",
       "50%    1.573347e+07    652.000000     37.000000      5.000000   97198.540000   \n",
       "75%    1.579597e+07    718.000000     44.000000      7.000000  127644.240000   \n",
       "max    1.585843e+07    850.000000     92.000000     10.000000  250898.090000   \n",
       "\n",
       "           products  credit_card       loyalty  estimated_salary  \\\n",
       "count  10000.000000  10000.00000  10000.000000      10000.000000   \n",
       "mean       1.530200      0.70550      0.515100     100090.239881   \n",
       "std        0.581654      0.45584      0.499797      57510.492818   \n",
       "min        1.000000      0.00000      0.000000         11.580000   \n",
       "25%        1.000000      0.00000      0.000000      51002.110000   \n",
       "50%        1.000000      1.00000      1.000000     100193.915000   \n",
       "75%        2.000000      1.00000      1.000000     149388.247500   \n",
       "max        4.000000      1.00000      1.000000     199992.480000   \n",
       "\n",
       "              churn  city_ростов_великий  city_рыбинск  city_ярославль  \\\n",
       "count  10000.000000         10000.000000  10000.000000    10000.000000   \n",
       "mean       0.203700             0.250900      0.247700        0.501400   \n",
       "std        0.402769             0.433553      0.431698        0.500023   \n",
       "min        0.000000             0.000000      0.000000        0.000000   \n",
       "25%        0.000000             0.000000      0.000000        0.000000   \n",
       "50%        0.000000             0.000000      0.000000        1.000000   \n",
       "75%        0.000000             1.000000      0.000000        1.000000   \n",
       "max        1.000000             1.000000      1.000000        1.000000   \n",
       "\n",
       "           gender_ж      gender_м    cluster_km  \n",
       "count  10000.000000  10000.000000  10000.000000  \n",
       "mean       0.454300      0.545700      1.449000  \n",
       "std        0.497932      0.497932      1.096138  \n",
       "min        0.000000      0.000000      0.000000  \n",
       "25%        0.000000      0.000000      0.000000  \n",
       "50%        0.000000      1.000000      1.000000  \n",
       "75%        1.000000      1.000000      2.000000  \n",
       "max        1.000000      1.000000      3.000000  "
      ]
     },
     "metadata": {},
     "output_type": "display_data"
    }
   ],
   "source": [
    "display(df.describe())"
   ]
  },
  {
   "cell_type": "markdown",
   "metadata": {},
   "source": [
    "Вывод:  \n",
    "портрет среднестатистического клиента представляет собой примерно в равной степени по количеству мужчин и женщин (мужчин немного больше), средний возраст почти 39 лет, как правило имеет не меньше двух объектов недвижимости, использует один банковкий продукт, средняя оцененная зарплата около 100 тысяч, 50% клиентов проживают соответственно в Ярославле, остальные в равных долях в Ростов Великий и Рыбинске."
   ]
  },
  {
   "cell_type": "markdown",
   "metadata": {},
   "source": [
    "### Смотрим на средние значения признаков в двух группах — тех, кто ушел в отток и тех, кто остался"
   ]
  },
  {
   "cell_type": "code",
   "execution_count": 27,
   "metadata": {},
   "outputs": [
    {
     "data": {
      "text/html": [
       "<div>\n",
       "<style scoped>\n",
       "    .dataframe tbody tr th:only-of-type {\n",
       "        vertical-align: middle;\n",
       "    }\n",
       "\n",
       "    .dataframe tbody tr th {\n",
       "        vertical-align: top;\n",
       "    }\n",
       "\n",
       "    .dataframe thead th {\n",
       "        text-align: right;\n",
       "    }\n",
       "</style>\n",
       "<table border=\"1\" class=\"dataframe\">\n",
       "  <thead>\n",
       "    <tr style=\"text-align: right;\">\n",
       "      <th></th>\n",
       "      <th>user_id</th>\n",
       "      <th>score</th>\n",
       "      <th>age</th>\n",
       "      <th>objects</th>\n",
       "      <th>balance</th>\n",
       "      <th>products</th>\n",
       "      <th>credit_card</th>\n",
       "      <th>loyalty</th>\n",
       "      <th>estimated_salary</th>\n",
       "      <th>city_ростов_великий</th>\n",
       "      <th>city_рыбинск</th>\n",
       "      <th>city_ярославль</th>\n",
       "      <th>gender_ж</th>\n",
       "      <th>gender_м</th>\n",
       "      <th>cluster_km</th>\n",
       "    </tr>\n",
       "    <tr>\n",
       "      <th>churn</th>\n",
       "      <th></th>\n",
       "      <th></th>\n",
       "      <th></th>\n",
       "      <th></th>\n",
       "      <th></th>\n",
       "      <th></th>\n",
       "      <th></th>\n",
       "      <th></th>\n",
       "      <th></th>\n",
       "      <th></th>\n",
       "      <th></th>\n",
       "      <th></th>\n",
       "      <th></th>\n",
       "      <th></th>\n",
       "      <th></th>\n",
       "    </tr>\n",
       "  </thead>\n",
       "  <tbody>\n",
       "    <tr>\n",
       "      <td>0</td>\n",
       "      <td>1.573390e+07</td>\n",
       "      <td>651.853196</td>\n",
       "      <td>37.408389</td>\n",
       "      <td>5.033279</td>\n",
       "      <td>72745.296779</td>\n",
       "      <td>1.544267</td>\n",
       "      <td>0.707146</td>\n",
       "      <td>0.554565</td>\n",
       "      <td>99738.391772</td>\n",
       "      <td>0.212859</td>\n",
       "      <td>0.259199</td>\n",
       "      <td>0.527942</td>\n",
       "      <td>0.427477</td>\n",
       "      <td>0.572523</td>\n",
       "      <td>1.498681</td>\n",
       "    </tr>\n",
       "    <tr>\n",
       "      <td>1</td>\n",
       "      <td>1.573279e+07</td>\n",
       "      <td>645.351497</td>\n",
       "      <td>44.837997</td>\n",
       "      <td>4.932744</td>\n",
       "      <td>91108.539337</td>\n",
       "      <td>1.475209</td>\n",
       "      <td>0.699067</td>\n",
       "      <td>0.360825</td>\n",
       "      <td>101465.677531</td>\n",
       "      <td>0.399607</td>\n",
       "      <td>0.202749</td>\n",
       "      <td>0.397644</td>\n",
       "      <td>0.559156</td>\n",
       "      <td>0.440844</td>\n",
       "      <td>1.254786</td>\n",
       "    </tr>\n",
       "  </tbody>\n",
       "</table>\n",
       "</div>"
      ],
      "text/plain": [
       "            user_id       score        age   objects       balance  products  \\\n",
       "churn                                                                          \n",
       "0      1.573390e+07  651.853196  37.408389  5.033279  72745.296779  1.544267   \n",
       "1      1.573279e+07  645.351497  44.837997  4.932744  91108.539337  1.475209   \n",
       "\n",
       "       credit_card   loyalty  estimated_salary  city_ростов_великий  \\\n",
       "churn                                                                 \n",
       "0         0.707146  0.554565      99738.391772             0.212859   \n",
       "1         0.699067  0.360825     101465.677531             0.399607   \n",
       "\n",
       "       city_рыбинск  city_ярославль  gender_ж  gender_м  cluster_km  \n",
       "churn                                                                \n",
       "0          0.259199        0.527942  0.427477  0.572523    1.498681  \n",
       "1          0.202749        0.397644  0.559156  0.440844    1.254786  "
      ]
     },
     "metadata": {},
     "output_type": "display_data"
    }
   ],
   "source": [
    "display(df.groupby('churn').mean())"
   ]
  },
  {
   "cell_type": "markdown",
   "metadata": {},
   "source": [
    "Вывод:  \n",
    "баллы кредитного скоринга в двух группах почти одинаковы;   \n",
    "средний возраст различается: 37 лет у оставшегося клиента и 44 у ушедшего;  \n",
    "среднее количество по имеющимся объектам недвижимости почти одинаковое;  \n",
    "баланс на счетах был так же почти одинаков;  \n",
    "лояльность соответственно выше у оставшихся;  \n",
    "в Ростове Великом наблюдается отток, в Рыбинске отток незначительно меньше оставшихся,  \n",
    "в Ярославле отток меньше чем оставшиеся клиенты;  \n",
    "в группе оставшихся клиентов мужчин больше чем женщин,  \n",
    "в группе ушедших наоборот.  "
   ]
  },
  {
   "cell_type": "markdown",
   "metadata": {},
   "source": [
    "### Построим столбчатые гистограммы и распределения признаков для тех, кто ушёл (отток) и тех, кто остался (не попали в отток)"
   ]
  },
  {
   "cell_type": "code",
   "execution_count": 7,
   "metadata": {},
   "outputs": [
    {
     "data": {
      "text/html": [
       "<div>\n",
       "<style scoped>\n",
       "    .dataframe tbody tr th:only-of-type {\n",
       "        vertical-align: middle;\n",
       "    }\n",
       "\n",
       "    .dataframe tbody tr th {\n",
       "        vertical-align: top;\n",
       "    }\n",
       "\n",
       "    .dataframe thead th {\n",
       "        text-align: right;\n",
       "    }\n",
       "</style>\n",
       "<table border=\"1\" class=\"dataframe\">\n",
       "  <thead>\n",
       "    <tr style=\"text-align: right;\">\n",
       "      <th></th>\n",
       "      <th>loyalty</th>\n",
       "      <th>churn</th>\n",
       "      <th>size</th>\n",
       "    </tr>\n",
       "  </thead>\n",
       "  <tbody>\n",
       "    <tr>\n",
       "      <td>0</td>\n",
       "      <td>0</td>\n",
       "      <td>0</td>\n",
       "      <td>3547</td>\n",
       "    </tr>\n",
       "    <tr>\n",
       "      <td>1</td>\n",
       "      <td>0</td>\n",
       "      <td>1</td>\n",
       "      <td>1302</td>\n",
       "    </tr>\n",
       "    <tr>\n",
       "      <td>2</td>\n",
       "      <td>1</td>\n",
       "      <td>0</td>\n",
       "      <td>4416</td>\n",
       "    </tr>\n",
       "    <tr>\n",
       "      <td>3</td>\n",
       "      <td>1</td>\n",
       "      <td>1</td>\n",
       "      <td>735</td>\n",
       "    </tr>\n",
       "  </tbody>\n",
       "</table>\n",
       "</div>"
      ],
      "text/plain": [
       "   loyalty  churn  size\n",
       "0        0      0  3547\n",
       "1        0      1  1302\n",
       "2        1      0  4416\n",
       "3        1      1   735"
      ]
     },
     "execution_count": 7,
     "metadata": {},
     "output_type": "execute_result"
    }
   ],
   "source": [
    "tmp = df.groupby(['loyalty', 'churn']).size().to_frame().reset_index().rename(columns={0:'size'})\n",
    "tmp"
   ]
  },
  {
   "cell_type": "code",
   "execution_count": 8,
   "metadata": {},
   "outputs": [
    {
     "data": {
      "text/plain": [
       "<seaborn.axisgrid.FacetGrid at 0x7fb0a8c93350>"
      ]
     },
     "execution_count": 8,
     "metadata": {},
     "output_type": "execute_result"
    },
    {
     "data": {
      "image/png": "[encoded data removed]",
      "text/plain": [
       "<Figure size 402.375x360 with 1 Axes>"
      ]
     },
     "metadata": {
      "needs_background": "light"
     },
     "output_type": "display_data"
    }
   ],
   "source": [
    "sns.catplot(data=tmp, kind='bar', x='loyalty', y='size', hue='churn')\n",
    "# на всякий случай явно указать названия осей можно следующим образом:\\\n",
    "#plt.xl"
   ]
  },
  {
   "cell_type": "code",
   "execution_count": 9,
   "metadata": {},
   "outputs": [
    {
     "data": {
      "image/png": "[encoded data removed]",
      "text/plain": [
       "<Figure size 402.375x360 with 1 Axes>"
      ]
     },
     "metadata": {
      "needs_background": "light"
     },
     "output_type": "display_data"
    },
    {
     "data": {
      "image/png": "[encoded data removed]",
      "text/plain": [
       "<Figure size 402.375x360 with 1 Axes>"
      ]
     },
     "metadata": {
      "needs_background": "light"
     },
     "output_type": "display_data"
    },
    {
     "data": {
      "image/png": "[encoded data removed]",
      "text/plain": [
       "<Figure size 402.375x360 with 1 Axes>"
      ]
     },
     "metadata": {
      "needs_background": "light"
     },
     "output_type": "display_data"
    }
   ],
   "source": [
    "# создаем список необходимых признаков:\n",
    "discret = ['objects', 'products', 'credit_card']\n",
    "\n",
    "#в цикле рисуем графики:\n",
    "for i in discret:\n",
    "    g = df.groupby([i, 'churn']).size().to_frame().reset_index().rename(columns={0:'size'})\n",
    "    sns.catplot(data=g, kind='bar', x=i, y='size', hue='churn')"
   ]
  },
  {
   "cell_type": "markdown",
   "metadata": {},
   "source": [
    "Вывод:  \n",
    "\n",
    "по признаку Loyalty — активный клиент может сказать следующее:  \n",
    "из неактивных клиентов больше всего оставшихся, около 3500 клиентов, ушедших неактивных клиентов примерно 1200;  \n",
    "у активных клиентов тенденция сохраняется, около 4500 клиентов оставшихся и около 700 ушедших.  \n",
    "\n",
    "по Objects —  количеству объектов в собственности:  \n",
    "почти вне зависимости от кол-ва объектов в собственности, в каждой группе (по количеству объектов) наблюдается около 800  \n",
    "оставшихся киентов;  \n",
    "у ушедших такая же тенденция сохраняется, но количество ушедших составляет в среднем около 200 человек.  \n",
    "\n",
    "по Products — количество продуктов, которыми пользуется клиент:  \n",
    "у оставшихся клиентов на первом месте банковский продукт № 2, на втором №1, на третьем № 3. Банковский  \n",
    "продукт под № 4 никто из оставшихся клиентов не использует;\n",
    "у ушедших клиентов самый популярный продукт был под № 1, на втором месте под №2, на третьем № 3 и даже использовали продукт № 4. \n",
    "\n",
    "по CreditCard — есть ли кредитная карта:  \n",
    "оставшиеся более 5000 клиентов используют кредитную карту, из ушедших кредитной картой пользовались около 1200 человек;  \n",
    "Кредитной картой не пользуются оставшиеся клиенты порядка 2200 человек, а из ушедших кредиткой не пользовались около 600 человек."
   ]
  },
  {
   "cell_type": "code",
   "execution_count": 10,
   "metadata": {},
   "outputs": [
    {
     "name": "stderr",
     "output_type": "stream",
     "text": [
      "/opt/conda/lib/python3.7/site-packages/numpy/core/_asarray.py:83: VisibleDeprecationWarning:\n",
      "\n",
      "Creating an ndarray from ragged nested sequences (which is a list-or-tuple of lists-or-tuples-or ndarrays with different lengths or shapes) is deprecated. If you meant to do this, you must specify 'dtype=object' when creating the ndarray\n",
      "\n"
     ]
    },
    {
     "data": {
      "image/png": "[encoded data removed]",
      "text/plain": [
       "<Figure size 432x288 with 1 Axes>"
      ]
     },
     "metadata": {
      "needs_background": "light"
     },
     "output_type": "display_data"
    },
    {
     "name": "stderr",
     "output_type": "stream",
     "text": [
      "/opt/conda/lib/python3.7/site-packages/numpy/core/_asarray.py:83: VisibleDeprecationWarning:\n",
      "\n",
      "Creating an ndarray from ragged nested sequences (which is a list-or-tuple of lists-or-tuples-or ndarrays with different lengths or shapes) is deprecated. If you meant to do this, you must specify 'dtype=object' when creating the ndarray\n",
      "\n"
     ]
    },
    {
     "data": {
      "image/png": "[encoded data removed]",
      "text/plain": [
       "<Figure size 432x288 with 1 Axes>"
      ]
     },
     "metadata": {
      "needs_background": "light"
     },
     "output_type": "display_data"
    }
   ],
   "source": [
    "#строим распределения:\n",
    "tmp_score = []\n",
    "for tmp in df.groupby('products'):\n",
    "    tmp_score.append(np.asarray([tmp[0], tmp[1]['score'].values]))\n",
    "tmp_score = np.asarray(tmp_score)\n",
    "plt.boxplot(tmp_score[:, 1])\n",
    "plt.xlabel('Количество продуктов')\n",
    "plt.ylabel('баллы кредитного скоринга')\n",
    "plt.show()\n",
    "\n",
    "tmp_age = []\n",
    "for tmp in df.groupby('products'):\n",
    "    tmp_age.append(np.asarray([tmp[0], tmp[1]['age'].values]))\n",
    "tmp_age = np.asarray(tmp_age)\n",
    "plt.boxplot(tmp_age[:, 1])\n",
    "plt.xlabel('Количество продуктов')\n",
    "plt.ylabel('возраст')\n",
    "plt.show()"
   ]
  },
  {
   "cell_type": "code",
   "execution_count": 11,
   "metadata": {},
   "outputs": [
    {
     "name": "stderr",
     "output_type": "stream",
     "text": [
      "/opt/conda/lib/python3.7/site-packages/numpy/core/_asarray.py:83: VisibleDeprecationWarning:\n",
      "\n",
      "Creating an ndarray from ragged nested sequences (which is a list-or-tuple of lists-or-tuples-or ndarrays with different lengths or shapes) is deprecated. If you meant to do this, you must specify 'dtype=object' when creating the ndarray\n",
      "\n"
     ]
    }
   ],
   "source": [
    "tmp_data = []\n",
    "for tmp in df.groupby('products'):\n",
    "    tmp_data.append(np.asarray([tmp[0], tmp[1]['estimated_salary'].values]))\n",
    "# на выходе получили список срезов данных по количеству продуктов.\n",
    "# Каждый элемент списка содержит [количество продуктов, срез зарплаты]\n",
    "tmp_data = np.asarray(tmp_data)"
   ]
  },
  {
   "cell_type": "code",
   "execution_count": 12,
   "metadata": {},
   "outputs": [
    {
     "data": {
      "text/plain": [
       "array([1, 2, 3, 4], dtype=object)"
      ]
     },
     "execution_count": 12,
     "metadata": {},
     "output_type": "execute_result"
    }
   ],
   "source": [
    "# Список количества продуктов\n",
    "tmp_data[:, 0]"
   ]
  },
  {
   "cell_type": "code",
   "execution_count": 13,
   "metadata": {},
   "outputs": [
    {
     "data": {
      "text/plain": [
       "array([array([101348.88, 112542.58,  79084.1 , ..., 101699.77,  42085.58,\n",
       "        38190.78]),\n",
       "       array([ 93826.63, 149756.71,  10062.8 , ..., 167773.55,  96270.64,\n",
       "        92888.52]),\n",
       "       array([113931.57, 140469.38,  93251.42, 174205.22,  85746.52,  55803.96,\n",
       "        89048.46,  48559.19, 155853.52, 122381.02, 188150.6 , 187929.43,\n",
       "        71905.77, 110783.28,  62256.87,  18260.98,  87822.14,  47911.03,\n",
       "       191932.27, 166698.18, 110916.15,  20451.99,  16649.31,   9679.28,\n",
       "       161435.02, 157908.19,  89017.38,   9217.55, 115136.51,  77294.56,\n",
       "       189122.89,  10656.89, 108732.96,  83912.24,  53793.1 ,  70758.37,\n",
       "        73406.04, 191734.67, 134594.99, 100615.14,  38409.79, 122066.5 ,\n",
       "       100722.72, 166526.26, 185750.02,   3440.47, 125154.57,  55558.51,\n",
       "        81514.06, 145071.33,  66926.83,   5862.53, 133807.77, 135875.51,\n",
       "       141959.11, 174770.14, 153046.16, 178106.34,  81054.  ,  60686.4 ,\n",
       "         7861.68,  76703.1 , 142342.55, 107890.69, 149097.38, 129451.29,\n",
       "       199357.24, 186233.26, 197634.11,  67944.09, 131710.59, 191849.15,\n",
       "       154971.63, 177028.  ,  36051.46, 170487.4 , 130113.78, 104722.47,\n",
       "       113677.53, 169719.35, 162643.15,  78707.97, 104502.02, 127443.82,\n",
       "       171457.06,   5831.  , 195395.33, 156878.42, 135169.76,  60954.45,\n",
       "       107815.31,  94248.16, 119814.25, 177747.03, 184044.8 ,  83008.49,\n",
       "       166305.16, 178587.36,  60036.99, 102975.72, 132649.85, 187689.91,\n",
       "        80178.54, 118959.64,  84358.71,  77142.42,   4176.17,  51467.92,\n",
       "       102530.35,  66586.56,   9308.1 ,  81602.02,  98897.32,  90747.94,\n",
       "       129130.09, 112520.07,  64907.48,  62282.99, 151481.86, 146573.66,\n",
       "       104035.41, 144000.59, 158248.71,  65039.9 , 107961.11,  97629.31,\n",
       "       124872.42, 148848.76, 172490.78, 173586.63,  96929.24,   4733.94,\n",
       "       159576.75, 185541.2 ,  85983.54, 179834.45,  69409.37, 101371.05,\n",
       "       104152.65,   9149.96, 194257.11,   5459.07, 193014.26,  22512.44,\n",
       "        38941.44, 152479.64, 100324.01,  92220.12, 189159.97, 190994.48,\n",
       "       109393.19,   3966.5 ,  73181.39,  17384.21,  31669.18,  85470.45,\n",
       "       182436.81,  74048.1 ,  71738.56, 148623.43, 163113.41,  60533.96,\n",
       "       140225.14,  25136.95,  75246.21,  79866.73, 151256.22,  49915.52,\n",
       "        57014.17,  16922.28,  69531.22, 189016.24, 150835.21,  94148.3 ,\n",
       "         7953.62,  60021.34,  10674.62,  29583.48,  93081.87,   6554.97,\n",
       "       131553.82,  60810.64,  82782.08, 122960.98, 150093.32,   7312.25,\n",
       "       172576.43, 171060.01,  96013.5 , 103713.93,  67539.85,  75084.96,\n",
       "        16929.41,  73679.59,  36292.94,  39288.11,  41921.06, 137519.92,\n",
       "       172749.4 ,  57338.56,  66652.75, 138700.75, 132741.13,  88658.73,\n",
       "       184758.17, 131238.37,  56118.81,  88372.69,  65066.48, 116442.42,\n",
       "        32421.32, 191821.35, 176433.6 ,  88479.02, 187756.24,  63795.62,\n",
       "       187734.49, 170138.68, 104889.2 , 155221.05, 184524.65, 141035.65,\n",
       "        86128.21,  54474.48,  45482.04, 163170.32,  26500.29,  85901.09,\n",
       "        64157.24,  80344.96,  25333.03,  38533.79, 156122.13,  57904.22,\n",
       "       168412.07,  85890.75, 173568.3 , 177431.59, 146663.43, 171045.35,\n",
       "        92320.37, 164647.72,  67029.82,  10137.34,  16392.72,  72318.77,\n",
       "        70221.13,  28806.32, 119110.03,  15039.41,  89729.3 ,  61446.92,\n",
       "       120321.09,  75609.84, 144727.45,  94620.  , 127939.26, 106939.34,\n",
       "       129975.34, 178067.33, 185599.34, 107292.91, 192743.06,  47114.18,\n",
       "        45445.78,  80593.49]),\n",
       "       array([119346.88,  28373.86,  31272.14, 166164.3 ,  41921.75, 194700.81,\n",
       "         6981.43, 184464.7 , 143007.49,  47775.34, 147311.47, 131766.67,\n",
       "       179267.94,  66238.23, 128881.87, 108040.86, 198874.52,  77063.63,\n",
       "        28238.25, 138160.11,  27145.73,  26912.72,   5669.31, 106174.7 ,\n",
       "       115116.35, 101039.53,   9497.99,  49418.87, 187866.21, 117690.58,\n",
       "       179705.13, 168080.53, 157143.61, 176353.87,  78702.98, 197490.39,\n",
       "       188305.85,  93874.87, 107155.4 ,  94187.47, 111097.39, 113228.82,\n",
       "       129964.56,  35640.12, 117572.59,  13614.01, 128521.16,  75478.95,\n",
       "        88566.9 , 137510.41, 131083.56,  83866.35, 135853.62,  70927.11,\n",
       "        16025.17, 196371.13,  18522.91, 119259.34, 130752.01,  76582.95])],\n",
       "      dtype=object)"
      ]
     },
     "execution_count": 13,
     "metadata": {},
     "output_type": "execute_result"
    }
   ],
   "source": [
    "# Список срезов с зарплатами\n",
    "tmp_data[:, 1]"
   ]
  },
  {
   "cell_type": "code",
   "execution_count": 14,
   "metadata": {},
   "outputs": [
    {
     "data": {
      "text/plain": [
       "Text(0, 0.5, 'Разброс зарплаты')"
      ]
     },
     "execution_count": 14,
     "metadata": {},
     "output_type": "execute_result"
    },
    {
     "data": {
      "image/png": "[encoded data removed]",
      "text/plain": [
       "<Figure size 432x288 with 1 Axes>"
      ]
     },
     "metadata": {
      "needs_background": "light"
     },
     "output_type": "display_data"
    }
   ],
   "source": [
    "plt.boxplot(tmp_data[:, 1])\n",
    "plt.xlabel('Количество продуктов')\n",
    "plt.ylabel('Разброс зарплаты')"
   ]
  },
  {
   "cell_type": "markdown",
   "metadata": {},
   "source": [
    "Вывод:  \n",
    "\n",
    "баллы кредитного скоринга в разрезе банковских продуктов:  \n",
    "средний бал по всем продуктам практически одинаковый, наблюдаются выбросы по всем продуктам ниже 400 баллов.  \n",
    "\n",
    "возраст в разрезе банковских продуктов:  \n",
    "по первому и второму банковскому продукту наблюдаются большие выбросы в возрасте начиная с 58 лет.  \n",
    "возможно эти два продукта связаны с пенсионными вкладами/отчислениями? И ими так же успешно пользуются пенсионеры.  \n",
    "по третьему и четвертому банковскому продукту выбросы единичны.  \n",
    "\n",
    "разброс зарплаты в разрезе банковских продуктов:\n",
    "выбросов не наблюдается."
   ]
  },
  {
   "cell_type": "markdown",
   "metadata": {},
   "source": [
    "### Построим матрицу корреляций и отобразим её"
   ]
  },
  {
   "cell_type": "code",
   "execution_count": 15,
   "metadata": {},
   "outputs": [],
   "source": [
    "df_cor = pd.read_csv('/datasets/bank_dataset.csv')"
   ]
  },
  {
   "cell_type": "code",
   "execution_count": 16,
   "metadata": {},
   "outputs": [
    {
     "data": {
      "text/plain": [
       "Text(0.5, 1, 'Тепловая карта матрицы корреляций')"
      ]
     },
     "execution_count": 16,
     "metadata": {},
     "output_type": "execute_result"
    },
    {
     "data": {
      "image/png": "[encoded data removed]",
      "text/plain": [
       "<Figure size 864x864 with 2 Axes>"
      ]
     },
     "metadata": {
      "needs_background": "light"
     },
     "output_type": "display_data"
    }
   ],
   "source": [
    "cm = df_cor.corr()\n",
    "plt.figure(figsize=(12, 12))\n",
    "sns.heatmap(cm, annot = True, square=True)\n",
    "plt.title('Тепловая карта матрицы корреляций')"
   ]
  },
  {
   "cell_type": "markdown",
   "metadata": {},
   "source": [
    "Вывод:   \n",
    "все признаки незначительно коррелируют с целевой переменной - это хорошо.  \n",
    "В основном, признаки между собой так же мало коррелируют. "
   ]
  },
  {
   "cell_type": "markdown",
   "metadata": {},
   "source": [
    "## Выделим портреты клиентов, которые склонны уходить из банка (сделаем кластеризацию клиентов)"
   ]
  },
  {
   "cell_type": "markdown",
   "metadata": {},
   "source": [
    "### Стандартизируем данные и нарисуем дендрограмму"
   ]
  },
  {
   "cell_type": "code",
   "execution_count": 17,
   "metadata": {},
   "outputs": [
    {
     "data": {
      "image/png": "[encoded data removed]",
      "text/plain": [
       "<Figure size 1080x720 with 1 Axes>"
      ]
     },
     "metadata": {
      "needs_background": "light"
     },
     "output_type": "display_data"
    }
   ],
   "source": [
    "#предварительно заменю пропуски на нули\n",
    "df['balance'] = df['balance'].fillna(0)\n",
    "#display(df.head())\n",
    "#display(df.info())\n",
    "\n",
    "df_k = df.drop('churn', axis = 1) #откладываем в сторону столбец с оттоком\n",
    "\n",
    "# стандартизируем данные\n",
    "sc = StandardScaler()\n",
    "# обучаем нормализатор и преобразуем набор данных\n",
    "X_sc = sc.fit_transform(df_k) \n",
    "#строим матрицу расстояний функцией linkage() на стандартизованной матрице признаков и рисуем дендрограмму\n",
    "linked = linkage(X_sc, method = 'ward')\n",
    "plt.figure(figsize=(15, 10))  \n",
    "dendrogram(linked, orientation='top')\n",
    "plt.title(\"Иерархическая кластеризация\")\n",
    "plt.xlabel(\"признаки\")\n",
    "plt.show()"
   ]
  },
  {
   "cell_type": "markdown",
   "metadata": {},
   "source": [
    "Вывод:  \n",
    "предполагаю, что оптимальное число кластеров 4 — четыре разных цвета на графике."
   ]
  },
  {
   "cell_type": "markdown",
   "metadata": {},
   "source": [
    "### Обучим модель кластеризации на основании алгоритма K-Means и спрогнозируем кластеры клиентов"
   ]
  },
  {
   "cell_type": "code",
   "execution_count": 28,
   "metadata": {},
   "outputs": [
    {
     "data": {
      "text/html": [
       "<div>\n",
       "<style scoped>\n",
       "    .dataframe tbody tr th:only-of-type {\n",
       "        vertical-align: middle;\n",
       "    }\n",
       "\n",
       "    .dataframe tbody tr th {\n",
       "        vertical-align: top;\n",
       "    }\n",
       "\n",
       "    .dataframe thead th {\n",
       "        text-align: right;\n",
       "    }\n",
       "</style>\n",
       "<table border=\"1\" class=\"dataframe\">\n",
       "  <thead>\n",
       "    <tr style=\"text-align: right;\">\n",
       "      <th></th>\n",
       "      <th>user_id</th>\n",
       "      <th>score</th>\n",
       "      <th>age</th>\n",
       "      <th>objects</th>\n",
       "      <th>balance</th>\n",
       "      <th>products</th>\n",
       "      <th>credit_card</th>\n",
       "      <th>loyalty</th>\n",
       "      <th>estimated_salary</th>\n",
       "      <th>city_Ростов Великий</th>\n",
       "      <th>city_Рыбинск</th>\n",
       "      <th>city_Ярославль</th>\n",
       "      <th>gender_Ж</th>\n",
       "      <th>gender_М</th>\n",
       "    </tr>\n",
       "    <tr>\n",
       "      <th>cluster_km</th>\n",
       "      <th></th>\n",
       "      <th></th>\n",
       "      <th></th>\n",
       "      <th></th>\n",
       "      <th></th>\n",
       "      <th></th>\n",
       "      <th></th>\n",
       "      <th></th>\n",
       "      <th></th>\n",
       "      <th></th>\n",
       "      <th></th>\n",
       "      <th></th>\n",
       "      <th></th>\n",
       "      <th></th>\n",
       "    </tr>\n",
       "  </thead>\n",
       "  <tbody>\n",
       "    <tr>\n",
       "      <td>0</td>\n",
       "      <td>1.573329e+07</td>\n",
       "      <td>651.453567</td>\n",
       "      <td>39.771622</td>\n",
       "      <td>5.009964</td>\n",
       "      <td>119730.116134</td>\n",
       "      <td>1.519729</td>\n",
       "      <td>0.713830</td>\n",
       "      <td>0.497409</td>\n",
       "      <td>101113.435102</td>\n",
       "      <td>1.0</td>\n",
       "      <td>0.0</td>\n",
       "      <td>0.0</td>\n",
       "      <td>0.475488</td>\n",
       "      <td>0.524512</td>\n",
       "    </tr>\n",
       "    <tr>\n",
       "      <td>1</td>\n",
       "      <td>1.573203e+07</td>\n",
       "      <td>650.064657</td>\n",
       "      <td>38.296404</td>\n",
       "      <td>5.049401</td>\n",
       "      <td>63546.284875</td>\n",
       "      <td>1.517254</td>\n",
       "      <td>0.713767</td>\n",
       "      <td>0.519070</td>\n",
       "      <td>100174.252495</td>\n",
       "      <td>0.0</td>\n",
       "      <td>0.0</td>\n",
       "      <td>1.0</td>\n",
       "      <td>0.000000</td>\n",
       "      <td>1.000000</td>\n",
       "    </tr>\n",
       "    <tr>\n",
       "      <td>2</td>\n",
       "      <td>1.573465e+07</td>\n",
       "      <td>651.333872</td>\n",
       "      <td>38.890997</td>\n",
       "      <td>5.032297</td>\n",
       "      <td>61818.147763</td>\n",
       "      <td>1.539362</td>\n",
       "      <td>0.694792</td>\n",
       "      <td>0.529673</td>\n",
       "      <td>99440.572281</td>\n",
       "      <td>0.0</td>\n",
       "      <td>1.0</td>\n",
       "      <td>0.0</td>\n",
       "      <td>0.439645</td>\n",
       "      <td>0.560355</td>\n",
       "    </tr>\n",
       "    <tr>\n",
       "      <td>3</td>\n",
       "      <td>1.573504e+07</td>\n",
       "      <td>649.185759</td>\n",
       "      <td>38.773994</td>\n",
       "      <td>4.950022</td>\n",
       "      <td>60322.670159</td>\n",
       "      <td>1.547545</td>\n",
       "      <td>0.697921</td>\n",
       "      <td>0.513932</td>\n",
       "      <td>99564.252755</td>\n",
       "      <td>0.0</td>\n",
       "      <td>0.0</td>\n",
       "      <td>1.0</td>\n",
       "      <td>1.000000</td>\n",
       "      <td>0.000000</td>\n",
       "    </tr>\n",
       "  </tbody>\n",
       "</table>\n",
       "</div>"
      ],
      "text/plain": [
       "                 user_id       score        age   objects        balance  \\\n",
       "cluster_km                                                                 \n",
       "0           1.573329e+07  651.453567  39.771622  5.009964  119730.116134   \n",
       "1           1.573203e+07  650.064657  38.296404  5.049401   63546.284875   \n",
       "2           1.573465e+07  651.333872  38.890997  5.032297   61818.147763   \n",
       "3           1.573504e+07  649.185759  38.773994  4.950022   60322.670159   \n",
       "\n",
       "            products  credit_card   loyalty  estimated_salary  \\\n",
       "cluster_km                                                      \n",
       "0           1.519729     0.713830  0.497409     101113.435102   \n",
       "1           1.517254     0.713767  0.519070     100174.252495   \n",
       "2           1.539362     0.694792  0.529673      99440.572281   \n",
       "3           1.547545     0.697921  0.513932      99564.252755   \n",
       "\n",
       "            city_Ростов Великий  city_Рыбинск  city_Ярославль  gender_Ж  \\\n",
       "cluster_km                                                                \n",
       "0                           1.0           0.0             0.0  0.475488   \n",
       "1                           0.0           0.0             1.0  0.000000   \n",
       "2                           0.0           1.0             0.0  0.439645   \n",
       "3                           0.0           0.0             1.0  1.000000   \n",
       "\n",
       "            gender_М  \n",
       "cluster_km            \n",
       "0           0.524512  \n",
       "1           1.000000  \n",
       "2           0.560355  \n",
       "3           0.000000  "
      ]
     },
     "metadata": {},
     "output_type": "display_data"
    }
   ],
   "source": [
    "km = KMeans(random_state=0, n_clusters = 4) # задаём число кластеров, равное 4\n",
    "labels = km.fit_predict(X_sc) # применяем алгоритм к данным и формируем вектор кластеров\n",
    "\n",
    "# сохраняем метки кластера в поле нашего датасета\n",
    "df_k['cluster_km'] = labels\n",
    "\n",
    "# выводим статистику по средним значениям наших признаков по кластеру\n",
    "display(df_k.groupby(['cluster_km']).mean())"
   ]
  },
  {
   "cell_type": "markdown",
   "metadata": {},
   "source": [
    "Вывод:  \n",
    "  \n",
    "Профиль клиента 0:\n",
    "средний возраст чуть больше 39, в среднем 5 объектов недвижимости в собственности, баланс на счету около 120 000,  \n",
    "использует не меньше одного банковского продукта, не все используют кредитку, средней степени лояльности,  \n",
    "оцененная зарплата около 101 000, проживает в Ростове Великом, почти равные доли между мужчинами и женщинами.  \n",
    "    \n",
    "Профиль клиента 1:\n",
    "средний возраст около 38, в среднем 5 объектов недвижимости в собственности, баланс на счету около 63 000,  \n",
    "использует не меньше одного банковского продукта, не все используют кредитку, чуть выше средней степени лояльности,  \n",
    "оцененная зарплата около 100 000, проживает в Ярославле, только мужчины.    \n",
    "  \n",
    "Профиль клиента 2:\n",
    "средний возраст около 39, в среднем 5 объектов недвижимости в собственности, баланс на счету около 61 000,  \n",
    "использует не меньше одного банковского продукта, не все используют кредитку, чуть выше средней степени лояльности,  \n",
    "оцененная зарплата около 99 000, проживает в Рыбинске, почти равные доли между мужчинами и женщинами.   \n",
    "  \n",
    "Профиль клиента 3:\n",
    "средний возраст около 38, в среднем 5 объектов недвижимости в собственности, баланс на счету около 60 000,  \n",
    "использует не меньше одного банковского продукта, не все используют кредитку, чуть выше средней степени лояльности,  \n",
    "оцененная зарплата около 100 000, проживает в Ярославле, только женщины."
   ]
  },
  {
   "cell_type": "markdown",
   "metadata": {},
   "source": [
    "### Построим распределения признаков для кластеров"
   ]
  },
  {
   "cell_type": "code",
   "execution_count": 19,
   "metadata": {},
   "outputs": [
    {
     "name": "stderr",
     "output_type": "stream",
     "text": [
      "/opt/conda/lib/python3.7/site-packages/numpy/core/_asarray.py:83: VisibleDeprecationWarning:\n",
      "\n",
      "Creating an ndarray from ragged nested sequences (which is a list-or-tuple of lists-or-tuples-or ndarrays with different lengths or shapes) is deprecated. If you meant to do this, you must specify 'dtype=object' when creating the ndarray\n",
      "\n"
     ]
    },
    {
     "data": {
      "image/png": "[encoded data removed]",
      "text/plain": [
       "<Figure size 432x288 with 1 Axes>"
      ]
     },
     "metadata": {
      "needs_background": "light"
     },
     "output_type": "display_data"
    },
    {
     "name": "stderr",
     "output_type": "stream",
     "text": [
      "/opt/conda/lib/python3.7/site-packages/numpy/core/_asarray.py:83: VisibleDeprecationWarning:\n",
      "\n",
      "Creating an ndarray from ragged nested sequences (which is a list-or-tuple of lists-or-tuples-or ndarrays with different lengths or shapes) is deprecated. If you meant to do this, you must specify 'dtype=object' when creating the ndarray\n",
      "\n"
     ]
    },
    {
     "data": {
      "image/png": "[encoded data removed]",
      "text/plain": [
       "<Figure size 432x288 with 1 Axes>"
      ]
     },
     "metadata": {
      "needs_background": "light"
     },
     "output_type": "display_data"
    },
    {
     "name": "stderr",
     "output_type": "stream",
     "text": [
      "/opt/conda/lib/python3.7/site-packages/numpy/core/_asarray.py:83: VisibleDeprecationWarning:\n",
      "\n",
      "Creating an ndarray from ragged nested sequences (which is a list-or-tuple of lists-or-tuples-or ndarrays with different lengths or shapes) is deprecated. If you meant to do this, you must specify 'dtype=object' when creating the ndarray\n",
      "\n"
     ]
    },
    {
     "data": {
      "image/png": "[encoded data removed]",
      "text/plain": [
       "<Figure size 432x288 with 1 Axes>"
      ]
     },
     "metadata": {
      "needs_background": "light"
     },
     "output_type": "display_data"
    }
   ],
   "source": [
    "tmp_kl_age = []\n",
    "for tmp in df_k.groupby('cluster_km'):\n",
    "    tmp_kl_age.append(np.asarray([tmp[0], tmp[1]['age'].values]))\n",
    "tmp_kl_age = np.asarray(tmp_kl_age)\n",
    "plt.boxplot(tmp_kl_age[:, 1])\n",
    "plt.xlabel('номер кластера')\n",
    "plt.ylabel('возраст')\n",
    "plt.show()\n",
    "\n",
    "tmp_kl_score = []\n",
    "for tmp in df_k.groupby('cluster_km'):\n",
    "    tmp_kl_score.append(np.asarray([tmp[0], tmp[1]['score'].values]))\n",
    "tmp_kl_score = np.asarray(tmp_kl_score)\n",
    "plt.boxplot(tmp_kl_score[:, 1])\n",
    "plt.xlabel('номер кластера')\n",
    "plt.ylabel('баллы кредитного скоринга')\n",
    "plt.show()\n",
    "\n",
    "tmp_kl_salary = []\n",
    "for tmp in df_k.groupby('cluster_km'):\n",
    "    tmp_kl_salary.append(np.asarray([tmp[0], tmp[1]['estimated_salary'].values]))\n",
    "tmp_kl_salary = np.asarray(tmp_kl_salary)\n",
    "plt.boxplot(tmp_kl_salary[:, 1])\n",
    "plt.xlabel('номер кластера')\n",
    "plt.ylabel('заработная плата клиента')\n",
    "plt.show()"
   ]
  },
  {
   "cell_type": "markdown",
   "metadata": {},
   "source": [
    "Вывод:  \n",
    "  \n",
    "кластер 1 (нулевой профиль):    \n",
    "средний возраст 38 лет, максимальный около 64, средний балл кредитного скоринга около 650, средняя зарплата в районе 100000;  \n",
    "  \n",
    "кластер 2 (первый профиль):    \n",
    "средний возраст 36 лет, максимальный около 62, средний балл кредитного скоринга около 650, средняя зарплата немного ниже 100000;    \n",
    "  \n",
    "кластер 3 (второй профиль):    \n",
    "средний возраст 36 лет, максимальный около 63, средний балл кредитного скоринга около 650, средняя зарплата в районе 100000;    \n",
    "    \n",
    "кластер 4 (третий профиль):    \n",
    "средний возраст 36 лет, максимальный около 61, средний балл кредитного скоринга около 650, средняя зарплата в районе 100000."
   ]
  },
  {
   "cell_type": "markdown",
   "metadata": {},
   "source": [
    "### Считаем долю оттока"
   ]
  },
  {
   "cell_type": "code",
   "execution_count": 20,
   "metadata": {},
   "outputs": [
    {
     "data": {
      "text/html": [
       "<div>\n",
       "<style scoped>\n",
       "    .dataframe tbody tr th:only-of-type {\n",
       "        vertical-align: middle;\n",
       "    }\n",
       "\n",
       "    .dataframe tbody tr th {\n",
       "        vertical-align: top;\n",
       "    }\n",
       "\n",
       "    .dataframe thead th {\n",
       "        text-align: right;\n",
       "    }\n",
       "</style>\n",
       "<table border=\"1\" class=\"dataframe\">\n",
       "  <thead>\n",
       "    <tr style=\"text-align: right;\">\n",
       "      <th></th>\n",
       "      <th>cluster_km</th>\n",
       "      <th>churn</th>\n",
       "      <th>ratio</th>\n",
       "    </tr>\n",
       "  </thead>\n",
       "  <tbody>\n",
       "    <tr>\n",
       "      <td>0</td>\n",
       "      <td>0</td>\n",
       "      <td>814</td>\n",
       "      <td>39.96</td>\n",
       "    </tr>\n",
       "    <tr>\n",
       "      <td>1</td>\n",
       "      <td>1</td>\n",
       "      <td>350</td>\n",
       "      <td>17.18</td>\n",
       "    </tr>\n",
       "    <tr>\n",
       "      <td>2</td>\n",
       "      <td>2</td>\n",
       "      <td>413</td>\n",
       "      <td>20.27</td>\n",
       "    </tr>\n",
       "    <tr>\n",
       "      <td>3</td>\n",
       "      <td>3</td>\n",
       "      <td>460</td>\n",
       "      <td>22.58</td>\n",
       "    </tr>\n",
       "  </tbody>\n",
       "</table>\n",
       "</div>"
      ],
      "text/plain": [
       "   cluster_km  churn  ratio\n",
       "0           0    814  39.96\n",
       "1           1    350  17.18\n",
       "2           2    413  20.27\n",
       "3           3    460  22.58"
      ]
     },
     "metadata": {},
     "output_type": "display_data"
    }
   ],
   "source": [
    "# сохраняем метки кластера в поле исходного датасета\n",
    "df['cluster_km'] = labels\n",
    "#display(df.info())\n",
    "# выводим статистику по средним значениям наших признаков по кластеру\n",
    "df_churn = df.groupby('cluster_km')['churn'].sum().reset_index()\n",
    "#расчитываем долю\n",
    "total = df_churn['churn'].sum()\n",
    "df_churn['ratio'] = (df_churn['churn'] / total * 100).round(2)\n",
    "display(df_churn)"
   ]
  },
  {
   "cell_type": "markdown",
   "metadata": {},
   "source": [
    "Вывод:  \n",
    "кластеры отличаются по доле оттока.  \n",
    "Максимальная доля оттока у нулевого кластера, на следующем месте у 3-го, минимальная доля у первого:  \n",
    "  \n",
    "Профиль клиента 0:\n",
    "средний возраст чуть больше 39, в среднем 5 объектов недвижимости в собственности, баланс на счету около 120 000,  \n",
    "использует не меньше одного банковского продукта, не все используют кредитку, средней степени лояльности,  \n",
    "оцененная зарплата около 101 000, проживает в Ростове Великом, почти равные доли между мужчинами и женщинами.\n",
    "\n",
    "Профиль клиента 3:\n",
    "средний возраст около 38, в среднем 5 объектов недвижимости в собственности, баланс на счету около 60 000,  \n",
    "использует не меньше одного банковского продукта, не все используют кредитку, чуть выше средней степени лояльности,  \n",
    "оцененная зарплата около 100 000, проживает в Ярославле, только женщины."
   ]
  },
  {
   "cell_type": "markdown",
   "metadata": {},
   "source": [
    "Попробую сравнить \"портрет\" полученный в результате кластеризации с данными по срезу \"ушедшие\" применив к срезу метод describe: "
   ]
  },
  {
   "cell_type": "code",
   "execution_count": 21,
   "metadata": {},
   "outputs": [
    {
     "data": {
      "text/html": [
       "<div>\n",
       "<style scoped>\n",
       "    .dataframe tbody tr th:only-of-type {\n",
       "        vertical-align: middle;\n",
       "    }\n",
       "\n",
       "    .dataframe tbody tr th {\n",
       "        vertical-align: top;\n",
       "    }\n",
       "\n",
       "    .dataframe thead th {\n",
       "        text-align: right;\n",
       "    }\n",
       "</style>\n",
       "<table border=\"1\" class=\"dataframe\">\n",
       "  <thead>\n",
       "    <tr style=\"text-align: right;\">\n",
       "      <th></th>\n",
       "      <th>user_id</th>\n",
       "      <th>score</th>\n",
       "      <th>age</th>\n",
       "      <th>objects</th>\n",
       "      <th>balance</th>\n",
       "      <th>products</th>\n",
       "      <th>credit_card</th>\n",
       "      <th>loyalty</th>\n",
       "      <th>estimated_salary</th>\n",
       "      <th>churn</th>\n",
       "      <th>city_Ростов Великий</th>\n",
       "      <th>city_Рыбинск</th>\n",
       "      <th>city_Ярославль</th>\n",
       "      <th>gender_Ж</th>\n",
       "      <th>gender_М</th>\n",
       "    </tr>\n",
       "  </thead>\n",
       "  <tbody>\n",
       "    <tr>\n",
       "      <td>count</td>\n",
       "      <td>2.037000e+03</td>\n",
       "      <td>2037.000000</td>\n",
       "      <td>2037.000000</td>\n",
       "      <td>2037.000000</td>\n",
       "      <td>1537.000000</td>\n",
       "      <td>2037.000000</td>\n",
       "      <td>2037.000000</td>\n",
       "      <td>2037.000000</td>\n",
       "      <td>2037.000000</td>\n",
       "      <td>2037.0</td>\n",
       "      <td>2037.000000</td>\n",
       "      <td>2037.000000</td>\n",
       "      <td>2037.000000</td>\n",
       "      <td>2037.000000</td>\n",
       "      <td>2037.000000</td>\n",
       "    </tr>\n",
       "    <tr>\n",
       "      <td>mean</td>\n",
       "      <td>1.573279e+07</td>\n",
       "      <td>645.351497</td>\n",
       "      <td>44.837997</td>\n",
       "      <td>4.932744</td>\n",
       "      <td>120746.971132</td>\n",
       "      <td>1.475209</td>\n",
       "      <td>0.699067</td>\n",
       "      <td>0.360825</td>\n",
       "      <td>101465.677531</td>\n",
       "      <td>1.0</td>\n",
       "      <td>0.399607</td>\n",
       "      <td>0.202749</td>\n",
       "      <td>0.397644</td>\n",
       "      <td>0.559156</td>\n",
       "      <td>0.440844</td>\n",
       "    </tr>\n",
       "    <tr>\n",
       "      <td>std</td>\n",
       "      <td>7.269262e+04</td>\n",
       "      <td>100.321503</td>\n",
       "      <td>9.761562</td>\n",
       "      <td>2.936106</td>\n",
       "      <td>30555.192802</td>\n",
       "      <td>0.801521</td>\n",
       "      <td>0.458776</td>\n",
       "      <td>0.480358</td>\n",
       "      <td>57912.418071</td>\n",
       "      <td>0.0</td>\n",
       "      <td>0.489938</td>\n",
       "      <td>0.402146</td>\n",
       "      <td>0.489531</td>\n",
       "      <td>0.496610</td>\n",
       "      <td>0.496610</td>\n",
       "    </tr>\n",
       "    <tr>\n",
       "      <td>min</td>\n",
       "      <td>1.560844e+07</td>\n",
       "      <td>350.000000</td>\n",
       "      <td>18.000000</td>\n",
       "      <td>0.000000</td>\n",
       "      <td>3768.690000</td>\n",
       "      <td>1.000000</td>\n",
       "      <td>0.000000</td>\n",
       "      <td>0.000000</td>\n",
       "      <td>11.580000</td>\n",
       "      <td>1.0</td>\n",
       "      <td>0.000000</td>\n",
       "      <td>0.000000</td>\n",
       "      <td>0.000000</td>\n",
       "      <td>0.000000</td>\n",
       "      <td>0.000000</td>\n",
       "    </tr>\n",
       "    <tr>\n",
       "      <td>25%</td>\n",
       "      <td>1.567010e+07</td>\n",
       "      <td>578.000000</td>\n",
       "      <td>38.000000</td>\n",
       "      <td>2.000000</td>\n",
       "      <td>103700.690000</td>\n",
       "      <td>1.000000</td>\n",
       "      <td>0.000000</td>\n",
       "      <td>0.000000</td>\n",
       "      <td>51907.720000</td>\n",
       "      <td>1.0</td>\n",
       "      <td>0.000000</td>\n",
       "      <td>0.000000</td>\n",
       "      <td>0.000000</td>\n",
       "      <td>0.000000</td>\n",
       "      <td>0.000000</td>\n",
       "    </tr>\n",
       "    <tr>\n",
       "      <td>50%</td>\n",
       "      <td>1.573170e+07</td>\n",
       "      <td>646.000000</td>\n",
       "      <td>45.000000</td>\n",
       "      <td>5.000000</td>\n",
       "      <td>119948.090000</td>\n",
       "      <td>1.000000</td>\n",
       "      <td>1.000000</td>\n",
       "      <td>0.000000</td>\n",
       "      <td>102460.840000</td>\n",
       "      <td>1.0</td>\n",
       "      <td>0.000000</td>\n",
       "      <td>0.000000</td>\n",
       "      <td>0.000000</td>\n",
       "      <td>1.000000</td>\n",
       "      <td>0.000000</td>\n",
       "    </tr>\n",
       "    <tr>\n",
       "      <td>75%</td>\n",
       "      <td>1.579583e+07</td>\n",
       "      <td>716.000000</td>\n",
       "      <td>51.000000</td>\n",
       "      <td>8.000000</td>\n",
       "      <td>137986.580000</td>\n",
       "      <td>2.000000</td>\n",
       "      <td>1.000000</td>\n",
       "      <td>1.000000</td>\n",
       "      <td>152422.910000</td>\n",
       "      <td>1.0</td>\n",
       "      <td>1.000000</td>\n",
       "      <td>0.000000</td>\n",
       "      <td>1.000000</td>\n",
       "      <td>1.000000</td>\n",
       "      <td>1.000000</td>\n",
       "    </tr>\n",
       "    <tr>\n",
       "      <td>max</td>\n",
       "      <td>1.585839e+07</td>\n",
       "      <td>850.000000</td>\n",
       "      <td>84.000000</td>\n",
       "      <td>10.000000</td>\n",
       "      <td>250898.090000</td>\n",
       "      <td>4.000000</td>\n",
       "      <td>1.000000</td>\n",
       "      <td>1.000000</td>\n",
       "      <td>199808.100000</td>\n",
       "      <td>1.0</td>\n",
       "      <td>1.000000</td>\n",
       "      <td>1.000000</td>\n",
       "      <td>1.000000</td>\n",
       "      <td>1.000000</td>\n",
       "      <td>1.000000</td>\n",
       "    </tr>\n",
       "  </tbody>\n",
       "</table>\n",
       "</div>"
      ],
      "text/plain": [
       "            user_id        score          age      objects        balance  \\\n",
       "count  2.037000e+03  2037.000000  2037.000000  2037.000000    1537.000000   \n",
       "mean   1.573279e+07   645.351497    44.837997     4.932744  120746.971132   \n",
       "std    7.269262e+04   100.321503     9.761562     2.936106   30555.192802   \n",
       "min    1.560844e+07   350.000000    18.000000     0.000000    3768.690000   \n",
       "25%    1.567010e+07   578.000000    38.000000     2.000000  103700.690000   \n",
       "50%    1.573170e+07   646.000000    45.000000     5.000000  119948.090000   \n",
       "75%    1.579583e+07   716.000000    51.000000     8.000000  137986.580000   \n",
       "max    1.585839e+07   850.000000    84.000000    10.000000  250898.090000   \n",
       "\n",
       "          products  credit_card      loyalty  estimated_salary   churn  \\\n",
       "count  2037.000000  2037.000000  2037.000000       2037.000000  2037.0   \n",
       "mean      1.475209     0.699067     0.360825     101465.677531     1.0   \n",
       "std       0.801521     0.458776     0.480358      57912.418071     0.0   \n",
       "min       1.000000     0.000000     0.000000         11.580000     1.0   \n",
       "25%       1.000000     0.000000     0.000000      51907.720000     1.0   \n",
       "50%       1.000000     1.000000     0.000000     102460.840000     1.0   \n",
       "75%       2.000000     1.000000     1.000000     152422.910000     1.0   \n",
       "max       4.000000     1.000000     1.000000     199808.100000     1.0   \n",
       "\n",
       "       city_Ростов Великий  city_Рыбинск  city_Ярославль     gender_Ж  \\\n",
       "count          2037.000000   2037.000000     2037.000000  2037.000000   \n",
       "mean              0.399607      0.202749        0.397644     0.559156   \n",
       "std               0.489938      0.402146        0.489531     0.496610   \n",
       "min               0.000000      0.000000        0.000000     0.000000   \n",
       "25%               0.000000      0.000000        0.000000     0.000000   \n",
       "50%               0.000000      0.000000        0.000000     1.000000   \n",
       "75%               1.000000      0.000000        1.000000     1.000000   \n",
       "max               1.000000      1.000000        1.000000     1.000000   \n",
       "\n",
       "          gender_М  \n",
       "count  2037.000000  \n",
       "mean      0.440844  \n",
       "std       0.496610  \n",
       "min       0.000000  \n",
       "25%       0.000000  \n",
       "50%       0.000000  \n",
       "75%       1.000000  \n",
       "max       1.000000  "
      ]
     },
     "metadata": {},
     "output_type": "display_data"
    }
   ],
   "source": [
    "display(df_depart.describe())"
   ]
  },
  {
   "cell_type": "markdown",
   "metadata": {},
   "source": [
    "Вывод:  \n",
    "В целом данные схожи, различия конечно есть непосредственно по каждому профилю в уровне баланса на счету \n",
    "и местом нахождения в том или ином городе, а так же есть различия по полу. Считаю, что кластеризация проведена успешно."
   ]
  },
  {
   "cell_type": "markdown",
   "metadata": {},
   "source": [
    "## Сформулируем и проверить статистические гипотезы:"
   ]
  },
  {
   "cell_type": "markdown",
   "metadata": {},
   "source": [
    "### Проверим гипотезу различия дохода между теми клиентами, которые ушли и теми, которые остались."
   ]
  },
  {
   "cell_type": "markdown",
   "metadata": {},
   "source": [
    "**Нулевая гипотеза:** доход между теми клиентами, которые ушли и теми, которые остались не различается\n",
    "\n",
    "**Альтернативная гипотеза:** доход между теми клиентами, которые ушли и теми, которые остались различается"
   ]
  },
  {
   "cell_type": "code",
   "execution_count": 22,
   "metadata": {},
   "outputs": [
    {
     "name": "stdout",
     "output_type": "stream",
     "text": [
      "p-значение:  0.11352575465076892\n",
      "Не получилось отвергнуть нулевую гипотезу: нет различия в доходе между теми клиентами, которые ушли и теми, которые остались\n"
     ]
    }
   ],
   "source": [
    "alpha = 0.05 \n",
    "\n",
    "results = st.mannwhitneyu(df_depart['estimated_salary'], df_stay['estimated_salary'])\n",
    "\n",
    "print('p-значение: ', results.pvalue)\n",
    "\n",
    "if results.pvalue < alpha:\n",
    "    print('Отвергаем нулевую гипотезу: есть различие в доходе между теми клиентами, которые ушли и теми, которые остались')\n",
    "else:\n",
    "    print(\n",
    "        'Не получилось отвергнуть нулевую гипотезу: нет различия в доходе между теми клиентами, которые ушли и теми, которые остались'\n",
    "    )"
   ]
  },
  {
   "cell_type": "markdown",
   "metadata": {},
   "source": [
    "Вывод:  \n",
    "Не получилось отвергнуть нулевую гипотезу: нет различия в доходе между теми клиентами, которые ушли и теми, которые остались   "
   ]
  },
  {
   "cell_type": "markdown",
   "metadata": {},
   "source": [
    "### Проверим гипотезу различия количества недвижимости в собственности между теми клиентами, которые ушли и теми, которые остались."
   ]
  },
  {
   "cell_type": "markdown",
   "metadata": {},
   "source": [
    "Для проверки гипотезы выбираю непараметрический тест Уилкоксона-Манна-Уитни, так как данные не являются бинарными, \n",
    "имеют не нормальное распределение."
   ]
  },
  {
   "cell_type": "markdown",
   "metadata": {},
   "source": [
    "**Нулевая гипотеза:** количество недвижимости между теми клиентами, которые ушли и теми, которые остались не различается\n",
    "\n",
    "**Альтернативная гипотеза:** количество недвижимости между теми клиентами, которые ушли и теми, которые остались различается"
   ]
  },
  {
   "cell_type": "code",
   "execution_count": 23,
   "metadata": {},
   "outputs": [
    {
     "name": "stdout",
     "output_type": "stream",
     "text": [
      "p-значение:  0.08109688061459414\n",
      "Не получилось отвергнуть нулевую гипотезу: нет различия в количестве недвижимости между теми клиентами, которые ушли и теми, которые остались\n"
     ]
    }
   ],
   "source": [
    "alpha = 0.05 \n",
    "\n",
    "results = st.mannwhitneyu(df_depart['objects'], df_stay['objects'])\n",
    "\n",
    "print('p-значение: ', results.pvalue)\n",
    "\n",
    "if results.pvalue < alpha:\n",
    "    print('Отвергаем нулевую гипотезу: есть различие в количестве недвижимости между теми клиентами, которые ушли и теми, которые остались')\n",
    "else:\n",
    "    print(\n",
    "        'Не получилось отвергнуть нулевую гипотезу: нет различия в количестве недвижимости между теми клиентами, которые ушли и теми, которые остались'\n",
    "    )"
   ]
  },
  {
   "cell_type": "markdown",
   "metadata": {},
   "source": [
    "Вывод:  \n",
    "Не получилось отвергнуть нулевую гипотезу: нет различия в количестве недвижимости между теми клиентами,\n",
    "которые ушли и теми, которые остались"
   ]
  },
  {
   "cell_type": "markdown",
   "metadata": {},
   "source": [
    "## Общий вывод"
   ]
  },
  {
   "cell_type": "markdown",
   "metadata": {},
   "source": [
    "В результате исследования можно выделить следубщие портреты клиентов, которые склонны уходить из банка:\n",
    "  \n",
    "Профиль клиента 0:\n",
    "средний возраст чуть больше 39, максимальный возраст порядка 64 лет, в среднем 5 объектов недвижимости в собственности, баланс на счету около 120 000,  \n",
    "использует не меньше одного банковского продукта, не все используют кредитку, средней степени лояльности,  \n",
    "оцененная зарплата около 101 000, проживает в Ростове Великом, почти равные доли между мужчинами и женщинами.\n",
    "\n",
    "Профиль клиента 3:\n",
    "средний возраст около 38, максимальный возраст около 61 года, в среднем 5 объектов недвижимости в собственности, баланс на счету около 60 000,  \n",
    "использует не меньше одного банковского продукта, не все используют кредитку, чуть выше средней степени лояльности,  \n",
    "оцененная зарплата около 100 000, проживает в Ярославле, только женщины.\n",
    "\n",
    "Рекомендации по профилю 0:  \n",
    "пересмотреть банковские продукты, сделать их более доступными, активнее их предлагать, например бесплатная доставка и оформление на дом кредитной карты, или подключение к скидочной системе больше компаний партнеров.   \n",
    " \n",
    "  \n",
    "Рекомендации по профилю 3:  \n",
    "В дополнение к рекомендациям по профилю 0 - активнее распостранять банковские продукты среди мужчин.\n",
    "\n",
    "По результатам проверки двух гипотез, выяснилось, что на отток клиентов не влияет уровень дохода и количество в собственности\n",
    "объектов недвижимости. При равных этих двух параметров клиенты всеравно склонны к оттоку."
   ]
  }
 ],
 "metadata": {
  "ExecuteTimeLog": [
   {
    "duration": 2079,
    "start_time": "2021-09-05T15:04:54.433Z"
   },
   {
    "duration": 230,
    "start_time": "2021-09-05T15:04:56.515Z"
   },
   {
    "duration": 7,
    "start_time": "2021-09-05T15:08:28.634Z"
   },
   {
    "duration": 85,
    "start_time": "2021-09-05T15:08:28.643Z"
   },
   {
    "duration": 51,
    "start_time": "2021-09-05T15:08:28.732Z"
   },
   {
    "duration": 64,
    "start_time": "2021-09-05T15:19:53.629Z"
   },
   {
    "duration": 27,
    "start_time": "2021-09-05T15:29:07.269Z"
   },
   {
    "duration": 33,
    "start_time": "2021-09-05T15:34:00.509Z"
   },
   {
    "duration": 26,
    "start_time": "2021-09-05T15:34:09.827Z"
   },
   {
    "duration": 25,
    "start_time": "2021-09-05T15:36:33.899Z"
   },
   {
    "duration": 1975,
    "start_time": "2021-09-05T15:36:50.838Z"
   },
   {
    "duration": 64,
    "start_time": "2021-09-05T15:36:52.815Z"
   },
   {
    "duration": 34,
    "start_time": "2021-09-05T15:36:52.883Z"
   },
   {
    "duration": 79,
    "start_time": "2021-09-05T15:36:52.920Z"
   },
   {
    "duration": 25,
    "start_time": "2021-09-05T15:36:53.002Z"
   },
   {
    "duration": 114,
    "start_time": "2021-09-05T15:36:53.029Z"
   },
   {
    "duration": 1935,
    "start_time": "2021-09-05T15:44:14.800Z"
   },
   {
    "duration": 60,
    "start_time": "2021-09-05T15:44:16.738Z"
   },
   {
    "duration": 105,
    "start_time": "2021-09-05T15:44:16.801Z"
   },
   {
    "duration": 64,
    "start_time": "2021-09-05T15:44:16.910Z"
   },
   {
    "duration": 102,
    "start_time": "2021-09-05T15:44:16.977Z"
   },
   {
    "duration": 457,
    "start_time": "2021-09-05T15:56:22.436Z"
   },
   {
    "duration": 28,
    "start_time": "2021-09-05T15:56:41.070Z"
   },
   {
    "duration": 1909,
    "start_time": "2021-09-05T16:10:31.510Z"
   },
   {
    "duration": 56,
    "start_time": "2021-09-05T16:10:33.421Z"
   },
   {
    "duration": 86,
    "start_time": "2021-09-05T16:10:33.480Z"
   },
   {
    "duration": 94,
    "start_time": "2021-09-05T16:10:33.568Z"
   },
   {
    "duration": 27,
    "start_time": "2021-09-05T16:10:33.665Z"
   },
   {
    "duration": 2860,
    "start_time": "2021-09-05T16:10:33.694Z"
   },
   {
    "duration": 64,
    "start_time": "2021-09-05T16:26:58.224Z"
   },
   {
    "duration": 84,
    "start_time": "2021-09-05T16:35:24.992Z"
   },
   {
    "duration": 7999,
    "start_time": "2021-09-05T16:36:27.866Z"
   },
   {
    "duration": 6570,
    "start_time": "2021-09-05T16:37:08.754Z"
   },
   {
    "duration": 313,
    "start_time": "2021-09-06T06:44:40.594Z"
   },
   {
    "duration": 1685,
    "start_time": "2021-09-06T06:44:47.052Z"
   },
   {
    "duration": 51,
    "start_time": "2021-09-06T06:44:48.740Z"
   },
   {
    "duration": 59,
    "start_time": "2021-09-06T06:44:48.793Z"
   },
   {
    "duration": 54,
    "start_time": "2021-09-06T06:44:48.854Z"
   },
   {
    "duration": 46,
    "start_time": "2021-09-06T06:44:48.911Z"
   },
   {
    "duration": 4446,
    "start_time": "2021-09-06T06:44:48.960Z"
   },
   {
    "duration": 12,
    "start_time": "2021-09-06T06:44:53.408Z"
   },
   {
    "duration": 27,
    "start_time": "2021-09-06T06:52:59.221Z"
   },
   {
    "duration": 1662,
    "start_time": "2021-09-06T06:53:22.106Z"
   },
   {
    "duration": 46,
    "start_time": "2021-09-06T06:53:23.770Z"
   },
   {
    "duration": 51,
    "start_time": "2021-09-06T06:53:23.819Z"
   },
   {
    "duration": 75,
    "start_time": "2021-09-06T06:53:23.872Z"
   },
   {
    "duration": 20,
    "start_time": "2021-09-06T06:53:23.949Z"
   },
   {
    "duration": 4355,
    "start_time": "2021-09-06T06:53:23.971Z"
   },
   {
    "duration": 40,
    "start_time": "2021-09-06T06:53:28.328Z"
   },
   {
    "duration": 416,
    "start_time": "2021-09-06T06:54:05.994Z"
   },
   {
    "duration": 10179,
    "start_time": "2021-09-06T06:55:24.873Z"
   },
   {
    "duration": 1458,
    "start_time": "2021-09-06T06:57:46.713Z"
   },
   {
    "duration": 88,
    "start_time": "2021-09-06T06:58:31.074Z"
   },
   {
    "duration": 1254,
    "start_time": "2021-09-06T06:58:43.065Z"
   },
   {
    "duration": 1464,
    "start_time": "2021-09-06T07:00:00.049Z"
   },
   {
    "duration": 1525,
    "start_time": "2021-09-06T07:00:50.178Z"
   },
   {
    "duration": 1588,
    "start_time": "2021-09-06T07:01:53.018Z"
   },
   {
    "duration": 94,
    "start_time": "2021-09-06T07:06:50.915Z"
   },
   {
    "duration": 1638,
    "start_time": "2021-09-06T07:14:18.382Z"
   },
   {
    "duration": 47,
    "start_time": "2021-09-06T07:14:20.022Z"
   },
   {
    "duration": 74,
    "start_time": "2021-09-06T07:14:20.072Z"
   },
   {
    "duration": 54,
    "start_time": "2021-09-06T07:14:20.148Z"
   },
   {
    "duration": 45,
    "start_time": "2021-09-06T07:14:20.204Z"
   },
   {
    "duration": 4520,
    "start_time": "2021-09-06T07:14:20.251Z"
   },
   {
    "duration": 10002,
    "start_time": "2021-09-06T07:14:24.773Z"
   },
   {
    "duration": 1281,
    "start_time": "2021-09-06T07:14:34.777Z"
   },
   {
    "duration": 1490,
    "start_time": "2021-09-06T07:14:36.062Z"
   },
   {
    "duration": 20,
    "start_time": "2021-09-06T07:18:26.819Z"
   },
   {
    "duration": 225789,
    "start_time": "2021-09-06T07:19:34.291Z"
   },
   {
    "duration": 1317,
    "start_time": "2021-09-06T07:30:41.144Z"
   },
   {
    "duration": 13991,
    "start_time": "2021-09-06T07:47:14.355Z"
   },
   {
    "duration": 454,
    "start_time": "2021-09-06T07:49:00.187Z"
   },
   {
    "duration": 14,
    "start_time": "2021-09-06T07:49:46.579Z"
   },
   {
    "duration": 331,
    "start_time": "2021-09-06T07:56:24.558Z"
   },
   {
    "duration": 53,
    "start_time": "2021-09-06T08:26:24.753Z"
   },
   {
    "duration": 344,
    "start_time": "2021-09-06T08:42:24.500Z"
   },
   {
    "duration": 51,
    "start_time": "2021-09-06T08:59:37.592Z"
   },
   {
    "duration": 7,
    "start_time": "2021-09-06T10:02:34.843Z"
   },
   {
    "duration": 260,
    "start_time": "2021-09-06T10:03:23.573Z"
   },
   {
    "duration": 7,
    "start_time": "2021-09-06T10:08:56.893Z"
   },
   {
    "duration": 1976,
    "start_time": "2021-09-06T10:22:43.532Z"
   },
   {
    "duration": 57,
    "start_time": "2021-09-06T10:22:45.510Z"
   },
   {
    "duration": 78,
    "start_time": "2021-09-06T10:22:45.570Z"
   },
   {
    "duration": 50,
    "start_time": "2021-09-06T10:22:45.651Z"
   },
   {
    "duration": 44,
    "start_time": "2021-09-06T10:22:45.703Z"
   },
   {
    "duration": 4355,
    "start_time": "2021-09-06T10:22:45.748Z"
   },
   {
    "duration": 10145,
    "start_time": "2021-09-06T10:22:50.106Z"
   },
   {
    "duration": 1300,
    "start_time": "2021-09-06T10:23:00.254Z"
   },
   {
    "duration": 224687,
    "start_time": "2021-09-06T10:23:01.557Z"
   },
   {
    "duration": 1707,
    "start_time": "2021-09-06T10:26:46.247Z"
   },
   {
    "duration": 14789,
    "start_time": "2021-09-06T10:26:47.957Z"
   },
   {
    "duration": 16,
    "start_time": "2021-09-06T10:27:02.748Z"
   },
   {
    "duration": 54,
    "start_time": "2021-09-06T10:27:02.765Z"
   },
   {
    "duration": 25,
    "start_time": "2021-09-06T10:27:02.820Z"
   },
   {
    "duration": 341,
    "start_time": "2021-09-06T10:27:02.847Z"
   },
   {
    "duration": 179,
    "start_time": "2021-09-06T10:27:03.011Z"
   },
   {
    "duration": 83,
    "start_time": "2021-09-06T16:22:35.875Z"
   },
   {
    "duration": 101,
    "start_time": "2021-09-06T16:30:41.341Z"
   },
   {
    "duration": 83,
    "start_time": "2021-09-06T16:34:47.352Z"
   },
   {
    "duration": 80,
    "start_time": "2021-09-06T16:34:54.342Z"
   },
   {
    "duration": 84,
    "start_time": "2021-09-06T16:36:55.056Z"
   },
   {
    "duration": 104,
    "start_time": "2021-09-06T17:04:51.931Z"
   },
   {
    "duration": 79,
    "start_time": "2021-09-06T17:08:36.448Z"
   },
   {
    "duration": 94,
    "start_time": "2021-09-06T17:11:59.720Z"
   },
   {
    "duration": 76,
    "start_time": "2021-09-06T17:12:03.999Z"
   },
   {
    "duration": 90,
    "start_time": "2021-09-06T17:13:45.948Z"
   },
   {
    "duration": 346,
    "start_time": "2021-09-07T07:59:12.125Z"
   },
   {
    "duration": 1899,
    "start_time": "2021-09-07T07:59:17.986Z"
   },
   {
    "duration": 61,
    "start_time": "2021-09-07T07:59:19.888Z"
   },
   {
    "duration": 64,
    "start_time": "2021-09-07T07:59:19.952Z"
   },
   {
    "duration": 110,
    "start_time": "2021-09-07T07:59:20.019Z"
   },
   {
    "duration": 41,
    "start_time": "2021-09-07T07:59:20.131Z"
   },
   {
    "duration": 6447,
    "start_time": "2021-09-07T07:59:20.174Z"
   },
   {
    "duration": 12680,
    "start_time": "2021-09-07T07:59:26.623Z"
   },
   {
    "duration": 2140,
    "start_time": "2021-09-07T07:59:39.307Z"
   },
   {
    "duration": 1916,
    "start_time": "2021-09-07T08:04:45.702Z"
   },
   {
    "duration": 61,
    "start_time": "2021-09-07T08:04:47.620Z"
   },
   {
    "duration": 16,
    "start_time": "2021-09-07T08:04:47.684Z"
   },
   {
    "duration": 95,
    "start_time": "2021-09-07T08:04:47.703Z"
   },
   {
    "duration": 106,
    "start_time": "2021-09-07T08:04:47.801Z"
   },
   {
    "duration": 26,
    "start_time": "2021-09-07T08:04:47.910Z"
   },
   {
    "duration": 6577,
    "start_time": "2021-09-07T08:04:47.939Z"
   },
   {
    "duration": 12084,
    "start_time": "2021-09-07T08:04:54.520Z"
   },
   {
    "duration": 1903,
    "start_time": "2021-09-07T08:05:06.607Z"
   },
   {
    "duration": 340191,
    "start_time": "2021-09-07T08:05:08.512Z"
   },
   {
    "duration": 1379,
    "start_time": "2021-09-07T08:10:48.706Z"
   },
   {
    "duration": 20497,
    "start_time": "2021-09-07T08:10:50.088Z"
   },
   {
    "duration": 17,
    "start_time": "2021-09-07T08:11:10.587Z"
   },
   {
    "duration": 94,
    "start_time": "2021-09-07T08:11:10.607Z"
   },
   {
    "duration": 9,
    "start_time": "2021-09-07T08:11:10.703Z"
   },
   {
    "duration": 9,
    "start_time": "2021-09-07T08:11:10.715Z"
   },
   {
    "duration": 12,
    "start_time": "2021-09-07T08:15:13.552Z"
   },
   {
    "duration": 65,
    "start_time": "2021-09-07T08:16:59.993Z"
   },
   {
    "duration": 13,
    "start_time": "2021-09-07T08:17:36.519Z"
   },
   {
    "duration": 2020,
    "start_time": "2021-09-07T08:17:56.868Z"
   },
   {
    "duration": 61,
    "start_time": "2021-09-07T08:17:58.891Z"
   },
   {
    "duration": 10,
    "start_time": "2021-09-07T08:17:58.956Z"
   },
   {
    "duration": 98,
    "start_time": "2021-09-07T08:17:58.970Z"
   },
   {
    "duration": 91,
    "start_time": "2021-09-07T08:17:59.071Z"
   },
   {
    "duration": 26,
    "start_time": "2021-09-07T08:17:59.164Z"
   },
   {
    "duration": 6658,
    "start_time": "2021-09-07T08:17:59.193Z"
   },
   {
    "duration": 12736,
    "start_time": "2021-09-07T08:18:05.854Z"
   },
   {
    "duration": 1908,
    "start_time": "2021-09-07T08:18:18.594Z"
   },
   {
    "duration": 1915,
    "start_time": "2021-09-07T08:19:20.227Z"
   },
   {
    "duration": 60,
    "start_time": "2021-09-07T08:19:22.144Z"
   },
   {
    "duration": 11,
    "start_time": "2021-09-07T08:19:22.211Z"
   },
   {
    "duration": 99,
    "start_time": "2021-09-07T08:19:22.225Z"
   },
   {
    "duration": 107,
    "start_time": "2021-09-07T08:19:22.326Z"
   },
   {
    "duration": 38,
    "start_time": "2021-09-07T08:19:22.436Z"
   },
   {
    "duration": 6526,
    "start_time": "2021-09-07T08:19:22.478Z"
   },
   {
    "duration": 11881,
    "start_time": "2021-09-07T08:19:29.007Z"
   },
   {
    "duration": 1923,
    "start_time": "2021-09-07T08:19:40.890Z"
   },
   {
    "duration": 345148,
    "start_time": "2021-09-07T08:19:42.816Z"
   },
   {
    "duration": 1820,
    "start_time": "2021-09-07T08:25:27.966Z"
   },
   {
    "duration": 21547,
    "start_time": "2021-09-07T08:25:29.788Z"
   },
   {
    "duration": 32,
    "start_time": "2021-09-07T08:25:51.339Z"
   },
   {
    "duration": 93,
    "start_time": "2021-09-07T08:25:51.373Z"
   },
   {
    "duration": 11,
    "start_time": "2021-09-07T08:25:51.469Z"
   },
   {
    "duration": 10,
    "start_time": "2021-09-07T08:25:51.483Z"
   },
   {
    "duration": 69,
    "start_time": "2021-09-07T08:27:23.650Z"
   },
   {
    "duration": 13,
    "start_time": "2021-09-07T08:27:32.513Z"
   },
   {
    "duration": 29,
    "start_time": "2021-09-07T08:28:51.178Z"
   },
   {
    "duration": 12,
    "start_time": "2021-09-07T08:29:57.091Z"
   },
   {
    "duration": 53,
    "start_time": "2021-09-07T08:30:19.155Z"
   },
   {
    "duration": 11,
    "start_time": "2021-09-07T08:30:27.738Z"
   },
   {
    "duration": 56,
    "start_time": "2021-09-07T08:30:48.665Z"
   },
   {
    "duration": 11,
    "start_time": "2021-09-07T08:30:55.138Z"
   },
   {
    "duration": 29,
    "start_time": "2021-09-07T08:31:08.210Z"
   },
   {
    "duration": 27,
    "start_time": "2021-09-07T08:31:19.610Z"
   },
   {
    "duration": 15,
    "start_time": "2021-09-07T08:31:35.034Z"
   },
   {
    "duration": 68,
    "start_time": "2021-09-07T08:31:44.915Z"
   },
   {
    "duration": 399,
    "start_time": "2021-09-07T08:40:59.348Z"
   },
   {
    "duration": 327,
    "start_time": "2021-09-07T08:52:14.670Z"
   },
   {
    "duration": 6769,
    "start_time": "2021-09-07T08:52:38.182Z"
   },
   {
    "duration": 274,
    "start_time": "2021-09-07T08:52:53.318Z"
   },
   {
    "duration": 246,
    "start_time": "2021-09-07T08:55:39.982Z"
   },
   {
    "duration": 12512,
    "start_time": "2021-09-07T09:14:30.581Z"
   },
   {
    "duration": 1117,
    "start_time": "2021-09-07T09:18:01.625Z"
   },
   {
    "duration": 1911,
    "start_time": "2021-09-07T09:19:02.525Z"
   },
   {
    "duration": 57,
    "start_time": "2021-09-07T09:19:04.439Z"
   },
   {
    "duration": 10,
    "start_time": "2021-09-07T09:19:04.500Z"
   },
   {
    "duration": 94,
    "start_time": "2021-09-07T09:19:04.513Z"
   },
   {
    "duration": 108,
    "start_time": "2021-09-07T09:19:04.609Z"
   },
   {
    "duration": 26,
    "start_time": "2021-09-07T09:19:04.719Z"
   },
   {
    "duration": 6459,
    "start_time": "2021-09-07T09:19:04.761Z"
   },
   {
    "duration": 439,
    "start_time": "2021-09-07T09:19:11.225Z"
   },
   {
    "duration": 74,
    "start_time": "2021-09-07T09:19:11.593Z"
   },
   {
    "duration": 72,
    "start_time": "2021-09-07T09:19:11.596Z"
   },
   {
    "duration": 67,
    "start_time": "2021-09-07T09:19:11.603Z"
   },
   {
    "duration": 62,
    "start_time": "2021-09-07T09:19:11.609Z"
   },
   {
    "duration": 57,
    "start_time": "2021-09-07T09:19:11.616Z"
   },
   {
    "duration": 51,
    "start_time": "2021-09-07T09:19:11.623Z"
   },
   {
    "duration": 43,
    "start_time": "2021-09-07T09:19:11.632Z"
   },
   {
    "duration": 38,
    "start_time": "2021-09-07T09:19:11.639Z"
   },
   {
    "duration": 29,
    "start_time": "2021-09-07T09:19:11.649Z"
   },
   {
    "duration": 24,
    "start_time": "2021-09-07T09:19:11.655Z"
   },
   {
    "duration": 53,
    "start_time": "2021-09-07T09:32:54.649Z"
   },
   {
    "duration": 11,
    "start_time": "2021-09-07T09:33:02.601Z"
   },
   {
    "duration": 64,
    "start_time": "2021-09-07T09:33:09.515Z"
   },
   {
    "duration": 11,
    "start_time": "2021-09-07T09:33:15.289Z"
   },
   {
    "duration": 60,
    "start_time": "2021-09-07T09:33:21.626Z"
   },
   {
    "duration": 12251,
    "start_time": "2021-09-07T09:34:58.618Z"
   },
   {
    "duration": 1904,
    "start_time": "2021-09-07T09:37:13.180Z"
   },
   {
    "duration": 60,
    "start_time": "2021-09-07T09:37:15.086Z"
   },
   {
    "duration": 10,
    "start_time": "2021-09-07T09:37:15.148Z"
   },
   {
    "duration": 64,
    "start_time": "2021-09-07T09:37:15.160Z"
   },
   {
    "duration": 105,
    "start_time": "2021-09-07T09:37:15.226Z"
   },
   {
    "duration": 47,
    "start_time": "2021-09-07T09:37:15.333Z"
   },
   {
    "duration": 6396,
    "start_time": "2021-09-07T09:37:15.383Z"
   },
   {
    "duration": 488,
    "start_time": "2021-09-07T09:37:21.783Z"
   },
   {
    "duration": 68,
    "start_time": "2021-09-07T09:37:22.205Z"
   },
   {
    "duration": 62,
    "start_time": "2021-09-07T09:37:22.213Z"
   },
   {
    "duration": 56,
    "start_time": "2021-09-07T09:37:22.220Z"
   },
   {
    "duration": 52,
    "start_time": "2021-09-07T09:37:22.226Z"
   },
   {
    "duration": 47,
    "start_time": "2021-09-07T09:37:22.232Z"
   },
   {
    "duration": 40,
    "start_time": "2021-09-07T09:37:22.240Z"
   },
   {
    "duration": 35,
    "start_time": "2021-09-07T09:37:22.247Z"
   },
   {
    "duration": 29,
    "start_time": "2021-09-07T09:37:22.254Z"
   },
   {
    "duration": 25,
    "start_time": "2021-09-07T09:37:22.260Z"
   },
   {
    "duration": 20,
    "start_time": "2021-09-07T09:37:22.266Z"
   },
   {
    "duration": 14,
    "start_time": "2021-09-07T09:37:22.273Z"
   },
   {
    "duration": 62,
    "start_time": "2021-09-07T10:03:32.422Z"
   },
   {
    "duration": 13,
    "start_time": "2021-09-07T10:03:37.854Z"
   },
   {
    "duration": 6,
    "start_time": "2021-09-07T10:04:01.574Z"
   },
   {
    "duration": 56,
    "start_time": "2021-09-07T10:04:03.764Z"
   },
   {
    "duration": 56,
    "start_time": "2021-09-07T10:04:08.950Z"
   },
   {
    "duration": 5,
    "start_time": "2021-09-07T10:04:16.342Z"
   },
   {
    "duration": 6,
    "start_time": "2021-09-07T10:04:54.554Z"
   },
   {
    "duration": 61,
    "start_time": "2021-09-07T10:04:54.563Z"
   },
   {
    "duration": 35,
    "start_time": "2021-09-07T10:04:54.627Z"
   },
   {
    "duration": 100,
    "start_time": "2021-09-07T10:04:54.665Z"
   },
   {
    "duration": 75,
    "start_time": "2021-09-07T10:04:54.768Z"
   },
   {
    "duration": 27,
    "start_time": "2021-09-07T10:04:54.862Z"
   },
   {
    "duration": 6529,
    "start_time": "2021-09-07T10:04:54.891Z"
   },
   {
    "duration": 276,
    "start_time": "2021-09-07T10:05:01.426Z"
   },
   {
    "duration": 105,
    "start_time": "2021-09-07T10:05:01.600Z"
   },
   {
    "duration": 94,
    "start_time": "2021-09-07T10:05:01.613Z"
   },
   {
    "duration": 84,
    "start_time": "2021-09-07T10:05:01.624Z"
   },
   {
    "duration": 73,
    "start_time": "2021-09-07T10:05:01.637Z"
   },
   {
    "duration": 70,
    "start_time": "2021-09-07T10:05:01.642Z"
   },
   {
    "duration": 63,
    "start_time": "2021-09-07T10:05:01.650Z"
   },
   {
    "duration": 58,
    "start_time": "2021-09-07T10:05:01.657Z"
   },
   {
    "duration": 47,
    "start_time": "2021-09-07T10:05:01.669Z"
   },
   {
    "duration": 45,
    "start_time": "2021-09-07T10:05:01.673Z"
   },
   {
    "duration": 40,
    "start_time": "2021-09-07T10:05:01.680Z"
   },
   {
    "duration": 34,
    "start_time": "2021-09-07T10:05:01.687Z"
   },
   {
    "duration": 1938,
    "start_time": "2021-09-07T10:05:25.049Z"
   },
   {
    "duration": 61,
    "start_time": "2021-09-07T10:05:26.990Z"
   },
   {
    "duration": 10,
    "start_time": "2021-09-07T10:05:27.057Z"
   },
   {
    "duration": 92,
    "start_time": "2021-09-07T10:05:27.070Z"
   },
   {
    "duration": 80,
    "start_time": "2021-09-07T10:05:27.164Z"
   },
   {
    "duration": 28,
    "start_time": "2021-09-07T10:05:27.262Z"
   },
   {
    "duration": 6671,
    "start_time": "2021-09-07T10:05:27.294Z"
   },
   {
    "duration": 467,
    "start_time": "2021-09-07T10:05:33.968Z"
   },
   {
    "duration": 71,
    "start_time": "2021-09-07T10:05:34.367Z"
   },
   {
    "duration": 48,
    "start_time": "2021-09-07T10:05:34.392Z"
   },
   {
    "duration": 33,
    "start_time": "2021-09-07T10:05:34.408Z"
   },
   {
    "duration": 22,
    "start_time": "2021-09-07T10:05:34.421Z"
   },
   {
    "duration": 18,
    "start_time": "2021-09-07T10:05:34.426Z"
   },
   {
    "duration": 13,
    "start_time": "2021-09-07T10:05:34.433Z"
   },
   {
    "duration": -1,
    "start_time": "2021-09-07T10:05:34.448Z"
   },
   {
    "duration": -18,
    "start_time": "2021-09-07T10:05:34.467Z"
   },
   {
    "duration": -31,
    "start_time": "2021-09-07T10:05:34.481Z"
   },
   {
    "duration": -33,
    "start_time": "2021-09-07T10:05:34.484Z"
   },
   {
    "duration": -36,
    "start_time": "2021-09-07T10:05:34.489Z"
   },
   {
    "duration": 1910,
    "start_time": "2021-09-07T10:07:18.483Z"
   },
   {
    "duration": 58,
    "start_time": "2021-09-07T10:07:20.396Z"
   },
   {
    "duration": 10,
    "start_time": "2021-09-07T10:07:20.457Z"
   },
   {
    "duration": 98,
    "start_time": "2021-09-07T10:07:20.470Z"
   },
   {
    "duration": 75,
    "start_time": "2021-09-07T10:07:20.570Z"
   },
   {
    "duration": 26,
    "start_time": "2021-09-07T10:07:20.663Z"
   },
   {
    "duration": 6464,
    "start_time": "2021-09-07T10:07:20.692Z"
   },
   {
    "duration": 443,
    "start_time": "2021-09-07T10:07:27.163Z"
   },
   {
    "duration": 94,
    "start_time": "2021-09-07T10:07:27.516Z"
   },
   {
    "duration": 85,
    "start_time": "2021-09-07T10:07:27.527Z"
   },
   {
    "duration": 77,
    "start_time": "2021-09-07T10:07:27.537Z"
   },
   {
    "duration": 69,
    "start_time": "2021-09-07T10:07:27.546Z"
   },
   {
    "duration": 63,
    "start_time": "2021-09-07T10:07:27.554Z"
   },
   {
    "duration": 55,
    "start_time": "2021-09-07T10:07:27.563Z"
   },
   {
    "duration": 42,
    "start_time": "2021-09-07T10:07:27.578Z"
   },
   {
    "duration": 36,
    "start_time": "2021-09-07T10:07:27.585Z"
   },
   {
    "duration": 28,
    "start_time": "2021-09-07T10:07:27.594Z"
   },
   {
    "duration": 21,
    "start_time": "2021-09-07T10:07:27.602Z"
   },
   {
    "duration": 10,
    "start_time": "2021-09-07T10:07:27.615Z"
   },
   {
    "duration": 26,
    "start_time": "2021-09-07T10:08:22.786Z"
   },
   {
    "duration": 1936,
    "start_time": "2021-09-07T10:08:34.954Z"
   },
   {
    "duration": 59,
    "start_time": "2021-09-07T10:08:36.893Z"
   },
   {
    "duration": 30,
    "start_time": "2021-09-07T10:08:36.961Z"
   },
   {
    "duration": 97,
    "start_time": "2021-09-07T10:08:36.995Z"
   },
   {
    "duration": 113,
    "start_time": "2021-09-07T10:08:37.095Z"
   },
   {
    "duration": 28,
    "start_time": "2021-09-07T10:08:37.212Z"
   },
   {
    "duration": 6492,
    "start_time": "2021-09-07T10:08:37.265Z"
   },
   {
    "duration": 524,
    "start_time": "2021-09-07T10:08:43.759Z"
   },
   {
    "duration": 91,
    "start_time": "2021-09-07T10:08:44.195Z"
   },
   {
    "duration": 89,
    "start_time": "2021-09-07T10:08:44.199Z"
   },
   {
    "duration": 84,
    "start_time": "2021-09-07T10:08:44.205Z"
   },
   {
    "duration": 67,
    "start_time": "2021-09-07T10:08:44.224Z"
   },
   {
    "duration": 54,
    "start_time": "2021-09-07T10:08:44.238Z"
   },
   {
    "duration": 48,
    "start_time": "2021-09-07T10:08:44.246Z"
   },
   {
    "duration": 44,
    "start_time": "2021-09-07T10:08:44.251Z"
   },
   {
    "duration": 35,
    "start_time": "2021-09-07T10:08:44.262Z"
   },
   {
    "duration": 23,
    "start_time": "2021-09-07T10:08:44.276Z"
   },
   {
    "duration": 5,
    "start_time": "2021-09-07T10:08:44.295Z"
   },
   {
    "duration": -28,
    "start_time": "2021-09-07T10:08:44.330Z"
   },
   {
    "duration": 25,
    "start_time": "2021-09-07T10:09:36.468Z"
   },
   {
    "duration": 13,
    "start_time": "2021-09-07T10:09:51.010Z"
   },
   {
    "duration": 1890,
    "start_time": "2021-09-07T10:10:07.541Z"
   },
   {
    "duration": 59,
    "start_time": "2021-09-07T10:10:09.434Z"
   },
   {
    "duration": 10,
    "start_time": "2021-09-07T10:10:09.498Z"
   },
   {
    "duration": 99,
    "start_time": "2021-09-07T10:10:09.511Z"
   },
   {
    "duration": 110,
    "start_time": "2021-09-07T10:10:09.612Z"
   },
   {
    "duration": 39,
    "start_time": "2021-09-07T10:10:09.724Z"
   },
   {
    "duration": 6426,
    "start_time": "2021-09-07T10:10:09.766Z"
   },
   {
    "duration": 450,
    "start_time": "2021-09-07T10:10:16.196Z"
   },
   {
    "duration": 106,
    "start_time": "2021-09-07T10:10:16.543Z"
   },
   {
    "duration": 99,
    "start_time": "2021-09-07T10:10:16.551Z"
   },
   {
    "duration": 94,
    "start_time": "2021-09-07T10:10:16.557Z"
   },
   {
    "duration": 83,
    "start_time": "2021-09-07T10:10:16.570Z"
   },
   {
    "duration": 77,
    "start_time": "2021-09-07T10:10:16.578Z"
   },
   {
    "duration": 72,
    "start_time": "2021-09-07T10:10:16.584Z"
   },
   {
    "duration": 63,
    "start_time": "2021-09-07T10:10:16.594Z"
   },
   {
    "duration": 59,
    "start_time": "2021-09-07T10:10:16.600Z"
   },
   {
    "duration": 53,
    "start_time": "2021-09-07T10:10:16.607Z"
   },
   {
    "duration": 46,
    "start_time": "2021-09-07T10:10:16.615Z"
   },
   {
    "duration": 40,
    "start_time": "2021-09-07T10:10:16.623Z"
   },
   {
    "duration": 55,
    "start_time": "2021-09-07T10:10:24.930Z"
   },
   {
    "duration": 12,
    "start_time": "2021-09-07T10:10:34.355Z"
   },
   {
    "duration": 76,
    "start_time": "2021-09-07T10:10:42.428Z"
   },
   {
    "duration": 12,
    "start_time": "2021-09-07T10:10:47.194Z"
   },
   {
    "duration": 64,
    "start_time": "2021-09-07T10:10:51.971Z"
   },
   {
    "duration": 13164,
    "start_time": "2021-09-07T10:12:59.268Z"
   },
   {
    "duration": 1912,
    "start_time": "2021-09-07T10:20:36.742Z"
   },
   {
    "duration": 59,
    "start_time": "2021-09-07T10:20:38.657Z"
   },
   {
    "duration": 11,
    "start_time": "2021-09-07T10:20:38.719Z"
   },
   {
    "duration": 81,
    "start_time": "2021-09-07T10:20:38.733Z"
   },
   {
    "duration": 107,
    "start_time": "2021-09-07T10:20:38.817Z"
   },
   {
    "duration": 37,
    "start_time": "2021-09-07T10:20:38.927Z"
   },
   {
    "duration": 6543,
    "start_time": "2021-09-07T10:20:38.966Z"
   },
   {
    "duration": 524,
    "start_time": "2021-09-07T10:20:45.513Z"
   },
   {
    "duration": 92,
    "start_time": "2021-09-07T10:20:45.948Z"
   },
   {
    "duration": 87,
    "start_time": "2021-09-07T10:20:45.955Z"
   },
   {
    "duration": 79,
    "start_time": "2021-09-07T10:20:45.964Z"
   },
   {
    "duration": 74,
    "start_time": "2021-09-07T10:20:45.971Z"
   },
   {
    "duration": 69,
    "start_time": "2021-09-07T10:20:45.978Z"
   },
   {
    "duration": 62,
    "start_time": "2021-09-07T10:20:45.986Z"
   },
   {
    "duration": 56,
    "start_time": "2021-09-07T10:20:45.994Z"
   },
   {
    "duration": 50,
    "start_time": "2021-09-07T10:20:46.002Z"
   },
   {
    "duration": 44,
    "start_time": "2021-09-07T10:20:46.009Z"
   },
   {
    "duration": 38,
    "start_time": "2021-09-07T10:20:46.017Z"
   },
   {
    "duration": 31,
    "start_time": "2021-09-07T10:20:46.025Z"
   },
   {
    "duration": 1970,
    "start_time": "2021-09-07T10:28:09.587Z"
   },
   {
    "duration": 66,
    "start_time": "2021-09-07T10:28:11.560Z"
   },
   {
    "duration": 12,
    "start_time": "2021-09-07T10:28:11.629Z"
   },
   {
    "duration": 116,
    "start_time": "2021-09-07T10:28:11.664Z"
   },
   {
    "duration": 103,
    "start_time": "2021-09-07T10:28:11.783Z"
   },
   {
    "duration": 29,
    "start_time": "2021-09-07T10:28:11.889Z"
   },
   {
    "duration": 6725,
    "start_time": "2021-09-07T10:28:11.921Z"
   },
   {
    "duration": 13,
    "start_time": "2021-09-07T10:28:18.649Z"
   },
   {
    "duration": 12275,
    "start_time": "2021-09-07T10:28:18.665Z"
   },
   {
    "duration": 2456,
    "start_time": "2021-09-07T10:43:36.729Z"
   },
   {
    "duration": 65,
    "start_time": "2021-09-07T10:43:39.187Z"
   },
   {
    "duration": 15,
    "start_time": "2021-09-07T10:43:39.255Z"
   },
   {
    "duration": 99,
    "start_time": "2021-09-07T10:43:39.274Z"
   },
   {
    "duration": 98,
    "start_time": "2021-09-07T10:43:39.376Z"
   },
   {
    "duration": 26,
    "start_time": "2021-09-07T10:43:39.477Z"
   },
   {
    "duration": 6910,
    "start_time": "2021-09-07T10:43:39.505Z"
   },
   {
    "duration": 4,
    "start_time": "2021-09-07T10:43:46.419Z"
   },
   {
    "duration": 13868,
    "start_time": "2021-09-07T10:43:46.425Z"
   },
   {
    "duration": 24,
    "start_time": "2021-09-07T10:44:00.309Z"
   },
   {
    "duration": 54,
    "start_time": "2021-09-07T10:44:00.350Z"
   },
   {
    "duration": 2027,
    "start_time": "2021-09-07T10:44:00.407Z"
   },
   {
    "duration": 355757,
    "start_time": "2021-09-07T10:44:02.437Z"
   },
   {
    "duration": 2802,
    "start_time": "2021-09-07T10:49:58.197Z"
   },
   {
    "duration": 25326,
    "start_time": "2021-09-07T10:50:01.002Z"
   },
   {
    "duration": 34,
    "start_time": "2021-09-07T10:50:26.330Z"
   },
   {
    "duration": 82,
    "start_time": "2021-09-07T10:50:26.366Z"
   },
   {
    "duration": 13,
    "start_time": "2021-09-07T10:50:26.451Z"
   },
   {
    "duration": 7,
    "start_time": "2021-09-07T10:50:26.466Z"
   },
   {
    "duration": 87,
    "start_time": "2021-09-07T10:50:28.582Z"
   },
   {
    "duration": 78,
    "start_time": "2021-09-07T10:50:28.593Z"
   },
   {
    "duration": 64,
    "start_time": "2021-09-07T10:50:28.610Z"
   },
   {
    "duration": 6,
    "start_time": "2021-09-07T10:51:06.681Z"
   },
   {
    "duration": 52,
    "start_time": "2021-09-07T10:51:08.945Z"
   },
   {
    "duration": 11,
    "start_time": "2021-09-07T10:51:13.521Z"
   },
   {
    "duration": 77,
    "start_time": "2021-09-07T10:51:19.986Z"
   },
   {
    "duration": 12,
    "start_time": "2021-09-07T10:51:24.344Z"
   },
   {
    "duration": 93,
    "start_time": "2021-09-07T10:51:27.507Z"
   },
   {
    "duration": 77,
    "start_time": "2021-09-07T10:51:34.002Z"
   },
   {
    "duration": 27,
    "start_time": "2021-09-07T10:51:40.785Z"
   },
   {
    "duration": 6492,
    "start_time": "2021-09-07T10:51:48.721Z"
   },
   {
    "duration": 2528,
    "start_time": "2021-09-07T10:52:03.250Z"
   },
   {
    "duration": 430,
    "start_time": "2021-09-07T10:54:49.450Z"
   },
   {
    "duration": 3836,
    "start_time": "2021-09-07T10:55:07.218Z"
   },
   {
    "duration": 297,
    "start_time": "2021-09-07T11:00:33.450Z"
   },
   {
    "duration": 6956,
    "start_time": "2021-09-07T11:01:06.546Z"
   },
   {
    "duration": 10725,
    "start_time": "2021-09-07T11:03:41.324Z"
   },
   {
    "duration": 95,
    "start_time": "2021-09-08T08:31:55.914Z"
   },
   {
    "duration": 96,
    "start_time": "2021-09-08T08:35:14.626Z"
   },
   {
    "duration": 284,
    "start_time": "2021-09-08T08:39:48.630Z"
   },
   {
    "duration": 3,
    "start_time": "2021-09-08T08:40:16.744Z"
   },
   {
    "duration": 3,
    "start_time": "2021-09-08T08:40:21.343Z"
   },
   {
    "duration": 13,
    "start_time": "2021-09-08T08:40:35.914Z"
   },
   {
    "duration": 6,
    "start_time": "2021-09-08T08:40:38.466Z"
   },
   {
    "duration": 1972,
    "start_time": "2021-09-08T08:42:07.046Z"
   },
   {
    "duration": 62,
    "start_time": "2021-09-08T08:42:09.021Z"
   },
   {
    "duration": 10,
    "start_time": "2021-09-08T08:42:09.086Z"
   },
   {
    "duration": 97,
    "start_time": "2021-09-08T08:42:09.099Z"
   },
   {
    "duration": 76,
    "start_time": "2021-09-08T08:42:12.993Z"
   },
   {
    "duration": 27,
    "start_time": "2021-09-08T08:42:13.483Z"
   },
   {
    "duration": 3798,
    "start_time": "2021-09-08T08:42:14.065Z"
   },
   {
    "duration": 3,
    "start_time": "2021-09-08T08:42:17.866Z"
   },
   {
    "duration": 513,
    "start_time": "2021-09-08T08:42:25.753Z"
   },
   {
    "duration": 30,
    "start_time": "2021-09-08T08:42:55.371Z"
   },
   {
    "duration": 27,
    "start_time": "2021-09-08T12:22:49.991Z"
   },
   {
    "duration": 6,
    "start_time": "2021-09-08T12:24:07.352Z"
   },
   {
    "duration": 8,
    "start_time": "2021-09-08T12:24:10.321Z"
   },
   {
    "duration": 12,
    "start_time": "2021-09-08T12:24:22.952Z"
   },
   {
    "duration": 12,
    "start_time": "2021-09-08T12:24:49.031Z"
   },
   {
    "duration": 14,
    "start_time": "2021-09-08T12:24:58.189Z"
   },
   {
    "duration": 17,
    "start_time": "2021-09-08T12:34:35.643Z"
   },
   {
    "duration": 10,
    "start_time": "2021-09-08T12:34:42.598Z"
   },
   {
    "duration": 21,
    "start_time": "2021-09-08T12:34:48.477Z"
   },
   {
    "duration": 503,
    "start_time": "2021-09-08T12:35:10.880Z"
   },
   {
    "duration": 31,
    "start_time": "2021-09-08T13:35:53.953Z"
   },
   {
    "duration": -32,
    "start_time": "2021-09-08T13:36:59.860Z"
   },
   {
    "duration": -934,
    "start_time": "2021-09-08T13:38:21.757Z"
   },
   {
    "duration": 94,
    "start_time": "2021-09-08T13:39:56.217Z"
   },
   {
    "duration": 443641,
    "start_time": "2021-09-08T13:40:04.534Z"
   },
   {
    "duration": -101,
    "start_time": "2021-09-08T13:47:28.280Z"
   },
   {
    "duration": -103,
    "start_time": "2021-09-08T13:47:28.283Z"
   },
   {
    "duration": 155557,
    "start_time": "2021-09-08T13:48:06.356Z"
   },
   {
    "duration": 6,
    "start_time": "2021-09-08T13:52:17.548Z"
   },
   {
    "duration": 23397,
    "start_time": "2021-09-08T13:53:05.448Z"
   },
   {
    "duration": -31,
    "start_time": "2021-09-08T13:53:28.882Z"
   },
   {
    "duration": 12709,
    "start_time": "2021-09-08T13:53:30.778Z"
   },
   {
    "duration": 36,
    "start_time": "2021-09-08T13:54:07.799Z"
   },
   {
    "duration": 13,
    "start_time": "2021-09-08T13:57:44.120Z"
   },
   {
    "duration": 12,
    "start_time": "2021-09-08T13:57:47.981Z"
   },
   {
    "duration": 8,
    "start_time": "2021-09-08T13:57:50.181Z"
   },
   {
    "duration": 5,
    "start_time": "2021-09-08T13:57:56.757Z"
   },
   {
    "duration": 13,
    "start_time": "2021-09-08T13:59:48.859Z"
   },
   {
    "duration": 13,
    "start_time": "2021-09-08T13:59:52.217Z"
   },
   {
    "duration": 5,
    "start_time": "2021-09-08T13:59:58.387Z"
   },
   {
    "duration": 12,
    "start_time": "2021-09-08T14:00:00.660Z"
   },
   {
    "duration": 11,
    "start_time": "2021-09-08T14:00:16.910Z"
   },
   {
    "duration": 10,
    "start_time": "2021-09-08T14:00:22.529Z"
   },
   {
    "duration": 6,
    "start_time": "2021-09-08T14:00:29.279Z"
   },
   {
    "duration": 10,
    "start_time": "2021-09-08T14:00:40.809Z"
   },
   {
    "duration": 10,
    "start_time": "2021-09-08T14:28:18.025Z"
   },
   {
    "duration": 289,
    "start_time": "2021-09-08T14:29:17.454Z"
   },
   {
    "duration": 305,
    "start_time": "2021-09-08T14:29:40.374Z"
   },
   {
    "duration": 599,
    "start_time": "2021-09-08T14:29:56.098Z"
   },
   {
    "duration": 310,
    "start_time": "2021-09-08T14:30:05.356Z"
   },
   {
    "duration": 3,
    "start_time": "2021-09-08T17:00:56.439Z"
   },
   {
    "duration": 2,
    "start_time": "2021-09-08T17:10:55.524Z"
   },
   {
    "duration": 368,
    "start_time": "2021-09-08T17:15:50.031Z"
   },
   {
    "duration": 1415,
    "start_time": "2021-09-08T17:15:59.411Z"
   },
   {
    "duration": 46,
    "start_time": "2021-09-08T17:16:00.828Z"
   },
   {
    "duration": 7,
    "start_time": "2021-09-08T17:16:00.875Z"
   },
   {
    "duration": 49,
    "start_time": "2021-09-08T17:16:00.884Z"
   },
   {
    "duration": 67,
    "start_time": "2021-09-08T17:16:00.935Z"
   },
   {
    "duration": 17,
    "start_time": "2021-09-08T17:16:01.003Z"
   },
   {
    "duration": 2,
    "start_time": "2021-09-08T17:16:01.022Z"
   },
   {
    "duration": 14,
    "start_time": "2021-09-08T17:16:01.027Z"
   },
   {
    "duration": 19,
    "start_time": "2021-09-08T17:16:01.043Z"
   },
   {
    "duration": 661,
    "start_time": "2021-09-08T17:16:01.064Z"
   },
   {
    "duration": 167,
    "start_time": "2021-09-08T17:16:01.560Z"
   },
   {
    "duration": 162,
    "start_time": "2021-09-08T17:16:01.566Z"
   },
   {
    "duration": 159,
    "start_time": "2021-09-08T17:16:01.571Z"
   },
   {
    "duration": 155,
    "start_time": "2021-09-08T17:16:01.576Z"
   },
   {
    "duration": 151,
    "start_time": "2021-09-08T17:16:01.581Z"
   },
   {
    "duration": 148,
    "start_time": "2021-09-08T17:16:01.585Z"
   },
   {
    "duration": 144,
    "start_time": "2021-09-08T17:16:01.590Z"
   },
   {
    "duration": 140,
    "start_time": "2021-09-08T17:16:01.595Z"
   },
   {
    "duration": 137,
    "start_time": "2021-09-08T17:16:01.599Z"
   },
   {
    "duration": 134,
    "start_time": "2021-09-08T17:16:01.603Z"
   },
   {
    "duration": 130,
    "start_time": "2021-09-08T17:16:01.608Z"
   },
   {
    "duration": 121,
    "start_time": "2021-09-08T17:16:01.618Z"
   },
   {
    "duration": 118,
    "start_time": "2021-09-08T17:16:01.622Z"
   },
   {
    "duration": 115,
    "start_time": "2021-09-08T17:16:01.626Z"
   },
   {
    "duration": 111,
    "start_time": "2021-09-08T17:16:01.631Z"
   },
   {
    "duration": 107,
    "start_time": "2021-09-08T17:16:01.636Z"
   },
   {
    "duration": 359,
    "start_time": "2021-09-08T17:39:45.531Z"
   },
   {
    "duration": 1341,
    "start_time": "2021-09-08T17:40:05.043Z"
   },
   {
    "duration": 46,
    "start_time": "2021-09-08T17:40:06.386Z"
   },
   {
    "duration": 8,
    "start_time": "2021-09-08T17:40:06.434Z"
   },
   {
    "duration": 62,
    "start_time": "2021-09-08T17:40:06.444Z"
   },
   {
    "duration": 47,
    "start_time": "2021-09-08T17:40:06.507Z"
   },
   {
    "duration": 43,
    "start_time": "2021-09-08T17:40:06.556Z"
   },
   {
    "duration": 2,
    "start_time": "2021-09-08T17:40:06.601Z"
   },
   {
    "duration": 4,
    "start_time": "2021-09-08T17:40:06.605Z"
   },
   {
    "duration": 14,
    "start_time": "2021-09-08T17:40:06.611Z"
   },
   {
    "duration": 390,
    "start_time": "2021-09-08T17:40:06.626Z"
   },
   {
    "duration": 657,
    "start_time": "2021-09-08T17:40:07.018Z"
   },
   {
    "duration": 219,
    "start_time": "2021-09-08T17:40:07.457Z"
   },
   {
    "duration": 208,
    "start_time": "2021-09-08T17:40:07.476Z"
   },
   {
    "duration": 202,
    "start_time": "2021-09-08T17:40:07.483Z"
   },
   {
    "duration": 198,
    "start_time": "2021-09-08T17:40:07.488Z"
   },
   {
    "duration": 194,
    "start_time": "2021-09-08T17:40:07.493Z"
   },
   {
    "duration": 190,
    "start_time": "2021-09-08T17:40:07.498Z"
   },
   {
    "duration": 187,
    "start_time": "2021-09-08T17:40:07.502Z"
   },
   {
    "duration": 184,
    "start_time": "2021-09-08T17:40:07.506Z"
   },
   {
    "duration": 181,
    "start_time": "2021-09-08T17:40:07.510Z"
   },
   {
    "duration": 177,
    "start_time": "2021-09-08T17:40:07.515Z"
   },
   {
    "duration": 174,
    "start_time": "2021-09-08T17:40:07.519Z"
   },
   {
    "duration": 169,
    "start_time": "2021-09-08T17:40:07.524Z"
   },
   {
    "duration": 165,
    "start_time": "2021-09-08T17:40:07.529Z"
   },
   {
    "duration": 162,
    "start_time": "2021-09-08T17:40:07.533Z"
   },
   {
    "duration": 159,
    "start_time": "2021-09-08T17:40:07.537Z"
   },
   {
    "duration": 42,
    "start_time": "2021-09-08T17:40:38.694Z"
   },
   {
    "duration": 8,
    "start_time": "2021-09-08T17:40:44.476Z"
   },
   {
    "duration": 43,
    "start_time": "2021-09-08T17:40:51.719Z"
   },
   {
    "duration": 48,
    "start_time": "2021-09-08T17:41:02.731Z"
   },
   {
    "duration": 17,
    "start_time": "2021-09-08T17:41:07.568Z"
   },
   {
    "duration": 420,
    "start_time": "2021-09-08T17:42:28.254Z"
   },
   {
    "duration": 1721,
    "start_time": "2021-09-08T17:51:41.505Z"
   },
   {
    "duration": 1244,
    "start_time": "2021-09-08T17:53:06.052Z"
   },
   {
    "duration": 8,
    "start_time": "2021-09-08T18:17:22.167Z"
   },
   {
    "duration": 3,
    "start_time": "2021-09-08T18:17:33.863Z"
   },
   {
    "duration": 8,
    "start_time": "2021-09-08T18:17:41.273Z"
   },
   {
    "duration": 188,
    "start_time": "2021-09-08T18:17:46.569Z"
   },
   {
    "duration": 2045,
    "start_time": "2021-09-09T07:29:02.541Z"
   },
   {
    "duration": 62,
    "start_time": "2021-09-09T07:29:04.589Z"
   },
   {
    "duration": 11,
    "start_time": "2021-09-09T07:29:04.654Z"
   },
   {
    "duration": 97,
    "start_time": "2021-09-09T07:29:04.668Z"
   },
   {
    "duration": 111,
    "start_time": "2021-09-09T07:29:04.767Z"
   },
   {
    "duration": 37,
    "start_time": "2021-09-09T07:29:04.880Z"
   },
   {
    "duration": 3,
    "start_time": "2021-09-09T07:29:04.920Z"
   },
   {
    "duration": 18,
    "start_time": "2021-09-09T07:29:04.927Z"
   },
   {
    "duration": 23,
    "start_time": "2021-09-09T07:29:04.948Z"
   },
   {
    "duration": 476,
    "start_time": "2021-09-09T07:29:04.973Z"
   },
   {
    "duration": 1814,
    "start_time": "2021-09-09T07:29:05.451Z"
   },
   {
    "duration": 3,
    "start_time": "2021-09-09T07:29:07.268Z"
   },
   {
    "duration": 21,
    "start_time": "2021-09-09T07:29:07.274Z"
   },
   {
    "duration": 419,
    "start_time": "2021-09-09T07:29:07.297Z"
   },
   {
    "duration": 10,
    "start_time": "2021-09-09T07:29:07.718Z"
   },
   {
    "duration": 4,
    "start_time": "2021-09-09T07:29:07.731Z"
   },
   {
    "duration": 12,
    "start_time": "2021-09-09T07:29:07.737Z"
   },
   {
    "duration": 332,
    "start_time": "2021-09-09T07:29:07.752Z"
   },
   {
    "duration": 42,
    "start_time": "2021-09-09T07:29:08.086Z"
   },
   {
    "duration": 1957,
    "start_time": "2021-09-09T07:29:08.130Z"
   },
   {
    "duration": 2042,
    "start_time": "2021-09-09T07:30:49.919Z"
   },
   {
    "duration": 61,
    "start_time": "2021-09-09T07:30:51.964Z"
   },
   {
    "duration": 10,
    "start_time": "2021-09-09T07:30:52.028Z"
   },
   {
    "duration": 92,
    "start_time": "2021-09-09T07:30:52.041Z"
   },
   {
    "duration": 97,
    "start_time": "2021-09-09T07:30:52.135Z"
   },
   {
    "duration": 27,
    "start_time": "2021-09-09T07:30:52.235Z"
   },
   {
    "duration": 3,
    "start_time": "2021-09-09T07:30:52.264Z"
   },
   {
    "duration": 9,
    "start_time": "2021-09-09T07:30:52.270Z"
   },
   {
    "duration": 45,
    "start_time": "2021-09-09T07:30:52.282Z"
   },
   {
    "duration": 620,
    "start_time": "2021-09-09T07:30:52.330Z"
   },
   {
    "duration": 1824,
    "start_time": "2021-09-09T07:30:52.952Z"
   },
   {
    "duration": 3,
    "start_time": "2021-09-09T07:30:54.779Z"
   },
   {
    "duration": 10,
    "start_time": "2021-09-09T07:30:54.784Z"
   },
   {
    "duration": 463,
    "start_time": "2021-09-09T07:30:54.796Z"
   },
   {
    "duration": 11,
    "start_time": "2021-09-09T07:30:55.261Z"
   },
   {
    "duration": 19,
    "start_time": "2021-09-09T07:30:55.275Z"
   },
   {
    "duration": 27,
    "start_time": "2021-09-09T07:30:55.296Z"
   },
   {
    "duration": 307,
    "start_time": "2021-09-09T07:30:55.325Z"
   },
   {
    "duration": 29,
    "start_time": "2021-09-09T07:30:55.635Z"
   },
   {
    "duration": 1936,
    "start_time": "2021-09-09T07:30:55.666Z"
   },
   {
    "duration": 355198,
    "start_time": "2021-09-09T07:30:57.605Z"
   },
   {
    "duration": 1642,
    "start_time": "2021-09-09T07:36:52.805Z"
   },
   {
    "duration": 11120,
    "start_time": "2021-09-09T07:36:54.451Z"
   },
   {
    "duration": 20,
    "start_time": "2021-09-09T07:37:05.575Z"
   },
   {
    "duration": 81,
    "start_time": "2021-09-09T07:37:05.617Z"
   },
   {
    "duration": 9,
    "start_time": "2021-09-09T07:37:05.717Z"
   },
   {
    "duration": 16,
    "start_time": "2021-09-09T07:37:05.729Z"
   },
   {
    "duration": 55,
    "start_time": "2021-09-09T07:42:20.762Z"
   },
   {
    "duration": 11,
    "start_time": "2021-09-09T07:42:25.569Z"
   },
   {
    "duration": 66,
    "start_time": "2021-09-09T07:42:31.778Z"
   },
   {
    "duration": 12,
    "start_time": "2021-09-09T07:42:36.632Z"
   },
   {
    "duration": 63,
    "start_time": "2021-09-09T07:42:41.930Z"
   },
   {
    "duration": 78,
    "start_time": "2021-09-09T07:42:50.518Z"
   },
   {
    "duration": 26,
    "start_time": "2021-09-09T07:42:58.697Z"
   },
   {
    "duration": 244,
    "start_time": "2021-09-09T07:47:22.506Z"
   },
   {
    "duration": 10,
    "start_time": "2021-09-09T07:49:09.539Z"
   },
   {
    "duration": 5,
    "start_time": "2021-09-09T07:50:36.850Z"
   },
   {
    "duration": 56,
    "start_time": "2021-09-09T07:51:09.041Z"
   },
   {
    "duration": 12,
    "start_time": "2021-09-09T07:51:16.563Z"
   },
   {
    "duration": 12,
    "start_time": "2021-09-09T07:51:19.234Z"
   },
   {
    "duration": 195,
    "start_time": "2021-09-09T07:51:23.635Z"
   },
   {
    "duration": 62,
    "start_time": "2021-09-09T07:51:26.667Z"
   },
   {
    "duration": 12,
    "start_time": "2021-09-09T07:51:30.090Z"
   },
   {
    "duration": 61,
    "start_time": "2021-09-09T07:51:33.267Z"
   },
   {
    "duration": 86,
    "start_time": "2021-09-09T07:51:39.970Z"
   },
   {
    "duration": 28,
    "start_time": "2021-09-09T07:51:44.331Z"
   },
   {
    "duration": 16,
    "start_time": "2021-09-09T07:51:53.050Z"
   },
   {
    "duration": 494,
    "start_time": "2021-09-09T07:51:57.771Z"
   },
   {
    "duration": 1790,
    "start_time": "2021-09-09T07:52:02.115Z"
   },
   {
    "duration": 6,
    "start_time": "2021-09-09T07:52:11.850Z"
   },
   {
    "duration": 15,
    "start_time": "2021-09-09T07:53:37.203Z"
   },
   {
    "duration": 17,
    "start_time": "2021-09-09T07:55:26.028Z"
   },
   {
    "duration": 598,
    "start_time": "2021-09-09T08:07:49.518Z"
   },
   {
    "duration": 909,
    "start_time": "2021-09-09T08:09:51.351Z"
   },
   {
    "duration": 614,
    "start_time": "2021-09-09T08:10:04.718Z"
   },
   {
    "duration": 12,
    "start_time": "2021-09-09T08:10:36.006Z"
   },
   {
    "duration": 2612,
    "start_time": "2021-09-09T08:31:08.825Z"
   },
   {
    "duration": 1835,
    "start_time": "2021-09-09T08:32:02.642Z"
   },
   {
    "duration": 51,
    "start_time": "2021-09-09T08:39:13.186Z"
   },
   {
    "duration": 1453,
    "start_time": "2021-09-09T08:39:44.651Z"
   },
   {
    "duration": 5,
    "start_time": "2021-09-09T08:46:32.085Z"
   },
   {
    "duration": 4321,
    "start_time": "2021-09-09T08:53:27.119Z"
   },
   {
    "duration": 391,
    "start_time": "2021-09-09T08:59:26.106Z"
   },
   {
    "duration": 401,
    "start_time": "2021-09-09T08:59:49.810Z"
   },
   {
    "duration": 416,
    "start_time": "2021-09-09T09:00:08.122Z"
   },
   {
    "duration": 563,
    "start_time": "2021-09-09T09:00:16.731Z"
   },
   {
    "duration": 543,
    "start_time": "2021-09-09T09:01:19.794Z"
   },
   {
    "duration": 431,
    "start_time": "2021-09-09T09:02:17.291Z"
   },
   {
    "duration": 431,
    "start_time": "2021-09-09T09:02:25.634Z"
   },
   {
    "duration": 5,
    "start_time": "2021-09-09T09:03:30.325Z"
   },
   {
    "duration": 289,
    "start_time": "2021-09-09T09:08:36.837Z"
   },
   {
    "duration": 3,
    "start_time": "2021-09-09T09:09:24.613Z"
   },
   {
    "duration": 894,
    "start_time": "2021-09-09T09:15:57.094Z"
   },
   {
    "duration": 1971,
    "start_time": "2021-09-09T09:49:05.219Z"
   },
   {
    "duration": 94,
    "start_time": "2021-09-09T15:14:19.450Z"
   },
   {
    "duration": 91,
    "start_time": "2021-09-09T15:15:53.080Z"
   },
   {
    "duration": 990,
    "start_time": "2021-09-09T15:23:03.736Z"
   },
   {
    "duration": 162,
    "start_time": "2021-09-09T15:23:20.639Z"
   },
   {
    "duration": 1449,
    "start_time": "2021-09-20T09:27:29.832Z"
   },
   {
    "duration": 61,
    "start_time": "2021-09-20T09:27:31.283Z"
   },
   {
    "duration": 8,
    "start_time": "2021-09-20T09:27:31.346Z"
   },
   {
    "duration": 77,
    "start_time": "2021-09-20T09:27:31.356Z"
   },
   {
    "duration": 81,
    "start_time": "2021-09-20T09:27:31.435Z"
   },
   {
    "duration": 24,
    "start_time": "2021-09-20T09:27:31.518Z"
   },
   {
    "duration": 11,
    "start_time": "2021-09-20T09:27:31.544Z"
   },
   {
    "duration": 432,
    "start_time": "2021-09-20T09:27:31.559Z"
   },
   {
    "duration": 1448,
    "start_time": "2021-09-20T09:27:31.994Z"
   },
   {
    "duration": 463,
    "start_time": "2021-09-20T09:27:33.444Z"
   },
   {
    "duration": 7,
    "start_time": "2021-09-20T09:27:33.908Z"
   },
   {
    "duration": 23,
    "start_time": "2021-09-20T09:27:33.917Z"
   },
   {
    "duration": 28,
    "start_time": "2021-09-20T09:27:33.941Z"
   },
   {
    "duration": 180,
    "start_time": "2021-09-20T09:27:33.971Z"
   },
   {
    "duration": 24,
    "start_time": "2021-09-20T09:27:34.152Z"
   },
   {
    "duration": 840,
    "start_time": "2021-09-20T09:27:34.177Z"
   },
   {
    "duration": 217077,
    "start_time": "2021-09-20T09:27:35.019Z"
   },
   {
    "duration": 1509,
    "start_time": "2021-09-20T09:31:12.097Z"
   },
   {
    "duration": 1024,
    "start_time": "2021-09-20T09:31:13.608Z"
   },
   {
    "duration": 11,
    "start_time": "2021-09-20T09:31:14.634Z"
   },
   {
    "duration": 59,
    "start_time": "2021-09-20T09:31:14.647Z"
   },
   {
    "duration": 6,
    "start_time": "2021-09-20T09:31:14.707Z"
   },
   {
    "duration": 6,
    "start_time": "2021-09-20T09:31:14.716Z"
   },
   {
    "duration": 8,
    "start_time": "2021-09-20T09:31:50.706Z"
   },
   {
    "duration": 45,
    "start_time": "2021-09-20T09:31:56.098Z"
   },
   {
    "duration": 49,
    "start_time": "2021-09-20T09:32:06.098Z"
   },
   {
    "duration": 18,
    "start_time": "2021-09-20T09:32:15.177Z"
   },
   {
    "duration": 1289,
    "start_time": "2021-09-20T09:33:04.026Z"
   }
  ],
  "kernelspec": {
   "display_name": "Python 3",
   "language": "python",
   "name": "python3"
  },
  "language_info": {
   "codemirror_mode": {
    "name": "ipython",
    "version": 3
   },
   "file_extension": ".py",
   "mimetype": "text/x-python",
   "name": "python",
   "nbconvert_exporter": "python",
   "pygments_lexer": "ipython3",
   "version": "3.7.8"
  },
  "toc": {
   "base_numbering": 1,
   "nav_menu": {},
   "number_sections": true,
   "sideBar": true,
   "skip_h1_title": true,
   "title_cell": "Table of Contents",
   "title_sidebar": "Contents",
   "toc_cell": false,
   "toc_position": {},
   "toc_section_display": true,
   "toc_window_display": false
  }
 },
 "nbformat": 4,
 "nbformat_minor": 2
}
